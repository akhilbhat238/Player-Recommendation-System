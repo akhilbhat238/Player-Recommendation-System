{
 "cells": [
  {
   "cell_type": "code",
   "execution_count": 92,
   "metadata": {},
   "outputs": [],
   "source": [
    "import numpy as np\n",
    "import pandas as pd\n",
    "from bs4 import BeautifulSoup\n",
    "import requests"
   ]
  },
  {
   "cell_type": "markdown",
   "metadata": {},
   "source": [
    "### England"
   ]
  },
  {
   "cell_type": "code",
   "execution_count": 93,
   "metadata": {},
   "outputs": [],
   "source": [
    "data_url = 'https://en.wikipedia.org/wiki/List_of_FA_Cup_Finals'\n",
    "page = requests.get(data_url)\n",
    "soup = BeautifulSoup(page.content,'html.parser')"
   ]
  },
  {
   "cell_type": "code",
   "execution_count": 94,
   "metadata": {},
   "outputs": [],
   "source": [
    "tables = soup.findAll(\"table\")\n",
    "table_to_use = tables[1]\n",
    "fa_cup_df = pd.DataFrame(columns=['Season','Winner','Runner'])"
   ]
  },
  {
   "cell_type": "code",
   "execution_count": 95,
   "metadata": {},
   "outputs": [],
   "source": [
    "all_tr = table_to_use.find_all('tr')\n",
    "for i in range(1,len(all_tr)):\n",
    "    idd = (i)\n",
    "    season = (all_tr[i].find_all('td')[0].contents[0].contents[0].contents[0])\n",
    "    winner = (all_tr[i].find_all('th')[0].contents[0].contents[0])\n",
    "    runner = (all_tr[i].find_all('td')[2].contents[0].contents[0])\n",
    "    fa_cup_df.loc[idd]= [season,winner,runner]"
   ]
  },
  {
   "cell_type": "code",
   "execution_count": 96,
   "metadata": {},
   "outputs": [],
   "source": [
    "fa_cup_df.loc[141]['Runner'] = 'Cardiff City'"
   ]
  },
  {
   "cell_type": "code",
   "execution_count": 97,
   "metadata": {},
   "outputs": [],
   "source": [
    "fa_cup_scope = fa_cup_df.loc[139:]"
   ]
  },
  {
   "cell_type": "markdown",
   "metadata": {},
   "source": [
    "### Spain"
   ]
  },
  {
   "cell_type": "code",
   "execution_count": 98,
   "metadata": {},
   "outputs": [],
   "source": [
    "data_url = 'https://en.wikipedia.org/wiki/Copa_del_Rey#List_of_finals'\n",
    "page = requests.get(data_url)\n",
    "soup = BeautifulSoup(page.content,'html.parser')"
   ]
  },
  {
   "cell_type": "code",
   "execution_count": 99,
   "metadata": {},
   "outputs": [],
   "source": [
    "tables = soup.findAll(\"table\")\n",
    "table_to_use = tables[2]\n",
    "copa_df = pd.DataFrame(columns=['Season','Winner','Runner'])"
   ]
  },
  {
   "cell_type": "code",
   "execution_count": 100,
   "metadata": {},
   "outputs": [],
   "source": [
    "all_tr = table_to_use.find_all('tr')\n",
    "for i in range(1,len(all_tr)):\n",
    "    if((i!=37) & (i!=38) & (i!=76) & (i!=121)):\n",
    "        idd = (i)\n",
    "        season = (all_tr[i].find_all('td')[0].contents[0].contents[0])\n",
    "        winner = (all_tr[i].find_all('td')[1].contents[0].contents[0])\n",
    "        runner = (all_tr[i].find_all('td')[3].contents[0].contents[0])\n",
    "        copa_df.loc[idd]= [season,winner,runner]"
   ]
  },
  {
   "cell_type": "code",
   "execution_count": 101,
   "metadata": {},
   "outputs": [],
   "source": [
    "copa_cup_scope = copa_df.loc[107:]"
   ]
  },
  {
   "cell_type": "markdown",
   "metadata": {},
   "source": [
    "### Italy"
   ]
  },
  {
   "cell_type": "code",
   "execution_count": 102,
   "metadata": {},
   "outputs": [],
   "source": [
    "data_url = 'https://www.footballhistory.org/tournament/coppa-italia.html'\n",
    "page = requests.get(data_url)\n",
    "soup = BeautifulSoup(page.content,'html.parser')"
   ]
  },
  {
   "cell_type": "code",
   "execution_count": 103,
   "metadata": {},
   "outputs": [],
   "source": [
    "tables = soup.findAll(\"table\")\n",
    "table_to_use = tables[0]\n",
    "cp_it_df = pd.DataFrame(columns=['Season','Winner','Runner'])"
   ]
  },
  {
   "cell_type": "code",
   "execution_count": 104,
   "metadata": {},
   "outputs": [],
   "source": [
    "all_tr = table_to_use.find_all('tr')\n",
    "for i in range(1,len(all_tr)):\n",
    "    idd = (i)\n",
    "    season = (all_tr[i].find_all('td')[0].contents[0])\n",
    "    winner = (all_tr[i].find_all('td')[1].contents[0])\n",
    "    runner = (all_tr[i].find_all('td')[2].contents[0])\n",
    "    cp_it_df.loc[idd]= [season,winner,runner]"
   ]
  },
  {
   "cell_type": "code",
   "execution_count": 105,
   "metadata": {},
   "outputs": [],
   "source": [
    "italian_cup_scope = cp_it_df.loc[1:14]"
   ]
  },
  {
   "cell_type": "markdown",
   "metadata": {},
   "source": [
    "### Germany"
   ]
  },
  {
   "cell_type": "code",
   "execution_count": 106,
   "metadata": {},
   "outputs": [],
   "source": [
    "data_url = 'https://en.wikipedia.org/wiki/DFB-Pokal#Finals'\n",
    "page = requests.get(data_url)\n",
    "soup = BeautifulSoup(page.content,'html.parser')"
   ]
  },
  {
   "cell_type": "code",
   "execution_count": 107,
   "metadata": {},
   "outputs": [],
   "source": [
    "tables = soup.findAll(\"table\")\n",
    "table_to_use = tables[2]\n",
    "gr_dp_df = pd.DataFrame(columns=['Season','Winner','Runner'])"
   ]
  },
  {
   "cell_type": "code",
   "execution_count": 108,
   "metadata": {},
   "outputs": [],
   "source": [
    "all_tr = table_to_use.find_all('tr')\n",
    "for i in range(1,len(all_tr)):\n",
    "    idd = (i)\n",
    "    season = (all_tr[i].find_all('td')[0].contents[0].contents[0].contents[0])\n",
    "    winner = (all_tr[i].find_all('td')[1].contents[0].contents[0].contents[0])\n",
    "    runner = (all_tr[i].find_all('td')[2].contents[0].contents[0])\n",
    "    gr_dp_df.loc[idd]= [season,winner,runner]"
   ]
  },
  {
   "cell_type": "code",
   "execution_count": 109,
   "metadata": {},
   "outputs": [],
   "source": [
    "german_cup_scope = cp_it_df.loc[1:14]"
   ]
  },
  {
   "cell_type": "markdown",
   "metadata": {},
   "source": [
    "### France"
   ]
  },
  {
   "cell_type": "code",
   "execution_count": 110,
   "metadata": {},
   "outputs": [],
   "source": [
    "data_url = 'https://en.wikipedia.org/wiki/List_of_Coupe_de_France_finals'\n",
    "page = requests.get(data_url)\n",
    "soup = BeautifulSoup(page.content,'html.parser')"
   ]
  },
  {
   "cell_type": "code",
   "execution_count": 111,
   "metadata": {},
   "outputs": [],
   "source": [
    "tables = soup.findAll(\"table\")\n",
    "table_to_use = tables[0]\n",
    "fr_cp_df = pd.DataFrame(columns=['Season','Winner','Runner'])"
   ]
  },
  {
   "cell_type": "code",
   "execution_count": 112,
   "metadata": {},
   "outputs": [],
   "source": [
    "all_tr = table_to_use.find_all('tr')\n",
    "for i in range(90,len(all_tr)):\n",
    "    idd = (i)\n",
    "    season = (all_tr[i].find_all('td')[0].contents[0].rstrip())\n",
    "    winner = (all_tr[i].find_all('td')[1].contents[0].contents[0])\n",
    "    runner =(all_tr[i].find_all('td')[2].contents[0].contents[0])\n",
    "    fr_cp_df.loc[idd]= [season,winner,runner]"
   ]
  },
  {
   "cell_type": "code",
   "execution_count": 113,
   "metadata": {},
   "outputs": [],
   "source": [
    "french_cup_scope = fr_cp_df.loc[94:]"
   ]
  },
  {
   "cell_type": "markdown",
   "metadata": {},
   "source": [
    "### Holland"
   ]
  },
  {
   "cell_type": "code",
   "execution_count": 114,
   "metadata": {},
   "outputs": [],
   "source": [
    "data_url = 'https://en.wikipedia.org/wiki/KNVB_Cup'\n",
    "page = requests.get(data_url)\n",
    "soup = BeautifulSoup(page.content,'html.parser')"
   ]
  },
  {
   "cell_type": "code",
   "execution_count": 115,
   "metadata": {},
   "outputs": [],
   "source": [
    "tables = soup.findAll(\"table\")\n",
    "table_to_use = tables[1]\n",
    "hl_cp_df = pd.DataFrame(columns=['Season','Winner','Runner'])"
   ]
  },
  {
   "cell_type": "code",
   "execution_count": 116,
   "metadata": {},
   "outputs": [],
   "source": [
    "all_tr = table_to_use.find_all('tr')\n",
    "for i in range(102,len(all_tr)):\n",
    "    if(i!=107):\n",
    "        idd = (i)\n",
    "        season = (all_tr[i].find_all('td')[0].contents[0].contents[0])\n",
    "        winner = (all_tr[i].find_all('td')[1].contents[0].contents[0])\n",
    "        runner =(all_tr[i].find_all('td')[4].contents[0].contents[0])\n",
    "        hl_cp_df.loc[idd]= [season,winner,runner]    "
   ]
  },
  {
   "cell_type": "code",
   "execution_count": 117,
   "metadata": {},
   "outputs": [],
   "source": [
    "holland_cup_scope = hl_cp_df"
   ]
  },
  {
   "cell_type": "code",
   "execution_count": 118,
   "metadata": {},
   "outputs": [],
   "source": [
    "fa_cup_scope.to_csv('..\\\\Consolidated Data\\\\FA Cup Records.csv',index=False)\n",
    "copa_cup_scope.to_csv('..\\\\Consolidated Data\\\\Copa Del Rey Records.csv',index=False)\n",
    "italian_cup_scope.to_csv('..\\\\Consolidated Data\\\\Coppa Italia Records.csv',index=False)\n",
    "german_cup_scope.to_csv('..\\\\Consolidated Data\\\\DFB Pokal Records.csv',index=False)\n",
    "french_cup_scope.to_csv('..\\\\Consolidated Data\\\\Coupe De France Records.csv',index=False)\n",
    "holland_cup_scope.to_csv('..\\\\Consolidated Data\\\\KNVB Cup Records.csv',index=False)"
   ]
  }
 ],
 "metadata": {
  "kernelspec": {
   "display_name": "Python 3",
   "language": "python",
   "name": "python3"
  },
  "language_info": {
   "codemirror_mode": {
    "name": "ipython",
    "version": 3
   },
   "file_extension": ".py",
   "mimetype": "text/x-python",
   "name": "python",
   "nbconvert_exporter": "python",
   "pygments_lexer": "ipython3",
   "version": "3.7.4"
  }
 },
 "nbformat": 4,
 "nbformat_minor": 2
}
