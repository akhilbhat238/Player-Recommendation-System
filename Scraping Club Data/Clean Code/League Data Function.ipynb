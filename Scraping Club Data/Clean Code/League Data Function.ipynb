{
 "cells": [
  {
   "cell_type": "markdown",
   "metadata": {},
   "source": [
    "### All the necessary Imports"
   ]
  },
  {
   "cell_type": "code",
   "execution_count": 16,
   "metadata": {},
   "outputs": [],
   "source": [
    "import numpy as np\n",
    "import pandas as pd\n",
    "from bs4 import BeautifulSoup\n",
    "import requests"
   ]
  },
  {
   "cell_type": "markdown",
   "metadata": {},
   "source": [
    "### Defining League and Seasons to consider"
   ]
  },
  {
   "cell_type": "code",
   "execution_count": 17,
   "metadata": {},
   "outputs": [],
   "source": [
    "league_key = {'England':1,'Spain':31,'Germany':32,'Italy':33,'France':34,'Holland':36,'Portugal':37,'Scotland':10,'Turkey':79,'Championship':2}"
   ]
  },
  {
   "cell_type": "code",
   "execution_count": 18,
   "metadata": {},
   "outputs": [],
   "source": [
    "season_key = {2019:16,2018:15,2017:14,2016:13,2015:12,2014:11,2013:10,2012:9,2011:8,2010:7,2009:6,2008:5,2007:4,2006:3}"
   ]
  },
  {
   "cell_type": "markdown",
   "metadata": {},
   "source": [
    "### Defining a function to split one list into a list of smaller lists"
   ]
  },
  {
   "cell_type": "code",
   "execution_count": 19,
   "metadata": {},
   "outputs": [],
   "source": [
    "def divide_chunks(l, n): \n",
    "    for i in range(0, len(l), n):  \n",
    "        yield l[i:i + n]"
   ]
  },
  {
   "cell_type": "markdown",
   "metadata": {},
   "source": [
    "### Defining a function to get league data based on input League and Season"
   ]
  },
  {
   "cell_type": "code",
   "execution_count": 20,
   "metadata": {},
   "outputs": [],
   "source": [
    "def get_league_data(league,season):\n",
    "    #Building the URL\n",
    "    data_url = 'https://thefishy.co.uk/leaguetable.php?table='+str(league_key[league])+'&season='+str(season_key[season])\n",
    "    \n",
    "    #Use Beautiful Soup to pull all contents of the web-page\n",
    "    page = requests.get(data_url)\n",
    "    soup = BeautifulSoup(page.content,'html.parser')\n",
    "    \n",
    "    #Find all tables in the page\n",
    "    tables = soup.findAll(\"table\")\n",
    "    \n",
    "    #Selecting the correct table to pull data from\n",
    "    table_to_use = tables[5]\n",
    "    \n",
    "    #Extracting the header details\n",
    "    table_header = table_to_use.find_all('th')\n",
    "    header_list = []\n",
    "    for i in table_header:\n",
    "        header_list.append(i.contents[0])\n",
    "        \n",
    "    #Extracting table contents and cleaning data\n",
    "    table_data = table_to_use.find_all('td')\n",
    "    \n",
    "    #Cleaning the table by removing tags\n",
    "    table_data_clean = []\n",
    "    for i in table_data:\n",
    "        table_data_clean.append(i.contents[0])\n",
    "            \n",
    "    #Converting the larger list into a list of lists\n",
    "    n = 10  \n",
    "    x = list(divide_chunks(table_data_clean, n))\n",
    "    \n",
    "    #Converting the list of lists into a dataframe\n",
    "    df = pd.DataFrame(x, columns =header_list)\n",
    "    \n",
    "    #Removing the tag values from the Team column\n",
    "    df_team = df['Team']\n",
    "    for i in range(0,len(df_team)):\n",
    "        df_team[i] = df_team[i].contents[0]\n",
    "    df['Team'] = df_team\n",
    "    return df"
   ]
  },
  {
   "cell_type": "code",
   "execution_count": 21,
   "metadata": {},
   "outputs": [],
   "source": [
    "# get_league_data('Turkey',2019).to_csv('Turkish_Super_Lig_2019.csv',index=False)"
   ]
  },
  {
   "cell_type": "code",
   "execution_count": 22,
   "metadata": {},
   "outputs": [
    {
     "ename": "KeyboardInterrupt",
     "evalue": "",
     "output_type": "error",
     "traceback": [
      "\u001b[1;31m---------------------------------------------------------------------------\u001b[0m",
      "\u001b[1;31mKeyboardInterrupt\u001b[0m                         Traceback (most recent call last)",
      "\u001b[1;32m<ipython-input-22-92761e96d42e>\u001b[0m in \u001b[0;36m<module>\u001b[1;34m\u001b[0m\n\u001b[0;32m     28\u001b[0m \u001b[0mget_league_data\u001b[0m\u001b[1;33m(\u001b[0m\u001b[1;34m'England'\u001b[0m\u001b[1;33m,\u001b[0m\u001b[1;36m2008\u001b[0m\u001b[1;33m)\u001b[0m\u001b[1;33m.\u001b[0m\u001b[0mto_csv\u001b[0m\u001b[1;33m(\u001b[0m\u001b[1;34m'English_Premiership_2008.csv'\u001b[0m\u001b[1;33m,\u001b[0m\u001b[0mindex\u001b[0m\u001b[1;33m=\u001b[0m\u001b[1;32mFalse\u001b[0m\u001b[1;33m)\u001b[0m\u001b[1;33m\u001b[0m\u001b[0m\n\u001b[0;32m     29\u001b[0m \u001b[0mget_league_data\u001b[0m\u001b[1;33m(\u001b[0m\u001b[1;34m'England'\u001b[0m\u001b[1;33m,\u001b[0m\u001b[1;36m2009\u001b[0m\u001b[1;33m)\u001b[0m\u001b[1;33m.\u001b[0m\u001b[0mto_csv\u001b[0m\u001b[1;33m(\u001b[0m\u001b[1;34m'English_Premiership_2009.csv'\u001b[0m\u001b[1;33m,\u001b[0m\u001b[0mindex\u001b[0m\u001b[1;33m=\u001b[0m\u001b[1;32mFalse\u001b[0m\u001b[1;33m)\u001b[0m\u001b[1;33m\u001b[0m\u001b[0m\n\u001b[1;32m---> 30\u001b[1;33m \u001b[0mget_league_data\u001b[0m\u001b[1;33m(\u001b[0m\u001b[1;34m'England'\u001b[0m\u001b[1;33m,\u001b[0m\u001b[1;36m2010\u001b[0m\u001b[1;33m)\u001b[0m\u001b[1;33m.\u001b[0m\u001b[0mto_csv\u001b[0m\u001b[1;33m(\u001b[0m\u001b[1;34m'English_Premiership_2010.csv'\u001b[0m\u001b[1;33m,\u001b[0m\u001b[0mindex\u001b[0m\u001b[1;33m=\u001b[0m\u001b[1;32mFalse\u001b[0m\u001b[1;33m)\u001b[0m\u001b[1;33m\u001b[0m\u001b[0m\n\u001b[0m\u001b[0;32m     31\u001b[0m \u001b[0mget_league_data\u001b[0m\u001b[1;33m(\u001b[0m\u001b[1;34m'England'\u001b[0m\u001b[1;33m,\u001b[0m\u001b[1;36m2011\u001b[0m\u001b[1;33m)\u001b[0m\u001b[1;33m.\u001b[0m\u001b[0mto_csv\u001b[0m\u001b[1;33m(\u001b[0m\u001b[1;34m'English_Premiership_2011.csv'\u001b[0m\u001b[1;33m,\u001b[0m\u001b[0mindex\u001b[0m\u001b[1;33m=\u001b[0m\u001b[1;32mFalse\u001b[0m\u001b[1;33m)\u001b[0m\u001b[1;33m\u001b[0m\u001b[0m\n\u001b[0;32m     32\u001b[0m \u001b[0mget_league_data\u001b[0m\u001b[1;33m(\u001b[0m\u001b[1;34m'England'\u001b[0m\u001b[1;33m,\u001b[0m\u001b[1;36m2012\u001b[0m\u001b[1;33m)\u001b[0m\u001b[1;33m.\u001b[0m\u001b[0mto_csv\u001b[0m\u001b[1;33m(\u001b[0m\u001b[1;34m'English_Premiership_2012.csv'\u001b[0m\u001b[1;33m,\u001b[0m\u001b[0mindex\u001b[0m\u001b[1;33m=\u001b[0m\u001b[1;32mFalse\u001b[0m\u001b[1;33m)\u001b[0m\u001b[1;33m\u001b[0m\u001b[0m\n",
      "\u001b[1;32m<ipython-input-20-5478b72cef59>\u001b[0m in \u001b[0;36mget_league_data\u001b[1;34m(league, season)\u001b[0m\n\u001b[0;32m      4\u001b[0m \u001b[1;33m\u001b[0m\u001b[0m\n\u001b[0;32m      5\u001b[0m     \u001b[1;31m#Use Beautiful Soup to pull all contents of the web-page\u001b[0m\u001b[1;33m\u001b[0m\u001b[1;33m\u001b[0m\u001b[0m\n\u001b[1;32m----> 6\u001b[1;33m     \u001b[0mpage\u001b[0m \u001b[1;33m=\u001b[0m \u001b[0mrequests\u001b[0m\u001b[1;33m.\u001b[0m\u001b[0mget\u001b[0m\u001b[1;33m(\u001b[0m\u001b[0mdata_url\u001b[0m\u001b[1;33m)\u001b[0m\u001b[1;33m\u001b[0m\u001b[0m\n\u001b[0m\u001b[0;32m      7\u001b[0m     \u001b[0msoup\u001b[0m \u001b[1;33m=\u001b[0m \u001b[0mBeautifulSoup\u001b[0m\u001b[1;33m(\u001b[0m\u001b[0mpage\u001b[0m\u001b[1;33m.\u001b[0m\u001b[0mcontent\u001b[0m\u001b[1;33m,\u001b[0m\u001b[1;34m'html.parser'\u001b[0m\u001b[1;33m)\u001b[0m\u001b[1;33m\u001b[0m\u001b[0m\n\u001b[0;32m      8\u001b[0m \u001b[1;33m\u001b[0m\u001b[0m\n",
      "\u001b[1;32mc:\\users\\akhil_s_bhat\\appdata\\local\\programs\\python\\python36\\lib\\site-packages\\requests\\api.py\u001b[0m in \u001b[0;36mget\u001b[1;34m(url, params, **kwargs)\u001b[0m\n\u001b[0;32m     70\u001b[0m \u001b[1;33m\u001b[0m\u001b[0m\n\u001b[0;32m     71\u001b[0m     \u001b[0mkwargs\u001b[0m\u001b[1;33m.\u001b[0m\u001b[0msetdefault\u001b[0m\u001b[1;33m(\u001b[0m\u001b[1;34m'allow_redirects'\u001b[0m\u001b[1;33m,\u001b[0m \u001b[1;32mTrue\u001b[0m\u001b[1;33m)\u001b[0m\u001b[1;33m\u001b[0m\u001b[0m\n\u001b[1;32m---> 72\u001b[1;33m     \u001b[1;32mreturn\u001b[0m \u001b[0mrequest\u001b[0m\u001b[1;33m(\u001b[0m\u001b[1;34m'get'\u001b[0m\u001b[1;33m,\u001b[0m \u001b[0murl\u001b[0m\u001b[1;33m,\u001b[0m \u001b[0mparams\u001b[0m\u001b[1;33m=\u001b[0m\u001b[0mparams\u001b[0m\u001b[1;33m,\u001b[0m \u001b[1;33m**\u001b[0m\u001b[0mkwargs\u001b[0m\u001b[1;33m)\u001b[0m\u001b[1;33m\u001b[0m\u001b[0m\n\u001b[0m\u001b[0;32m     73\u001b[0m \u001b[1;33m\u001b[0m\u001b[0m\n\u001b[0;32m     74\u001b[0m \u001b[1;33m\u001b[0m\u001b[0m\n",
      "\u001b[1;32mc:\\users\\akhil_s_bhat\\appdata\\local\\programs\\python\\python36\\lib\\site-packages\\requests\\api.py\u001b[0m in \u001b[0;36mrequest\u001b[1;34m(method, url, **kwargs)\u001b[0m\n\u001b[0;32m     56\u001b[0m     \u001b[1;31m# cases, and look like a memory leak in others.\u001b[0m\u001b[1;33m\u001b[0m\u001b[1;33m\u001b[0m\u001b[0m\n\u001b[0;32m     57\u001b[0m     \u001b[1;32mwith\u001b[0m \u001b[0msessions\u001b[0m\u001b[1;33m.\u001b[0m\u001b[0mSession\u001b[0m\u001b[1;33m(\u001b[0m\u001b[1;33m)\u001b[0m \u001b[1;32mas\u001b[0m \u001b[0msession\u001b[0m\u001b[1;33m:\u001b[0m\u001b[1;33m\u001b[0m\u001b[0m\n\u001b[1;32m---> 58\u001b[1;33m         \u001b[1;32mreturn\u001b[0m \u001b[0msession\u001b[0m\u001b[1;33m.\u001b[0m\u001b[0mrequest\u001b[0m\u001b[1;33m(\u001b[0m\u001b[0mmethod\u001b[0m\u001b[1;33m=\u001b[0m\u001b[0mmethod\u001b[0m\u001b[1;33m,\u001b[0m \u001b[0murl\u001b[0m\u001b[1;33m=\u001b[0m\u001b[0murl\u001b[0m\u001b[1;33m,\u001b[0m \u001b[1;33m**\u001b[0m\u001b[0mkwargs\u001b[0m\u001b[1;33m)\u001b[0m\u001b[1;33m\u001b[0m\u001b[0m\n\u001b[0m\u001b[0;32m     59\u001b[0m \u001b[1;33m\u001b[0m\u001b[0m\n\u001b[0;32m     60\u001b[0m \u001b[1;33m\u001b[0m\u001b[0m\n",
      "\u001b[1;32mc:\\users\\akhil_s_bhat\\appdata\\local\\programs\\python\\python36\\lib\\site-packages\\requests\\sessions.py\u001b[0m in \u001b[0;36mrequest\u001b[1;34m(self, method, url, params, data, headers, cookies, files, auth, timeout, allow_redirects, proxies, hooks, stream, verify, cert, json)\u001b[0m\n\u001b[0;32m    506\u001b[0m         }\n\u001b[0;32m    507\u001b[0m         \u001b[0msend_kwargs\u001b[0m\u001b[1;33m.\u001b[0m\u001b[0mupdate\u001b[0m\u001b[1;33m(\u001b[0m\u001b[0msettings\u001b[0m\u001b[1;33m)\u001b[0m\u001b[1;33m\u001b[0m\u001b[0m\n\u001b[1;32m--> 508\u001b[1;33m         \u001b[0mresp\u001b[0m \u001b[1;33m=\u001b[0m \u001b[0mself\u001b[0m\u001b[1;33m.\u001b[0m\u001b[0msend\u001b[0m\u001b[1;33m(\u001b[0m\u001b[0mprep\u001b[0m\u001b[1;33m,\u001b[0m \u001b[1;33m**\u001b[0m\u001b[0msend_kwargs\u001b[0m\u001b[1;33m)\u001b[0m\u001b[1;33m\u001b[0m\u001b[0m\n\u001b[0m\u001b[0;32m    509\u001b[0m \u001b[1;33m\u001b[0m\u001b[0m\n\u001b[0;32m    510\u001b[0m         \u001b[1;32mreturn\u001b[0m \u001b[0mresp\u001b[0m\u001b[1;33m\u001b[0m\u001b[0m\n",
      "\u001b[1;32mc:\\users\\akhil_s_bhat\\appdata\\local\\programs\\python\\python36\\lib\\site-packages\\requests\\sessions.py\u001b[0m in \u001b[0;36msend\u001b[1;34m(self, request, **kwargs)\u001b[0m\n\u001b[0;32m    616\u001b[0m \u001b[1;33m\u001b[0m\u001b[0m\n\u001b[0;32m    617\u001b[0m         \u001b[1;31m# Send the request\u001b[0m\u001b[1;33m\u001b[0m\u001b[1;33m\u001b[0m\u001b[0m\n\u001b[1;32m--> 618\u001b[1;33m         \u001b[0mr\u001b[0m \u001b[1;33m=\u001b[0m \u001b[0madapter\u001b[0m\u001b[1;33m.\u001b[0m\u001b[0msend\u001b[0m\u001b[1;33m(\u001b[0m\u001b[0mrequest\u001b[0m\u001b[1;33m,\u001b[0m \u001b[1;33m**\u001b[0m\u001b[0mkwargs\u001b[0m\u001b[1;33m)\u001b[0m\u001b[1;33m\u001b[0m\u001b[0m\n\u001b[0m\u001b[0;32m    619\u001b[0m \u001b[1;33m\u001b[0m\u001b[0m\n\u001b[0;32m    620\u001b[0m         \u001b[1;31m# Total elapsed time of the request (approximately)\u001b[0m\u001b[1;33m\u001b[0m\u001b[1;33m\u001b[0m\u001b[0m\n",
      "\u001b[1;32mc:\\users\\akhil_s_bhat\\appdata\\local\\programs\\python\\python36\\lib\\site-packages\\requests\\adapters.py\u001b[0m in \u001b[0;36msend\u001b[1;34m(self, request, stream, timeout, verify, cert, proxies)\u001b[0m\n\u001b[0;32m    438\u001b[0m                     \u001b[0mdecode_content\u001b[0m\u001b[1;33m=\u001b[0m\u001b[1;32mFalse\u001b[0m\u001b[1;33m,\u001b[0m\u001b[1;33m\u001b[0m\u001b[0m\n\u001b[0;32m    439\u001b[0m                     \u001b[0mretries\u001b[0m\u001b[1;33m=\u001b[0m\u001b[0mself\u001b[0m\u001b[1;33m.\u001b[0m\u001b[0mmax_retries\u001b[0m\u001b[1;33m,\u001b[0m\u001b[1;33m\u001b[0m\u001b[0m\n\u001b[1;32m--> 440\u001b[1;33m                     \u001b[0mtimeout\u001b[0m\u001b[1;33m=\u001b[0m\u001b[0mtimeout\u001b[0m\u001b[1;33m\u001b[0m\u001b[0m\n\u001b[0m\u001b[0;32m    441\u001b[0m                 )\n\u001b[0;32m    442\u001b[0m \u001b[1;33m\u001b[0m\u001b[0m\n",
      "\u001b[1;32mc:\\users\\akhil_s_bhat\\appdata\\local\\programs\\python\\python36\\lib\\site-packages\\urllib3\\connectionpool.py\u001b[0m in \u001b[0;36murlopen\u001b[1;34m(self, method, url, body, headers, retries, redirect, assert_same_host, timeout, pool_timeout, release_conn, chunked, body_pos, **response_kw)\u001b[0m\n\u001b[0;32m    599\u001b[0m                                                   \u001b[0mtimeout\u001b[0m\u001b[1;33m=\u001b[0m\u001b[0mtimeout_obj\u001b[0m\u001b[1;33m,\u001b[0m\u001b[1;33m\u001b[0m\u001b[0m\n\u001b[0;32m    600\u001b[0m                                                   \u001b[0mbody\u001b[0m\u001b[1;33m=\u001b[0m\u001b[0mbody\u001b[0m\u001b[1;33m,\u001b[0m \u001b[0mheaders\u001b[0m\u001b[1;33m=\u001b[0m\u001b[0mheaders\u001b[0m\u001b[1;33m,\u001b[0m\u001b[1;33m\u001b[0m\u001b[0m\n\u001b[1;32m--> 601\u001b[1;33m                                                   chunked=chunked)\n\u001b[0m\u001b[0;32m    602\u001b[0m \u001b[1;33m\u001b[0m\u001b[0m\n\u001b[0;32m    603\u001b[0m             \u001b[1;31m# If we're going to release the connection in ``finally:``, then\u001b[0m\u001b[1;33m\u001b[0m\u001b[1;33m\u001b[0m\u001b[0m\n",
      "\u001b[1;32mc:\\users\\akhil_s_bhat\\appdata\\local\\programs\\python\\python36\\lib\\site-packages\\urllib3\\connectionpool.py\u001b[0m in \u001b[0;36m_make_request\u001b[1;34m(self, conn, method, url, timeout, chunked, **httplib_request_kw)\u001b[0m\n\u001b[0;32m    344\u001b[0m         \u001b[1;31m# Trigger any extra validation we need to do.\u001b[0m\u001b[1;33m\u001b[0m\u001b[1;33m\u001b[0m\u001b[0m\n\u001b[0;32m    345\u001b[0m         \u001b[1;32mtry\u001b[0m\u001b[1;33m:\u001b[0m\u001b[1;33m\u001b[0m\u001b[0m\n\u001b[1;32m--> 346\u001b[1;33m             \u001b[0mself\u001b[0m\u001b[1;33m.\u001b[0m\u001b[0m_validate_conn\u001b[0m\u001b[1;33m(\u001b[0m\u001b[0mconn\u001b[0m\u001b[1;33m)\u001b[0m\u001b[1;33m\u001b[0m\u001b[0m\n\u001b[0m\u001b[0;32m    347\u001b[0m         \u001b[1;32mexcept\u001b[0m \u001b[1;33m(\u001b[0m\u001b[0mSocketTimeout\u001b[0m\u001b[1;33m,\u001b[0m \u001b[0mBaseSSLError\u001b[0m\u001b[1;33m)\u001b[0m \u001b[1;32mas\u001b[0m \u001b[0me\u001b[0m\u001b[1;33m:\u001b[0m\u001b[1;33m\u001b[0m\u001b[0m\n\u001b[0;32m    348\u001b[0m             \u001b[1;31m# Py2 raises this as a BaseSSLError, Py3 raises it as socket timeout.\u001b[0m\u001b[1;33m\u001b[0m\u001b[1;33m\u001b[0m\u001b[0m\n",
      "\u001b[1;32mc:\\users\\akhil_s_bhat\\appdata\\local\\programs\\python\\python36\\lib\\site-packages\\urllib3\\connectionpool.py\u001b[0m in \u001b[0;36m_validate_conn\u001b[1;34m(self, conn)\u001b[0m\n\u001b[0;32m    848\u001b[0m         \u001b[1;31m# Force connect early to allow us to validate the connection.\u001b[0m\u001b[1;33m\u001b[0m\u001b[1;33m\u001b[0m\u001b[0m\n\u001b[0;32m    849\u001b[0m         \u001b[1;32mif\u001b[0m \u001b[1;32mnot\u001b[0m \u001b[0mgetattr\u001b[0m\u001b[1;33m(\u001b[0m\u001b[0mconn\u001b[0m\u001b[1;33m,\u001b[0m \u001b[1;34m'sock'\u001b[0m\u001b[1;33m,\u001b[0m \u001b[1;32mNone\u001b[0m\u001b[1;33m)\u001b[0m\u001b[1;33m:\u001b[0m  \u001b[1;31m# AppEngine might not have  `.sock`\u001b[0m\u001b[1;33m\u001b[0m\u001b[0m\n\u001b[1;32m--> 850\u001b[1;33m             \u001b[0mconn\u001b[0m\u001b[1;33m.\u001b[0m\u001b[0mconnect\u001b[0m\u001b[1;33m(\u001b[0m\u001b[1;33m)\u001b[0m\u001b[1;33m\u001b[0m\u001b[0m\n\u001b[0m\u001b[0;32m    851\u001b[0m \u001b[1;33m\u001b[0m\u001b[0m\n\u001b[0;32m    852\u001b[0m         \u001b[1;32mif\u001b[0m \u001b[1;32mnot\u001b[0m \u001b[0mconn\u001b[0m\u001b[1;33m.\u001b[0m\u001b[0mis_verified\u001b[0m\u001b[1;33m:\u001b[0m\u001b[1;33m\u001b[0m\u001b[0m\n",
      "\u001b[1;32mc:\\users\\akhil_s_bhat\\appdata\\local\\programs\\python\\python36\\lib\\site-packages\\urllib3\\connection.py\u001b[0m in \u001b[0;36mconnect\u001b[1;34m(self)\u001b[0m\n\u001b[0;32m    324\u001b[0m             \u001b[0mca_cert_dir\u001b[0m\u001b[1;33m=\u001b[0m\u001b[0mself\u001b[0m\u001b[1;33m.\u001b[0m\u001b[0mca_cert_dir\u001b[0m\u001b[1;33m,\u001b[0m\u001b[1;33m\u001b[0m\u001b[0m\n\u001b[0;32m    325\u001b[0m             \u001b[0mserver_hostname\u001b[0m\u001b[1;33m=\u001b[0m\u001b[0mhostname\u001b[0m\u001b[1;33m,\u001b[0m\u001b[1;33m\u001b[0m\u001b[0m\n\u001b[1;32m--> 326\u001b[1;33m             ssl_context=context)\n\u001b[0m\u001b[0;32m    327\u001b[0m \u001b[1;33m\u001b[0m\u001b[0m\n\u001b[0;32m    328\u001b[0m         \u001b[1;32mif\u001b[0m \u001b[0mself\u001b[0m\u001b[1;33m.\u001b[0m\u001b[0massert_fingerprint\u001b[0m\u001b[1;33m:\u001b[0m\u001b[1;33m\u001b[0m\u001b[0m\n",
      "\u001b[1;32mc:\\users\\akhil_s_bhat\\appdata\\local\\programs\\python\\python36\\lib\\site-packages\\urllib3\\util\\ssl_.py\u001b[0m in \u001b[0;36mssl_wrap_socket\u001b[1;34m(sock, keyfile, certfile, cert_reqs, ca_certs, server_hostname, ssl_version, ciphers, ssl_context, ca_cert_dir)\u001b[0m\n\u001b[0;32m    327\u001b[0m         \u001b[0mcontext\u001b[0m\u001b[1;33m.\u001b[0m\u001b[0mload_cert_chain\u001b[0m\u001b[1;33m(\u001b[0m\u001b[0mcertfile\u001b[0m\u001b[1;33m,\u001b[0m \u001b[0mkeyfile\u001b[0m\u001b[1;33m)\u001b[0m\u001b[1;33m\u001b[0m\u001b[0m\n\u001b[0;32m    328\u001b[0m     \u001b[1;32mif\u001b[0m \u001b[0mHAS_SNI\u001b[0m\u001b[1;33m:\u001b[0m  \u001b[1;31m# Platform-specific: OpenSSL with enabled SNI\u001b[0m\u001b[1;33m\u001b[0m\u001b[0m\n\u001b[1;32m--> 329\u001b[1;33m         \u001b[1;32mreturn\u001b[0m \u001b[0mcontext\u001b[0m\u001b[1;33m.\u001b[0m\u001b[0mwrap_socket\u001b[0m\u001b[1;33m(\u001b[0m\u001b[0msock\u001b[0m\u001b[1;33m,\u001b[0m \u001b[0mserver_hostname\u001b[0m\u001b[1;33m=\u001b[0m\u001b[0mserver_hostname\u001b[0m\u001b[1;33m)\u001b[0m\u001b[1;33m\u001b[0m\u001b[0m\n\u001b[0m\u001b[0;32m    330\u001b[0m \u001b[1;33m\u001b[0m\u001b[0m\n\u001b[0;32m    331\u001b[0m     warnings.warn(\n",
      "\u001b[1;32mc:\\users\\akhil_s_bhat\\appdata\\local\\programs\\python\\python36\\lib\\ssl.py\u001b[0m in \u001b[0;36mwrap_socket\u001b[1;34m(self, sock, server_side, do_handshake_on_connect, suppress_ragged_eofs, server_hostname, session)\u001b[0m\n\u001b[0;32m    405\u001b[0m                          \u001b[0msuppress_ragged_eofs\u001b[0m\u001b[1;33m=\u001b[0m\u001b[0msuppress_ragged_eofs\u001b[0m\u001b[1;33m,\u001b[0m\u001b[1;33m\u001b[0m\u001b[0m\n\u001b[0;32m    406\u001b[0m                          \u001b[0mserver_hostname\u001b[0m\u001b[1;33m=\u001b[0m\u001b[0mserver_hostname\u001b[0m\u001b[1;33m,\u001b[0m\u001b[1;33m\u001b[0m\u001b[0m\n\u001b[1;32m--> 407\u001b[1;33m                          _context=self, _session=session)\n\u001b[0m\u001b[0;32m    408\u001b[0m \u001b[1;33m\u001b[0m\u001b[0m\n\u001b[0;32m    409\u001b[0m     def wrap_bio(self, incoming, outgoing, server_side=False,\n",
      "\u001b[1;32mc:\\users\\akhil_s_bhat\\appdata\\local\\programs\\python\\python36\\lib\\ssl.py\u001b[0m in \u001b[0;36m__init__\u001b[1;34m(self, sock, keyfile, certfile, server_side, cert_reqs, ssl_version, ca_certs, do_handshake_on_connect, family, type, proto, fileno, suppress_ragged_eofs, npn_protocols, ciphers, server_hostname, _context, _session)\u001b[0m\n\u001b[0;32m    812\u001b[0m                         \u001b[1;31m# non-blocking\u001b[0m\u001b[1;33m\u001b[0m\u001b[1;33m\u001b[0m\u001b[0m\n\u001b[0;32m    813\u001b[0m                         \u001b[1;32mraise\u001b[0m \u001b[0mValueError\u001b[0m\u001b[1;33m(\u001b[0m\u001b[1;34m\"do_handshake_on_connect should not be specified for non-blocking sockets\"\u001b[0m\u001b[1;33m)\u001b[0m\u001b[1;33m\u001b[0m\u001b[0m\n\u001b[1;32m--> 814\u001b[1;33m                     \u001b[0mself\u001b[0m\u001b[1;33m.\u001b[0m\u001b[0mdo_handshake\u001b[0m\u001b[1;33m(\u001b[0m\u001b[1;33m)\u001b[0m\u001b[1;33m\u001b[0m\u001b[0m\n\u001b[0m\u001b[0;32m    815\u001b[0m \u001b[1;33m\u001b[0m\u001b[0m\n\u001b[0;32m    816\u001b[0m             \u001b[1;32mexcept\u001b[0m \u001b[1;33m(\u001b[0m\u001b[0mOSError\u001b[0m\u001b[1;33m,\u001b[0m \u001b[0mValueError\u001b[0m\u001b[1;33m)\u001b[0m\u001b[1;33m:\u001b[0m\u001b[1;33m\u001b[0m\u001b[0m\n",
      "\u001b[1;32mc:\\users\\akhil_s_bhat\\appdata\\local\\programs\\python\\python36\\lib\\ssl.py\u001b[0m in \u001b[0;36mdo_handshake\u001b[1;34m(self, block)\u001b[0m\n\u001b[0;32m   1066\u001b[0m             \u001b[1;32mif\u001b[0m \u001b[0mtimeout\u001b[0m \u001b[1;33m==\u001b[0m \u001b[1;36m0.0\u001b[0m \u001b[1;32mand\u001b[0m \u001b[0mblock\u001b[0m\u001b[1;33m:\u001b[0m\u001b[1;33m\u001b[0m\u001b[0m\n\u001b[0;32m   1067\u001b[0m                 \u001b[0mself\u001b[0m\u001b[1;33m.\u001b[0m\u001b[0msettimeout\u001b[0m\u001b[1;33m(\u001b[0m\u001b[1;32mNone\u001b[0m\u001b[1;33m)\u001b[0m\u001b[1;33m\u001b[0m\u001b[0m\n\u001b[1;32m-> 1068\u001b[1;33m             \u001b[0mself\u001b[0m\u001b[1;33m.\u001b[0m\u001b[0m_sslobj\u001b[0m\u001b[1;33m.\u001b[0m\u001b[0mdo_handshake\u001b[0m\u001b[1;33m(\u001b[0m\u001b[1;33m)\u001b[0m\u001b[1;33m\u001b[0m\u001b[0m\n\u001b[0m\u001b[0;32m   1069\u001b[0m         \u001b[1;32mfinally\u001b[0m\u001b[1;33m:\u001b[0m\u001b[1;33m\u001b[0m\u001b[0m\n\u001b[0;32m   1070\u001b[0m             \u001b[0mself\u001b[0m\u001b[1;33m.\u001b[0m\u001b[0msettimeout\u001b[0m\u001b[1;33m(\u001b[0m\u001b[0mtimeout\u001b[0m\u001b[1;33m)\u001b[0m\u001b[1;33m\u001b[0m\u001b[0m\n",
      "\u001b[1;32mc:\\users\\akhil_s_bhat\\appdata\\local\\programs\\python\\python36\\lib\\ssl.py\u001b[0m in \u001b[0;36mdo_handshake\u001b[1;34m(self)\u001b[0m\n\u001b[0;32m    687\u001b[0m     \u001b[1;32mdef\u001b[0m \u001b[0mdo_handshake\u001b[0m\u001b[1;33m(\u001b[0m\u001b[0mself\u001b[0m\u001b[1;33m)\u001b[0m\u001b[1;33m:\u001b[0m\u001b[1;33m\u001b[0m\u001b[0m\n\u001b[0;32m    688\u001b[0m         \u001b[1;34m\"\"\"Start the SSL/TLS handshake.\"\"\"\u001b[0m\u001b[1;33m\u001b[0m\u001b[0m\n\u001b[1;32m--> 689\u001b[1;33m         \u001b[0mself\u001b[0m\u001b[1;33m.\u001b[0m\u001b[0m_sslobj\u001b[0m\u001b[1;33m.\u001b[0m\u001b[0mdo_handshake\u001b[0m\u001b[1;33m(\u001b[0m\u001b[1;33m)\u001b[0m\u001b[1;33m\u001b[0m\u001b[0m\n\u001b[0m\u001b[0;32m    690\u001b[0m         \u001b[1;32mif\u001b[0m \u001b[0mself\u001b[0m\u001b[1;33m.\u001b[0m\u001b[0mcontext\u001b[0m\u001b[1;33m.\u001b[0m\u001b[0mcheck_hostname\u001b[0m\u001b[1;33m:\u001b[0m\u001b[1;33m\u001b[0m\u001b[0m\n\u001b[0;32m    691\u001b[0m             \u001b[1;32mif\u001b[0m \u001b[1;32mnot\u001b[0m \u001b[0mself\u001b[0m\u001b[1;33m.\u001b[0m\u001b[0mserver_hostname\u001b[0m\u001b[1;33m:\u001b[0m\u001b[1;33m\u001b[0m\u001b[0m\n",
      "\u001b[1;31mKeyboardInterrupt\u001b[0m: "
     ]
    }
   ],
   "source": [
    "get_league_data('Germany',2007).to_csv('Bundesliga_2007.csv',index=False)\n",
    "get_league_data('Germany',2008).to_csv('Bundesliga_2008.csv',index=False)\n",
    "get_league_data('Germany',2009).to_csv('Bundesliga_2009.csv',index=False)\n",
    "get_league_data('Germany',2010).to_csv('Bundesliga_2010.csv',index=False)\n",
    "get_league_data('Germany',2011).to_csv('Bundesliga_2011.csv',index=False)\n",
    "get_league_data('Germany',2012).to_csv('Bundesliga_2012.csv',index=False)\n",
    "get_league_data('Germany',2013).to_csv('Bundesliga_2013.csv',index=False)\n",
    "get_league_data('Germany',2014).to_csv('Bundesliga_2014.csv',index=False)\n",
    "get_league_data('Germany',2015).to_csv('Bundesliga_2015.csv',index=False)\n",
    "get_league_data('Germany',2016).to_csv('Bundesliga_2016.csv',index=False)\n",
    "get_league_data('Germany',2017).to_csv('Bundesliga_2017.csv',index=False)\n",
    "get_league_data('Germany',2018).to_csv('Bundesliga_2018.csv',index=False)\n",
    "get_league_data('Germany',2019).to_csv('Bundesliga_2019.csv',index=False)\n",
    "get_league_data('Championship',2007).to_csv('English_Championship_2007.csv',index=False)\n",
    "get_league_data('Championship',2008).to_csv('English_Championship_2008.csv',index=False)\n",
    "get_league_data('Championship',2009).to_csv('English_Championship_2009.csv',index=False)\n",
    "get_league_data('Championship',2010).to_csv('English_Championship_2010.csv',index=False)\n",
    "get_league_data('Championship',2011).to_csv('English_Championship_2011.csv',index=False)\n",
    "get_league_data('Championship',2012).to_csv('English_Championship_2012.csv',index=False)\n",
    "get_league_data('Championship',2013).to_csv('English_Championship_2013.csv',index=False)\n",
    "get_league_data('Championship',2014).to_csv('English_Championship_2014.csv',index=False)\n",
    "get_league_data('Championship',2015).to_csv('English_Championship_2015.csv',index=False)\n",
    "get_league_data('Championship',2016).to_csv('English_Championship_2016.csv',index=False)\n",
    "get_league_data('Championship',2017).to_csv('English_Championship_2017.csv',index=False)\n",
    "get_league_data('Championship',2018).to_csv('English_Championship_2018.csv',index=False)\n",
    "get_league_data('Championship',2019).to_csv('English_Championship_2019.csv',index=False)\n",
    "get_league_data('England',2007).to_csv('English_Premiership_2007.csv',index=False)\n",
    "get_league_data('England',2008).to_csv('English_Premiership_2008.csv',index=False)\n",
    "get_league_data('England',2009).to_csv('English_Premiership_2009.csv',index=False)\n",
    "get_league_data('England',2010).to_csv('English_Premiership_2010.csv',index=False)\n",
    "get_league_data('England',2011).to_csv('English_Premiership_2011.csv',index=False)\n",
    "get_league_data('England',2012).to_csv('English_Premiership_2012.csv',index=False)\n",
    "get_league_data('England',2013).to_csv('English_Premiership_2013.csv',index=False)\n",
    "get_league_data('England',2014).to_csv('English_Premiership_2014.csv',index=False)\n",
    "get_league_data('England',2015).to_csv('English_Premiership_2015.csv',index=False)\n",
    "get_league_data('England',2016).to_csv('English_Premiership_2016.csv',index=False)\n",
    "get_league_data('England',2017).to_csv('English_Premiership_2017.csv',index=False)\n",
    "get_league_data('England',2018).to_csv('English_Premiership_2018.csv',index=False)\n",
    "get_league_data('England',2019).to_csv('English_Premiership_2019.csv',index=False)\n",
    "get_league_data('Holland',2007).to_csv('Eredivise_2007.csv',index=False)\n",
    "get_league_data('Holland',2008).to_csv('Eredivise_2008.csv',index=False)\n",
    "get_league_data('Holland',2009).to_csv('Eredivise_2009.csv',index=False)\n",
    "get_league_data('Holland',2010).to_csv('Eredivise_2010.csv',index=False)\n",
    "get_league_data('Holland',2011).to_csv('Eredivise_2011.csv',index=False)\n",
    "get_league_data('Holland',2012).to_csv('Eredivise_2012.csv',index=False)\n",
    "get_league_data('Holland',2013).to_csv('Eredivise_2013.csv',index=False)\n",
    "get_league_data('Holland',2014).to_csv('Eredivise_2014.csv',index=False)\n",
    "get_league_data('Holland',2015).to_csv('Eredivise_2015.csv',index=False)\n",
    "get_league_data('Holland',2016).to_csv('Eredivise_2016.csv',index=False)\n",
    "get_league_data('Holland',2017).to_csv('Eredivise_2017.csv',index=False)\n",
    "get_league_data('Holland',2018).to_csv('Eredivise_2018.csv',index=False)\n",
    "get_league_data('Holland',2019).to_csv('Eredivise_2019.csv',index=False)\n",
    "get_league_data('Spain',2007).to_csv('La_Liga_2007.csv',index=False)\n",
    "get_league_data('Spain',2008).to_csv('La_Liga_2008.csv',index=False)\n",
    "get_league_data('Spain',2009).to_csv('La_Liga_2009.csv',index=False)\n",
    "get_league_data('Spain',2010).to_csv('La_Liga_2010.csv',index=False)\n",
    "get_league_data('Spain',2011).to_csv('La_Liga_2011.csv',index=False)\n",
    "get_league_data('Spain',2012).to_csv('La_Liga_2012.csv',index=False)\n",
    "get_league_data('Spain',2013).to_csv('La_Liga_2013.csv',index=False)\n",
    "get_league_data('Spain',2014).to_csv('La_Liga_2014.csv',index=False)\n",
    "get_league_data('Spain',2015).to_csv('La_Liga_2015.csv',index=False)\n",
    "get_league_data('Spain',2016).to_csv('La_Liga_2016.csv',index=False)\n",
    "get_league_data('Spain',2017).to_csv('La_Liga_2017.csv',index=False)\n",
    "get_league_data('Spain',2018).to_csv('La_Liga_2018.csv',index=False)\n",
    "get_league_data('Spain',2019).to_csv('La_Liga_2019.csv',index=False)\n",
    "get_league_data('France',2007).to_csv('Ligue1_2007.csv',index=False)\n",
    "get_league_data('France',2008).to_csv('Ligue1_2008.csv',index=False)\n",
    "get_league_data('France',2009).to_csv('Ligue1_2009.csv',index=False)\n",
    "get_league_data('France',2010).to_csv('Ligue1_2010.csv',index=False)\n",
    "get_league_data('France',2011).to_csv('Ligue1_2011.csv',index=False)\n",
    "get_league_data('France',2012).to_csv('Ligue1_2012.csv',index=False)\n",
    "get_league_data('France',2013).to_csv('Ligue1_2013.csv',index=False)\n",
    "get_league_data('France',2014).to_csv('Ligue1_2014.csv',index=False)\n",
    "get_league_data('France',2015).to_csv('Ligue1_2015.csv',index=False)\n",
    "get_league_data('France',2016).to_csv('Ligue1_2016.csv',index=False)\n",
    "get_league_data('France',2017).to_csv('Ligue1_2017.csv',index=False)\n",
    "get_league_data('France',2018).to_csv('Ligue1_2018.csv',index=False)\n",
    "get_league_data('France',2019).to_csv('Ligue1_2019.csv',index=False)\n",
    "get_league_data('Portugal',2007).to_csv('Premiera_Liga_2007.csv',index=False)\n",
    "get_league_data('Portugal',2008).to_csv('Premiera_Liga_2008.csv',index=False)\n",
    "get_league_data('Portugal',2009).to_csv('Premiera_Liga_2009.csv',index=False)\n",
    "get_league_data('Portugal',2010).to_csv('Premiera_Liga_2010.csv',index=False)\n",
    "get_league_data('Portugal',2011).to_csv('Premiera_Liga_2011.csv',index=False)\n",
    "get_league_data('Portugal',2012).to_csv('Premiera_Liga_2012.csv',index=False)\n",
    "get_league_data('Portugal',2013).to_csv('Premiera_Liga_2013.csv',index=False)\n",
    "get_league_data('Portugal',2014).to_csv('Premiera_Liga_2014.csv',index=False)\n",
    "get_league_data('Portugal',2015).to_csv('Premiera_Liga_2015.csv',index=False)\n",
    "get_league_data('Portugal',2016).to_csv('Premiera_Liga_2016.csv',index=False)\n",
    "get_league_data('Portugal',2017).to_csv('Premiera_Liga_2017.csv',index=False)\n",
    "get_league_data('Portugal',2018).to_csv('Premiera_Liga_2018.csv',index=False)\n",
    "get_league_data('Portugal',2019).to_csv('Premiera_Liga_2019.csv',index=False)\n",
    "get_league_data('Scotland',2007).to_csv('Scottish_Premiership_2007.csv',index=False)\n",
    "get_league_data('Scotland',2008).to_csv('Scottish_Premiership_2008.csv',index=False)\n",
    "get_league_data('Scotland',2009).to_csv('Scottish_Premiership_2009.csv',index=False)\n",
    "get_league_data('Scotland',2010).to_csv('Scottish_Premiership_2010.csv',index=False)\n",
    "get_league_data('Scotland',2011).to_csv('Scottish_Premiership_2011.csv',index=False)\n",
    "get_league_data('Scotland',2012).to_csv('Scottish_Premiership_2012.csv',index=False)\n",
    "get_league_data('Scotland',2013).to_csv('Scottish_Premiership_2013.csv',index=False)\n",
    "get_league_data('Scotland',2014).to_csv('Scottish_Premiership_2014.csv',index=False)\n",
    "get_league_data('Scotland',2015).to_csv('Scottish_Premiership_2015.csv',index=False)\n",
    "get_league_data('Scotland',2016).to_csv('Scottish_Premiership_2016.csv',index=False)\n",
    "get_league_data('Scotland',2017).to_csv('Scottish_Premiership_2017.csv',index=False)\n",
    "get_league_data('Scotland',2018).to_csv('Scottish_Premiership_2018.csv',index=False)\n",
    "get_league_data('Scotland',2019).to_csv('Scottish_Premiership_2019.csv',index=False)\n",
    "get_league_data('Italy',2007).to_csv('Serie_A_2007.csv',index=False)\n",
    "get_league_data('Italy',2008).to_csv('Serie_A_2008.csv',index=False)\n",
    "get_league_data('Italy',2009).to_csv('Serie_A_2009.csv',index=False)\n",
    "get_league_data('Italy',2010).to_csv('Serie_A_2010.csv',index=False)\n",
    "get_league_data('Italy',2011).to_csv('Serie_A_2011.csv',index=False)\n",
    "get_league_data('Italy',2012).to_csv('Serie_A_2012.csv',index=False)\n",
    "get_league_data('Italy',2013).to_csv('Serie_A_2013.csv',index=False)\n",
    "get_league_data('Italy',2014).to_csv('Serie_A_2014.csv',index=False)\n",
    "get_league_data('Italy',2015).to_csv('Serie_A_2015.csv',index=False)\n",
    "get_league_data('Italy',2016).to_csv('Serie_A_2016.csv',index=False)\n",
    "get_league_data('Italy',2017).to_csv('Serie_A_2017.csv',index=False)\n",
    "get_league_data('Italy',2018).to_csv('Serie_A_2018.csv',index=False)\n",
    "get_league_data('Italy',2019).to_csv('Serie_A_2019.csv',index=False)"
   ]
  },
  {
   "cell_type": "code",
   "execution_count": null,
   "metadata": {},
   "outputs": [],
   "source": []
  }
 ],
 "metadata": {
  "kernelspec": {
   "display_name": "Python 3",
   "language": "python",
   "name": "python3"
  },
  "language_info": {
   "codemirror_mode": {
    "name": "ipython",
    "version": 3
   },
   "file_extension": ".py",
   "mimetype": "text/x-python",
   "name": "python",
   "nbconvert_exporter": "python",
   "pygments_lexer": "ipython3",
   "version": "3.6.4"
  }
 },
 "nbformat": 4,
 "nbformat_minor": 2
}
