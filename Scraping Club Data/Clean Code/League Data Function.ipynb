{
 "cells": [
  {
   "cell_type": "markdown",
   "metadata": {},
   "source": [
    "### All the necessary Imports"
   ]
  },
  {
   "cell_type": "code",
   "execution_count": 28,
   "metadata": {},
   "outputs": [],
   "source": [
    "import numpy as np\n",
    "import pandas as pd\n",
    "from bs4 import BeautifulSoup\n",
    "import requests"
   ]
  },
  {
   "cell_type": "markdown",
   "metadata": {},
   "source": [
    "### Defining League and Seasons to consider"
   ]
  },
  {
   "cell_type": "code",
   "execution_count": 17,
   "metadata": {},
   "outputs": [],
   "source": [
    "league_key = {'England':1,'Spain':31,'Germany':32,'Italy':33,'France':34,'Holland':36,'Portugal':37,'Scotland':10,'Turkey':79,'Championship':2}"
   ]
  },
  {
   "cell_type": "code",
   "execution_count": 18,
   "metadata": {},
   "outputs": [],
   "source": [
    "season_key = {2019:16,2018:15,2017:14,2016:13,2015:12,2014:11,2013:10,2012:9,2011:8,2010:7,2009:6,2008:5,2007:4,2006:3}"
   ]
  },
  {
   "cell_type": "markdown",
   "metadata": {},
   "source": [
    "### Defining a function to split one list into a list of smaller lists"
   ]
  },
  {
   "cell_type": "code",
   "execution_count": 19,
   "metadata": {},
   "outputs": [],
   "source": [
    "def divide_chunks(l, n): \n",
    "    for i in range(0, len(l), n):  \n",
    "        yield l[i:i + n]"
   ]
  },
  {
   "cell_type": "markdown",
   "metadata": {},
   "source": [
    "### Defining a function to get league data based on input League and Season"
   ]
  },
  {
   "cell_type": "code",
   "execution_count": 20,
   "metadata": {},
   "outputs": [],
   "source": [
    "def get_league_data(league,season):\n",
    "    #Building the URL\n",
    "    data_url = 'https://thefishy.co.uk/leaguetable.php?table='+str(league_key[league])+'&season='+str(season_key[season])\n",
    "    \n",
    "    #Use Beautiful Soup to pull all contents of the web-page\n",
    "    page = requests.get(data_url)\n",
    "    soup = BeautifulSoup(page.content,'html.parser')\n",
    "    \n",
    "    #Find all tables in the page\n",
    "    tables = soup.findAll(\"table\")\n",
    "    \n",
    "    #Selecting the correct table to pull data from\n",
    "    table_to_use = tables[5]\n",
    "    \n",
    "    #Extracting the header details\n",
    "    table_header = table_to_use.find_all('th')\n",
    "    header_list = []\n",
    "    for i in table_header:\n",
    "        header_list.append(i.contents[0])\n",
    "        \n",
    "    #Extracting table contents and cleaning data\n",
    "    table_data = table_to_use.find_all('td')\n",
    "    \n",
    "    #Cleaning the table by removing tags\n",
    "    table_data_clean = []\n",
    "    for i in table_data:\n",
    "        table_data_clean.append(i.contents[0])\n",
    "            \n",
    "    #Converting the larger list into a list of lists\n",
    "    n = 10  \n",
    "    x = list(divide_chunks(table_data_clean, n))\n",
    "    \n",
    "    #Converting the list of lists into a dataframe\n",
    "    df = pd.DataFrame(x, columns =header_list)\n",
    "    \n",
    "    #Removing the tag values from the Team column\n",
    "    df_team = df['Team']\n",
    "    for i in range(0,len(df_team)):\n",
    "        df_team[i] = df_team[i].contents[0]\n",
    "    df['Team'] = df_team\n",
    "    return df"
   ]
  },
  {
   "cell_type": "code",
   "execution_count": 42,
   "metadata": {},
   "outputs": [
    {
     "data": {
      "text/html": [
       "<div>\n",
       "<style scoped>\n",
       "    .dataframe tbody tr th:only-of-type {\n",
       "        vertical-align: middle;\n",
       "    }\n",
       "\n",
       "    .dataframe tbody tr th {\n",
       "        vertical-align: top;\n",
       "    }\n",
       "\n",
       "    .dataframe thead th {\n",
       "        text-align: right;\n",
       "    }\n",
       "</style>\n",
       "<table border=\"1\" class=\"dataframe\">\n",
       "  <thead>\n",
       "    <tr style=\"text-align: right;\">\n",
       "      <th></th>\n",
       "      <th>Pos</th>\n",
       "      <th>Team</th>\n",
       "      <th>P</th>\n",
       "      <th>W</th>\n",
       "      <th>D</th>\n",
       "      <th>L</th>\n",
       "      <th>F</th>\n",
       "      <th>A</th>\n",
       "      <th>GD</th>\n",
       "      <th>Pts</th>\n",
       "    </tr>\n",
       "  </thead>\n",
       "  <tbody>\n",
       "  </tbody>\n",
       "</table>\n",
       "</div>"
      ],
      "text/plain": [
       "Empty DataFrame\n",
       "Columns: [Pos, Team, P, W, D, L, F, A, GD, Pts]\n",
       "Index: []"
      ]
     },
     "execution_count": 42,
     "metadata": {},
     "output_type": "execute_result"
    }
   ],
   "source": [
    "get_league_data('Turkey',2017)"
   ]
  },
  {
   "cell_type": "code",
   "execution_count": 36,
   "metadata": {},
   "outputs": [],
   "source": [
    "get_league_data('France',2006).to_csv('France_Data_Csv',index=False)"
   ]
  }
 ],
 "metadata": {
  "kernelspec": {
   "display_name": "Python 3",
   "language": "python",
   "name": "python3"
  },
  "language_info": {
   "codemirror_mode": {
    "name": "ipython",
    "version": 3
   },
   "file_extension": ".py",
   "mimetype": "text/x-python",
   "name": "python",
   "nbconvert_exporter": "python",
   "pygments_lexer": "ipython3",
   "version": "3.7.4"
  }
 },
 "nbformat": 4,
 "nbformat_minor": 2
}
