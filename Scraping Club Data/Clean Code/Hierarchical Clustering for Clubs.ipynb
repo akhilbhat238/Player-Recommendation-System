{
 "cells": [
  {
   "cell_type": "code",
   "execution_count": 1,
   "metadata": {},
   "outputs": [],
   "source": [
    "import numpy as np\n",
    "import pandas as pd\n",
    "import matplotlib.pyplot as plt"
   ]
  },
  {
   "cell_type": "code",
   "execution_count": 2,
   "metadata": {},
   "outputs": [],
   "source": [
    "class Clusters(dict):\n",
    "    def _repr_html_(self):\n",
    "        html = '<table style=\"border: 0;\">'\n",
    "        for c in self:\n",
    "            hx = rgb2hex(colorConverter.to_rgb(c))\n",
    "            html += '<tr style=\"border: 0;\">' \\\n",
    "            '<td style=\"background-color: {0}; ' \\\n",
    "                       'border: 0;\">' \\\n",
    "            '<code style=\"background-color: {0};\">'.format(hx)\n",
    "            html += c + '</code></td>'\n",
    "            html += '<td style=\"border: 0\"><code>' \n",
    "            html += repr(self[c]) + '</code>'\n",
    "            html += '</td></tr>'\n",
    "        \n",
    "        html += '</table>'\n",
    "        \n",
    "        return html"
   ]
  },
  {
   "cell_type": "code",
   "execution_count": 3,
   "metadata": {},
   "outputs": [],
   "source": [
    "from collections import defaultdict\n",
    "from scipy.cluster.hierarchy import dendrogram, set_link_color_palette\n",
    "from fastcluster import linkage\n",
    "import seaborn as sns\n",
    "from matplotlib.colors import rgb2hex, colorConverter\n",
    "def get_cluster_classes(den, label='ivl'):\n",
    "    cluster_idxs = defaultdict(list)\n",
    "    for c, pi in zip(den['color_list'], den['icoord']):\n",
    "        for leg in pi[1:3]:\n",
    "            i = (leg - 5.0) / 10.0\n",
    "            if abs(i - int(i)) < 1e-5:\n",
    "                cluster_idxs[c].append(int(i))\n",
    "    \n",
    "    cluster_classes = Clusters()\n",
    "    for c, l in cluster_idxs.items():\n",
    "        i_l = [den[label][i] for i in l]\n",
    "        cluster_classes[c] = i_l\n",
    "    \n",
    "    return cluster_classes"
   ]
  },
  {
   "cell_type": "code",
   "execution_count": 4,
   "metadata": {},
   "outputs": [],
   "source": [
    "pl_final_df = pd.read_csv('..\\\\Consolidated Data\\\\Premier League Final.csv')\n",
    "del pl_final_df['Unnamed: 0']\n",
    "pl_final_df.columns = ['Team', 'Avg_League_Pos', 'Total Player Value', 'League', 'Range1_Win_CL',\n",
    "       'Range2_Win_CL', 'Range3_Win_CL', 'Range4_Win_CL', 'Range5_Win_CL',\n",
    "       'Range1_Run_CL', 'Range2_Run_CL', 'Range3_Run_CL', 'Range4_Run_CL',\n",
    "       'Range5_Run_CL', 'Range1_SF_CL', 'Range2_SF_CL', 'Range3_SF_CL',\n",
    "       'Range4_SF_CL', 'Range5_SF_CL', 'Range1_Win_EL', 'Range2_Win_EL',\n",
    "       'Range3_Win_EL', 'Range4_Win_EL', 'Range5_Win_EL', 'Range1_Run_EL',\n",
    "       'Range2_Run_EL', 'Range3_Run_EL', 'Range4_Run_EL', 'Range5_Run_EL',\n",
    "       'Range1_SF_EL', 'Range2_SF_EL', 'Range3_SF_EL', 'Range4_SF_EL',\n",
    "       'Range5_SF_EL', 'WC_Player_Count', 'Player', 'Cup_Wins', 'Cup_Runners']"
   ]
  },
  {
   "cell_type": "code",
   "execution_count": 5,
   "metadata": {},
   "outputs": [],
   "source": [
    "ll_final_df = pd.read_csv('..\\\\Consolidated Data\\\\La Liga Final.csv')\n",
    "del ll_final_df['Unnamed: 0']\n",
    "ll_final_df.columns = ['Team', 'Avg_League_Pos', 'Total Player Value', 'League', 'Range1_Win_CL',\n",
    "       'Range2_Win_CL', 'Range3_Win_CL', 'Range4_Win_CL', 'Range5_Win_CL',\n",
    "       'Range1_Run_CL', 'Range2_Run_CL', 'Range3_Run_CL', 'Range4_Run_CL',\n",
    "       'Range5_Run_CL', 'Range1_SF_CL', 'Range2_SF_CL', 'Range3_SF_CL',\n",
    "       'Range4_SF_CL', 'Range5_SF_CL', 'Range1_Win_EL', 'Range2_Win_EL',\n",
    "       'Range3_Win_EL', 'Range4_Win_EL', 'Range5_Win_EL', 'Range1_Run_EL',\n",
    "       'Range2_Run_EL', 'Range3_Run_EL', 'Range4_Run_EL', 'Range5_Run_EL',\n",
    "       'Range1_SF_EL', 'Range2_SF_EL', 'Range3_SF_EL', 'Range4_SF_EL',\n",
    "       'Range5_SF_EL', 'WC_Player_Count', 'Player', 'Cup_Wins', 'Cup_Runners']"
   ]
  },
  {
   "cell_type": "code",
   "execution_count": 6,
   "metadata": {},
   "outputs": [],
   "source": [
    "tier1_df = pd.concat([pl_final_df,ll_final_df])"
   ]
  },
  {
   "cell_type": "code",
   "execution_count": 7,
   "metadata": {},
   "outputs": [],
   "source": [
    "gl_final_df = pd.read_csv('..\\\\Consolidated Data\\\\Bundesliga Final.csv')\n",
    "del gl_final_df['Unnamed: 0']\n",
    "gl_final_df.columns = ['Team', 'Avg_League_Pos', 'Total Player Value', 'League', 'Range1_Win_CL',\n",
    "       'Range2_Win_CL', 'Range3_Win_CL', 'Range4_Win_CL', 'Range5_Win_CL',\n",
    "       'Range1_Run_CL', 'Range2_Run_CL', 'Range3_Run_CL', 'Range4_Run_CL',\n",
    "       'Range5_Run_CL', 'Range1_SF_CL', 'Range2_SF_CL', 'Range3_SF_CL',\n",
    "       'Range4_SF_CL', 'Range5_SF_CL', 'Range1_Win_EL', 'Range2_Win_EL',\n",
    "       'Range3_Win_EL', 'Range4_Win_EL', 'Range5_Win_EL', 'Range1_Run_EL',\n",
    "       'Range2_Run_EL', 'Range3_Run_EL', 'Range4_Run_EL', 'Range5_Run_EL',\n",
    "       'Range1_SF_EL', 'Range2_SF_EL', 'Range3_SF_EL', 'Range4_SF_EL',\n",
    "       'Range5_SF_EL', 'WC_Player_Count', 'Player', 'Cup_Wins', 'Cup_Runners']"
   ]
  },
  {
   "cell_type": "code",
   "execution_count": 8,
   "metadata": {},
   "outputs": [],
   "source": [
    "il_final_df = pd.read_csv('..\\\\Consolidated Data\\\\Serie A Final.csv')\n",
    "del il_final_df['Unnamed: 0']\n",
    "il_final_df.columns = ['Team', 'Avg_League_Pos', 'Total Player Value', 'League', 'Range1_Win_CL',\n",
    "       'Range2_Win_CL', 'Range3_Win_CL', 'Range4_Win_CL', 'Range5_Win_CL',\n",
    "       'Range1_Run_CL', 'Range2_Run_CL', 'Range3_Run_CL', 'Range4_Run_CL',\n",
    "       'Range5_Run_CL', 'Range1_SF_CL', 'Range2_SF_CL', 'Range3_SF_CL',\n",
    "       'Range4_SF_CL', 'Range5_SF_CL', 'Range1_Win_EL', 'Range2_Win_EL',\n",
    "       'Range3_Win_EL', 'Range4_Win_EL', 'Range5_Win_EL', 'Range1_Run_EL',\n",
    "       'Range2_Run_EL', 'Range3_Run_EL', 'Range4_Run_EL', 'Range5_Run_EL',\n",
    "       'Range1_SF_EL', 'Range2_SF_EL', 'Range3_SF_EL', 'Range4_SF_EL',\n",
    "       'Range5_SF_EL', 'WC_Player_Count', 'Player', 'Cup_Wins', 'Cup_Runners']"
   ]
  },
  {
   "cell_type": "code",
   "execution_count": 9,
   "metadata": {},
   "outputs": [],
   "source": [
    "tier2_df = pd.concat([gl_final_df,il_final_df])"
   ]
  },
  {
   "cell_type": "code",
   "execution_count": 10,
   "metadata": {},
   "outputs": [],
   "source": [
    "fl_final_df = pd.read_csv('..\\\\Consolidated Data\\\\Ligue 1 Final.csv')\n",
    "del fl_final_df['Unnamed: 0']\n",
    "fl_final_df.columns = ['Team', 'Avg_League_Pos', 'Total Player Value', 'League', 'Range1_Win_CL',\n",
    "       'Range2_Win_CL', 'Range3_Win_CL', 'Range4_Win_CL', 'Range5_Win_CL',\n",
    "       'Range1_Run_CL', 'Range2_Run_CL', 'Range3_Run_CL', 'Range4_Run_CL',\n",
    "       'Range5_Run_CL', 'Range1_SF_CL', 'Range2_SF_CL', 'Range3_SF_CL',\n",
    "       'Range4_SF_CL', 'Range5_SF_CL', 'Range1_Win_EL', 'Range2_Win_EL',\n",
    "       'Range3_Win_EL', 'Range4_Win_EL', 'Range5_Win_EL', 'Range1_Run_EL',\n",
    "       'Range2_Run_EL', 'Range3_Run_EL', 'Range4_Run_EL', 'Range5_Run_EL',\n",
    "       'Range1_SF_EL', 'Range2_SF_EL', 'Range3_SF_EL', 'Range4_SF_EL',\n",
    "       'Range5_SF_EL', 'WC_Player_Count', 'Player', 'Cup_Wins', 'Cup_Runners']"
   ]
  },
  {
   "cell_type": "code",
   "execution_count": 11,
   "metadata": {},
   "outputs": [],
   "source": [
    "dl_final_df = pd.read_csv('..\\\\Consolidated Data\\\\Eredivise Final.csv')\n",
    "del dl_final_df['Unnamed: 0']\n",
    "dl_final_df.columns = ['Team', 'Avg_League_Pos', 'Total Player Value', 'League', 'Range1_Win_CL',\n",
    "       'Range2_Win_CL', 'Range3_Win_CL', 'Range4_Win_CL', 'Range5_Win_CL',\n",
    "       'Range1_Run_CL', 'Range2_Run_CL', 'Range3_Run_CL', 'Range4_Run_CL',\n",
    "       'Range5_Run_CL', 'Range1_SF_CL', 'Range2_SF_CL', 'Range3_SF_CL',\n",
    "       'Range4_SF_CL', 'Range5_SF_CL', 'Range1_Win_EL', 'Range2_Win_EL',\n",
    "       'Range3_Win_EL', 'Range4_Win_EL', 'Range5_Win_EL', 'Range1_Run_EL',\n",
    "       'Range2_Run_EL', 'Range3_Run_EL', 'Range4_Run_EL', 'Range5_Run_EL',\n",
    "       'Range1_SF_EL', 'Range2_SF_EL', 'Range3_SF_EL', 'Range4_SF_EL',\n",
    "       'Range5_SF_EL', 'WC_Player_Count', 'Player', 'Cup_Wins', 'Cup_Runners']"
   ]
  },
  {
   "cell_type": "code",
   "execution_count": 12,
   "metadata": {},
   "outputs": [],
   "source": [
    "tier3_df = pd.concat([fl_final_df,dl_final_df])"
   ]
  },
  {
   "cell_type": "code",
   "execution_count": 13,
   "metadata": {},
   "outputs": [],
   "source": [
    "el_weight = 0.5\n",
    "cl_weight = 1\n",
    "winner_wt = 1\n",
    "runner_wt = 0.8\n",
    "sf_wt = 0.5\n",
    "range1_wt = 1\n",
    "range2_wt = 0.9\n",
    "range3_wt = 0.8\n",
    "range4_wt = 0.7\n",
    "range5_wt = 0.6\n",
    "tier_1_lg = 1\n",
    "tier_2_lg = 0.75\n",
    "tier_3_lg = 0.5\n",
    "national_cup = 0.2"
   ]
  },
  {
   "cell_type": "code",
   "execution_count": 14,
   "metadata": {},
   "outputs": [],
   "source": [
    "tier1_df['Avg_League_Pos']=tier1_df['Avg_League_Pos'] * 1*1*tier_1_lg\n",
    "tier1_df['Total Player Value']=tier1_df['Total Player Value'] * 1*1*tier_1_lg\n",
    "tier1_df['Range1_Win_CL']=tier1_df['Range1_Win_CL'] * winner_wt*range1_wt*cl_weight\n",
    "tier1_df['Range2_Win_CL']=tier1_df['Range2_Win_CL'] * winner_wt*range2_wt*cl_weight\n",
    "tier1_df['Range3_Win_CL']=tier1_df['Range3_Win_CL'] * winner_wt*range3_wt*cl_weight\n",
    "tier1_df['Range4_Win_CL']=tier1_df['Range4_Win_CL'] * winner_wt*range4_wt*cl_weight\n",
    "tier1_df['Range5_Win_CL']=tier1_df['Range5_Win_CL'] * winner_wt*range5_wt*cl_weight\n",
    "tier1_df['Range1_Run_CL']=tier1_df['Range1_Run_CL'] * runner_wt*range1_wt*cl_weight\n",
    "tier1_df['Range2_Run_CL']=tier1_df['Range2_Run_CL'] * runner_wt*range2_wt*cl_weight\n",
    "tier1_df['Range3_Run_CL']=tier1_df['Range3_Run_CL'] * runner_wt*range3_wt*cl_weight\n",
    "tier1_df['Range4_Run_CL']=tier1_df['Range4_Run_CL'] * runner_wt*range4_wt*cl_weight\n",
    "tier1_df['Range5_Run_CL']=tier1_df['Range5_Run_CL'] * runner_wt*range5_wt*cl_weight\n",
    "tier1_df['Range1_SF_CL']=tier1_df['Range1_SF_CL'] * sf_wt*range1_wt*cl_weight\n",
    "tier1_df['Range2_SF_CL']=tier1_df['Range2_SF_CL'] * sf_wt*range2_wt*cl_weight\n",
    "tier1_df['Range3_SF_CL']=tier1_df['Range3_SF_CL'] * sf_wt*range3_wt*cl_weight\n",
    "tier1_df['Range4_SF_CL']=tier1_df['Range4_SF_CL'] * sf_wt*range4_wt*cl_weight\n",
    "tier1_df['Range5_SF_CL']=tier1_df['Range5_SF_CL'] * sf_wt*range5_wt*cl_weight\n",
    "tier1_df['Range1_Win_EL']=tier1_df['Range1_Win_EL'] * winner_wt*range1_wt*el_weight\n",
    "tier1_df['Range2_Win_EL']=tier1_df['Range2_Win_EL'] * winner_wt*range2_wt*el_weight\n",
    "tier1_df['Range3_Win_EL']=tier1_df['Range3_Win_EL'] * winner_wt*range3_wt*el_weight\n",
    "tier1_df['Range4_Win_EL']=tier1_df['Range4_Win_EL'] * winner_wt*range4_wt*el_weight\n",
    "tier1_df['Range5_Win_EL']=tier1_df['Range5_Win_EL'] * winner_wt*range5_wt*el_weight\n",
    "tier1_df['Range1_Run_EL']=tier1_df['Range1_Run_EL'] * runner_wt*range1_wt*el_weight\n",
    "tier1_df['Range2_Run_EL']=tier1_df['Range2_Run_EL'] * runner_wt*range2_wt*el_weight\n",
    "tier1_df['Range3_Run_EL']=tier1_df['Range3_Run_EL'] * runner_wt*range3_wt*el_weight\n",
    "tier1_df['Range4_Run_EL']=tier1_df['Range4_Run_EL'] * runner_wt*range4_wt*el_weight\n",
    "tier1_df['Range5_Run_EL']=tier1_df['Range5_Run_EL'] * runner_wt*range5_wt*el_weight\n",
    "tier1_df['Range1_SF_EL']=tier1_df['Range1_SF_EL'] * sf_wt*range1_wt*el_weight\n",
    "tier1_df['Range2_SF_EL']=tier1_df['Range2_SF_EL'] * sf_wt*range2_wt*el_weight\n",
    "tier1_df['Range3_SF_EL']=tier1_df['Range3_SF_EL'] * sf_wt*range3_wt*el_weight\n",
    "tier1_df['Range4_SF_EL']=tier1_df['Range4_SF_EL'] * sf_wt*range4_wt*el_weight\n",
    "tier1_df['Range5_SF_EL']=tier1_df['Range5_SF_EL'] * sf_wt*range5_wt*el_weight\n",
    "tier1_df['WC_Player_Count']=tier1_df['WC_Player_Count'] * 1*1*tier_1_lg\n",
    "tier1_df['Player']=tier1_df['Player'] * 1*1*tier_1_lg\n",
    "tier1_df['Cup_Wins']=tier1_df['Cup_Wins'] * winner_wt*1*tier_1_lg*national_cup\n",
    "tier1_df['Cup_Runners']=tier1_df['Cup_Runners'] * runner_wt*1*tier_1_lg*national_cup"
   ]
  },
  {
   "cell_type": "code",
   "execution_count": 15,
   "metadata": {},
   "outputs": [],
   "source": [
    "tier2_df['Avg_League_Pos']=tier2_df['Avg_League_Pos'] * 1*1*tier_2_lg\n",
    "tier2_df['Total Player Value']=tier2_df['Total Player Value'] * 1*1*tier_2_lg\n",
    "tier2_df['Range1_Win_CL']=tier2_df['Range1_Win_CL'] * winner_wt*range1_wt*cl_weight\n",
    "tier2_df['Range2_Win_CL']=tier2_df['Range2_Win_CL'] * winner_wt*range2_wt*cl_weight\n",
    "tier2_df['Range3_Win_CL']=tier2_df['Range3_Win_CL'] * winner_wt*range3_wt*cl_weight\n",
    "tier2_df['Range4_Win_CL']=tier2_df['Range4_Win_CL'] * winner_wt*range4_wt*cl_weight\n",
    "tier2_df['Range5_Win_CL']=tier2_df['Range5_Win_CL'] * winner_wt*range5_wt*cl_weight\n",
    "tier2_df['Range1_Run_CL']=tier2_df['Range1_Run_CL'] * runner_wt*range1_wt*cl_weight\n",
    "tier2_df['Range2_Run_CL']=tier2_df['Range2_Run_CL'] * runner_wt*range2_wt*cl_weight\n",
    "tier2_df['Range3_Run_CL']=tier2_df['Range3_Run_CL'] * runner_wt*range3_wt*cl_weight\n",
    "tier2_df['Range4_Run_CL']=tier2_df['Range4_Run_CL'] * runner_wt*range4_wt*cl_weight\n",
    "tier2_df['Range5_Run_CL']=tier2_df['Range5_Run_CL'] * runner_wt*range5_wt*cl_weight\n",
    "tier2_df['Range1_SF_CL']=tier2_df['Range1_SF_CL'] * sf_wt*range1_wt*cl_weight\n",
    "tier2_df['Range2_SF_CL']=tier2_df['Range2_SF_CL'] * sf_wt*range2_wt*cl_weight\n",
    "tier2_df['Range3_SF_CL']=tier2_df['Range3_SF_CL'] * sf_wt*range3_wt*cl_weight\n",
    "tier2_df['Range4_SF_CL']=tier2_df['Range4_SF_CL'] * sf_wt*range4_wt*cl_weight\n",
    "tier2_df['Range5_SF_CL']=tier2_df['Range5_SF_CL'] * sf_wt*range5_wt*cl_weight\n",
    "tier2_df['Range1_Win_EL']=tier2_df['Range1_Win_EL'] * winner_wt*range1_wt*el_weight\n",
    "tier2_df['Range2_Win_EL']=tier2_df['Range2_Win_EL'] * winner_wt*range2_wt*el_weight\n",
    "tier2_df['Range3_Win_EL']=tier2_df['Range3_Win_EL'] * winner_wt*range3_wt*el_weight\n",
    "tier2_df['Range4_Win_EL']=tier2_df['Range4_Win_EL'] * winner_wt*range4_wt*el_weight\n",
    "tier2_df['Range5_Win_EL']=tier2_df['Range5_Win_EL'] * winner_wt*range5_wt*el_weight\n",
    "tier2_df['Range1_Run_EL']=tier2_df['Range1_Run_EL'] * runner_wt*range1_wt*el_weight\n",
    "tier2_df['Range2_Run_EL']=tier2_df['Range2_Run_EL'] * runner_wt*range2_wt*el_weight\n",
    "tier2_df['Range3_Run_EL']=tier2_df['Range3_Run_EL'] * runner_wt*range3_wt*el_weight\n",
    "tier2_df['Range4_Run_EL']=tier2_df['Range4_Run_EL'] * runner_wt*range4_wt*el_weight\n",
    "tier2_df['Range5_Run_EL']=tier2_df['Range5_Run_EL'] * runner_wt*range5_wt*el_weight\n",
    "tier2_df['Range1_SF_EL']=tier2_df['Range1_SF_EL'] * sf_wt*range1_wt*el_weight\n",
    "tier2_df['Range2_SF_EL']=tier2_df['Range2_SF_EL'] * sf_wt*range2_wt*el_weight\n",
    "tier2_df['Range3_SF_EL']=tier2_df['Range3_SF_EL'] * sf_wt*range3_wt*el_weight\n",
    "tier2_df['Range4_SF_EL']=tier2_df['Range4_SF_EL'] * sf_wt*range4_wt*el_weight\n",
    "tier2_df['Range5_SF_EL']=tier2_df['Range5_SF_EL'] * sf_wt*range5_wt*el_weight\n",
    "tier2_df['WC_Player_Count']=tier2_df['WC_Player_Count'] * 1*1*tier_2_lg\n",
    "tier2_df['Player']=tier2_df['Player'] * 1*1*tier_2_lg\n",
    "tier2_df['Cup_Wins']=tier2_df['Cup_Wins'] * winner_wt*1*tier_2_lg*national_cup\n",
    "tier2_df['Cup_Runners']=tier2_df['Cup_Runners'] * runner_wt*1*tier_2_lg*national_cup"
   ]
  },
  {
   "cell_type": "code",
   "execution_count": 16,
   "metadata": {},
   "outputs": [],
   "source": [
    "tier3_df['Avg_League_Pos']=tier3_df['Avg_League_Pos'] * 1*1*tier_3_lg\n",
    "tier3_df['Total Player Value']=tier3_df['Total Player Value'] * 1*1*tier_3_lg\n",
    "tier3_df['Range1_Win_CL']=tier3_df['Range1_Win_CL'] * winner_wt*range1_wt*cl_weight\n",
    "tier3_df['Range2_Win_CL']=tier3_df['Range2_Win_CL'] * winner_wt*range2_wt*cl_weight\n",
    "tier3_df['Range3_Win_CL']=tier3_df['Range3_Win_CL'] * winner_wt*range3_wt*cl_weight\n",
    "tier3_df['Range4_Win_CL']=tier3_df['Range4_Win_CL'] * winner_wt*range4_wt*cl_weight\n",
    "tier3_df['Range5_Win_CL']=tier3_df['Range5_Win_CL'] * winner_wt*range5_wt*cl_weight\n",
    "tier3_df['Range1_Run_CL']=tier3_df['Range1_Run_CL'] * runner_wt*range1_wt*cl_weight\n",
    "tier3_df['Range2_Run_CL']=tier3_df['Range2_Run_CL'] * runner_wt*range2_wt*cl_weight\n",
    "tier3_df['Range3_Run_CL']=tier3_df['Range3_Run_CL'] * runner_wt*range3_wt*cl_weight\n",
    "tier3_df['Range4_Run_CL']=tier3_df['Range4_Run_CL'] * runner_wt*range4_wt*cl_weight\n",
    "tier3_df['Range5_Run_CL']=tier3_df['Range5_Run_CL'] * runner_wt*range5_wt*cl_weight\n",
    "tier3_df['Range1_SF_CL']=tier3_df['Range1_SF_CL'] * sf_wt*range1_wt*cl_weight\n",
    "tier3_df['Range2_SF_CL']=tier3_df['Range2_SF_CL'] * sf_wt*range2_wt*cl_weight\n",
    "tier3_df['Range3_SF_CL']=tier3_df['Range3_SF_CL'] * sf_wt*range3_wt*cl_weight\n",
    "tier3_df['Range4_SF_CL']=tier3_df['Range4_SF_CL'] * sf_wt*range4_wt*cl_weight\n",
    "tier3_df['Range5_SF_CL']=tier3_df['Range5_SF_CL'] * sf_wt*range5_wt*cl_weight\n",
    "tier3_df['Range1_Win_EL']=tier3_df['Range1_Win_EL'] * winner_wt*range1_wt*el_weight\n",
    "tier3_df['Range2_Win_EL']=tier3_df['Range2_Win_EL'] * winner_wt*range2_wt*el_weight\n",
    "tier3_df['Range3_Win_EL']=tier3_df['Range3_Win_EL'] * winner_wt*range3_wt*el_weight\n",
    "tier3_df['Range4_Win_EL']=tier3_df['Range4_Win_EL'] * winner_wt*range4_wt*el_weight\n",
    "tier3_df['Range5_Win_EL']=tier3_df['Range5_Win_EL'] * winner_wt*range5_wt*el_weight\n",
    "tier3_df['Range1_Run_EL']=tier3_df['Range1_Run_EL'] * runner_wt*range1_wt*el_weight\n",
    "tier3_df['Range2_Run_EL']=tier3_df['Range2_Run_EL'] * runner_wt*range2_wt*el_weight\n",
    "tier3_df['Range3_Run_EL']=tier3_df['Range3_Run_EL'] * runner_wt*range3_wt*el_weight\n",
    "tier3_df['Range4_Run_EL']=tier3_df['Range4_Run_EL'] * runner_wt*range4_wt*el_weight\n",
    "tier3_df['Range5_Run_EL']=tier3_df['Range5_Run_EL'] * runner_wt*range5_wt*el_weight\n",
    "tier3_df['Range1_SF_EL']=tier3_df['Range1_SF_EL'] * sf_wt*range1_wt*el_weight\n",
    "tier3_df['Range2_SF_EL']=tier3_df['Range2_SF_EL'] * sf_wt*range2_wt*el_weight\n",
    "tier3_df['Range3_SF_EL']=tier3_df['Range3_SF_EL'] * sf_wt*range3_wt*el_weight\n",
    "tier3_df['Range4_SF_EL']=tier3_df['Range4_SF_EL'] * sf_wt*range4_wt*el_weight\n",
    "tier3_df['Range5_SF_EL']=tier3_df['Range5_SF_EL'] * sf_wt*range5_wt*el_weight\n",
    "tier3_df['WC_Player_Count']=tier3_df['WC_Player_Count'] * 1*1*tier_3_lg\n",
    "tier3_df['Player']=tier3_df['Player'] * 1*1*tier_3_lg\n",
    "tier3_df['Cup_Wins']=tier3_df['Cup_Wins'] * winner_wt*1*tier_3_lg*national_cup\n",
    "tier3_df['Cup_Runners']=tier3_df['Cup_Runners'] * runner_wt*1*tier_3_lg*national_cup\n"
   ]
  },
  {
   "cell_type": "code",
   "execution_count": 17,
   "metadata": {},
   "outputs": [],
   "source": [
    "complete_df = pd.concat([tier1_df,tier2_df,tier3_df])"
   ]
  },
  {
   "cell_type": "code",
   "execution_count": 18,
   "metadata": {},
   "outputs": [],
   "source": [
    "complete_df['Player'] = complete_df['Player']/8\n",
    "complete_df['Cup_Wins'] = complete_df['Cup_Wins']/15\n",
    "complete_df['Cup_Runners'] = complete_df['Cup_Runners']/15\n",
    "complete_df['Total Player Value'] = complete_df['Total Player Value']/1150\n",
    "complete_df['WC_Player_Count'] = complete_df['WC_Player_Count']/16"
   ]
  },
  {
   "cell_type": "code",
   "execution_count": 19,
   "metadata": {},
   "outputs": [],
   "source": [
    "complete_df=complete_df.drop(columns=['League'])\n",
    "complete_df=complete_df.set_index('Team')"
   ]
  },
  {
   "cell_type": "code",
   "execution_count": 20,
   "metadata": {},
   "outputs": [],
   "source": [
    "def create_dend(test_df):\n",
    "    from sklearn.cluster import AgglomerativeClustering\n",
    "    from scipy.cluster.hierarchy import dendrogram, linkage, fcluster\n",
    "    Z = linkage(test_df.values, 'ward')\n",
    "    Z2 = linkage(test_df.values, 'centroid')\n",
    "    plt.figure(figsize=(25, 10))\n",
    "    plt.title('Hierarchical Clustering Dendrogram')\n",
    "    plt.ylabel('distance')\n",
    "    den=dendrogram(\n",
    "        Z,\n",
    "        leaf_rotation=90.,  # rotates the x axis labels\n",
    "        leaf_font_size=8.,  # font size for the x axis labels\n",
    "    )\n",
    "    return get_cluster_classes(den)"
   ]
  },
  {
   "cell_type": "code",
   "execution_count": 21,
   "metadata": {},
   "outputs": [
    {
     "data": {
      "image/png": "[encoded data removed]",
      "text/plain": [
       "<Figure size 1800x720 with 1 Axes>"
      ]
     },
     "metadata": {
      "needs_background": "light"
     },
     "output_type": "display_data"
    }
   ],
   "source": [
    "dend_results = create_dend(complete_df)"
   ]
  },
  {
   "cell_type": "code",
   "execution_count": 22,
   "metadata": {},
   "outputs": [],
   "source": [
    "tier1_df = complete_df.iloc[dend_results['r']]\n",
    "tier2_df = complete_df.iloc[dend_results['g']]"
   ]
  },
  {
   "cell_type": "code",
   "execution_count": 23,
   "metadata": {},
   "outputs": [
    {
     "data": {
      "image/png": "[encoded data removed]",
      "text/plain": [
       "<Figure size 1800x720 with 1 Axes>"
      ]
     },
     "metadata": {
      "needs_background": "light"
     },
     "output_type": "display_data"
    }
   ],
   "source": [
    "dend_results = create_dend(tier1_df)\n",
    "tier1A_df = pd.concat([tier1_df.iloc[dend_results['r']],tier1_df.iloc[dend_results['b']]])\n",
    "tier1B_df = tier1_df.iloc[dend_results['g']]"
   ]
  },
  {
   "cell_type": "code",
   "execution_count": 24,
   "metadata": {
    "scrolled": true
   },
   "outputs": [
    {
     "data": {
      "image/png": "[encoded data removed]",
      "text/plain": [
       "<Figure size 1800x720 with 1 Axes>"
      ]
     },
     "metadata": {
      "needs_background": "light"
     },
     "output_type": "display_data"
    }
   ],
   "source": [
    "dend_results = create_dend(tier2_df)\n",
    "tier3_df = tier2_df.iloc[dend_results['g']]\n",
    "tier2A_df = pd.concat([tier2_df.iloc[dend_results['c']],tier2_df.iloc[dend_results['r']]])"
   ]
  },
  {
   "cell_type": "code",
   "execution_count": 25,
   "metadata": {},
   "outputs": [
    {
     "data": {
      "image/png": "[encoded data removed]",
      "text/plain": [
       "<Figure size 1800x720 with 1 Axes>"
      ]
     },
     "metadata": {
      "needs_background": "light"
     },
     "output_type": "display_data"
    }
   ],
   "source": [
    "dend_results = create_dend(tier2A_df)\n",
    "tier2AB_df = tier2A_df.iloc[dend_results['g']]\n",
    "tier2AA_df = tier2A_df.iloc[dend_results['r']]"
   ]
  },
  {
   "cell_type": "code",
   "execution_count": 26,
   "metadata": {},
   "outputs": [
    {
     "data": {
      "image/png": "[encoded data removed]",
      "text/plain": [
       "<Figure size 1800x720 with 1 Axes>"
      ]
     },
     "metadata": {
      "needs_background": "light"
     },
     "output_type": "display_data"
    }
   ],
   "source": [
    "dend_results = create_dend(tier2AA_df)\n",
    "tier2AAA_df = pd.concat([tier2AA_df.iloc[dend_results['c']],tier2AA_df.iloc[dend_results['r']]])\n",
    "tier2AAB_df = tier2AA_df.iloc[dend_results['g']]"
   ]
  },
  {
   "cell_type": "code",
   "execution_count": 27,
   "metadata": {
    "scrolled": true
   },
   "outputs": [
    {
     "data": {
      "image/png": "[encoded data removed]",
      "text/plain": [
       "<Figure size 1800x720 with 1 Axes>"
      ]
     },
     "metadata": {
      "needs_background": "light"
     },
     "output_type": "display_data"
    }
   ],
   "source": [
    "dend_results = create_dend(tier2AAB_df)\n",
    "tier2AABA_df = tier2AAB_df.iloc[dend_results['r']]\n",
    "tier2AABB_df = tier2AAB_df.iloc[dend_results['g']]"
   ]
  },
  {
   "cell_type": "code",
   "execution_count": 28,
   "metadata": {},
   "outputs": [
    {
     "data": {
      "image/png": "[encoded data removed]",
      "text/plain": [
       "<Figure size 1800x720 with 1 Axes>"
      ]
     },
     "metadata": {
      "needs_background": "light"
     },
     "output_type": "display_data"
    }
   ],
   "source": [
    "dend_results = create_dend(tier2AB_df)\n",
    "tier2ABB_df = tier2AA_df.iloc[dend_results['g']]\n",
    "tier2ABA_df = tier2AA_df.iloc[dend_results['r']]"
   ]
  },
  {
   "cell_type": "code",
   "execution_count": 29,
   "metadata": {},
   "outputs": [
    {
     "data": {
      "image/png": "[encoded data removed]",
      "text/plain": [
       "<Figure size 1800x720 with 1 Axes>"
      ]
     },
     "metadata": {
      "needs_background": "light"
     },
     "output_type": "display_data"
    }
   ],
   "source": [
    "dend_results = create_dend(tier3_df)\n",
    "tier3A_df = tier3_df.iloc[dend_results['c']]\n",
    "tier3B_df = pd.concat([tier3_df.iloc[dend_results['g']],tier3_df.iloc[dend_results['r']]])"
   ]
  },
  {
   "cell_type": "code",
   "execution_count": 30,
   "metadata": {},
   "outputs": [],
   "source": [
    "working_df = complete_df\n",
    "\n",
    "for i in range(0,len(tier1A_df)):\n",
    "    working_df=working_df.drop(working_df[working_df.index==tier1A_df.index[i]].index,axis=0)\n",
    "\n",
    "for i in range(0,len(tier1B_df)):\n",
    "    working_df=working_df.drop(working_df[working_df.index==tier1B_df.index[i]].index,axis=0)\n",
    "\n",
    "for i in range(0,len(tier3B_df)):\n",
    "    working_df=working_df.drop(working_df[working_df.index==tier3B_df.index[i]].index,axis=0)\n",
    "\n",
    "for i in range(0,len(tier3A_df)):\n",
    "    working_df=working_df.drop(working_df[working_df.index==tier3A_df.index[i]].index,axis=0)\n",
    "\n",
    "for i in range(0,len(tier2AAA_df)):\n",
    "    working_df=working_df.drop(working_df[working_df.index==tier2AAA_df.index[i]].index,axis=0)\n",
    "\n",
    "for i in range(0,len(tier2AABA_df)):\n",
    "    working_df=working_df.drop(working_df[working_df.index==tier2AABA_df.index[i]].index,axis=0)"
   ]
  },
  {
   "cell_type": "code",
   "execution_count": 31,
   "metadata": {},
   "outputs": [],
   "source": [
    "team_rankings = pd.DataFrame(columns=['Team','Tier'],index=None)\n",
    "\n",
    "for i in range(0,len(tier1A_df)):\n",
    "    team_rankings=team_rankings.append({'Team': tier1A_df.index[i], 'Tier': 1},ignore_index=True)\n",
    "\n",
    "for i in range(0,len(tier1B_df)):\n",
    "    team_rankings=team_rankings.append({'Team': tier1B_df.index[i], 'Tier': 2},ignore_index=True)\n",
    "\n",
    "for i in range(0,len(tier3B_df)):\n",
    "    team_rankings=team_rankings.append({'Team': tier3B_df.index[i], 'Tier': 3},ignore_index=True)\n",
    "\n",
    "for i in range(0,len(tier3A_df)):\n",
    "    team_rankings=team_rankings.append({'Team': tier3A_df.index[i], 'Tier': 4},ignore_index=True)\n",
    "\n",
    "for i in range(0,len(tier2AAA_df)):\n",
    "    team_rankings=team_rankings.append({'Team': tier2AAA_df.index[i], 'Tier': 5},ignore_index=True)\n",
    "\n",
    "for i in range(0,len(tier2AABA_df)):\n",
    "    team_rankings=team_rankings.append({'Team': tier2AABA_df.index[i], 'Tier': 6},ignore_index=True)\n",
    "\n",
    "for i in range(0,len(working_df)):\n",
    "    team_rankings=team_rankings.append({'Team': working_df.index[i], 'Tier': 7},ignore_index=True)"
   ]
  },
  {
   "cell_type": "code",
   "execution_count": 32,
   "metadata": {},
   "outputs": [
    {
     "data": {
      "text/html": [
       "<div>\n",
       "<style scoped>\n",
       "    .dataframe tbody tr th:only-of-type {\n",
       "        vertical-align: middle;\n",
       "    }\n",
       "\n",
       "    .dataframe tbody tr th {\n",
       "        vertical-align: top;\n",
       "    }\n",
       "\n",
       "    .dataframe thead th {\n",
       "        text-align: right;\n",
       "    }\n",
       "</style>\n",
       "<table border=\"1\" class=\"dataframe\">\n",
       "  <thead>\n",
       "    <tr style=\"text-align: right;\">\n",
       "      <th></th>\n",
       "      <th>Team</th>\n",
       "      <th>Tier</th>\n",
       "    </tr>\n",
       "  </thead>\n",
       "  <tbody>\n",
       "    <tr>\n",
       "      <th>0</th>\n",
       "      <td>Chelsea</td>\n",
       "      <td>1</td>\n",
       "    </tr>\n",
       "    <tr>\n",
       "      <th>1</th>\n",
       "      <td>Bayern Munich</td>\n",
       "      <td>1</td>\n",
       "    </tr>\n",
       "    <tr>\n",
       "      <th>2</th>\n",
       "      <td>Barcelona</td>\n",
       "      <td>1</td>\n",
       "    </tr>\n",
       "    <tr>\n",
       "      <th>3</th>\n",
       "      <td>Real Madrid</td>\n",
       "      <td>1</td>\n",
       "    </tr>\n",
       "    <tr>\n",
       "      <th>4</th>\n",
       "      <td>Man Utd</td>\n",
       "      <td>2</td>\n",
       "    </tr>\n",
       "    <tr>\n",
       "      <th>5</th>\n",
       "      <td>Tottenham</td>\n",
       "      <td>2</td>\n",
       "    </tr>\n",
       "    <tr>\n",
       "      <th>6</th>\n",
       "      <td>Man City</td>\n",
       "      <td>2</td>\n",
       "    </tr>\n",
       "    <tr>\n",
       "      <th>7</th>\n",
       "      <td>Atletico Madrid</td>\n",
       "      <td>2</td>\n",
       "    </tr>\n",
       "    <tr>\n",
       "      <th>8</th>\n",
       "      <td>Juventus</td>\n",
       "      <td>2</td>\n",
       "    </tr>\n",
       "    <tr>\n",
       "      <th>9</th>\n",
       "      <td>Liverpool</td>\n",
       "      <td>2</td>\n",
       "    </tr>\n",
       "    <tr>\n",
       "      <th>10</th>\n",
       "      <td>Arsenal</td>\n",
       "      <td>3</td>\n",
       "    </tr>\n",
       "    <tr>\n",
       "      <th>11</th>\n",
       "      <td>AC Milan</td>\n",
       "      <td>3</td>\n",
       "    </tr>\n",
       "    <tr>\n",
       "      <th>12</th>\n",
       "      <td>AS Roma</td>\n",
       "      <td>3</td>\n",
       "    </tr>\n",
       "    <tr>\n",
       "      <th>13</th>\n",
       "      <td>Monaco</td>\n",
       "      <td>3</td>\n",
       "    </tr>\n",
       "    <tr>\n",
       "      <th>14</th>\n",
       "      <td>Ajax</td>\n",
       "      <td>3</td>\n",
       "    </tr>\n",
       "    <tr>\n",
       "      <th>15</th>\n",
       "      <td>Leverkusen</td>\n",
       "      <td>4</td>\n",
       "    </tr>\n",
       "    <tr>\n",
       "      <th>16</th>\n",
       "      <td>Bayer Leverkusen</td>\n",
       "      <td>4</td>\n",
       "    </tr>\n",
       "    <tr>\n",
       "      <th>17</th>\n",
       "      <td>Napoli</td>\n",
       "      <td>4</td>\n",
       "    </tr>\n",
       "    <tr>\n",
       "      <th>18</th>\n",
       "      <td>Everton</td>\n",
       "      <td>4</td>\n",
       "    </tr>\n",
       "    <tr>\n",
       "      <th>19</th>\n",
       "      <td>Valencia</td>\n",
       "      <td>4</td>\n",
       "    </tr>\n",
       "    <tr>\n",
       "      <th>20</th>\n",
       "      <td>Sevilla</td>\n",
       "      <td>4</td>\n",
       "    </tr>\n",
       "    <tr>\n",
       "      <th>21</th>\n",
       "      <td>Villarreal</td>\n",
       "      <td>4</td>\n",
       "    </tr>\n",
       "    <tr>\n",
       "      <th>22</th>\n",
       "      <td>PSV Eindhoven</td>\n",
       "      <td>4</td>\n",
       "    </tr>\n",
       "    <tr>\n",
       "      <th>23</th>\n",
       "      <td>Schalke</td>\n",
       "      <td>4</td>\n",
       "    </tr>\n",
       "    <tr>\n",
       "      <th>24</th>\n",
       "      <td>Borussia Dortmund</td>\n",
       "      <td>4</td>\n",
       "    </tr>\n",
       "    <tr>\n",
       "      <th>25</th>\n",
       "      <td>Inter Milan</td>\n",
       "      <td>4</td>\n",
       "    </tr>\n",
       "    <tr>\n",
       "      <th>26</th>\n",
       "      <td>West Ham</td>\n",
       "      <td>5</td>\n",
       "    </tr>\n",
       "    <tr>\n",
       "      <th>27</th>\n",
       "      <td>Real Sociedad</td>\n",
       "      <td>5</td>\n",
       "    </tr>\n",
       "    <tr>\n",
       "      <th>28</th>\n",
       "      <td>Celta de Vigo</td>\n",
       "      <td>5</td>\n",
       "    </tr>\n",
       "    <tr>\n",
       "      <th>29</th>\n",
       "      <td>Torino</td>\n",
       "      <td>5</td>\n",
       "    </tr>\n",
       "    <tr>\n",
       "      <th>...</th>\n",
       "      <td>...</td>\n",
       "      <td>...</td>\n",
       "    </tr>\n",
       "    <tr>\n",
       "      <th>87</th>\n",
       "      <td>Mainz</td>\n",
       "      <td>7</td>\n",
       "    </tr>\n",
       "    <tr>\n",
       "      <th>88</th>\n",
       "      <td>Union Berlin</td>\n",
       "      <td>7</td>\n",
       "    </tr>\n",
       "    <tr>\n",
       "      <th>89</th>\n",
       "      <td>SPAL</td>\n",
       "      <td>7</td>\n",
       "    </tr>\n",
       "    <tr>\n",
       "      <th>90</th>\n",
       "      <td>Bologna</td>\n",
       "      <td>7</td>\n",
       "    </tr>\n",
       "    <tr>\n",
       "      <th>91</th>\n",
       "      <td>Brescia</td>\n",
       "      <td>7</td>\n",
       "    </tr>\n",
       "    <tr>\n",
       "      <th>92</th>\n",
       "      <td>Cagliari</td>\n",
       "      <td>7</td>\n",
       "    </tr>\n",
       "    <tr>\n",
       "      <th>93</th>\n",
       "      <td>Lecce</td>\n",
       "      <td>7</td>\n",
       "    </tr>\n",
       "    <tr>\n",
       "      <th>94</th>\n",
       "      <td>Parma</td>\n",
       "      <td>7</td>\n",
       "    </tr>\n",
       "    <tr>\n",
       "      <th>95</th>\n",
       "      <td>Sassuolo</td>\n",
       "      <td>7</td>\n",
       "    </tr>\n",
       "    <tr>\n",
       "      <th>96</th>\n",
       "      <td>Verona</td>\n",
       "      <td>7</td>\n",
       "    </tr>\n",
       "    <tr>\n",
       "      <th>97</th>\n",
       "      <td>Amiens</td>\n",
       "      <td>7</td>\n",
       "    </tr>\n",
       "    <tr>\n",
       "      <th>98</th>\n",
       "      <td>Angers</td>\n",
       "      <td>7</td>\n",
       "    </tr>\n",
       "    <tr>\n",
       "      <th>99</th>\n",
       "      <td>Brest</td>\n",
       "      <td>7</td>\n",
       "    </tr>\n",
       "    <tr>\n",
       "      <th>100</th>\n",
       "      <td>Dijon</td>\n",
       "      <td>7</td>\n",
       "    </tr>\n",
       "    <tr>\n",
       "      <th>101</th>\n",
       "      <td>Metz</td>\n",
       "      <td>7</td>\n",
       "    </tr>\n",
       "    <tr>\n",
       "      <th>102</th>\n",
       "      <td>Montpellier</td>\n",
       "      <td>7</td>\n",
       "    </tr>\n",
       "    <tr>\n",
       "      <th>103</th>\n",
       "      <td>Nantes</td>\n",
       "      <td>7</td>\n",
       "    </tr>\n",
       "    <tr>\n",
       "      <th>104</th>\n",
       "      <td>Nimes</td>\n",
       "      <td>7</td>\n",
       "    </tr>\n",
       "    <tr>\n",
       "      <th>105</th>\n",
       "      <td>Reims</td>\n",
       "      <td>7</td>\n",
       "    </tr>\n",
       "    <tr>\n",
       "      <th>106</th>\n",
       "      <td>Strasbourg</td>\n",
       "      <td>7</td>\n",
       "    </tr>\n",
       "    <tr>\n",
       "      <th>107</th>\n",
       "      <td>Toulouse</td>\n",
       "      <td>7</td>\n",
       "    </tr>\n",
       "    <tr>\n",
       "      <th>108</th>\n",
       "      <td>VVV-Venlo</td>\n",
       "      <td>7</td>\n",
       "    </tr>\n",
       "    <tr>\n",
       "      <th>109</th>\n",
       "      <td>Heracles Almelo</td>\n",
       "      <td>7</td>\n",
       "    </tr>\n",
       "    <tr>\n",
       "      <th>110</th>\n",
       "      <td>Sparta Rotterdam</td>\n",
       "      <td>7</td>\n",
       "    </tr>\n",
       "    <tr>\n",
       "      <th>111</th>\n",
       "      <td>PEC Zwolle</td>\n",
       "      <td>7</td>\n",
       "    </tr>\n",
       "    <tr>\n",
       "      <th>112</th>\n",
       "      <td>ADO Den Haag</td>\n",
       "      <td>7</td>\n",
       "    </tr>\n",
       "    <tr>\n",
       "      <th>113</th>\n",
       "      <td>Fortuna Sittard</td>\n",
       "      <td>7</td>\n",
       "    </tr>\n",
       "    <tr>\n",
       "      <th>114</th>\n",
       "      <td>Willem II</td>\n",
       "      <td>7</td>\n",
       "    </tr>\n",
       "    <tr>\n",
       "      <th>115</th>\n",
       "      <td>Emmen</td>\n",
       "      <td>7</td>\n",
       "    </tr>\n",
       "    <tr>\n",
       "      <th>116</th>\n",
       "      <td>Waalwijk</td>\n",
       "      <td>7</td>\n",
       "    </tr>\n",
       "  </tbody>\n",
       "</table>\n",
       "<p>117 rows × 2 columns</p>\n",
       "</div>"
      ],
      "text/plain": [
       "                  Team Tier\n",
       "0              Chelsea    1\n",
       "1        Bayern Munich    1\n",
       "2            Barcelona    1\n",
       "3          Real Madrid    1\n",
       "4              Man Utd    2\n",
       "5            Tottenham    2\n",
       "6             Man City    2\n",
       "7      Atletico Madrid    2\n",
       "8             Juventus    2\n",
       "9            Liverpool    2\n",
       "10             Arsenal    3\n",
       "11            AC Milan    3\n",
       "12             AS Roma    3\n",
       "13              Monaco    3\n",
       "14                Ajax    3\n",
       "15          Leverkusen    4\n",
       "16    Bayer Leverkusen    4\n",
       "17              Napoli    4\n",
       "18             Everton    4\n",
       "19            Valencia    4\n",
       "20             Sevilla    4\n",
       "21          Villarreal    4\n",
       "22       PSV Eindhoven    4\n",
       "23             Schalke    4\n",
       "24   Borussia Dortmund    4\n",
       "25         Inter Milan    4\n",
       "26            West Ham    5\n",
       "27       Real Sociedad    5\n",
       "28       Celta de Vigo    5\n",
       "29              Torino    5\n",
       "..                 ...  ...\n",
       "87               Mainz    7\n",
       "88        Union Berlin    7\n",
       "89                SPAL    7\n",
       "90             Bologna    7\n",
       "91             Brescia    7\n",
       "92            Cagliari    7\n",
       "93               Lecce    7\n",
       "94               Parma    7\n",
       "95            Sassuolo    7\n",
       "96              Verona    7\n",
       "97              Amiens    7\n",
       "98              Angers    7\n",
       "99               Brest    7\n",
       "100              Dijon    7\n",
       "101               Metz    7\n",
       "102        Montpellier    7\n",
       "103             Nantes    7\n",
       "104              Nimes    7\n",
       "105              Reims    7\n",
       "106         Strasbourg    7\n",
       "107           Toulouse    7\n",
       "108          VVV-Venlo    7\n",
       "109    Heracles Almelo    7\n",
       "110   Sparta Rotterdam    7\n",
       "111         PEC Zwolle    7\n",
       "112       ADO Den Haag    7\n",
       "113    Fortuna Sittard    7\n",
       "114          Willem II    7\n",
       "115              Emmen    7\n",
       "116           Waalwijk    7\n",
       "\n",
       "[117 rows x 2 columns]"
      ]
     },
     "execution_count": 32,
     "metadata": {},
     "output_type": "execute_result"
    }
   ],
   "source": [
    "team_rankings"
   ]
  }
 ],
 "metadata": {
  "kernelspec": {
   "display_name": "Python 3",
   "language": "python",
   "name": "python3"
  },
  "language_info": {
   "codemirror_mode": {
    "name": "ipython",
    "version": 3
   },
   "file_extension": ".py",
   "mimetype": "text/x-python",
   "name": "python",
   "nbconvert_exporter": "python",
   "pygments_lexer": "ipython3",
   "version": "3.6.4"
  }
 },
 "nbformat": 4,
 "nbformat_minor": 2
}
