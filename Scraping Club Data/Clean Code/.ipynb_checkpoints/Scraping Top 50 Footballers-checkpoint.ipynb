{
 "cells": [
  {
   "cell_type": "code",
   "execution_count": 1,
   "metadata": {},
   "outputs": [],
   "source": [
    "import numpy as np\n",
    "import pandas as pd\n",
    "from bs4 import BeautifulSoup\n",
    "import requests"
   ]
  },
  {
   "cell_type": "code",
   "execution_count": 2,
   "metadata": {},
   "outputs": [],
   "source": [
    "page = requests.get('https://talksport.com/football/557770/most-valuable-players-football-neymar-cristiano-ronaldo-mohamed-salah/')\n",
    "soup = BeautifulSoup(page.content,'html.parser')"
   ]
  },
  {
   "cell_type": "code",
   "execution_count": 3,
   "metadata": {},
   "outputs": [],
   "source": [
    "main_content = soup.find(id='main-content')\n",
    "players = main_content.find_all('h3',attrs={\"class\":\"\"})"
   ]
  },
  {
   "cell_type": "code",
   "execution_count": 4,
   "metadata": {},
   "outputs": [],
   "source": [
    "player_list = []\n",
    "players_list = []\n",
    "for i in range(0,len(players)):\n",
    "    if (str(players[i]).find('talksport') != -1):\n",
    "#         print(players[i])\n",
    "        rank = (players[i].contents[0][0:players[i].contents[0].find('.')])\n",
    "        name = (players[i].contents[0][players[i].contents[0].find('.')+2:players[i].contents[0].find('(')-1])\n",
    "        team = (players[i].contents[1].contents[0])\n",
    "        value = (players[i].contents[2][players[i].contents[2].find('£'):])\n",
    "        player_list = [rank,name,team,value]\n",
    "        players_list.append(player_list)\n",
    "    else:\n",
    "        player_dat = players[i].contents[0]\n",
    "#         print(player_dat)\n",
    "        rank = (player_dat[0:player_dat.find('.')])\n",
    "        name = (player_dat[player_dat.find('.')+2:player_dat.find('(')-1])\n",
    "        team = (player_dat[player_dat.find('(')+1:player_dat.find(')')])\n",
    "        value = (player_dat[player_dat.find('£'):])\n",
    "        player_list = [rank,name,team,value]\n",
    "        players_list.append(player_list)"
   ]
  },
  {
   "cell_type": "code",
   "execution_count": 5,
   "metadata": {},
   "outputs": [],
   "source": [
    "top_50_players_df = pd.DataFrame.from_records(players_list,columns=['Rank','Player','Team','Value in GBP'])"
   ]
  },
  {
   "cell_type": "code",
   "execution_count": 6,
   "metadata": {},
   "outputs": [],
   "source": [
    "top_50_players_df.to_csv('Top_50_Players.csv',index=False)"
   ]
  }
 ],
 "metadata": {
  "kernelspec": {
   "display_name": "Python 3",
   "language": "python",
   "name": "python3"
  },
  "language_info": {
   "codemirror_mode": {
    "name": "ipython",
    "version": 3
   },
   "file_extension": ".py",
   "mimetype": "text/x-python",
   "name": "python",
   "nbconvert_exporter": "python",
   "pygments_lexer": "ipython3",
   "version": "3.6.4"
  }
 },
 "nbformat": 4,
 "nbformat_minor": 2
}
