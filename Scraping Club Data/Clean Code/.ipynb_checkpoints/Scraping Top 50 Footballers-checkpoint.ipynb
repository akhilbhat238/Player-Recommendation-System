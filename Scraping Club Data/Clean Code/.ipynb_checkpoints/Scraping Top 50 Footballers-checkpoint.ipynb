{
 "cells": [
  {
   "cell_type": "code",
   "execution_count": 1,
   "metadata": {},
   "outputs": [],
   "source": [
    "import numpy as np\n",
    "import pandas as pd\n",
    "from bs4 import BeautifulSoup\n",
    "import requests"
   ]
  },
  {
   "cell_type": "code",
   "execution_count": 2,
   "metadata": {},
   "outputs": [],
   "source": [
    "page = requests.get('https://talksport.com/football/557770/most-valuable-players-football-neymar-cristiano-ronaldo-mohamed-salah/')\n",
    "soup = BeautifulSoup(page.content,'html.parser')"
   ]
  },
  {
   "cell_type": "code",
   "execution_count": 3,
   "metadata": {},
   "outputs": [],
   "source": [
    "main_content = soup.find(id='main-content')\n",
    "players = main_content.find_all('h3',attrs={\"class\":\"\"})"
   ]
  },
  {
   "cell_type": "code",
   "execution_count": 4,
   "metadata": {},
   "outputs": [],
   "source": [
    "player_list = []\n",
    "players_list = []\n",
    "for i in range(0,len(players)):\n",
    "    if (str(players[i]).find('talksport') != -1):\n",
    "#         print(players[i])\n",
    "        rank = (players[i].contents[0][0:players[i].contents[0].find('.')])\n",
    "        name = (players[i].contents[0][players[i].contents[0].find('.')+2:players[i].contents[0].find('(')-1])\n",
    "        team = (players[i].contents[1].contents[0])\n",
    "        value = (players[i].contents[2][players[i].contents[2].find('£'):])\n",
    "        player_list = [rank,name,team,value]\n",
    "        players_list.append(player_list)\n",
    "    else:\n",
    "        player_dat = players[i].contents[0]\n",
    "#         print(player_dat)\n",
    "        rank = (player_dat[0:player_dat.find('.')])\n",
    "        name = (player_dat[player_dat.find('.')+2:player_dat.find('(')-1])\n",
    "        team = (player_dat[player_dat.find('(')+1:player_dat.find(')')])\n",
    "        value = (player_dat[player_dat.find('£'):])\n",
    "        player_list = [rank,name,team,value]\n",
    "        players_list.append(player_list)"
   ]
  },
  {
   "cell_type": "code",
   "execution_count": 5,
   "metadata": {},
   "outputs": [],
   "source": [
    "top_50_players_df = pd.DataFrame.from_records(players_list,columns=['Rank','Player','Team','Value in GBP'])"
   ]
  },
  {
   "cell_type": "code",
   "execution_count": 22,
   "metadata": {
    "scrolled": true
   },
   "outputs": [],
   "source": [
    "unique_teams = top_50_players_df['Team'].unique()"
   ]
  },
  {
   "cell_type": "code",
   "execution_count": 23,
   "metadata": {},
   "outputs": [],
   "source": [
    "import os"
   ]
  },
  {
   "cell_type": "code",
   "execution_count": 24,
   "metadata": {},
   "outputs": [],
   "source": [
    "path = '..\\\\Consolidated Data'\n",
    "\n",
    "files = []\n",
    "for r, d, f in os.walk(path):\n",
    "    for file in f:\n",
    "        if '2019.csv' in file:\n",
    "            files.append(file)\n",
    "full_df = pd.DataFrame(columns=('Team','League'))\n",
    "for f in files:\n",
    "    file_name = '..\\\\Consolidated Data\\\\'+f\n",
    "    temp_df = pd.read_csv(file_name,usecols = ['Team'])\n",
    "    temp_df['League'] = f[0:f.find('_2019')]\n",
    "    full_df = full_df.append(temp_df)    "
   ]
  },
  {
   "cell_type": "code",
   "execution_count": 25,
   "metadata": {},
   "outputs": [],
   "source": [
    "unique_df = pd.DataFrame(columns=['Team','League'])\n",
    "unique_teams = full_df['Team'].unique()"
   ]
  },
  {
   "cell_type": "code",
   "execution_count": 26,
   "metadata": {},
   "outputs": [],
   "source": [
    "x=0\n",
    "for i in unique_teams:\n",
    "    try:\n",
    "        unique_df.loc[x]= [i,full_df[full_df['Team']==i]['League'].values[0]]\n",
    "        x=x+1\n",
    "    except:\n",
    "        unique_df.loc[x]= [i,'League not found']\n",
    "        x=x+1"
   ]
  },
  {
   "cell_type": "code",
   "execution_count": 27,
   "metadata": {
    "scrolled": true
   },
   "outputs": [],
   "source": [
    "unique_df = unique_df.set_index('Team')"
   ]
  },
  {
   "cell_type": "code",
   "execution_count": 12,
   "metadata": {},
   "outputs": [],
   "source": [
    "# unique_df.loc['Bayer Leverkusen']['League'] ='Bundesliga'\n",
    "# unique_df.loc['Manchester City']['League'] ='English_Premiership'\n",
    "# unique_df.loc['Manchester United']['League'] ='English_Premiership'\n",
    "# unique_df.loc['Tottenham Hotspur']['League'] ='English_Premiership'\n",
    "# unique_df.loc['Paris Saint-Germain']['League'] ='Ligue 1'"
   ]
  },
  {
   "cell_type": "code",
   "execution_count": 28,
   "metadata": {},
   "outputs": [],
   "source": [
    "unique_df=unique_df.reset_index()"
   ]
  },
  {
   "cell_type": "code",
   "execution_count": 14,
   "metadata": {},
   "outputs": [],
   "source": [
    "final_df = pd.merge(top_50_players_df,unique_df,on='Team')"
   ]
  },
  {
   "cell_type": "code",
   "execution_count": 15,
   "metadata": {},
   "outputs": [],
   "source": [
    "final_series = final_df.groupby('League').count().Player"
   ]
  },
  {
   "cell_type": "code",
   "execution_count": 16,
   "metadata": {},
   "outputs": [],
   "source": [
    "final_df = final_series.to_frame()"
   ]
  },
  {
   "cell_type": "code",
   "execution_count": 17,
   "metadata": {},
   "outputs": [],
   "source": [
    "final_df.to_csv('..\\\\Consolidated Data\\\\Top 50 Players Consildation.csv')"
   ]
  },
  {
   "cell_type": "code",
   "execution_count": 9,
   "metadata": {},
   "outputs": [],
   "source": [
    "top_50_players_df.to_csv('..\\\\Consolidated Data\\\\Top 50 Players Club Level.csv')"
   ]
  }
 ],
 "metadata": {
  "kernelspec": {
   "display_name": "Python 3",
   "language": "python",
   "name": "python3"
  },
  "language_info": {
   "codemirror_mode": {
    "name": "ipython",
    "version": 3
   },
   "file_extension": ".py",
   "mimetype": "text/x-python",
   "name": "python",
   "nbconvert_exporter": "python",
   "pygments_lexer": "ipython3",
   "version": "3.6.4"
  }
 },
 "nbformat": 4,
 "nbformat_minor": 2
}
