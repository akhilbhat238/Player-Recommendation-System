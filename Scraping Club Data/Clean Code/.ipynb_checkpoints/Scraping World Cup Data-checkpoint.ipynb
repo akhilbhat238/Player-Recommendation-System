{
 "cells": [
  {
   "cell_type": "code",
   "execution_count": 1,
   "metadata": {},
   "outputs": [],
   "source": [
    "import numpy as np\n",
    "import pandas as pd\n",
    "from bs4 import BeautifulSoup\n",
    "import requests"
   ]
  },
  {
   "cell_type": "code",
   "execution_count": 2,
   "metadata": {},
   "outputs": [],
   "source": [
    "page = requests.get('https://en.wikipedia.org/wiki/2018_FIFA_World_Cup_squads')\n",
    "soup = BeautifulSoup(page.content,'html.parser')\n",
    "\n",
    "#Find all tables in the page\n",
    "tables = soup.findAll(\"table\")"
   ]
  },
  {
   "cell_type": "code",
   "execution_count": 3,
   "metadata": {},
   "outputs": [],
   "source": [
    "team_details = soup.find_all('div', attrs={\"class\":\"toc\"})\n",
    "team_list = []\n",
    "for i in range(0,32):\n",
    "    team_name = team_details[0].find_all('li',attrs={\"class\":\"toclevel-2\"})[i].contents[0].contents[2].contents[0]\n",
    "    team_list.append(team_name)"
   ]
  },
  {
   "cell_type": "code",
   "execution_count": 4,
   "metadata": {},
   "outputs": [],
   "source": [
    "team_df = pd.DataFrame(columns=['Team'])\n",
    "for i in range(0,len(team_list)):\n",
    "    team_df.loc[i] = team_list[i]\n",
    "full_df = pd.DataFrame(columns=['Team Name','Player Name','Club Name','Club Link'])"
   ]
  },
  {
   "cell_type": "code",
   "execution_count": 5,
   "metadata": {},
   "outputs": [],
   "source": [
    "temp_list=[]\n",
    "player_list = []\n",
    "team_list = []\n",
    "for i in range(0,team_df['Team'].size):\n",
    "    team_name = team_df['Team'][i];\n",
    "    players = tables[i].find_all('tr',attrs={\"class\":\"nat-fs-player\"})\n",
    "    for j in range(0,23):\n",
    "        player_name = players[j].find_all('th')[0].contents[0].contents[0]\n",
    "        club_name = players[j].find_all('td')[5].contents[2].contents[0]\n",
    "        club_link = players[j].find_all('td')[5].contents[2].get('href')\n",
    "        club_link = 'https://en.wikipedia.org' + club_link\n",
    "        temp_list = [team_name,player_name,club_name,club_link]\n",
    "        player_list.append(temp_list)\n",
    "#         print(temp_list)"
   ]
  },
  {
   "cell_type": "code",
   "execution_count": null,
   "metadata": {},
   "outputs": [],
   "source": [
    "player_df = pd.DataFrame.from_records(player_list,columns=['Nation','Name','Club','Link'])\n",
    "club_df = player_df[['Club','Link']]\n",
    "club_links = club_df.Link.unique()\n",
    "club_list=[]\n",
    "temp_list = []\n",
    "for i in range(0,len(club_links)):\n",
    "    club_page = requests.get(club_links[i])\n",
    "    club_soup = BeautifulSoup(club_page.content,'html.parser')\n",
    "    info_table = club_soup.find('table',attrs={\"class\":\"infobox vcard\"})\n",
    "    info_table_rows = info_table.find_all('tr')\n",
    "    try:\n",
    "        for j in range(0,12):\n",
    "            if(info_table_rows[j].contents[0].contents[0]=='League'):\n",
    "                league_name=(info_table_rows[j].contents[1].contents[0].get('title'))\n",
    "    except IndexError:\n",
    "        league_name = 'Unavailable'\n",
    "        continue\n",
    "#     print(club_links[i],'--',league_name)\n",
    "    temp_list = [club_links[i],league_name]\n",
    "    club_list.append(temp_list)"
   ]
  },
  {
   "cell_type": "code",
   "execution_count": null,
   "metadata": {},
   "outputs": [],
   "source": [
    "club_link_df = pd.DataFrame.from_records(club_list,columns=['Link','League'])\n",
    "player_df = player_df.merge(club_link_df,how='inner',left_on='Link',right_on='Link')\n",
    "player_df = player_df.drop(['Link'],axis=1)\n",
    "player_df = player_df.sort_values(by=['Nation','Name','Club'])"
   ]
  },
  {
   "cell_type": "code",
   "execution_count": null,
   "metadata": {},
   "outputs": [],
   "source": [
    "player_df"
   ]
  },
  {
   "cell_type": "code",
   "execution_count": null,
   "metadata": {},
   "outputs": [],
   "source": [
    "player_df.to_csv('World_Cup_Data.csv')"
   ]
  }
 ],
 "metadata": {
  "kernelspec": {
   "display_name": "Python 3",
   "language": "python",
   "name": "python3"
  },
  "language_info": {
   "codemirror_mode": {
    "name": "ipython",
    "version": 3
   },
   "file_extension": ".py",
   "mimetype": "text/x-python",
   "name": "python",
   "nbconvert_exporter": "python",
   "pygments_lexer": "ipython3",
   "version": "3.7.4"
  }
 },
 "nbformat": 4,
 "nbformat_minor": 2
}
