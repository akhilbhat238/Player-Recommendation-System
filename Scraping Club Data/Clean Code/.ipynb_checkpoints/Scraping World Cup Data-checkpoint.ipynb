{
 "cells": [
  {
   "cell_type": "code",
   "execution_count": 43,
   "metadata": {},
   "outputs": [],
   "source": [
    "import numpy as np\n",
    "import pandas as pd\n",
    "from bs4 import BeautifulSoup\n",
    "import requests"
   ]
  },
  {
   "cell_type": "code",
   "execution_count": 44,
   "metadata": {},
   "outputs": [],
   "source": [
    "page = requests.get('https://en.wikipedia.org/wiki/2018_FIFA_World_Cup_squads')\n",
    "soup = BeautifulSoup(page.content,'html.parser')\n",
    "\n",
    "#Find all tables in the page\n",
    "tables = soup.findAll(\"table\")"
   ]
  },
  {
   "cell_type": "code",
   "execution_count": 45,
   "metadata": {},
   "outputs": [],
   "source": [
    "team_details = soup.find_all('div', attrs={\"class\":\"toc\"})\n",
    "team_list = []\n",
    "for i in range(0,32):\n",
    "    team_name = team_details[0].find_all('li',attrs={\"class\":\"toclevel-2\"})[i].contents[0].contents[2].contents[0]\n",
    "    team_list.append(team_name)"
   ]
  },
  {
   "cell_type": "code",
   "execution_count": 46,
   "metadata": {},
   "outputs": [],
   "source": [
    "team_df = pd.DataFrame(columns=['Team'])\n",
    "for i in range(0,len(team_list)):\n",
    "    team_df.loc[i] = team_list[i]\n",
    "full_df = pd.DataFrame(columns=['Team Name','Player Name','Club Name','Club Link'])"
   ]
  },
  {
   "cell_type": "code",
   "execution_count": 6,
   "metadata": {},
   "outputs": [],
   "source": [
    "temp_list=[]\n",
    "player_list = []\n",
    "team_list = []\n",
    "for i in range(0,team_df['Team'].size):\n",
    "    team_name = team_df['Team'][i];\n",
    "    players = tables[i].find_all('tr',attrs={\"class\":\"nat-fs-player\"})\n",
    "    for j in range(0,23):\n",
    "        player_name = players[j].find_all('th')[0].contents[0].contents[0]\n",
    "        club_name = players[j].find_all('td')[5].contents[2].contents[0]\n",
    "        club_link = players[j].find_all('td')[5].contents[2].get('href')\n",
    "        club_link = 'https://en.wikipedia.org' + club_link\n",
    "        temp_list = [team_name,player_name,club_name,club_link]\n",
    "        player_list.append(temp_list)\n",
    "#         print(temp_list)"
   ]
  },
  {
   "cell_type": "code",
   "execution_count": 47,
   "metadata": {
    "scrolled": true
   },
   "outputs": [
    {
     "name": "stdout",
     "output_type": "stream",
     "text": [
      "https://en.wikipedia.org/wiki/West_Bromwich_Albion_F.C. -- EFL Championship\n",
      "https://en.wikipedia.org/wiki/Aston_Villa_F.C. -- Premier League\n",
      "https://en.wikipedia.org/wiki/Los_Angeles_FC -- Major League Soccer\n",
      "https://en.wikipedia.org/wiki/Wigan_Athletic_F.C. -- EFL Championship\n",
      "https://en.wikipedia.org/wiki/Zamalek_SC -- Egyptian Premier League\n",
      "https://en.wikipedia.org/wiki/Liverpool_F.C. -- Premier League\n",
      "https://en.wikipedia.org/wiki/Stoke_City_F.C. -- EFL Championship\n",
      "https://en.wikipedia.org/wiki/Arsenal_F.C. -- Premier League\n",
      "https://en.wikipedia.org/wiki/Kas%C4%B1mpa%C5%9Fa_S.K. -- Süper Lig\n",
      "https://en.wikipedia.org/wiki/Atromitos_F.C. -- Super League Greece\n",
      "https://en.wikipedia.org/wiki/PFC_CSKA_Moscow -- Russian Premier League\n",
      "https://en.wikipedia.org/wiki/FC_Spartak_Moscow -- Russian Premier League\n",
      "https://en.wikipedia.org/wiki/FC_Akhmat_Grozny -- Russian Premier League\n",
      "https://en.wikipedia.org/wiki/Villarreal_CF -- La Liga\n",
      "https://en.wikipedia.org/wiki/FC_Zenit_Saint_Petersburg -- Russian Premier League\n",
      "https://en.wikipedia.org/wiki/FC_Krasnodar -- Russian Premier League\n",
      "https://en.wikipedia.org/wiki/FC_Lokomotiv_Moscow -- Russian Premier League\n",
      "https://en.wikipedia.org/wiki/Galatasaray_S.K._(football) -- Süper Lig\n",
      "https://en.wikipedia.org/wiki/Atl%C3%A9tico_Madrid -- La Liga\n",
      "https://en.wikipedia.org/wiki/C.F._Monterrey -- Liga MX\n",
      "https://en.wikipedia.org/wiki/Juventus_F.C. -- Serie A\n",
      "https://en.wikipedia.org/wiki/FC_Barcelona -- La Liga\n",
      "https://en.wikipedia.org/wiki/Girona_FC -- Segunda División\n",
      "https://en.wikipedia.org/wiki/Club_Atl%C3%A9tico_Independiente -- Argentine Primera División\n",
      "https://en.wikipedia.org/wiki/Inter_Milan -- Serie A\n",
      "https://en.wikipedia.org/wiki/FC_Porto -- Primeira Liga\n",
      "https://en.wikipedia.org/wiki/RC_Celta_de_Vigo -- La Liga\n",
      "https://en.wikipedia.org/wiki/Sporting_CP -- Primeira Liga\n",
      "https://en.wikipedia.org/wiki/Paris_Saint-Germain_F.C. -- Ligue 1\n",
      "https://en.wikipedia.org/wiki/S.S._Lazio -- Serie A\n",
      "https://en.wikipedia.org/wiki/Saipa_F.C. -- Persian Gulf Pro League\n",
      "https://en.wikipedia.org/wiki/Olympiacos_F.C. -- Super League Greece\n",
      "https://en.wikipedia.org/wiki/AEK_Athens_F.C. -- Super League Greece\n",
      "https://en.wikipedia.org/wiki/Zob_Ahan_SC -- Persian Gulf Pro League\n",
      "https://en.wikipedia.org/wiki/AZ_Alkmaar -- Eredivisie\n",
      "https://en.wikipedia.org/wiki/Nottingham_Forest_F.C. -- EFL Championship\n",
      "https://en.wikipedia.org/wiki/Lille_OSC -- Ligue 1\n",
      "https://en.wikipedia.org/wiki/Wolverhampton_Wanderers_F.C. -- Premier League\n",
      "https://en.wikipedia.org/wiki/AFC_Ajax -- Eredivisie\n",
      "https://en.wikipedia.org/wiki/Stade_Malherbe_Caen -- Ligue 2\n",
      "https://en.wikipedia.org/wiki/Fenerbah%C3%A7e_S.K._(football) -- Süper Lig\n",
      "https://en.wikipedia.org/wiki/FC_Schalke_04 -- Bundesliga\n",
      "https://en.wikipedia.org/wiki/Rangers_F.C. -- Scottish Premiership\n",
      "https://en.wikipedia.org/wiki/Be%C5%9Fikta%C5%9F_J.K. -- Süper Lig\n",
      "https://en.wikipedia.org/wiki/Borussia_Dortmund -- Bundesliga\n",
      "https://en.wikipedia.org/wiki/AS_Monaco_FC -- Ligue 1\n",
      "https://en.wikipedia.org/wiki/A.C._Milan -- Serie A\n",
      "https://en.wikipedia.org/wiki/West_Ham_United_F.C. -- Premier League\n",
      "https://en.wikipedia.org/wiki/Manchester_City_F.C. -- Premier League\n",
      "https://en.wikipedia.org/wiki/Olympique_Lyonnais -- Ligue 1\n",
      "https://en.wikipedia.org/wiki/Valencia_CF -- La Liga\n",
      "https://en.wikipedia.org/wiki/Southampton_F.C. -- Premier League\n",
      "https://en.wikipedia.org/wiki/Leicester_City_F.C. -- Premier League\n",
      "https://en.wikipedia.org/wiki/Manchester_United_F.C. -- Premier League\n",
      "https://en.wikipedia.org/wiki/FC_Bayern_Munich -- Bundesliga\n",
      "https://en.wikipedia.org/wiki/Athletic_Bilbao -- La Liga\n",
      "https://en.wikipedia.org/wiki/Chelsea_F.C. -- Premier League\n",
      "https://en.wikipedia.org/wiki/Yokohama_F._Marinos -- J1 League\n",
      "https://en.wikipedia.org/wiki/Millwall_F.C. -- EFL Championship\n",
      "https://en.wikipedia.org/wiki/Suwon_Samsung_Bluewings -- K League 1\n",
      "https://en.wikipedia.org/wiki/Hertha_BSC -- Bundesliga\n",
      "https://en.wikipedia.org/wiki/Queens_Park_Rangers_F.C. -- EFL Championship\n",
      "https://en.wikipedia.org/wiki/Urawa_Red_Diamonds -- J1 League\n",
      "https://en.wikipedia.org/wiki/Huddersfield_Town_A.F.C. -- EFL Championship\n",
      "https://en.wikipedia.org/wiki/Melbourne_City_FC -- A-League\n",
      "https://en.wikipedia.org/wiki/Newcastle_Jets_FC -- A-League\n",
      "https://en.wikipedia.org/wiki/Hull_City_A.F.C. -- EFL Championship\n",
      "https://en.wikipedia.org/wiki/Celtic_F.C. -- Scottish Premiership\n",
      "https://en.wikipedia.org/wiki/Deportivo_de_La_Coru%C3%B1a -- Segunda División\n",
      "https://en.wikipedia.org/wiki/Sevilla_FC -- La Liga\n",
      "https://en.wikipedia.org/wiki/Ipswich_Town_F.C. -- EFL League One\n",
      "https://en.wikipedia.org/wiki/F.C._Copenhagen -- Danish Superliga\n",
      "https://en.wikipedia.org/wiki/SV_Werder_Bremen -- Bundesliga\n",
      "https://en.wikipedia.org/wiki/Tottenham_Hotspur_F.C. -- Premier League\n",
      "https://en.wikipedia.org/wiki/FC_Girondins_de_Bordeaux -- Ligue 1\n",
      "https://en.wikipedia.org/wiki/Brentford_F.C. -- EFL Championship\n",
      "https://en.wikipedia.org/wiki/Udinese_Calcio -- Serie A\n",
      "https://en.wikipedia.org/wiki/RB_Leipzig -- Bundesliga\n",
      "https://en.wikipedia.org/wiki/VfB_Stuttgart -- 2. Bundesliga\n",
      "https://en.wikipedia.org/wiki/Olympique_de_Marseille -- Ligue 1\n",
      "https://en.wikipedia.org/wiki/Tiburones_Rojos_de_Veracruz -- Liga MX\n",
      "https://en.wikipedia.org/wiki/Atl%C3%A9tico_Junior -- Categoría Primera A\n",
      "https://en.wikipedia.org/wiki/Club_Puebla -- Liga MX\n",
      "https://en.wikipedia.org/wiki/Clube_de_Regatas_do_Flamengo -- Campeonato Brasileiro Série A\n",
      "https://en.wikipedia.org/wiki/Monarcas_Morelia -- Liga MX\n",
      "https://en.wikipedia.org/wiki/Watford_F.C. -- Premier League\n",
      "https://en.wikipedia.org/wiki/Aalborg_Boldspilklub -- Danish Superliga\n",
      "https://en.wikipedia.org/wiki/Tigres_UANL -- Liga MX\n",
      "https://en.wikipedia.org/wiki/Torino_F.C. -- Serie A\n",
      "https://en.wikipedia.org/wiki/A.S._Roma -- Serie A\n",
      "https://en.wikipedia.org/wiki/GNK_Dinamo_Zagreb -- Croatian First Football League\n",
      "https://en.wikipedia.org/wiki/TSG_1899_Hoffenheim -- Bundesliga\n",
      "https://en.wikipedia.org/wiki/K.A.A._Gent -- Belgian First Division A\n",
      "https://en.wikipedia.org/wiki/Bayer_04_Leverkusen -- Bundesliga\n",
      "https://en.wikipedia.org/wiki/HNK_Rijeka -- Croatian First Football League\n",
      "https://en.wikipedia.org/wiki/FC_Red_Bull_Salzburg -- Austrian Football Bundesliga\n",
      "https://en.wikipedia.org/wiki/ACF_Fiorentina -- Serie A\n",
      "https://en.wikipedia.org/wiki/Randers_FC -- Danish Superliga\n",
      "https://en.wikipedia.org/wiki/Valur -- Úrvalsdeild karla (football)\n",
      "https://en.wikipedia.org/wiki/PSV_Eindhoven -- Eredivisie\n",
      "https://en.wikipedia.org/wiki/FC_Rostov -- Russian Premier League\n",
      "https://en.wikipedia.org/wiki/Burnley_F.C. -- Premier League\n",
      "https://en.wikipedia.org/wiki/Everton_F.C. -- Premier League\n",
      "https://en.wikipedia.org/wiki/FC_Nordsj%C3%A6lland -- Danish Superliga\n",
      "https://en.wikipedia.org/wiki/Cardiff_City_F.C. -- EFL Championship\n",
      "https://en.wikipedia.org/wiki/Malm%C3%B6_FF -- Allsvenskan\n",
      "https://en.wikipedia.org/wiki/Enyimba_International_F.C. -- Nigerian Professional Football League\n",
      "https://en.wikipedia.org/wiki/1._FSV_Mainz_05 -- Bundesliga\n",
      "https://en.wikipedia.org/wiki/Tianjin_TEDA_F.C. -- Chinese Super League\n",
      "https://en.wikipedia.org/wiki/Trabzonspor -- Süper Lig\n",
      "https://en.wikipedia.org/wiki/Hapoel_Be%27er_Sheva_F.C. -- Israeli Premier League\n",
      "https://en.wikipedia.org/wiki/FC_Nantes -- Ligue 1\n",
      "https://en.wikipedia.org/wiki/Gr%C3%AAmio_Foot-Ball_Porto_Alegrense -- Campeonato Brasileiro Série A\n",
      "https://en.wikipedia.org/wiki/Beijing_Sinobo_Guoan_F.C. -- Chinese Super League\n",
      "https://en.wikipedia.org/wiki/Rionegro_%C3%81guilas -- Categoría Primera A\n",
      "https://en.wikipedia.org/wiki/Bologna_F.C._1909 -- Serie A\n",
      "https://en.wikipedia.org/wiki/RCD_Espanyol -- La Liga\n",
      "https://en.wikipedia.org/wiki/Deportivo_Saprissa -- Liga FPD\n",
      "https://en.wikipedia.org/wiki/Sunderland_A.F.C. -- EFL League One\n",
      "https://en.wikipedia.org/wiki/Real_Betis -- La Liga\n",
      "https://en.wikipedia.org/wiki/New_York_City_FC -- Major League Soccer\n",
      "https://en.wikipedia.org/wiki/Vancouver_Whitecaps_FC -- Major League Soccer\n",
      "https://en.wikipedia.org/wiki/Crystal_Palace_F.C. -- Premier League\n",
      "https://en.wikipedia.org/wiki/R.S.C._Anderlecht -- Belgian First Division A\n",
      "https://en.wikipedia.org/wiki/PAOK_FC -- Super League Greece\n",
      "https://en.wikipedia.org/wiki/Fulham_F.C. -- EFL Championship\n"
     ]
    },
    {
     "name": "stdout",
     "output_type": "stream",
     "text": [
      "https://en.wikipedia.org/wiki/Maccabi_Tel_Aviv_F.C. -- Israeli Premier League\n",
      "https://en.wikipedia.org/wiki/Red_Star_Belgrade -- Serbian SuperLiga\n",
      "https://en.wikipedia.org/wiki/Hamburger_SV -- 2. Bundesliga\n",
      "https://en.wikipedia.org/wiki/Toulouse_FC -- Ligue 1\n",
      "https://en.wikipedia.org/wiki/1._FC_K%C3%B6ln -- Bundesliga\n",
      "https://en.wikipedia.org/wiki/Cruz_Azul -- Liga MX\n",
      "https://en.wikipedia.org/wiki/Club_Atlas -- Liga MX\n",
      "https://en.wikipedia.org/wiki/C.F._Pachuca -- Liga MX\n",
      "https://en.wikipedia.org/wiki/Deportivo_Toluca_F.C. -- Liga MX\n",
      "https://en.wikipedia.org/wiki/Club_Am%C3%A9rica -- Liga MX\n",
      "https://en.wikipedia.org/wiki/Club_Universidad_Nacional -- Liga MX\n",
      "https://en.wikipedia.org/wiki/Vissel_Kobe -- J1 League\n",
      "https://en.wikipedia.org/wiki/Jeonbuk_Hyundai_Motors_FC -- K League 1\n",
      "https://en.wikipedia.org/wiki/Seongnam_FC -- K League 1\n",
      "https://en.wikipedia.org/wiki/Ulsan_Hyundai_FC -- K League 1\n",
      "https://en.wikipedia.org/wiki/Sangju_Sangmu_FC -- K League 1\n",
      "https://en.wikipedia.org/wiki/Swansea_City_A.F.C. -- EFL Championship\n",
      "https://en.wikipedia.org/wiki/Incheon_United_FC -- K League 1\n",
      "https://en.wikipedia.org/wiki/Guangzhou_Evergrande_Taobao_F.C. -- K League 1\n",
      "https://en.wikipedia.org/wiki/Cerezo_Osaka -- J1 League\n",
      "https://en.wikipedia.org/wiki/FC_Seoul -- K League 1\n",
      "https://en.wikipedia.org/wiki/Deportivo_Alav%C3%A9s -- La Liga\n",
      "https://en.wikipedia.org/wiki/Leeds_United_F.C. -- EFL Championship\n",
      "https://en.wikipedia.org/wiki/VfL_Wolfsburg -- Bundesliga\n",
      "https://en.wikipedia.org/wiki/FC_Dinamo_Bucure%C8%99ti -- Liga I\n",
      "https://en.wikipedia.org/wiki/FC_DAC_1904_Dunajsk%C3%A1_Streda -- Slovak First Football League\n",
      "https://en.wikipedia.org/wiki/CS_Sfaxien -- Ligue1, LP1\n",
      "https://en.wikipedia.org/wiki/%C3%89toile_Sportive_du_Sahel -- Tunisian Ligue Professionnelle 1\n",
      "https://en.wikipedia.org/wiki/Stade_Rennais_F.C. -- Ligue 1\n",
      "https://en.wikipedia.org/wiki/Montpellier_HSC -- Ligue 1\n",
      "https://en.wikipedia.org/wiki/OGC_Nice -- Ligue 1\n",
      "https://en.wikipedia.org/wiki/Kawasaki_Frontale -- J1 League\n",
      "https://en.wikipedia.org/wiki/Kashiwa_Reysol -- J2 League\n",
      "https://en.wikipedia.org/wiki/Legia_Warsaw -- Ekstraklasa\n",
      "https://en.wikipedia.org/wiki/S.P.A.L. -- Serie A\n",
      "https://en.wikipedia.org/wiki/PFC_Ludogorets_Razgrad -- First Professional Football League (Bulgaria)\n",
      "https://en.wikipedia.org/wiki/Lechia_Gda%C5%84sk -- Ekstraklasa\n",
      "https://en.wikipedia.org/wiki/Hannover_96 -- 2. Bundesliga\n",
      "https://en.wikipedia.org/wiki/Birmingham_City_F.C. -- EFL Championship\n",
      "https://en.wikipedia.org/wiki/K.A.S._Eupen -- Belgian First Division A\n"
     ]
    }
   ],
   "source": [
    "player_df = pd.DataFrame.from_records(player_list,columns=['Nation','Name','Club','Link'])\n",
    "club_df = player_df[['Club','Link']]\n",
    "club_links = club_df.Link.unique()\n",
    "club_list=[]\n",
    "temp_list = []\n",
    "for i in range(0,len(club_links)):\n",
    "    club_page = requests.get(club_links[i])\n",
    "    club_soup = BeautifulSoup(club_page.content,'html.parser')\n",
    "    info_table = club_soup.find('table',attrs={\"class\":\"infobox vcard\"})\n",
    "    info_table_rows = info_table.find_all('tr')\n",
    "    try:\n",
    "        for j in range(0,12):\n",
    "            if(info_table_rows[j].contents[0].contents[0]=='League'):\n",
    "                league_name=(info_table_rows[j].contents[1].contents[0].get('title'))\n",
    "    except IndexError:\n",
    "        league_name = 'Unavailable'\n",
    "        continue\n",
    "#     print(club_links[i],'--',league_name)\n",
    "    temp_list = [club_links[i],league_name]\n",
    "    club_list.append(temp_list)"
   ]
  },
  {
   "cell_type": "code",
   "execution_count": 8,
   "metadata": {},
   "outputs": [],
   "source": [
    "club_link_df = pd.DataFrame.from_records(club_list,columns=['Link','League'])\n",
    "player_df = player_df.merge(club_link_df,how='inner',left_on='Link',right_on='Link')\n",
    "player_df = player_df.drop(['Link'],axis=1)\n",
    "player_df = player_df.sort_values(by=['Nation','Name','Club'])"
   ]
  },
  {
   "cell_type": "code",
   "execution_count": 9,
   "metadata": {},
   "outputs": [
    {
     "data": {
      "text/html": [
       "<div>\n",
       "<style scoped>\n",
       "    .dataframe tbody tr th:only-of-type {\n",
       "        vertical-align: middle;\n",
       "    }\n",
       "\n",
       "    .dataframe tbody tr th {\n",
       "        vertical-align: top;\n",
       "    }\n",
       "\n",
       "    .dataframe thead th {\n",
       "        text-align: right;\n",
       "    }\n",
       "</style>\n",
       "<table border=\"1\" class=\"dataframe\">\n",
       "  <thead>\n",
       "    <tr style=\"text-align: right;\">\n",
       "      <th></th>\n",
       "      <th>Nation</th>\n",
       "      <th>Name</th>\n",
       "      <th>Club</th>\n",
       "      <th>League</th>\n",
       "    </tr>\n",
       "  </thead>\n",
       "  <tbody>\n",
       "    <tr>\n",
       "      <th>342</th>\n",
       "      <td>Argentina</td>\n",
       "      <td>Cristian Ansaldi</td>\n",
       "      <td>Torino</td>\n",
       "      <td>Serie A</td>\n",
       "    </tr>\n",
       "    <tr>\n",
       "      <th>346</th>\n",
       "      <td>Argentina</td>\n",
       "      <td>Federico Fazio</td>\n",
       "      <td>Roma</td>\n",
       "      <td>Serie A</td>\n",
       "    </tr>\n",
       "    <tr>\n",
       "      <th>288</th>\n",
       "      <td>Argentina</td>\n",
       "      <td>Gabriel Mercado</td>\n",
       "      <td>Sevilla</td>\n",
       "      <td>La Liga</td>\n",
       "    </tr>\n",
       "    <tr>\n",
       "      <th>136</th>\n",
       "      <td>Argentina</td>\n",
       "      <td>Giovani Lo Celso</td>\n",
       "      <td>Paris Saint-Germain</td>\n",
       "      <td>Ligue 1</td>\n",
       "    </tr>\n",
       "    <tr>\n",
       "      <th>85</th>\n",
       "      <td>Argentina</td>\n",
       "      <td>Gonzalo Higuaín</td>\n",
       "      <td>Juventus</td>\n",
       "      <td>Serie A</td>\n",
       "    </tr>\n",
       "  </tbody>\n",
       "</table>\n",
       "</div>"
      ],
      "text/plain": [
       "        Nation              Name                 Club   League\n",
       "342  Argentina  Cristian Ansaldi               Torino  Serie A\n",
       "346  Argentina    Federico Fazio                 Roma  Serie A\n",
       "288  Argentina   Gabriel Mercado              Sevilla  La Liga\n",
       "136  Argentina  Giovani Lo Celso  Paris Saint-Germain  Ligue 1\n",
       "85   Argentina   Gonzalo Higuaín             Juventus  Serie A"
      ]
     },
     "execution_count": 9,
     "metadata": {},
     "output_type": "execute_result"
    }
   ],
   "source": [
    "player_df.head(5)"
   ]
  },
  {
   "cell_type": "code",
   "execution_count": 10,
   "metadata": {},
   "outputs": [],
   "source": [
    "new_df= player_df[player_df.League.isin(['Serie A','La Liga','Premier League','Ligue 1','Eredivisie','Bundesliga'])]"
   ]
  },
  {
   "cell_type": "code",
   "execution_count": 18,
   "metadata": {},
   "outputs": [],
   "source": [
    "club_series = new_df.groupby(['Club','League']).count().Name"
   ]
  },
  {
   "cell_type": "code",
   "execution_count": 19,
   "metadata": {},
   "outputs": [],
   "source": [
    "club_df = club_series.to_frame()"
   ]
  },
  {
   "cell_type": "code",
   "execution_count": 20,
   "metadata": {},
   "outputs": [],
   "source": [
    "club_df.to_csv('..\\\\Consolidated Data\\\\World Cup Data at Club Level.csv')"
   ]
  },
  {
   "cell_type": "code",
   "execution_count": null,
   "metadata": {},
   "outputs": [],
   "source": [
    "final_series = player_df.groupby('League').count().Name"
   ]
  },
  {
   "cell_type": "code",
   "execution_count": null,
   "metadata": {},
   "outputs": [],
   "source": [
    "final_df = final_series.to_frame()"
   ]
  },
  {
   "cell_type": "code",
   "execution_count": null,
   "metadata": {},
   "outputs": [],
   "source": [
    "final_df.to_csv('..\\\\Consolidated Data\\\\World Cup Data Consolidation.csv')"
   ]
  }
 ],
 "metadata": {
  "kernelspec": {
   "display_name": "Python 3",
   "language": "python",
   "name": "python3"
  },
  "language_info": {
   "codemirror_mode": {
    "name": "ipython",
    "version": 3
   },
   "file_extension": ".py",
   "mimetype": "text/x-python",
   "name": "python",
   "nbconvert_exporter": "python",
   "pygments_lexer": "ipython3",
   "version": "3.6.4"
  }
 },
 "nbformat": 4,
 "nbformat_minor": 2
}
