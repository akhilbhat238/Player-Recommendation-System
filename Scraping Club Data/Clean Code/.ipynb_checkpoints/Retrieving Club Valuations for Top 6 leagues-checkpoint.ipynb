{
 "cells": [
  {
   "cell_type": "code",
   "execution_count": 37,
   "metadata": {},
   "outputs": [],
   "source": [
    "import numpy as np\n",
    "import pandas as pd\n",
    "from bs4 import BeautifulSoup\n",
    "import requests"
   ]
  },
  {
   "cell_type": "code",
   "execution_count": 38,
   "metadata": {},
   "outputs": [],
   "source": [
    "def get_team_values(league,league_link):\n",
    "    url = league_link\n",
    "    headers = {\"User-Agent\":\"Mozilla/5.0\"}\n",
    "    response = requests.get(url, headers=headers)\n",
    "    soup = BeautifulSoup(response.content, 'html.parser')\n",
    "    tables = soup.findAll(\"table\")\n",
    "    header=['Club','Total Market Value']\n",
    "    league_df=pd.DataFrame(columns=header)\n",
    "    for i in range(0,len(tables[3].find('tbody').find_all('tr'))):\n",
    "        content_list=[]\n",
    "        content_list.append(tables[3].find('tbody').find_all('tr')[i].find('td').find('img').get('alt'))\n",
    "        content_list.append(tables[3].find('tbody').find_all('tr')[i].find_all('td')[6].contents[0].contents[0])\n",
    "        league_df.loc[i] = content_list\n",
    "    league_df['League'] = league\n",
    "    return league_df"
   ]
  },
  {
   "cell_type": "code",
   "execution_count": 39,
   "metadata": {},
   "outputs": [],
   "source": [
    "premier_league_df = get_team_values('Premier League','https://www.transfermarkt.co.uk/jumplist/startseite/wettbewerb/GB1')\n",
    "\n",
    "la_liga_df = get_team_values('La Liga','https://www.transfermarkt.co.uk/jumplist/startseite/wettbewerb/ES1')\n",
    "\n",
    "serie_a_df = get_team_values('Serie A','https://www.transfermarkt.co.uk/jumplist/startseite/wettbewerb/IT1')\n",
    "\n",
    "bundesliga_df = get_team_values('Bundesliga','https://www.transfermarkt.co.uk/jumplist/startseite/wettbewerb/L1')\n",
    "\n",
    "ligue1_df = get_team_values('Ligue 1','https://www.transfermarkt.co.uk/jumplist/startseite/wettbewerb/FR1')\n",
    "\n",
    "eredivise_df = get_team_values('Eredivise','https://www.transfermarkt.co.uk/jumplist/startseite/wettbewerb/NL1')"
   ]
  },
  {
   "cell_type": "code",
   "execution_count": 40,
   "metadata": {},
   "outputs": [],
   "source": [
    "premier_league_df.to_csv('..\\\\Consolidated Data\\\\Premier League Club Valuations.csv')\n",
    "la_liga_df.to_csv('..\\\\Consolidated Data\\\\La Liga Club Valuations.csv')\n",
    "serie_a_df.to_csv('..\\\\Consolidated Data\\\\Serie A Club Valuations.csv')\n",
    "bundesliga_df.to_csv('..\\\\Consolidated Data\\\\Bundesliga Club Valuations.csv')\n",
    "ligue1_df.to_csv('..\\\\Consolidated Data\\\\Ligue 1 Club Valuations.csv')\n",
    "eredivise_df.to_csv('..\\\\Consolidated Data\\\\Eredivise Club Valuations.csv')"
   ]
  }
 ],
 "metadata": {
  "kernelspec": {
   "display_name": "Python 3",
   "language": "python",
   "name": "python3"
  },
  "language_info": {
   "codemirror_mode": {
    "name": "ipython",
    "version": 3
   },
   "file_extension": ".py",
   "mimetype": "text/x-python",
   "name": "python",
   "nbconvert_exporter": "python",
   "pygments_lexer": "ipython3",
   "version": "3.7.4"
  }
 },
 "nbformat": 4,
 "nbformat_minor": 2
}
