{
 "cells": [
  {
   "cell_type": "code",
   "execution_count": 1,
   "metadata": {},
   "outputs": [],
   "source": [
    "import numpy as np\n",
    "import pandas as pd\n",
    "from bs4 import BeautifulSoup\n",
    "import requests"
   ]
  },
  {
   "cell_type": "code",
   "execution_count": 2,
   "metadata": {},
   "outputs": [],
   "source": [
    "def get_transfer_spends(url):\n",
    "    tx_array = []\n",
    "    headers = {\"User-Agent\":\"Mozilla/5.0\"}\n",
    "    response = requests.get(url, headers=headers)\n",
    "    soup = BeautifulSoup(response.content, 'html.parser')\n",
    "    tables = soup.findAll(\"table\")\n",
    "    for i in range(0,6):\n",
    "        footer = tables[i].find('tfoot')\n",
    "        footer.find('td').contents[0]\n",
    "        x=footer.find('td').contents[0]\n",
    "        tx_array.append(x)\n",
    "    return tx_array"
   ]
  },
  {
   "cell_type": "code",
   "execution_count": 3,
   "metadata": {},
   "outputs": [],
   "source": [
    "def generate_xfer_df(league,league_url,num_teams):\n",
    "    headers = {\"User-Agent\":\"Mozilla/5.0\"}\n",
    "    response = requests.get(league_url, headers=headers)\n",
    "    soup = BeautifulSoup(response.content, 'html.parser')\n",
    "    tables = soup.findAll(\"table\")\n",
    "    team_data = tables[3].findAll(\"tbody\")\n",
    "    team_array=[]\n",
    "    for i in team_data[0].findAll(\"td\", {'class':'zentriert no-border-rechts'}):\n",
    "        team_name = (i.find('a').find('img')['alt'])\n",
    "        team_array.append(team_name)\n",
    "        team_link = (i.find('a')['href'])\n",
    "        team_link.find('/saison')\n",
    "        team_short_link = team_link[0:team_link.find('/saison')]\n",
    "        transfer_link = team_short_link.replace('startseite','alletransfers',1)\n",
    "        full_tx_link = 'https://www.transfermarkt.com' + transfer_link\n",
    "        spends = get_transfer_spends(full_tx_link)\n",
    "        for j in spends:\n",
    "            team_array.append(j)\n",
    "    team_df = pd.DataFrame()\n",
    "    for i in range(0,len(team_array)):\n",
    "        team_series = pd.Series(team_array[i:i+7])\n",
    "        team_df = team_df.append(team_series,ignore_index=True)\n",
    "        i = i+ 7\n",
    "    if(num_teams==20):\n",
    "        transfer_df = team_df.iloc[[0,7,14,21,28,35,42,49,56,63,70,77,84,91,98,105,112,119,126,133]]\n",
    "    elif(num_teams==18):\n",
    "        transfer_df = team_df.iloc[[0,7,14,21,28,35,42,49,56,63,70,77,84,91,98,105,112,119]]        \n",
    "#     transfer_df = team_df.iloc[[0,7,14,21,28,35,42,49,56,63,70,77,84,91,98,105,112,119,126,133]]\n",
    "    transfer_df = transfer_df.reset_index()\n",
    "    transfer_df = transfer_df.drop(columns=['index'])\n",
    "    transfer_df['League'] = league\n",
    "    return transfer_df"
   ]
  },
  {
   "cell_type": "code",
   "execution_count": 4,
   "metadata": {},
   "outputs": [],
   "source": [
    "epl_df = generate_xfer_df('Premier League','https://www.transfermarkt.com/premier-league/startseite/wettbewerb/GB1',20)"
   ]
  },
  {
   "cell_type": "code",
   "execution_count": 5,
   "metadata": {},
   "outputs": [],
   "source": [
    "la_liga_df=generate_xfer_df('La Liga','https://www.transfermarkt.com/laliga/startseite/wettbewerb/ES1',20)"
   ]
  },
  {
   "cell_type": "code",
   "execution_count": 6,
   "metadata": {},
   "outputs": [],
   "source": [
    "serie_df=generate_xfer_df('Serie A','https://www.transfermarkt.com/serie-a/startseite/wettbewerb/IT1',20)"
   ]
  },
  {
   "cell_type": "code",
   "execution_count": 7,
   "metadata": {},
   "outputs": [],
   "source": [
    "german_df=generate_xfer_df('Bundesliga','https://www.transfermarkt.com/1-bundesliga/startseite/wettbewerb/L1',18)"
   ]
  },
  {
   "cell_type": "code",
   "execution_count": 8,
   "metadata": {},
   "outputs": [],
   "source": [
    "french_df=generate_xfer_df('Ligue 1','https://www.transfermarkt.com/ligue-1/startseite/wettbewerb/FR1',20)"
   ]
  },
  {
   "cell_type": "code",
   "execution_count": 9,
   "metadata": {},
   "outputs": [],
   "source": [
    "dutch_df=generate_xfer_df('Eredivisie','https://www.transfermarkt.com/eredivisie/startseite/wettbewerb/NL1',18)"
   ]
  },
  {
   "cell_type": "code",
   "execution_count": 10,
   "metadata": {},
   "outputs": [],
   "source": [
    "full_df = epl_df.append([la_liga_df,serie_df,german_df,french_df,dutch_df])"
   ]
  },
  {
   "cell_type": "code",
   "execution_count": 11,
   "metadata": {},
   "outputs": [],
   "source": [
    "full_df.columns=['Team','Arrival_19','Departure_19','Arrival_18','Departure_18','Arrival_17','Departure_17','League']"
   ]
  },
  {
   "cell_type": "code",
   "execution_count": 12,
   "metadata": {},
   "outputs": [],
   "source": [
    "full_df.iloc[0] = ['Manchester City','€168.00m','€69.00m','€78.59m','€54.10m','€317.50m','€91.35m','Premier League']"
   ]
  },
  {
   "cell_type": "code",
   "execution_count": 13,
   "metadata": {},
   "outputs": [],
   "source": [
    "def update_k_val(col):\n",
    "    for i in range(0,len(full_df[col])):\n",
    "        if(full_df[col].iloc[i].find('k')>0):\n",
    "            updated_value = int(full_df[col].iloc[i][1:-1])/1000\n",
    "            updated_value = '€'+str(updated_value)+'m'\n",
    "            full_df[col].iloc[i]=updated_value"
   ]
  },
  {
   "cell_type": "code",
   "execution_count": 14,
   "metadata": {},
   "outputs": [],
   "source": [
    "update_k_val('Arrival_19')\n",
    "update_k_val('Departure_19')\n",
    "update_k_val('Arrival_18')\n",
    "update_k_val('Departure_18')\n",
    "update_k_val('Arrival_17')\n",
    "update_k_val('Departure_17')"
   ]
  },
  {
   "cell_type": "code",
   "execution_count": 15,
   "metadata": {},
   "outputs": [],
   "source": [
    "def update_m_val(col):\n",
    "    for i in range(0,len(full_df[col])):\n",
    "        if(full_df[col].iloc[i]!='0'):\n",
    "            full_df[col].iloc[i]=full_df[col].iloc[i][1:-1]"
   ]
  },
  {
   "cell_type": "code",
   "execution_count": 16,
   "metadata": {},
   "outputs": [],
   "source": [
    "update_m_val('Arrival_19')\n",
    "update_m_val('Departure_19')\n",
    "update_m_val('Arrival_18')\n",
    "update_m_val('Departure_18')\n",
    "update_m_val('Arrival_17')\n",
    "update_m_val('Departure_17')"
   ]
  },
  {
   "cell_type": "code",
   "execution_count": 17,
   "metadata": {},
   "outputs": [
    {
     "data": {
      "text/html": [
       "<div>\n",
       "<style scoped>\n",
       "    .dataframe tbody tr th:only-of-type {\n",
       "        vertical-align: middle;\n",
       "    }\n",
       "\n",
       "    .dataframe tbody tr th {\n",
       "        vertical-align: top;\n",
       "    }\n",
       "\n",
       "    .dataframe thead th {\n",
       "        text-align: right;\n",
       "    }\n",
       "</style>\n",
       "<table border=\"1\" class=\"dataframe\">\n",
       "  <thead>\n",
       "    <tr style=\"text-align: right;\">\n",
       "      <th></th>\n",
       "      <th>Team</th>\n",
       "      <th>Arrival_19</th>\n",
       "      <th>Departure_19</th>\n",
       "      <th>Arrival_18</th>\n",
       "      <th>Departure_18</th>\n",
       "      <th>Arrival_17</th>\n",
       "      <th>Departure_17</th>\n",
       "      <th>League</th>\n",
       "    </tr>\n",
       "  </thead>\n",
       "  <tbody>\n",
       "    <tr>\n",
       "      <th>0</th>\n",
       "      <td>Manchester City</td>\n",
       "      <td>168.00</td>\n",
       "      <td>69.00</td>\n",
       "      <td>78.59</td>\n",
       "      <td>54.10</td>\n",
       "      <td>317.50</td>\n",
       "      <td>91.35</td>\n",
       "      <td>Premier League</td>\n",
       "    </tr>\n",
       "    <tr>\n",
       "      <th>1</th>\n",
       "      <td>Liverpool FC</td>\n",
       "      <td>1.90</td>\n",
       "      <td>41.60</td>\n",
       "      <td>182.20</td>\n",
       "      <td>41.10</td>\n",
       "      <td>173.88</td>\n",
       "      <td>194.50</td>\n",
       "      <td>Premier League</td>\n",
       "    </tr>\n",
       "    <tr>\n",
       "      <th>2</th>\n",
       "      <td>Tottenham Hotspur</td>\n",
       "      <td>114.00</td>\n",
       "      <td>35.00</td>\n",
       "      <td>0</td>\n",
       "      <td>5.35</td>\n",
       "      <td>121.50</td>\n",
       "      <td>103.80</td>\n",
       "      <td>Premier League</td>\n",
       "    </tr>\n",
       "    <tr>\n",
       "      <th>3</th>\n",
       "      <td>Chelsea FC</td>\n",
       "      <td>56.00</td>\n",
       "      <td>45.00</td>\n",
       "      <td>145.75</td>\n",
       "      <td>208.80</td>\n",
       "      <td>69.55</td>\n",
       "      <td>260.50</td>\n",
       "      <td>Premier League</td>\n",
       "    </tr>\n",
       "    <tr>\n",
       "      <th>4</th>\n",
       "      <td>Manchester United</td>\n",
       "      <td>159.00</td>\n",
       "      <td>69.50</td>\n",
       "      <td>82.70</td>\n",
       "      <td>30.55</td>\n",
       "      <td>198.40</td>\n",
       "      <td>45.50</td>\n",
       "      <td>Premier League</td>\n",
       "    </tr>\n",
       "  </tbody>\n",
       "</table>\n",
       "</div>"
      ],
      "text/plain": [
       "                Team Arrival_19 Departure_19 Arrival_18 Departure_18  \\\n",
       "0    Manchester City     168.00        69.00      78.59        54.10   \n",
       "1       Liverpool FC       1.90        41.60     182.20        41.10   \n",
       "2  Tottenham Hotspur     114.00        35.00          0         5.35   \n",
       "3         Chelsea FC      56.00        45.00     145.75       208.80   \n",
       "4  Manchester United     159.00        69.50      82.70        30.55   \n",
       "\n",
       "  Arrival_17 Departure_17          League  \n",
       "0     317.50        91.35  Premier League  \n",
       "1     173.88       194.50  Premier League  \n",
       "2     121.50       103.80  Premier League  \n",
       "3      69.55       260.50  Premier League  \n",
       "4     198.40        45.50  Premier League  "
      ]
     },
     "execution_count": 17,
     "metadata": {},
     "output_type": "execute_result"
    }
   ],
   "source": [
    "full_df.head()"
   ]
  },
  {
   "cell_type": "code",
   "execution_count": 18,
   "metadata": {},
   "outputs": [],
   "source": [
    "arrival_array=[]\n",
    "departure_array=[]\n",
    "for i in range(0,len(full_df['Arrival_19'])):\n",
    "    x = float(full_df['Arrival_19'].iloc[i])+float(full_df['Arrival_18'].iloc[i])+float(full_df['Arrival_17'].iloc[i])\n",
    "    arrival_array.append(x)\n",
    "    y = float(full_df['Departure_19'].iloc[i])+float(full_df['Departure_18'].iloc[i])+float(full_df['Departure_17'].iloc[i])\n",
    "    departure_array.append(y)    "
   ]
  },
  {
   "cell_type": "code",
   "execution_count": 19,
   "metadata": {},
   "outputs": [],
   "source": [
    "full_df['Total_Arrivals']=arrival_array\n",
    "full_df['Total_Departures']=departure_array"
   ]
  },
  {
   "cell_type": "code",
   "execution_count": 20,
   "metadata": {},
   "outputs": [],
   "source": [
    "avg_spend_array=[]\n",
    "for i in range(0,len(full_df['Arrival_19'])):\n",
    "    x = (float(full_df['Total_Arrivals'].iloc[i])-float(full_df['Total_Departures'].iloc[i]))/3\n",
    "    avg_spend_array.append(x)"
   ]
  },
  {
   "cell_type": "code",
   "execution_count": 21,
   "metadata": {},
   "outputs": [],
   "source": [
    "full_df['Average Transfer Spend']=avg_spend_array"
   ]
  },
  {
   "cell_type": "code",
   "execution_count": 22,
   "metadata": {},
   "outputs": [
    {
     "data": {
      "text/html": [
       "<div>\n",
       "<style scoped>\n",
       "    .dataframe tbody tr th:only-of-type {\n",
       "        vertical-align: middle;\n",
       "    }\n",
       "\n",
       "    .dataframe tbody tr th {\n",
       "        vertical-align: top;\n",
       "    }\n",
       "\n",
       "    .dataframe thead th {\n",
       "        text-align: right;\n",
       "    }\n",
       "</style>\n",
       "<table border=\"1\" class=\"dataframe\">\n",
       "  <thead>\n",
       "    <tr style=\"text-align: right;\">\n",
       "      <th></th>\n",
       "      <th>Team</th>\n",
       "      <th>Arrival_19</th>\n",
       "      <th>Departure_19</th>\n",
       "      <th>Arrival_18</th>\n",
       "      <th>Departure_18</th>\n",
       "      <th>Arrival_17</th>\n",
       "      <th>Departure_17</th>\n",
       "      <th>League</th>\n",
       "      <th>Total_Arrivals</th>\n",
       "      <th>Total_Departures</th>\n",
       "      <th>Average Transfer Spend</th>\n",
       "    </tr>\n",
       "  </thead>\n",
       "  <tbody>\n",
       "    <tr>\n",
       "      <th>0</th>\n",
       "      <td>Manchester City</td>\n",
       "      <td>168.00</td>\n",
       "      <td>69.00</td>\n",
       "      <td>78.59</td>\n",
       "      <td>54.10</td>\n",
       "      <td>317.50</td>\n",
       "      <td>91.35</td>\n",
       "      <td>Premier League</td>\n",
       "      <td>564.09</td>\n",
       "      <td>214.45</td>\n",
       "      <td>116.546667</td>\n",
       "    </tr>\n",
       "    <tr>\n",
       "      <th>1</th>\n",
       "      <td>Liverpool FC</td>\n",
       "      <td>1.90</td>\n",
       "      <td>41.60</td>\n",
       "      <td>182.20</td>\n",
       "      <td>41.10</td>\n",
       "      <td>173.88</td>\n",
       "      <td>194.50</td>\n",
       "      <td>Premier League</td>\n",
       "      <td>357.98</td>\n",
       "      <td>277.20</td>\n",
       "      <td>26.926667</td>\n",
       "    </tr>\n",
       "    <tr>\n",
       "      <th>2</th>\n",
       "      <td>Tottenham Hotspur</td>\n",
       "      <td>114.00</td>\n",
       "      <td>35.00</td>\n",
       "      <td>0</td>\n",
       "      <td>5.35</td>\n",
       "      <td>121.50</td>\n",
       "      <td>103.80</td>\n",
       "      <td>Premier League</td>\n",
       "      <td>235.50</td>\n",
       "      <td>144.15</td>\n",
       "      <td>30.450000</td>\n",
       "    </tr>\n",
       "    <tr>\n",
       "      <th>3</th>\n",
       "      <td>Chelsea FC</td>\n",
       "      <td>56.00</td>\n",
       "      <td>45.00</td>\n",
       "      <td>145.75</td>\n",
       "      <td>208.80</td>\n",
       "      <td>69.55</td>\n",
       "      <td>260.50</td>\n",
       "      <td>Premier League</td>\n",
       "      <td>271.30</td>\n",
       "      <td>514.30</td>\n",
       "      <td>-81.000000</td>\n",
       "    </tr>\n",
       "    <tr>\n",
       "      <th>4</th>\n",
       "      <td>Manchester United</td>\n",
       "      <td>159.00</td>\n",
       "      <td>69.50</td>\n",
       "      <td>82.70</td>\n",
       "      <td>30.55</td>\n",
       "      <td>198.40</td>\n",
       "      <td>45.50</td>\n",
       "      <td>Premier League</td>\n",
       "      <td>440.10</td>\n",
       "      <td>145.55</td>\n",
       "      <td>98.183333</td>\n",
       "    </tr>\n",
       "  </tbody>\n",
       "</table>\n",
       "</div>"
      ],
      "text/plain": [
       "                Team Arrival_19 Departure_19 Arrival_18 Departure_18  \\\n",
       "0    Manchester City     168.00        69.00      78.59        54.10   \n",
       "1       Liverpool FC       1.90        41.60     182.20        41.10   \n",
       "2  Tottenham Hotspur     114.00        35.00          0         5.35   \n",
       "3         Chelsea FC      56.00        45.00     145.75       208.80   \n",
       "4  Manchester United     159.00        69.50      82.70        30.55   \n",
       "\n",
       "  Arrival_17 Departure_17          League  Total_Arrivals  Total_Departures  \\\n",
       "0     317.50        91.35  Premier League          564.09            214.45   \n",
       "1     173.88       194.50  Premier League          357.98            277.20   \n",
       "2     121.50       103.80  Premier League          235.50            144.15   \n",
       "3      69.55       260.50  Premier League          271.30            514.30   \n",
       "4     198.40        45.50  Premier League          440.10            145.55   \n",
       "\n",
       "   Average Transfer Spend  \n",
       "0              116.546667  \n",
       "1               26.926667  \n",
       "2               30.450000  \n",
       "3              -81.000000  \n",
       "4               98.183333  "
      ]
     },
     "execution_count": 22,
     "metadata": {},
     "output_type": "execute_result"
    }
   ],
   "source": [
    "full_df.head()"
   ]
  },
  {
   "cell_type": "code",
   "execution_count": 23,
   "metadata": {},
   "outputs": [],
   "source": [
    "full_df.to_csv('..\\\\Consolidated Data\\\\Transfer Spends.csv')"
   ]
  }
 ],
 "metadata": {
  "kernelspec": {
   "display_name": "Python 3",
   "language": "python",
   "name": "python3"
  },
  "language_info": {
   "codemirror_mode": {
    "name": "ipython",
    "version": 3
   },
   "file_extension": ".py",
   "mimetype": "text/x-python",
   "name": "python",
   "nbconvert_exporter": "python",
   "pygments_lexer": "ipython3",
   "version": "3.7.4"
  }
 },
 "nbformat": 4,
 "nbformat_minor": 2
}
