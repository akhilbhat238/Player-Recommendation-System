{
 "cells": [
  {
   "cell_type": "markdown",
   "metadata": {},
   "source": [
    "### Necessary Imports"
   ]
  },
  {
   "cell_type": "code",
   "execution_count": 1,
   "metadata": {},
   "outputs": [],
   "source": [
    "import numpy as np\n",
    "import pandas as pd\n",
    "from bs4 import BeautifulSoup\n",
    "import requests"
   ]
  },
  {
   "cell_type": "markdown",
   "metadata": {},
   "source": [
    "### Use Beautiful Soup to pull all contents of the web-page"
   ]
  },
  {
   "cell_type": "code",
   "execution_count": 2,
   "metadata": {},
   "outputs": [],
   "source": [
    "page = requests.get('https://en.wikipedia.org/wiki/European_Cup_and_UEFA_Champions_League_records_and_statistics')\n",
    "soup = BeautifulSoup(page.content,'html.parser')"
   ]
  },
  {
   "cell_type": "markdown",
   "metadata": {},
   "source": [
    "### Find the necessary table on the page. First let us consider the finalist data."
   ]
  },
  {
   "cell_type": "code",
   "execution_count": 3,
   "metadata": {},
   "outputs": [],
   "source": [
    "tables = soup.findAll(\"table\")"
   ]
  },
  {
   "cell_type": "markdown",
   "metadata": {},
   "source": [
    "### Build Table Header"
   ]
  },
  {
   "cell_type": "code",
   "execution_count": 4,
   "metadata": {},
   "outputs": [],
   "source": [
    "table_header = tables[0].findAll(\"tr\")\n",
    "header_list=[]\n",
    "for i in range(1,len(table_header[0])):\n",
    "    if(i==1):\n",
    "        header_list.append(table_header[0].contents[i].contents[1].lstrip().rstrip())\n",
    "    elif (i%2 != 0):\n",
    "        header_list.append(table_header[0].contents[i].contents[0].lstrip().rstrip())"
   ]
  },
  {
   "cell_type": "code",
   "execution_count": 5,
   "metadata": {},
   "outputs": [],
   "source": [
    "header_list.append('League')"
   ]
  },
  {
   "cell_type": "markdown",
   "metadata": {},
   "source": [
    "### Create an empty data frame with all the columns"
   ]
  },
  {
   "cell_type": "code",
   "execution_count": 6,
   "metadata": {},
   "outputs": [],
   "source": [
    "cl_final_record = pd.DataFrame(columns=header_list)"
   ]
  },
  {
   "cell_type": "markdown",
   "metadata": {},
   "source": [
    "### Function to pull League information"
   ]
  },
  {
   "cell_type": "code",
   "execution_count": 7,
   "metadata": {},
   "outputs": [],
   "source": [
    "def get_league(temp_link):\n",
    "    club_link = 'https://en.wikipedia.org/' + temp_link\n",
    "    club_page = requests.get(club_link)\n",
    "    club_soup = BeautifulSoup(club_page.content,'html.parser')\n",
    "    info_table = club_soup.find('table',attrs={\"class\":\"infobox vcard\"})\n",
    "    info_table_rows = info_table.find_all('tr')\n",
    "    try:\n",
    "        for j in range(0,12):\n",
    "            if(info_table_rows[j].contents[0].contents[0]=='League'):\n",
    "                league_name=(info_table_rows[j].contents[1].contents[0].get('title'))\n",
    "                break\n",
    "    except IndexError:\n",
    "        league_name = 'Unavailable'\n",
    "    return(league_name)"
   ]
  },
  {
   "cell_type": "markdown",
   "metadata": {},
   "source": [
    "### Consume all the row element columns and populate the data frame for the finalists"
   ]
  },
  {
   "cell_type": "code",
   "execution_count": 8,
   "metadata": {},
   "outputs": [],
   "source": [
    "rows = tables[0].findAll(\"tr\")\n",
    "for club in range(1,len(rows)):\n",
    "    club_name = rows[club].contents[1].contents[2].contents[0]\n",
    "    temp_link = rows[club].contents[1].contents[2].get('href')\n",
    "    league_name = get_league(temp_link)\n",
    "    titles = rows[club].contents[3].contents[0].rstrip()\n",
    "    runners = rows[club].contents[5].contents[0].rstrip()\n",
    "    x = rows[club].contents[7].findAll(\"a\")\n",
    "    win_list = []\n",
    "    for i in range(0,len(x)):\n",
    "        win_list.append(x[i].contents[0])\n",
    "    y = rows[club].contents[9].findAll(\"a\")\n",
    "    runner_list = []\n",
    "    for j in range(0,len(y)):\n",
    "        runner_list.append(y[j].contents[0])\n",
    "    cl_final_record.loc[club-1] = [club_name,titles,runners,win_list,runner_list,league_name]"
   ]
  },
  {
   "cell_type": "markdown",
   "metadata": {},
   "source": [
    "### Find the data for the semi-finalists and build a seperate data frame"
   ]
  },
  {
   "cell_type": "code",
   "execution_count": 9,
   "metadata": {},
   "outputs": [],
   "source": [
    "semi_table_hdr = tables[4].findAll(\"tr\")\n",
    "semi_hdr_list = []\n",
    "for i in range(1,len(semi_table_hdr[0])):\n",
    "    if (i%2 != 0):\n",
    "        semi_hdr_list.append(semi_table_hdr[0].contents[i].contents[0].lstrip().rstrip())"
   ]
  },
  {
   "cell_type": "code",
   "execution_count": 10,
   "metadata": {},
   "outputs": [],
   "source": [
    "semi_hdr_list.append('League')"
   ]
  },
  {
   "cell_type": "markdown",
   "metadata": {},
   "source": [
    "### Consume all the row element columns and populate the data frame for the finalists"
   ]
  },
  {
   "cell_type": "code",
   "execution_count": 11,
   "metadata": {},
   "outputs": [],
   "source": [
    "cl_semi_record = pd.DataFrame(columns=semi_hdr_list)\n",
    "rows = tables[4].findAll(\"tr\")\n",
    "for club in range(1,len(rows)):\n",
    "    club_name = rows[club].contents[1].contents[2].contents[0]\n",
    "    temp_link = rows[club].contents[1].contents[2].get('href')\n",
    "    league_name = get_league(temp_link)\n",
    "    number_of_semis = rows[club].contents[3].contents[0].rstrip()\n",
    "    x = rows[club].contents[5].findAll(\"a\")\n",
    "    years = []\n",
    "    for i in range(0,len(x)):\n",
    "        years.append(x[i].contents[0])\n",
    "    cl_semi_record.loc[club-1] = [club_name,number_of_semis,years,league_name]"
   ]
  },
  {
   "cell_type": "markdown",
   "metadata": {},
   "source": [
    "### Using the finalists data frame, Build a dictionary to house data for winners in each season"
   ]
  },
  {
   "cell_type": "code",
   "execution_count": 12,
   "metadata": {},
   "outputs": [],
   "source": [
    "season_dict={}\n",
    "league_dict={}\n",
    "for i in range(0,len(cl_final_record)):\n",
    "    club_name = cl_final_record['Club'][i]\n",
    "    league_name = cl_final_record['League'][i]\n",
    "    winning_list = cl_final_record[cl_final_record.Club == club_name]['Seasons won'].tolist()\n",
    "    for i in range(0,len(winning_list)):\n",
    "            season_list = winning_list[i]\n",
    "            if(len(season_list)!=0):\n",
    "                for i in season_list:\n",
    "                    season_dict[i] = [club_name]\n",
    "                    league_dict[i] = [league_name]"
   ]
  },
  {
   "cell_type": "markdown",
   "metadata": {},
   "source": [
    "### Using the finalists data frame, Build a dictionary to house data for runner-ups in each season"
   ]
  },
  {
   "cell_type": "code",
   "execution_count": 13,
   "metadata": {},
   "outputs": [],
   "source": [
    "for i in range(0,len(cl_final_record)):\n",
    "    club_name = cl_final_record['Club'][i]\n",
    "    league_name = cl_final_record['League'][i]\n",
    "    runner_list = cl_final_record[cl_final_record.Club == club_name]['Seasons runner-up'].tolist()\n",
    "    for i in range(0,len(runner_list)):\n",
    "            season_list = runner_list[i]\n",
    "            if(len(season_list)!=0):\n",
    "                for i in season_list:\n",
    "                    season_dict[i].append(club_name)\n",
    "                    league_dict[i].append(league_name)"
   ]
  },
  {
   "cell_type": "markdown",
   "metadata": {},
   "source": [
    "### Now add the other semi-finalists from the semi finalist data frame to complete the dataset"
   ]
  },
  {
   "cell_type": "code",
   "execution_count": 14,
   "metadata": {},
   "outputs": [],
   "source": [
    "teams = cl_semi_record['Team']\n",
    "for team in teams:\n",
    "    league_name = cl_semi_record[cl_semi_record['Team']==team]['League']\n",
    "    season_list=[]\n",
    "    league_list=[]\n",
    "    team_list = cl_semi_record[cl_semi_record['Team']==team]['Years']\n",
    "    team_index = team_list.index[0]\n",
    "    season_list = team_list[team_index]\n",
    "    for season in season_list:\n",
    "        if(team!=season_dict[season][0]):\n",
    "            if(team!=season_dict[season][1]):\n",
    "                season_dict[season].append(team)\n",
    "                league_dict[season].append(league_name.values[0])"
   ]
  },
  {
   "cell_type": "markdown",
   "metadata": {},
   "source": [
    "### Clean the data-set to remove duplication caused due to the use of different names for the same team"
   ]
  },
  {
   "cell_type": "code",
   "execution_count": 15,
   "metadata": {},
   "outputs": [],
   "source": [
    "season_dict_items = season_dict.items()\n",
    "league_dict_items = league_dict.items()\n",
    "for i in season_dict_items:\n",
    "    if (len(i[1])>4):\n",
    "        if((season_dict[i[0]][2][0:5]==season_dict[i[0]][0][0:5]) or (season_dict[i[0]][2][0:5]==season_dict[i[0]][1][0:5])):\n",
    "            del(season_dict[i[0]][2])\n",
    "            del(league_dict[i[0]][2])\n",
    "        elif((season_dict[i[0]][3][0:5]==season_dict[i[0]][0][0:5]) or (season_dict[i[0]][3][0:5]==season_dict[i[0]][1][0:5])):\n",
    "            del(season_dict[i[0]][3])\n",
    "            del(league_dict[i[0]][3])\n",
    "        elif((season_dict[i[0]][4][0:5]==season_dict[i[0]][0][0:5]) or (season_dict[i[0]][4][0:5]==season_dict[i[0]][1][0:5])):\n",
    "            del(season_dict[i[0]][4])\n",
    "            del(league_dict[i[0]][4])"
   ]
  },
  {
   "cell_type": "markdown",
   "metadata": {},
   "source": [
    "### Convert the list of dictionaries into a self-contained data-frame which has winners, runner-ups and finalists for each season"
   ]
  },
  {
   "cell_type": "code",
   "execution_count": 16,
   "metadata": {},
   "outputs": [],
   "source": [
    "champions_league_data = pd.DataFrame(list(season_dict.items()))\n",
    "champions_league_data.columns = ['Season','Teams']\n",
    "winner_list=[]\n",
    "runner_list=[]\n",
    "sf1_list=[]\n",
    "sf2_list=[]\n",
    "for i in range(0,len(champions_league_data)):\n",
    "    winner_list.append(champions_league_data.Teams[i][0])\n",
    "    runner_list.append(champions_league_data.Teams[i][1])\n",
    "    sf1_list.append(champions_league_data.Teams[i][2])\n",
    "    sf2_list.append(champions_league_data.Teams[i][3])\n",
    "champions_league_data['Winners'] = winner_list\n",
    "champions_league_data['Runner Up'] = runner_list\n",
    "champions_league_data['SF1'] = sf1_list\n",
    "champions_league_data['SF2'] = sf2_list\n",
    "champions_league_data = champions_league_data.drop(columns='Teams')\n",
    "champions_league_data = champions_league_data.sort_values('Season')\n",
    "champions_league_data = champions_league_data.set_index('Season')"
   ]
  },
  {
   "cell_type": "markdown",
   "metadata": {},
   "source": [
    "### Creating a dataframe for Leagues"
   ]
  },
  {
   "cell_type": "code",
   "execution_count": 18,
   "metadata": {},
   "outputs": [],
   "source": [
    "champions_league_teams = pd.DataFrame(list(league_dict.items()))\n",
    "champions_league_teams.columns = ['Season','Teams']\n",
    "winner_list=[]\n",
    "runner_list=[]\n",
    "sf1_list=[]\n",
    "sf2_list=[]\n",
    "for i in range(0,len(champions_league_teams)):\n",
    "    winner_list.append(champions_league_teams.Teams[i][0])\n",
    "    runner_list.append(champions_league_teams.Teams[i][1])\n",
    "    sf1_list.append(champions_league_teams.Teams[i][2])\n",
    "    sf2_list.append(champions_league_teams.Teams[i][3])\n",
    "champions_league_teams['Winners'] = winner_list\n",
    "champions_league_teams['Runner Up'] = runner_list\n",
    "champions_league_teams['SF1'] = sf1_list\n",
    "champions_league_teams['SF2'] = sf2_list\n",
    "champions_league_teams = champions_league_teams.drop(columns='Teams')\n",
    "champions_league_teams = champions_league_teams.sort_values('Season')\n",
    "champions_league_teams = champions_league_teams.set_index('Season')"
   ]
  },
  {
   "cell_type": "markdown",
   "metadata": {},
   "source": [
    "### Creating a dataframe to capture counts of wins for each league"
   ]
  },
  {
   "cell_type": "code",
   "execution_count": 21,
   "metadata": {},
   "outputs": [],
   "source": [
    "unique_leagues = champions_league_teams['Winners'].unique()\n",
    "unique_leagues = np.append(unique_leagues,champions_league_teams['Runner Up'].unique())\n",
    "unique_leagues = np.append(unique_leagues,champions_league_teams['SF1'].unique())\n",
    "unique_leagues = np.append(unique_leagues,champions_league_teams['SF2'].unique())\n",
    "lg_unique = np.unique(unique_leagues)\n",
    "header = ['range1win','range2win','range3win','range4win','range5win','range1run','range2run','range3run','range4run','range5run','range1sf1','range2sf1','range3sf1','range4sf1','range5sf1','range1sf2','range2sf2','range3sf2','range4sf2','range5sf2']\n",
    "league_df = pd.DataFrame(columns=header,index=lg_unique)\n",
    "league_df = league_df.fillna(0)"
   ]
  },
  {
   "cell_type": "code",
   "execution_count": 24,
   "metadata": {},
   "outputs": [],
   "source": [
    "range1_start = int(champions_league_teams.index.max())\n",
    "range2_start = range1_start-3\n",
    "range3_start = range2_start-3\n",
    "range4_start = range3_start-3\n",
    "range5_start = range4_start-3\n",
    "range_dict = {\"range1_start\":range1_start,\"range2_start\":range2_start,\"range3_start\":range3_start,\"range4_start\":range4_start,\"range5_start\":range5_start}"
   ]
  },
  {
   "cell_type": "code",
   "execution_count": 25,
   "metadata": {},
   "outputs": [],
   "source": [
    "for i in champions_league_teams.index:\n",
    "    if (range_dict['range1_start'] >= int(i) > range_dict['range2_start']):\n",
    "        winning_league = (champions_league_teams.loc[i]['Winners'])\n",
    "        runner_league = (champions_league_teams.loc[i]['Runner Up'])\n",
    "        sf1_league = (champions_league_teams.loc[i]['SF1'])\n",
    "        sf2_league = (champions_league_teams.loc[i]['SF2'])\n",
    "        league_df.loc[winning_league]['range1win'] = (league_df.loc[winning_league]['range1win']) + 1\n",
    "        league_df.loc[runner_league]['range1run'] = (league_df.loc[runner_league]['range1run']) + 1\n",
    "        league_df.loc[sf1_league]['range1sf1'] = (league_df.loc[sf1_league]['range1sf1']) + 1\n",
    "        league_df.loc[sf2_league]['range1sf2'] = (league_df.loc[sf2_league]['range1sf2']) + 1\n",
    "    elif (range_dict['range2_start'] >= int(i) > range_dict['range3_start']):\n",
    "        winning_league = (champions_league_teams.loc[i]['Winners'])\n",
    "        runner_league = (champions_league_teams.loc[i]['Runner Up'])\n",
    "        sf1_league = (champions_league_teams.loc[i]['SF1'])\n",
    "        sf2_league = (champions_league_teams.loc[i]['SF2'])\n",
    "        league_df.loc[winning_league]['range2win'] = (league_df.loc[winning_league]['range2win']) + 1\n",
    "        league_df.loc[runner_league]['range2run'] = (league_df.loc[runner_league]['range2run']) + 1\n",
    "        league_df.loc[sf1_league]['range2sf1'] = (league_df.loc[sf1_league]['range2sf1']) + 1\n",
    "        league_df.loc[sf2_league]['range2sf2'] = (league_df.loc[sf2_league]['range2sf2']) + 1\n",
    "    elif (range_dict['range3_start'] >= int(i) > range_dict['range4_start']):\n",
    "        winning_league = (champions_league_teams.loc[i]['Winners'])\n",
    "        runner_league = (champions_league_teams.loc[i]['Runner Up'])\n",
    "        sf1_league = (champions_league_teams.loc[i]['SF1'])\n",
    "        sf2_league = (champions_league_teams.loc[i]['SF2'])\n",
    "        league_df.loc[winning_league]['range3win'] = (league_df.loc[winning_league]['range3win']) + 1\n",
    "        league_df.loc[runner_league]['range3run'] = (league_df.loc[runner_league]['range3run']) + 1\n",
    "        league_df.loc[sf1_league]['range3sf1'] = (league_df.loc[sf1_league]['range3sf1']) + 1\n",
    "        league_df.loc[sf2_league]['range3sf2'] = (league_df.loc[sf2_league]['range3sf2']) + 1\n",
    "    elif (range_dict['range4_start'] >= int(i) > range_dict['range5_start']):\n",
    "        winning_league = (champions_league_teams.loc[i]['Winners'])\n",
    "        runner_league = (champions_league_teams.loc[i]['Runner Up'])\n",
    "        sf1_league = (champions_league_teams.loc[i]['SF1'])\n",
    "        sf2_league = (champions_league_teams.loc[i]['SF2'])\n",
    "        league_df.loc[winning_league]['range4win'] = (league_df.loc[winning_league]['range4win']) + 1\n",
    "        league_df.loc[runner_league]['range4run'] = (league_df.loc[runner_league]['range4run']) + 1\n",
    "        league_df.loc[sf1_league]['range4sf1'] = (league_df.loc[sf1_league]['range4sf1']) + 1\n",
    "        league_df.loc[sf2_league]['range4sf2'] = (league_df.loc[sf2_league]['range4sf2']) + 1\n",
    "    elif (range_dict['range5_start'] >= int(i) >= range_dict['range5_start']-2):\n",
    "        winning_league = (champions_league_teams.loc[i]['Winners'])\n",
    "        runner_league = (champions_league_teams.loc[i]['Runner Up'])\n",
    "        sf1_league = (champions_league_teams.loc[i]['SF1'])\n",
    "        sf2_league = (champions_league_teams.loc[i]['SF2'])\n",
    "        league_df.loc[winning_league]['range5win'] = (league_df.loc[winning_league]['range5win']) + 1\n",
    "        league_df.loc[runner_league]['range5run'] = (league_df.loc[runner_league]['range5run']) + 1\n",
    "        league_df.loc[sf1_league]['range5sf1'] = (league_df.loc[sf1_league]['range5sf1']) + 1\n",
    "        league_df.loc[sf2_league]['range5sf2'] = (league_df.loc[sf2_league]['range5sf2']) + 1"
   ]
  },
  {
   "cell_type": "code",
   "execution_count": 26,
   "metadata": {},
   "outputs": [],
   "source": [
    "league_df = league_df.fillna(0)"
   ]
  },
  {
   "cell_type": "code",
   "execution_count": 28,
   "metadata": {},
   "outputs": [],
   "source": [
    "x=league_df.loc[(league_df!=0).any(axis=1)]"
   ]
  },
  {
   "cell_type": "code",
   "execution_count": 29,
   "metadata": {},
   "outputs": [
    {
     "data": {
      "text/html": [
       "<div>\n",
       "<style scoped>\n",
       "    .dataframe tbody tr th:only-of-type {\n",
       "        vertical-align: middle;\n",
       "    }\n",
       "\n",
       "    .dataframe tbody tr th {\n",
       "        vertical-align: top;\n",
       "    }\n",
       "\n",
       "    .dataframe thead th {\n",
       "        text-align: right;\n",
       "    }\n",
       "</style>\n",
       "<table border=\"1\" class=\"dataframe\">\n",
       "  <thead>\n",
       "    <tr style=\"text-align: right;\">\n",
       "      <th></th>\n",
       "      <th>range1win</th>\n",
       "      <th>range2win</th>\n",
       "      <th>range3win</th>\n",
       "      <th>range4win</th>\n",
       "      <th>range5win</th>\n",
       "      <th>range1run</th>\n",
       "      <th>range2run</th>\n",
       "      <th>range3run</th>\n",
       "      <th>range4run</th>\n",
       "      <th>range5run</th>\n",
       "      <th>range1sf1</th>\n",
       "      <th>range2sf1</th>\n",
       "      <th>range3sf1</th>\n",
       "      <th>range4sf1</th>\n",
       "      <th>range5sf1</th>\n",
       "      <th>range1sf2</th>\n",
       "      <th>range2sf2</th>\n",
       "      <th>range3sf2</th>\n",
       "      <th>range4sf2</th>\n",
       "      <th>range5sf2</th>\n",
       "    </tr>\n",
       "  </thead>\n",
       "  <tbody>\n",
       "    <tr>\n",
       "      <th>Bundesliga</th>\n",
       "      <td>0</td>\n",
       "      <td>0</td>\n",
       "      <td>1</td>\n",
       "      <td>0</td>\n",
       "      <td>0</td>\n",
       "      <td>0</td>\n",
       "      <td>0</td>\n",
       "      <td>2</td>\n",
       "      <td>1</td>\n",
       "      <td>0</td>\n",
       "      <td>1</td>\n",
       "      <td>2</td>\n",
       "      <td>0</td>\n",
       "      <td>0</td>\n",
       "      <td>0</td>\n",
       "      <td>0</td>\n",
       "      <td>1</td>\n",
       "      <td>1</td>\n",
       "      <td>0</td>\n",
       "      <td>0</td>\n",
       "    </tr>\n",
       "    <tr>\n",
       "      <th>Eredivisie</th>\n",
       "      <td>0</td>\n",
       "      <td>0</td>\n",
       "      <td>0</td>\n",
       "      <td>0</td>\n",
       "      <td>0</td>\n",
       "      <td>0</td>\n",
       "      <td>0</td>\n",
       "      <td>0</td>\n",
       "      <td>0</td>\n",
       "      <td>0</td>\n",
       "      <td>0</td>\n",
       "      <td>0</td>\n",
       "      <td>0</td>\n",
       "      <td>0</td>\n",
       "      <td>0</td>\n",
       "      <td>1</td>\n",
       "      <td>0</td>\n",
       "      <td>0</td>\n",
       "      <td>0</td>\n",
       "      <td>1</td>\n",
       "    </tr>\n",
       "    <tr>\n",
       "      <th>La Liga</th>\n",
       "      <td>2</td>\n",
       "      <td>3</td>\n",
       "      <td>1</td>\n",
       "      <td>1</td>\n",
       "      <td>1</td>\n",
       "      <td>0</td>\n",
       "      <td>2</td>\n",
       "      <td>0</td>\n",
       "      <td>0</td>\n",
       "      <td>0</td>\n",
       "      <td>2</td>\n",
       "      <td>1</td>\n",
       "      <td>3</td>\n",
       "      <td>2</td>\n",
       "      <td>0</td>\n",
       "      <td>0</td>\n",
       "      <td>0</td>\n",
       "      <td>2</td>\n",
       "      <td>0</td>\n",
       "      <td>1</td>\n",
       "    </tr>\n",
       "    <tr>\n",
       "      <th>Ligue 1</th>\n",
       "      <td>0</td>\n",
       "      <td>0</td>\n",
       "      <td>0</td>\n",
       "      <td>0</td>\n",
       "      <td>0</td>\n",
       "      <td>0</td>\n",
       "      <td>0</td>\n",
       "      <td>0</td>\n",
       "      <td>0</td>\n",
       "      <td>0</td>\n",
       "      <td>0</td>\n",
       "      <td>0</td>\n",
       "      <td>0</td>\n",
       "      <td>0</td>\n",
       "      <td>0</td>\n",
       "      <td>1</td>\n",
       "      <td>0</td>\n",
       "      <td>0</td>\n",
       "      <td>1</td>\n",
       "      <td>0</td>\n",
       "    </tr>\n",
       "    <tr>\n",
       "      <th>Premier League</th>\n",
       "      <td>1</td>\n",
       "      <td>0</td>\n",
       "      <td>1</td>\n",
       "      <td>1</td>\n",
       "      <td>1</td>\n",
       "      <td>2</td>\n",
       "      <td>0</td>\n",
       "      <td>1</td>\n",
       "      <td>2</td>\n",
       "      <td>2</td>\n",
       "      <td>0</td>\n",
       "      <td>0</td>\n",
       "      <td>0</td>\n",
       "      <td>1</td>\n",
       "      <td>2</td>\n",
       "      <td>0</td>\n",
       "      <td>2</td>\n",
       "      <td>0</td>\n",
       "      <td>2</td>\n",
       "      <td>1</td>\n",
       "    </tr>\n",
       "    <tr>\n",
       "      <th>Serie A</th>\n",
       "      <td>0</td>\n",
       "      <td>0</td>\n",
       "      <td>0</td>\n",
       "      <td>1</td>\n",
       "      <td>1</td>\n",
       "      <td>1</td>\n",
       "      <td>1</td>\n",
       "      <td>0</td>\n",
       "      <td>0</td>\n",
       "      <td>1</td>\n",
       "      <td>0</td>\n",
       "      <td>0</td>\n",
       "      <td>0</td>\n",
       "      <td>0</td>\n",
       "      <td>1</td>\n",
       "      <td>1</td>\n",
       "      <td>0</td>\n",
       "      <td>0</td>\n",
       "      <td>0</td>\n",
       "      <td>0</td>\n",
       "    </tr>\n",
       "  </tbody>\n",
       "</table>\n",
       "</div>"
      ],
      "text/plain": [
       "                range1win  range2win  range3win  range4win  range5win  \\\n",
       "Bundesliga              0          0          1          0          0   \n",
       "Eredivisie              0          0          0          0          0   \n",
       "La Liga                 2          3          1          1          1   \n",
       "Ligue 1                 0          0          0          0          0   \n",
       "Premier League          1          0          1          1          1   \n",
       "Serie A                 0          0          0          1          1   \n",
       "\n",
       "                range1run  range2run  range3run  range4run  range5run  \\\n",
       "Bundesliga              0          0          2          1          0   \n",
       "Eredivisie              0          0          0          0          0   \n",
       "La Liga                 0          2          0          0          0   \n",
       "Ligue 1                 0          0          0          0          0   \n",
       "Premier League          2          0          1          2          2   \n",
       "Serie A                 1          1          0          0          1   \n",
       "\n",
       "                range1sf1  range2sf1  range3sf1  range4sf1  range5sf1  \\\n",
       "Bundesliga              1          2          0          0          0   \n",
       "Eredivisie              0          0          0          0          0   \n",
       "La Liga                 2          1          3          2          0   \n",
       "Ligue 1                 0          0          0          0          0   \n",
       "Premier League          0          0          0          1          2   \n",
       "Serie A                 0          0          0          0          1   \n",
       "\n",
       "                range1sf2  range2sf2  range3sf2  range4sf2  range5sf2  \n",
       "Bundesliga              0          1          1          0          0  \n",
       "Eredivisie              1          0          0          0          1  \n",
       "La Liga                 0          0          2          0          1  \n",
       "Ligue 1                 1          0          0          1          0  \n",
       "Premier League          0          2          0          2          1  \n",
       "Serie A                 1          0          0          0          0  "
      ]
     },
     "execution_count": 29,
     "metadata": {},
     "output_type": "execute_result"
    }
   ],
   "source": [
    "x"
   ]
  }
 ],
 "metadata": {
  "kernelspec": {
   "display_name": "Python 3",
   "language": "python",
   "name": "python3"
  },
  "language_info": {
   "codemirror_mode": {
    "name": "ipython",
    "version": 3
   },
   "file_extension": ".py",
   "mimetype": "text/x-python",
   "name": "python",
   "nbconvert_exporter": "python",
   "pygments_lexer": "ipython3",
   "version": "3.7.4"
  }
 },
 "nbformat": 4,
 "nbformat_minor": 2
}
