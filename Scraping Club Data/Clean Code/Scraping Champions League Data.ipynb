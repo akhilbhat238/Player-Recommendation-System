{
 "cells": [
  {
   "cell_type": "code",
   "execution_count": 2,
   "metadata": {},
   "outputs": [],
   "source": [
    "import numpy as np\n",
    "import pandas as pd\n",
    "from bs4 import BeautifulSoup\n",
    "import requests\n",
    "from selenium import webdriver"
   ]
  },
  {
   "cell_type": "code",
   "execution_count": 3,
   "metadata": {},
   "outputs": [],
   "source": [
    "#Use Beautiful Soup to pull all contents of the web-page\n",
    "page = requests.get('https://en.wikipedia.org/wiki/European_Cup_and_UEFA_Champions_League_records_and_statistics')\n",
    "soup = BeautifulSoup(page.content,'html.parser')\n",
    "\n",
    "#Find all tables in the page\n",
    "tables = soup.findAll(\"table\")"
   ]
  },
  {
   "cell_type": "code",
   "execution_count": 4,
   "metadata": {},
   "outputs": [],
   "source": [
    "table_header = tables[0].findAll(\"tr\")\n",
    "header_list=[]"
   ]
  },
  {
   "cell_type": "code",
   "execution_count": 5,
   "metadata": {},
   "outputs": [],
   "source": [
    "for i in range(1,len(table_header[0])):\n",
    "    if(i==1):\n",
    "        header_list.append(table_header[0].contents[i].contents[1].lstrip().rstrip())\n",
    "    elif (i%2 != 0):\n",
    "        header_list.append(table_header[0].contents[i].contents[0].lstrip().rstrip())"
   ]
  },
  {
   "cell_type": "code",
   "execution_count": 6,
   "metadata": {},
   "outputs": [],
   "source": [
    "cl_final_record = pd.DataFrame(columns=header_list)\n",
    "rows = tables[0].findAll(\"tr\")"
   ]
  },
  {
   "cell_type": "code",
   "execution_count": 7,
   "metadata": {},
   "outputs": [],
   "source": [
    "for club in range(1,len(rows)):\n",
    "    club_name = rows[club].contents[1].contents[2].contents[0]\n",
    "    titles = rows[club].contents[3].contents[0].rstrip()\n",
    "    runners = rows[club].contents[5].contents[0].rstrip()\n",
    "    x = rows[club].contents[7].findAll(\"a\")\n",
    "    win_list = []\n",
    "    for i in range(0,len(x)):\n",
    "        win_list.append(x[i].contents[0])\n",
    "    y = rows[club].contents[9].findAll(\"a\")\n",
    "    runner_list = []\n",
    "    for j in range(0,len(y)):\n",
    "        runner_list.append(y[j].contents[0])\n",
    "    cl_final_record.loc[club-1] = [club_name,titles,runners,win_list,runner_list]"
   ]
  },
  {
   "cell_type": "code",
   "execution_count": 8,
   "metadata": {},
   "outputs": [],
   "source": [
    "semi_table_hdr = tables[4].findAll(\"tr\")\n",
    "semi_hdr_list = []"
   ]
  },
  {
   "cell_type": "code",
   "execution_count": 9,
   "metadata": {},
   "outputs": [],
   "source": [
    "for i in range(1,len(semi_table_hdr[0])):\n",
    "    if (i%2 != 0):\n",
    "        semi_hdr_list.append(semi_table_hdr[0].contents[i].contents[0].lstrip().rstrip())"
   ]
  },
  {
   "cell_type": "code",
   "execution_count": 10,
   "metadata": {},
   "outputs": [],
   "source": [
    "cl_semi_record = pd.DataFrame(columns=semi_hdr_list)\n",
    "rows = tables[4].findAll(\"tr\")"
   ]
  },
  {
   "cell_type": "code",
   "execution_count": 11,
   "metadata": {},
   "outputs": [],
   "source": [
    "for club in range(1,len(rows)):\n",
    "    club_name = rows[club].contents[1].contents[2].contents[0]\n",
    "    number_of_semis = rows[club].contents[3].contents[0].rstrip()\n",
    "    x = rows[club].contents[5].findAll(\"a\")\n",
    "    years = []\n",
    "    for i in range(0,len(x)):\n",
    "        years.append(x[i].contents[0])\n",
    "    cl_semi_record.loc[club-1] = [club_name,number_of_semis,years]"
   ]
  },
  {
   "cell_type": "code",
   "execution_count": 19,
   "metadata": {},
   "outputs": [
    {
     "data": {
      "text/plain": [
       "list"
      ]
     },
     "execution_count": 19,
     "metadata": {},
     "output_type": "execute_result"
    }
   ],
   "source": [
    "type(cl_final_record.loc[10][4])"
   ]
  },
  {
   "cell_type": "code",
   "execution_count": null,
   "metadata": {},
   "outputs": [],
   "source": [
    "cl_semi_record"
   ]
  }
 ],
 "metadata": {
  "kernelspec": {
   "display_name": "Python 3",
   "language": "python",
   "name": "python3"
  },
  "language_info": {
   "codemirror_mode": {
    "name": "ipython",
    "version": 3
   },
   "file_extension": ".py",
   "mimetype": "text/x-python",
   "name": "python",
   "nbconvert_exporter": "python",
   "pygments_lexer": "ipython3",
   "version": "3.6.4"
  }
 },
 "nbformat": 4,
 "nbformat_minor": 2
}
