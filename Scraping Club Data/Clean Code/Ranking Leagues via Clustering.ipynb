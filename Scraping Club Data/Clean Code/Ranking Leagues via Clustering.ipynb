{
 "cells": [
  {
   "cell_type": "markdown",
   "metadata": {},
   "source": [
    "### Import necessary packages"
   ]
  },
  {
   "cell_type": "code",
   "execution_count": 214,
   "metadata": {},
   "outputs": [],
   "source": [
    "import numpy as np\n",
    "import pandas as pd\n",
    "import matplotlib.pyplot as plt"
   ]
  },
  {
   "cell_type": "markdown",
   "metadata": {},
   "source": [
    "### Import Data for Deloitte Money League"
   ]
  },
  {
   "cell_type": "markdown",
   "metadata": {},
   "source": [
    "#### Change league names to align with other data frames"
   ]
  },
  {
   "cell_type": "code",
   "execution_count": 215,
   "metadata": {},
   "outputs": [],
   "source": [
    "Money_League_Df = pd.read_csv('..\\\\Consolidated Data\\\\Deloitte_Money_League Consildation.csv',usecols=['Country','Number of Teams'])\n",
    "Money_League_Df.columns=['League','Deloitte_Club_Count']\n",
    "Money_League_Df=Money_League_Df.replace(Money_League_Df.iloc[3]['League'],'Bundesliga') "
   ]
  },
  {
   "cell_type": "markdown",
   "metadata": {},
   "source": [
    "### Import data for most valuable players."
   ]
  },
  {
   "cell_type": "markdown",
   "metadata": {},
   "source": [
    "#### Change league names to align with other data frames"
   ]
  },
  {
   "cell_type": "code",
   "execution_count": 216,
   "metadata": {},
   "outputs": [],
   "source": [
    "Top_Player_Df = pd.read_csv('..\\\\Consolidated Data\\\\Top 50 Players Consildation.csv')\n",
    "Top_Player_Df.columns=['League','Top_Player_Count']\n",
    "Top_Player_Df=Top_Player_Df.replace(Top_Player_Df.iloc[1]['League'],'English Premier League')\n",
    "Top_Player_Df=Top_Player_Df.replace(Top_Player_Df.iloc[2]['League'],'La Liga')\n",
    "Top_Player_Df=Top_Player_Df.replace(Top_Player_Df.iloc[3]['League'],'Serie A')"
   ]
  },
  {
   "cell_type": "markdown",
   "metadata": {},
   "source": [
    "### Import Player counts from the world-cup"
   ]
  },
  {
   "cell_type": "markdown",
   "metadata": {},
   "source": [
    "#### Change league names to align with other data frames"
   ]
  },
  {
   "cell_type": "code",
   "execution_count": 217,
   "metadata": {},
   "outputs": [],
   "source": [
    "World_Cup_Df = pd.read_csv('..\\\\Consolidated Data\\\\World Cup Data Consolidation.csv')\n",
    "World_Cup_Df.columns=['League','WC_Player_Count']\n",
    "World_Cup_Df=World_Cup_Df.replace(World_Cup_Df.iloc[32]['League'],'English Premier League')\n",
    "World_Cup_Df=World_Cup_Df.replace(World_Cup_Df.iloc[41]['League'],'Super Lig')"
   ]
  },
  {
   "cell_type": "markdown",
   "metadata": {},
   "source": [
    "### Import Champions League data"
   ]
  },
  {
   "cell_type": "markdown",
   "metadata": {},
   "source": [
    "#### Change league names to align with other data frames"
   ]
  },
  {
   "cell_type": "code",
   "execution_count": 218,
   "metadata": {},
   "outputs": [],
   "source": [
    "Champions_League_Df = pd.read_csv('..\\\\Consolidated Data\\\\Champions League Data Consildation.csv')\n",
    "Champions_League_Df.columns=['League','CL_Range1_Win','CL_Range2_Win','CL_Range3_Win','CL_Range4_Win','CL_Range5_Win','CL_Range1_Runners','CL_Range2_Runners','CL_Range3_Runners','CL_Range4_Runners','CL_Range5_Runners','CL_Range1_SF1','CL_Range2_SF1','CL_Range3_SF1','CL_Range4_SF1','CL_Range5_SF1','CL_Range1_SF2','CL_Range2_SF2','CL_Range3_SF2','CL_Range4_SF2','CL_Range5_SF2']\n",
    "Champions_League_Df=Champions_League_Df.replace(Champions_League_Df.iloc[18]['League'],'English Premier League')\n",
    "Champions_League_Df=Champions_League_Df.replace(Champions_League_Df.iloc[28]['League'],'Super Lig')"
   ]
  },
  {
   "cell_type": "markdown",
   "metadata": {},
   "source": [
    "### Import Europa League data"
   ]
  },
  {
   "cell_type": "markdown",
   "metadata": {},
   "source": [
    "#### Change league names to align with other data frames"
   ]
  },
  {
   "cell_type": "code",
   "execution_count": 219,
   "metadata": {},
   "outputs": [],
   "source": [
    "Europa_League_Df = pd.read_csv('..\\\\Consolidated Data\\\\Europa League Data Consildation.csv')\n",
    "Europa_League_Df.columns=['League','EL_Range1_Win','EL_Range2_Win','EL_Range3_Win','EL_Range4_Win','EL_Range5_Win','EL_Range1_Runners','EL_Range2_Runners','EL_Range3_Runners','EL_Range4_Runners','EL_Range5_Runners','EL_Range1_SF1','EL_Range2_SF1','EL_Range3_SF1','EL_Range4_SF1','EL_Range5_SF1','EL_Range1_SF2','EL_Range2_SF2','EL_Range3_SF2','EL_Range4_SF2','EL_Range5_SF2']\n",
    "Europa_League_Df=Europa_League_Df.replace(Europa_League_Df.iloc[18]['League'],'English Premier League')\n",
    "Europa_League_Df=Europa_League_Df.replace(Europa_League_Df.iloc[30]['League'],'Super Lig')"
   ]
  },
  {
   "cell_type": "markdown",
   "metadata": {},
   "source": [
    "### Combine all data-frames to form the data frame to begin clustering on"
   ]
  },
  {
   "cell_type": "code",
   "execution_count": 220,
   "metadata": {},
   "outputs": [],
   "source": [
    "Combined_DF = pd.merge(Money_League_Df,Top_Player_Df,how='outer',on='League')\n",
    "Combined_DF = pd.merge(Combined_DF,World_Cup_Df,how='outer',on='League')\n",
    "Combined_DF = pd.merge(Combined_DF,Europa_League_Df,how='outer',on='League')\n",
    "Combined_DF = pd.merge(Combined_DF,Champions_League_Df,how='outer',on='League')"
   ]
  },
  {
   "cell_type": "markdown",
   "metadata": {},
   "source": [
    "### Clean-up the data frame to remove null values and set the index"
   ]
  },
  {
   "cell_type": "code",
   "execution_count": 221,
   "metadata": {},
   "outputs": [],
   "source": [
    "Combined_DF = Combined_DF.dropna(how='all')\n",
    "Combined_DF = Combined_DF.fillna(0)\n",
    "Combined_DF = Combined_DF.set_index(keys='League')"
   ]
  },
  {
   "cell_type": "markdown",
   "metadata": {},
   "source": [
    "### Remove non european leagues and other low value leagues"
   ]
  },
  {
   "cell_type": "code",
   "execution_count": 222,
   "metadata": {},
   "outputs": [],
   "source": [
    "Combined_DF = Combined_DF.drop(['2. Bundesliga','A-League','Argentine Primera División','Campeonato Brasileiro Série A','Categoría Primera A','Chinese Super League','EFL League One','Egyptian Premier League','Ekstraklasa','Israeli Premier League','J1 League'],axis=0)\n",
    "Combined_DF = Combined_DF.drop(['J2 League','K League 1','Liga FPD','Liga I','Liga MX','Ligue 2','Ligue1, LP1','Major League Soccer','Nigerian Professional Football League','Persian Gulf Pro League'],axis=0)\n",
    "Combined_DF = Combined_DF.drop(['Segunda División','Úrvalsdeild karla (football)','Championnat National 2','Regionalliga Nordost','Ukrainian Amateur Football Championship','Fortuna liga','Nemzeti Bajnokság II'],axis=0)"
   ]
  },
  {
   "cell_type": "markdown",
   "metadata": {},
   "source": [
    "### Extract the 3 columns and normalize them seperately"
   ]
  },
  {
   "cell_type": "code",
   "execution_count": 223,
   "metadata": {},
   "outputs": [],
   "source": [
    "Combined_DF_norm = Combined_DF[['Deloitte_Club_Count','Top_Player_Count','WC_Player_Count']]\n",
    "Combined_DF_norm=((Combined_DF_norm-Combined_DF_norm.min())/(Combined_DF_norm.max()-Combined_DF_norm.min()))*3"
   ]
  },
  {
   "cell_type": "markdown",
   "metadata": {},
   "source": [
    "### Once normalized, create a temp data frame to merge back normalized data set with the other columns"
   ]
  },
  {
   "cell_type": "code",
   "execution_count": 224,
   "metadata": {},
   "outputs": [],
   "source": [
    "Combined_DF_temp = Combined_DF.drop(['Deloitte_Club_Count','Top_Player_Count','WC_Player_Count'],axis=1)"
   ]
  },
  {
   "cell_type": "code",
   "execution_count": 225,
   "metadata": {},
   "outputs": [],
   "source": [
    "Combined_DF_norm = Combined_DF_norm.reset_index()"
   ]
  },
  {
   "cell_type": "code",
   "execution_count": 226,
   "metadata": {},
   "outputs": [],
   "source": [
    "Combined_DF_temp = Combined_DF_temp.reset_index()"
   ]
  },
  {
   "cell_type": "code",
   "execution_count": 227,
   "metadata": {},
   "outputs": [],
   "source": [
    "Combined_DF_temp2 = pd.merge(Combined_DF_norm,Combined_DF_temp,how='inner',on='League')"
   ]
  },
  {
   "cell_type": "code",
   "execution_count": 228,
   "metadata": {},
   "outputs": [],
   "source": [
    "Combined_DF_temp = Combined_DF_temp2.set_index('League')"
   ]
  },
  {
   "cell_type": "markdown",
   "metadata": {},
   "source": [
    "### Apply weightage"
   ]
  },
  {
   "cell_type": "code",
   "execution_count": 229,
   "metadata": {},
   "outputs": [],
   "source": [
    "el_weight = 0.5\n",
    "cl_weight = 1\n",
    "winner_wt = 1\n",
    "runner_wt = 0.8\n",
    "sf_wt = 0.5\n",
    "range1_wt = 1\n",
    "range2_wt = 0.9\n",
    "range3_wt = 0.8\n",
    "range4_wt = 0.7\n",
    "range5_wt = 0.6"
   ]
  },
  {
   "cell_type": "code",
   "execution_count": 230,
   "metadata": {},
   "outputs": [],
   "source": [
    "Combined_DF_temp['CL_Range1_Runners'] = Combined_DF_temp['CL_Range1_Runners'] * cl_weight * range1_wt * runner_wt * 1\n",
    "Combined_DF_temp['CL_Range1_SF1'] = Combined_DF_temp['CL_Range1_SF1'] * cl_weight * range1_wt * sf_wt * 1\n",
    "Combined_DF_temp['CL_Range1_SF2'] = Combined_DF_temp['CL_Range1_SF2'] * cl_weight * range1_wt * sf_wt * 1\n",
    "Combined_DF_temp['CL_Range1_Win'] = Combined_DF_temp['CL_Range1_Win'] * cl_weight * range1_wt * winner_wt * 1\n",
    "Combined_DF_temp['CL_Range2_Runners'] = Combined_DF_temp['CL_Range2_Runners'] * cl_weight * range2_wt * runner_wt * 1\n",
    "Combined_DF_temp['CL_Range2_SF1'] = Combined_DF_temp['CL_Range2_SF1'] * cl_weight * range2_wt * sf_wt * 1\n",
    "Combined_DF_temp['CL_Range2_SF2'] = Combined_DF_temp['CL_Range2_SF2'] * cl_weight * range2_wt * sf_wt * 1\n",
    "Combined_DF_temp['CL_Range2_Win'] = Combined_DF_temp['CL_Range2_Win'] * cl_weight * range2_wt * winner_wt * 1\n",
    "Combined_DF_temp['CL_Range3_Runners'] = Combined_DF_temp['CL_Range3_Runners'] * cl_weight * range3_wt * runner_wt * 1\n",
    "Combined_DF_temp['CL_Range3_SF1'] = Combined_DF_temp['CL_Range3_SF1'] * cl_weight * range3_wt * sf_wt * 1\n",
    "Combined_DF_temp['CL_Range3_SF2'] = Combined_DF_temp['CL_Range3_SF2'] * cl_weight * range3_wt * sf_wt * 1\n",
    "Combined_DF_temp['CL_Range3_Win'] = Combined_DF_temp['CL_Range3_Win'] * cl_weight * range3_wt * winner_wt * 1\n",
    "Combined_DF_temp['CL_Range4_Runners'] = Combined_DF_temp['CL_Range4_Runners'] * cl_weight * range4_wt * runner_wt * 1\n",
    "Combined_DF_temp['CL_Range4_SF1'] = Combined_DF_temp['CL_Range4_SF1'] * cl_weight * range4_wt * sf_wt * 1\n",
    "Combined_DF_temp['CL_Range4_SF2'] = Combined_DF_temp['CL_Range4_SF2'] * cl_weight * range4_wt * sf_wt * 1\n",
    "Combined_DF_temp['CL_Range4_Win'] = Combined_DF_temp['CL_Range4_Win'] * cl_weight * range4_wt * winner_wt * 1\n",
    "Combined_DF_temp['CL_Range5_Runners'] = Combined_DF_temp['CL_Range5_Runners'] * cl_weight * range5_wt * runner_wt * 1\n",
    "Combined_DF_temp['CL_Range5_SF1'] = Combined_DF_temp['CL_Range5_SF1'] * cl_weight * range5_wt * sf_wt * 1\n",
    "Combined_DF_temp['CL_Range5_SF2'] = Combined_DF_temp['CL_Range5_SF2'] * cl_weight * range5_wt * sf_wt * 1\n",
    "Combined_DF_temp['CL_Range5_Win'] = Combined_DF_temp['CL_Range5_Win'] * cl_weight * range5_wt * winner_wt * 1\n",
    "Combined_DF_temp['Deloitte_Club_Count'] = Combined_DF_temp['Deloitte_Club_Count'] * 1 * 1 * 1 * 0.8\n",
    "Combined_DF_temp['EL_Range1_Runners'] = Combined_DF_temp['EL_Range1_Runners'] * el_weight * range1_wt * runner_wt * 1\n",
    "Combined_DF_temp['EL_Range1_SF1'] = Combined_DF_temp['EL_Range1_SF1'] * el_weight * range1_wt * sf_wt * 1\n",
    "Combined_DF_temp['EL_Range1_SF2'] = Combined_DF_temp['EL_Range1_SF2'] * el_weight * range1_wt * sf_wt * 1\n",
    "Combined_DF_temp['EL_Range1_Win'] = Combined_DF_temp['EL_Range1_Win'] * el_weight * range1_wt * winner_wt * 1\n",
    "Combined_DF_temp['EL_Range2_Runners'] = Combined_DF_temp['EL_Range2_Runners'] * el_weight * range2_wt * runner_wt * 1\n",
    "Combined_DF_temp['EL_Range2_SF1'] = Combined_DF_temp['EL_Range2_SF1'] * el_weight * range2_wt * sf_wt * 1\n",
    "Combined_DF_temp['EL_Range2_SF2'] = Combined_DF_temp['EL_Range2_SF2'] * el_weight * range2_wt * sf_wt * 1\n",
    "Combined_DF_temp['EL_Range2_Win'] = Combined_DF_temp['EL_Range2_Win'] * el_weight * range2_wt * winner_wt * 1\n",
    "Combined_DF_temp['EL_Range3_Runners'] = Combined_DF_temp['EL_Range3_Runners'] * el_weight * range3_wt * runner_wt * 1\n",
    "Combined_DF_temp['EL_Range3_SF1'] = Combined_DF_temp['EL_Range3_SF1'] * el_weight * range3_wt * sf_wt * 1\n",
    "Combined_DF_temp['EL_Range3_SF2'] = Combined_DF_temp['EL_Range3_SF2'] * el_weight * range3_wt * sf_wt * 1\n",
    "Combined_DF_temp['EL_Range3_Win'] = Combined_DF_temp['EL_Range3_Win'] * el_weight * range3_wt * winner_wt * 1\n",
    "Combined_DF_temp['EL_Range4_Runners'] = Combined_DF_temp['EL_Range4_Runners'] * el_weight * range4_wt * runner_wt * 1\n",
    "Combined_DF_temp['EL_Range4_SF1'] = Combined_DF_temp['EL_Range4_SF1'] * el_weight * range4_wt * sf_wt * 1\n",
    "Combined_DF_temp['EL_Range4_SF2'] = Combined_DF_temp['EL_Range4_SF2'] * el_weight * range4_wt * sf_wt * 1\n",
    "Combined_DF_temp['EL_Range4_Win'] = Combined_DF_temp['EL_Range4_Win'] * el_weight * range4_wt * winner_wt * 1\n",
    "Combined_DF_temp['EL_Range5_Runners'] = Combined_DF_temp['EL_Range5_Runners'] * el_weight * range5_wt * runner_wt * 1\n",
    "Combined_DF_temp['EL_Range5_SF1'] = Combined_DF_temp['EL_Range5_SF1'] * el_weight * range5_wt * sf_wt * 1\n",
    "Combined_DF_temp['EL_Range5_SF2'] = Combined_DF_temp['EL_Range5_SF2'] * el_weight * range5_wt * sf_wt * 1\n",
    "Combined_DF_temp['EL_Range5_Win'] = Combined_DF_temp['EL_Range5_Win'] * el_weight * range5_wt * winner_wt * 1\n",
    "Combined_DF_temp['Top_Player_Count'] = Combined_DF_temp['Top_Player_Count'] * 1 * 1 * 1 * 1\n",
    "Combined_DF_temp['WC_Player_Count'] = Combined_DF_temp['WC_Player_Count'] * 1 * 1 * 1 * 0.6"
   ]
  },
  {
   "cell_type": "markdown",
   "metadata": {},
   "source": [
    "### Hierarchial Clustering"
   ]
  },
  {
   "cell_type": "code",
   "execution_count": 231,
   "metadata": {},
   "outputs": [],
   "source": [
    "from sklearn.cluster import AgglomerativeClustering\n",
    "from scipy.cluster.hierarchy import dendrogram, linkage, fcluster\n",
    "\n",
    "Z = linkage(Combined_DF_temp.values, 'ward')\n",
    "Z2 = linkage(Combined_DF_temp.values, 'centroid')"
   ]
  },
  {
   "cell_type": "code",
   "execution_count": 232,
   "metadata": {},
   "outputs": [
    {
     "data": {
      "image/png": "[encoded data removed]",
      "text/plain": [
       "<Figure size 1800x720 with 1 Axes>"
      ]
     },
     "metadata": {
      "needs_background": "light"
     },
     "output_type": "display_data"
    }
   ],
   "source": [
    "plt.figure(figsize=(25, 10))\n",
    "plt.title('Hierarchical Clustering Dendrogram')\n",
    "plt.ylabel('distance')\n",
    "dendrogram(\n",
    "    Z,\n",
    "    leaf_rotation=90.,  # rotates the x axis labels\n",
    "    leaf_font_size=8.,  # font size for the x axis labels\n",
    ")\n",
    "plt.show()"
   ]
  },
  {
   "cell_type": "markdown",
   "metadata": {},
   "source": [
    "### Remove The first cluster and run the clustering again"
   ]
  },
  {
   "cell_type": "code",
   "execution_count": 233,
   "metadata": {},
   "outputs": [],
   "source": [
    "Combined_DF_temp_run2 = Combined_DF_temp.drop(['English Premier League','La Liga'],axis=0)"
   ]
  },
  {
   "cell_type": "code",
   "execution_count": 234,
   "metadata": {
    "scrolled": true
   },
   "outputs": [
    {
     "data": {
      "image/png": "[encoded data removed]",
      "text/plain": [
       "<Figure size 1800x720 with 1 Axes>"
      ]
     },
     "metadata": {
      "needs_background": "light"
     },
     "output_type": "display_data"
    }
   ],
   "source": [
    "from sklearn.cluster import AgglomerativeClustering\n",
    "from scipy.cluster.hierarchy import dendrogram, linkage, fcluster\n",
    "\n",
    "Z = linkage(Combined_DF_temp_run2.values, 'ward')\n",
    "Z2 = linkage(Combined_DF_temp_run2.values, 'centroid')\n",
    "\n",
    "plt.figure(figsize=(25, 10))\n",
    "plt.title('Hierarchical Clustering Dendrogram')\n",
    "plt.ylabel('distance')\n",
    "dendrogram(\n",
    "    Z,\n",
    "    leaf_rotation=90.,  # rotates the x axis labels\n",
    "    leaf_font_size=8.,  # font size for the x axis labels\n",
    ")\n",
    "plt.show()"
   ]
  },
  {
   "cell_type": "markdown",
   "metadata": {},
   "source": [
    "### Remove The second cluster and run the clustering again"
   ]
  },
  {
   "cell_type": "code",
   "execution_count": 235,
   "metadata": {},
   "outputs": [],
   "source": [
    "Combined_DF_temp_run3 = Combined_DF_temp_run2.drop(['Serie A','Bundesliga'],axis=0)"
   ]
  },
  {
   "cell_type": "code",
   "execution_count": 236,
   "metadata": {},
   "outputs": [
    {
     "data": {
      "image/png": "[encoded data removed]",
      "text/plain": [
       "<Figure size 1800x720 with 1 Axes>"
      ]
     },
     "metadata": {
      "needs_background": "light"
     },
     "output_type": "display_data"
    }
   ],
   "source": [
    "from sklearn.cluster import AgglomerativeClustering\n",
    "from scipy.cluster.hierarchy import dendrogram, linkage, fcluster\n",
    "\n",
    "Z = linkage(Combined_DF_temp_run3.values, 'ward')\n",
    "Z2 = linkage(Combined_DF_temp_run3.values, 'centroid')\n",
    "\n",
    "plt.figure(figsize=(25, 10))\n",
    "plt.title('Hierarchical Clustering Dendrogram')\n",
    "plt.ylabel('distance')\n",
    "dendrogram(\n",
    "    Z,\n",
    "    leaf_rotation=90.,  # rotates the x axis labels\n",
    "    leaf_font_size=8.,  # font size for the x axis labels\n",
    ")\n",
    "plt.show()"
   ]
  },
  {
   "cell_type": "markdown",
   "metadata": {},
   "source": [
    "### Start building the final data frame and assign tiers accordingly"
   ]
  },
  {
   "cell_type": "code",
   "execution_count": 237,
   "metadata": {},
   "outputs": [],
   "source": [
    "Combined_Df = Combined_DF_temp.iloc[[0,2]]"
   ]
  },
  {
   "cell_type": "code",
   "execution_count": 238,
   "metadata": {},
   "outputs": [
    {
     "name": "stderr",
     "output_type": "stream",
     "text": [
      "c:\\users\\akhil_s_bhat\\appdata\\local\\programs\\python\\python36\\lib\\site-packages\\ipykernel_launcher.py:1: SettingWithCopyWarning: \n",
      "A value is trying to be set on a copy of a slice from a DataFrame.\n",
      "Try using .loc[row_indexer,col_indexer] = value instead\n",
      "\n",
      "See the caveats in the documentation: http://pandas.pydata.org/pandas-docs/stable/indexing.html#indexing-view-versus-copy\n",
      "  \"\"\"Entry point for launching an IPython kernel.\n"
     ]
    }
   ],
   "source": [
    "Combined_Df['Tier'] = np.nan"
   ]
  },
  {
   "cell_type": "code",
   "execution_count": 239,
   "metadata": {},
   "outputs": [],
   "source": [
    "Combined_Df.loc['English Premier League']['Tier'] = 1\n",
    "Combined_Df.loc['La Liga']['Tier'] = 1"
   ]
  },
  {
   "cell_type": "code",
   "execution_count": 240,
   "metadata": {},
   "outputs": [],
   "source": [
    "Combined_Df = Combined_Df.append(Combined_DF_temp_run2.iloc[[0,1]])"
   ]
  },
  {
   "cell_type": "code",
   "execution_count": 241,
   "metadata": {},
   "outputs": [],
   "source": [
    "Combined_Df.loc['Serie A']['Tier'] = 2\n",
    "Combined_Df.loc['Bundesliga']['Tier'] = 2"
   ]
  },
  {
   "cell_type": "code",
   "execution_count": 242,
   "metadata": {},
   "outputs": [],
   "source": [
    "Combined_Df = Combined_Df.append(Combined_DF_temp_run3.iloc[[0,10]])"
   ]
  },
  {
   "cell_type": "code",
   "execution_count": 243,
   "metadata": {},
   "outputs": [],
   "source": [
    "Combined_Df.loc['Ligue 1']['Tier'] = 3\n",
    "Combined_Df.loc['Eredivisie']['Tier'] = 3"
   ]
  },
  {
   "cell_type": "code",
   "execution_count": 244,
   "metadata": {},
   "outputs": [
    {
     "data": {
      "text/plain": [
       "League\n",
       "English Premier League    1.0\n",
       "La Liga                   1.0\n",
       "Serie A                   2.0\n",
       "Bundesliga                2.0\n",
       "Ligue 1                   3.0\n",
       "Eredivisie                3.0\n",
       "Name: Tier, dtype: float64"
      ]
     },
     "execution_count": 244,
     "metadata": {},
     "output_type": "execute_result"
    }
   ],
   "source": [
    "Combined_Df['Tier']"
   ]
  },
  {
   "cell_type": "markdown",
   "metadata": {},
   "source": [
    "### Saving the final data"
   ]
  },
  {
   "cell_type": "code",
   "execution_count": 245,
   "metadata": {},
   "outputs": [],
   "source": [
    "League_Ranking_DF = Combined_Df.reset_index()"
   ]
  },
  {
   "cell_type": "code",
   "execution_count": 246,
   "metadata": {},
   "outputs": [],
   "source": [
    "League_Tier_DF = League_Ranking_DF[['League','Tier']]"
   ]
  },
  {
   "cell_type": "code",
   "execution_count": 247,
   "metadata": {},
   "outputs": [
    {
     "data": {
      "text/html": [
       "<div>\n",
       "<style scoped>\n",
       "    .dataframe tbody tr th:only-of-type {\n",
       "        vertical-align: middle;\n",
       "    }\n",
       "\n",
       "    .dataframe tbody tr th {\n",
       "        vertical-align: top;\n",
       "    }\n",
       "\n",
       "    .dataframe thead th {\n",
       "        text-align: right;\n",
       "    }\n",
       "</style>\n",
       "<table border=\"1\" class=\"dataframe\">\n",
       "  <thead>\n",
       "    <tr style=\"text-align: right;\">\n",
       "      <th></th>\n",
       "      <th>League</th>\n",
       "      <th>Tier</th>\n",
       "    </tr>\n",
       "  </thead>\n",
       "  <tbody>\n",
       "    <tr>\n",
       "      <th>0</th>\n",
       "      <td>English Premier League</td>\n",
       "      <td>1.0</td>\n",
       "    </tr>\n",
       "    <tr>\n",
       "      <th>1</th>\n",
       "      <td>La Liga</td>\n",
       "      <td>1.0</td>\n",
       "    </tr>\n",
       "    <tr>\n",
       "      <th>2</th>\n",
       "      <td>Serie A</td>\n",
       "      <td>2.0</td>\n",
       "    </tr>\n",
       "    <tr>\n",
       "      <th>3</th>\n",
       "      <td>Bundesliga</td>\n",
       "      <td>2.0</td>\n",
       "    </tr>\n",
       "    <tr>\n",
       "      <th>4</th>\n",
       "      <td>Ligue 1</td>\n",
       "      <td>3.0</td>\n",
       "    </tr>\n",
       "    <tr>\n",
       "      <th>5</th>\n",
       "      <td>Eredivisie</td>\n",
       "      <td>3.0</td>\n",
       "    </tr>\n",
       "  </tbody>\n",
       "</table>\n",
       "</div>"
      ],
      "text/plain": [
       "                   League  Tier\n",
       "0  English Premier League   1.0\n",
       "1                 La Liga   1.0\n",
       "2                 Serie A   2.0\n",
       "3              Bundesliga   2.0\n",
       "4                 Ligue 1   3.0\n",
       "5              Eredivisie   3.0"
      ]
     },
     "execution_count": 247,
     "metadata": {},
     "output_type": "execute_result"
    }
   ],
   "source": [
    "League_Tier_DF"
   ]
  }
 ],
 "metadata": {
  "kernelspec": {
   "display_name": "Python 3",
   "language": "python",
   "name": "python3"
  },
  "language_info": {
   "codemirror_mode": {
    "name": "ipython",
    "version": 3
   },
   "file_extension": ".py",
   "mimetype": "text/x-python",
   "name": "python",
   "nbconvert_exporter": "python",
   "pygments_lexer": "ipython3",
   "version": "3.6.4"
  }
 },
 "nbformat": 4,
 "nbformat_minor": 2
}
