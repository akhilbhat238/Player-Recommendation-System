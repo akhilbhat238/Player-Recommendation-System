{
 "cells": [
  {
   "cell_type": "code",
   "execution_count": 36,
   "metadata": {},
   "outputs": [],
   "source": [
    "import numpy as np\n",
    "import pandas as pd\n",
    "import re\n",
    "import unicodedata"
   ]
  },
  {
   "cell_type": "code",
   "execution_count": 37,
   "metadata": {},
   "outputs": [],
   "source": [
    "ligue_1_valuations_df = pd.read_csv('..\\\\..\\\\Consolidated Data\\\\Ligue 1 Club Valuations.csv',usecols=['Club','Total Market Value','League'])\n",
    "ligue_1_valuations_df = ligue_1_valuations_df.rename(columns={'Club':'Team'})"
   ]
  },
  {
   "cell_type": "code",
   "execution_count": 38,
   "metadata": {},
   "outputs": [],
   "source": [
    "ligue_1_postions_df = pd.read_csv('..\\\\..\\\\Consolidated Data\\\\Ligue 1 Average Positions.csv')"
   ]
  },
  {
   "cell_type": "code",
   "execution_count": 39,
   "metadata": {},
   "outputs": [],
   "source": [
    "ligue_1_combined_df = ligue_1_postions_df.merge(ligue_1_valuations_df,how='outer',on='Team')"
   ]
  },
  {
   "cell_type": "code",
   "execution_count": 40,
   "metadata": {},
   "outputs": [],
   "source": [
    "ligue_1_temp_df = ligue_1_combined_df.dropna()\n",
    "\n",
    "ligue_1_next_df = pd.concat([ligue_1_combined_df,ligue_1_temp_df]).drop_duplicates(keep=False)\n",
    "ligue_1_next_df = ligue_1_next_df.reset_index(drop=True)"
   ]
  },
  {
   "cell_type": "code",
   "execution_count": 41,
   "metadata": {},
   "outputs": [],
   "source": [
    "for i in range(ligue_1_next_df[ligue_1_next_df['Total Market Value'].isnull()].head(1).index[0],ligue_1_next_df[ligue_1_next_df['Total Market Value'].isnull()].tail(1).index[0]):\n",
    "    for j in range(ligue_1_next_df[ligue_1_next_df['Avg_Pos'].isnull()].head(1).index[0],ligue_1_next_df[ligue_1_next_df['Avg_Pos'].isnull()].tail(1).index[0]):\n",
    "        search = re.search(ligue_1_next_df.loc[i]['Team'],ligue_1_next_df.loc[j]['Team'],re.UNICODE)\n",
    "        if search is not None:\n",
    "            clean = search.group()\n",
    "            ligue_1_next_df.loc[i] = ligue_1_next_df.loc[i].combine_first(ligue_1_next_df.loc[j])\n",
    "            break"
   ]
  },
  {
   "cell_type": "code",
   "execution_count": 42,
   "metadata": {},
   "outputs": [],
   "source": [
    "ligue_1_next_df.loc[3] = ligue_1_next_df.loc[3].combine_first(ligue_1_next_df.loc[39])\n",
    "ligue_1_next_df.loc[12] = ligue_1_next_df.loc[12].combine_first(ligue_1_next_df.loc[36])\n",
    "ligue_1_next_df.loc[13] = ligue_1_next_df.loc[13].combine_first(ligue_1_next_df.loc[22])\n",
    "ligue_1_next_df.loc[14] = ligue_1_next_df.loc[14].combine_first(ligue_1_next_df.loc[20])\n",
    "ligue_1_next_df.loc[16] = ligue_1_next_df.loc[16].combine_first(ligue_1_next_df.loc[27])\n",
    "ligue_1_next_df.loc[17] = ligue_1_next_df.loc[17].combine_first(ligue_1_next_df.loc[28])\n",
    "ligue_1_next_df.loc[19] = ligue_1_next_df.loc[19].combine_first(ligue_1_next_df.loc[31])"
   ]
  },
  {
   "cell_type": "code",
   "execution_count": 43,
   "metadata": {},
   "outputs": [],
   "source": [
    "ligue_1_combined_df = pd.concat([ligue_1_combined_df.dropna(), ligue_1_next_df.dropna()])"
   ]
  },
  {
   "cell_type": "code",
   "execution_count": 44,
   "metadata": {},
   "outputs": [],
   "source": [
    "ligue_1_combined_df=ligue_1_combined_df.reset_index(drop=True)"
   ]
  },
  {
   "cell_type": "code",
   "execution_count": 45,
   "metadata": {},
   "outputs": [],
   "source": [
    "champ_league_data_df = pd.read_csv('..\\\\..\\\\Consolidated Data\\\\Champions_League_CLub_Level.csv')\n",
    "\n",
    "champ_league_data_df.iloc[15, champ_league_data_df.columns.get_loc('Team')] = 'Olympique Lyonnais'\n",
    "\n",
    "ligue_1_combined_df=ligue_1_combined_df.merge(champ_league_data_df,how='left',on='Team')\n",
    "\n",
    "ligue_1_combined_df = ligue_1_combined_df.fillna(0)"
   ]
  },
  {
   "cell_type": "code",
   "execution_count": 46,
   "metadata": {},
   "outputs": [],
   "source": [
    "europa_league_data_df = pd.read_csv('..\\\\..\\\\Consolidated Data\\\\Europa_League_CLub_Level.csv')\n",
    "\n",
    "europa_league_data_df.iloc[31, europa_league_data_df.columns.get_loc('Team')] = 'Olympique Lyonnais'\n",
    "\n",
    "ligue_1_combined_df=ligue_1_combined_df.merge(europa_league_data_df,how='left',on='Team')\n",
    "\n",
    "ligue_1_combined_df = ligue_1_combined_df.fillna(0)"
   ]
  },
  {
   "cell_type": "code",
   "execution_count": 47,
   "metadata": {},
   "outputs": [],
   "source": [
    "ligue_1_combined_df.columns = ['Team', 'Avg_Pos', 'Total Market Value', 'League', 'Range1_Win_CL',\n",
    "       'Range2_Win_CL', 'Range3_Win_CL', 'Range4_Win_CL', 'Range5_Win_CL',\n",
    "       'Range1_Run_CL', 'Range2_Run_CL', 'Range3_Run_CL', 'Range4_Run_CL',\n",
    "       'Range5_Run_CL', 'Range1_SF_CL', 'Range2_SF_CL', 'Range3_SF_CL',\n",
    "       'Range4_SF_CL', 'Range5_SF_CL', 'Range1_Win_EL', 'Range2_Win_EL',\n",
    "       'Range3_Win_EL', 'Range4_Win_EL', 'Range5_Win_EL', 'Range1_Run_EL',\n",
    "       'Range2_Run_EL', 'Range3_Run_EL', 'Range4_Run_EL', 'Range5_Run_EL',\n",
    "       'Range1_SF_EL', 'Range2_SF_EL', 'Range3_SF_EL', 'Range4_SF_EL',\n",
    "       'Range5_SF_EL']"
   ]
  },
  {
   "cell_type": "code",
   "execution_count": 48,
   "metadata": {},
   "outputs": [
    {
     "name": "stderr",
     "output_type": "stream",
     "text": [
      "c:\\users\\akhil_s_bhat\\appdata\\local\\programs\\python\\python36\\lib\\site-packages\\ipykernel_launcher.py:5: SettingWithCopyWarning: \n",
      "A value is trying to be set on a copy of a slice from a DataFrame\n",
      "\n",
      "See the caveats in the documentation: http://pandas.pydata.org/pandas-docs/stable/indexing.html#indexing-view-versus-copy\n",
      "  \"\"\"\n"
     ]
    }
   ],
   "source": [
    "world_cup_data_df = pd.read_csv('..\\\\..\\\\Consolidated Data\\\\World Cup Data at Club Level.csv')\n",
    "\n",
    "club_string = world_cup_data_df['Club']\n",
    "for i in range(0,len(club_string)):\n",
    "    club_string[i]=unicodedata.normalize('NFKD', club_string[i]).encode('ASCII', 'ignore').decode('utf-8')\n",
    "\n",
    "world_cup_data_df['Club'] = club_string\n",
    "\n",
    "world_cup_data_df.columns = ['Team','League','WC_Player_Count']"
   ]
  },
  {
   "cell_type": "code",
   "execution_count": 49,
   "metadata": {},
   "outputs": [],
   "source": [
    "ligue_1_temp_df=ligue_1_combined_df.merge(world_cup_data_df,how='outer',on='Team')\n",
    "\n",
    "for i in range(ligue_1_temp_df[ligue_1_temp_df['Total Market Value'].isnull()].head(1).index[0],ligue_1_temp_df[ligue_1_temp_df['Total Market Value'].isnull()].tail(1).index[0]):\n",
    "    for j in range(ligue_1_temp_df[ligue_1_temp_df['WC_Player_Count'].isnull()].head(1).index[0],ligue_1_temp_df[ligue_1_temp_df['WC_Player_Count'].isnull()].tail(1).index[0]):\n",
    "        search = re.search(ligue_1_temp_df.loc[j]['Team'],ligue_1_temp_df.loc[i]['Team'])\n",
    "        if search is not None:\n",
    "            clean = search.group()\n",
    "            ligue_1_temp_df.loc[i] = ligue_1_temp_df.loc[i].combine_first(ligue_1_temp_df.loc[j])\n",
    "            break"
   ]
  },
  {
   "cell_type": "code",
   "execution_count": 50,
   "metadata": {},
   "outputs": [],
   "source": [
    "ligue_1_temp_df.iloc[13, ligue_1_temp_df.columns.get_loc('WC_Player_Count')] = 2\n",
    "ligue_1_temp_df.iloc[14, ligue_1_temp_df.columns.get_loc('WC_Player_Count')] = 12"
   ]
  },
  {
   "cell_type": "code",
   "execution_count": 51,
   "metadata": {},
   "outputs": [],
   "source": [
    "ligue_1_temp_df=ligue_1_temp_df.drop(['League_y'],axis=1)\n",
    "ligue_1_temp_df['WC_Player_Count']=ligue_1_temp_df['WC_Player_Count'].fillna(0)\n",
    "ligue_1_temp_df=ligue_1_temp_df.dropna()\n",
    "ligue_1_combined_df = ligue_1_temp_df"
   ]
  },
  {
   "cell_type": "code",
   "execution_count": 52,
   "metadata": {},
   "outputs": [],
   "source": [
    "top_50_data_df = pd.read_csv('..\\\\..\\\\Consolidated Data\\\\Top 50 Players Club Level.csv')\n",
    "top_50_data_df['Value in GBP'] = top_50_data_df['Value in GBP'].map(lambda x: x.lstrip('£').rstrip('m'))\n",
    "x=top_50_data_df.groupby('Team').agg({'Player':'count'})\n",
    "x=x.reset_index()\n",
    "ligue_1_temp_df=ligue_1_temp_df.merge(x,how='left',on='Team')\n",
    "ligue_1_temp_df.iloc[14, ligue_1_temp_df.columns.get_loc('Player')] = 2\n",
    "ligue_1_combined_df = ligue_1_temp_df.fillna(0)"
   ]
  },
  {
   "cell_type": "code",
   "execution_count": 53,
   "metadata": {},
   "outputs": [],
   "source": [
    "coupe_france_df = pd.read_csv('..\\\\..\\\\Consolidated Data\\\\Coupe De France Records.csv')\n",
    "coupe_winner = coupe_france_df[['Season','Winner']].groupby('Winner').count()\n",
    "coupe_winner = coupe_winner.reset_index()\n",
    "coupe_winner.columns = ['Team','Coupe_Wins']\n",
    "ligue_1_temp_df=ligue_1_combined_df\n",
    "ligue_1_temp_df= pd.merge(ligue_1_temp_df,coupe_winner,how='left',on='Team')\n",
    "ligue_1_temp_df=ligue_1_temp_df.fillna(0)"
   ]
  },
  {
   "cell_type": "code",
   "execution_count": 54,
   "metadata": {},
   "outputs": [],
   "source": [
    "coupe_runner = coupe_france_df[['Season','Runner']].groupby('Runner').count()\n",
    "coupe_runner = coupe_runner.reset_index()\n",
    "coupe_runner.columns = ['Team','Coupe_Runners']\n",
    "ligue_1_temp_df= pd.merge(ligue_1_temp_df,coupe_runner,how='left',on='Team')\n",
    "ligue_1_temp_df=ligue_1_temp_df.fillna(0)\n",
    "ligue_1_combined_df=ligue_1_temp_df"
   ]
  },
  {
   "cell_type": "code",
   "execution_count": 55,
   "metadata": {},
   "outputs": [
    {
     "data": {
      "text/plain": [
       "Index(['Team', 'Avg_Pos', 'Total Market Value', 'League_x', 'Range1_Win_CL',\n",
       "       'Range2_Win_CL', 'Range3_Win_CL', 'Range4_Win_CL', 'Range5_Win_CL',\n",
       "       'Range1_Run_CL', 'Range2_Run_CL', 'Range3_Run_CL', 'Range4_Run_CL',\n",
       "       'Range5_Run_CL', 'Range1_SF_CL', 'Range2_SF_CL', 'Range3_SF_CL',\n",
       "       'Range4_SF_CL', 'Range5_SF_CL', 'Range1_Win_EL', 'Range2_Win_EL',\n",
       "       'Range3_Win_EL', 'Range4_Win_EL', 'Range5_Win_EL', 'Range1_Run_EL',\n",
       "       'Range2_Run_EL', 'Range3_Run_EL', 'Range4_Run_EL', 'Range5_Run_EL',\n",
       "       'Range1_SF_EL', 'Range2_SF_EL', 'Range3_SF_EL', 'Range4_SF_EL',\n",
       "       'Range5_SF_EL', 'WC_Player_Count', 'Player', 'Coupe_Wins',\n",
       "       'Coupe_Runners'],\n",
       "      dtype='object')"
      ]
     },
     "execution_count": 55,
     "metadata": {},
     "output_type": "execute_result"
    }
   ],
   "source": [
    "ligue_1_combined_df.columns"
   ]
  },
  {
   "cell_type": "code",
   "execution_count": 56,
   "metadata": {},
   "outputs": [],
   "source": [
    "ligue_1_temp_df['Avg_Pos'] = 1 - (ligue_1_temp_df['Avg_Pos']/20)"
   ]
  },
  {
   "cell_type": "code",
   "execution_count": 57,
   "metadata": {},
   "outputs": [],
   "source": [
    "ligue_1_temp_df['Total Market Value'] = ligue_1_temp_df['Total Market Value'].map(lambda x: x.lstrip('£').rstrip('m'))"
   ]
  },
  {
   "cell_type": "code",
   "execution_count": 58,
   "metadata": {},
   "outputs": [],
   "source": [
    "ligue_1_combined_df=ligue_1_temp_df"
   ]
  },
  {
   "cell_type": "code",
   "execution_count": 59,
   "metadata": {},
   "outputs": [],
   "source": [
    "ligue_1_combined_df.to_csv('..\\\\..\\\\Consolidated Data\\\\Ligue 1 Final.csv')"
   ]
  }
 ],
 "metadata": {
  "kernelspec": {
   "display_name": "Python 3",
   "language": "python",
   "name": "python3"
  },
  "language_info": {
   "codemirror_mode": {
    "name": "ipython",
    "version": 3
   },
   "file_extension": ".py",
   "mimetype": "text/x-python",
   "name": "python",
   "nbconvert_exporter": "python",
   "pygments_lexer": "ipython3",
   "version": "3.6.4"
  }
 },
 "nbformat": 4,
 "nbformat_minor": 2
}
