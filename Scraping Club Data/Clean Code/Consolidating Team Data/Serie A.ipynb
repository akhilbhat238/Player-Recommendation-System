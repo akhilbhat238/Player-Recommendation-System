{
 "cells": [
  {
   "cell_type": "code",
   "execution_count": 1,
   "metadata": {},
   "outputs": [],
   "source": [
    "import numpy as np\n",
    "import pandas as pd\n",
    "import re\n",
    "import unicodedata"
   ]
  },
  {
   "cell_type": "code",
   "execution_count": 21,
   "metadata": {},
   "outputs": [],
   "source": [
    "serie_a_valuations_df = pd.read_csv('..\\\\..\\\\Consolidated Data\\\\Serie A Club Valuations.csv',usecols=['Club','Total Market Value','League'])\n",
    "serie_a_valuations_df = serie_a_valuations_df.rename(columns={'Club':'Team'})"
   ]
  },
  {
   "cell_type": "code",
   "execution_count": 22,
   "metadata": {},
   "outputs": [],
   "source": [
    "serie_a_postions_df = pd.read_csv('..\\\\..\\\\Consolidated Data\\\\Serie A Average Positions.csv')"
   ]
  },
  {
   "cell_type": "code",
   "execution_count": 23,
   "metadata": {},
   "outputs": [],
   "source": [
    "serie_a_combined_df = serie_a_postions_df.merge(serie_a_valuations_df,how='outer',on='Team')"
   ]
  },
  {
   "cell_type": "code",
   "execution_count": 24,
   "metadata": {},
   "outputs": [],
   "source": [
    "serie_a_temp_df = serie_a_combined_df.dropna()\n",
    "\n",
    "serie_a_next_df = pd.concat([serie_a_combined_df,serie_a_temp_df]).drop_duplicates(keep=False)\n",
    "serie_a_next_df = serie_a_next_df.reset_index(drop=True)"
   ]
  },
  {
   "cell_type": "code",
   "execution_count": 25,
   "metadata": {},
   "outputs": [],
   "source": [
    "for i in range(serie_a_next_df[serie_a_next_df['Total Market Value'].isnull()].head(1).index[0],serie_a_next_df[serie_a_next_df['Total Market Value'].isnull()].tail(1).index[0]):\n",
    "    for j in range(serie_a_next_df[serie_a_next_df['Avg_Pos'].isnull()].head(1).index[0],serie_a_next_df[serie_a_next_df['Avg_Pos'].isnull()].tail(1).index[0]):\n",
    "        search = re.search(serie_a_next_df.loc[i]['Team'],serie_a_next_df.loc[j]['Team'],re.UNICODE)\n",
    "        if search is not None:\n",
    "            clean = search.group()\n",
    "            serie_a_next_df.loc[i] = serie_a_next_df.loc[i].combine_first(serie_a_next_df.loc[j])\n",
    "            break"
   ]
  },
  {
   "cell_type": "code",
   "execution_count": 26,
   "metadata": {},
   "outputs": [],
   "source": [
    "serie_a_next_df.loc[8] = serie_a_next_df.loc[8].combine_first(serie_a_next_df.loc[31])\n",
    "serie_a_next_df.loc[15] = serie_a_next_df.loc[15].combine_first(serie_a_next_df.loc[30])"
   ]
  },
  {
   "cell_type": "code",
   "execution_count": 27,
   "metadata": {},
   "outputs": [],
   "source": [
    "serie_a_combined_df = pd.concat([serie_a_combined_df.dropna(), serie_a_next_df.dropna()])"
   ]
  },
  {
   "cell_type": "code",
   "execution_count": 28,
   "metadata": {},
   "outputs": [],
   "source": [
    "serie_a_combined_df=serie_a_combined_df.reset_index(drop=True)"
   ]
  },
  {
   "cell_type": "code",
   "execution_count": 29,
   "metadata": {},
   "outputs": [],
   "source": [
    "champ_league_data_df = pd.read_csv('..\\\\..\\\\Consolidated Data\\\\Champions_League_CLub_Level.csv')\n",
    "\n",
    "champ_league_data_df.iloc[2, champ_league_data_df.columns.get_loc('Team')] = 'AC Milan'\n",
    "champ_league_data_df.iloc[4, champ_league_data_df.columns.get_loc('Team')] = 'Inter Milan'\n",
    "champ_league_data_df.iloc[19, champ_league_data_df.columns.get_loc('Team')] = 'AS Roma'\n",
    "\n",
    "serie_a_combined_df=serie_a_combined_df.merge(champ_league_data_df,how='left',on='Team')\n",
    "\n",
    "serie_a_combined_df = serie_a_combined_df.fillna(0)"
   ]
  },
  {
   "cell_type": "code",
   "execution_count": 30,
   "metadata": {},
   "outputs": [],
   "source": [
    "europa_league_data_df = pd.read_csv('..\\\\..\\\\Consolidated Data\\\\Europa_League_CLub_Level.csv')\n",
    "\n",
    "serie_a_combined_df=serie_a_combined_df.merge(europa_league_data_df,how='left',on='Team')\n",
    "\n",
    "serie_a_combined_df = serie_a_combined_df.fillna(0)"
   ]
  },
  {
   "cell_type": "code",
   "execution_count": 32,
   "metadata": {},
   "outputs": [],
   "source": [
    "serie_a_combined_df.columns = ['Team', 'Avg_Pos', 'Total Market Value', 'League', 'Range1_Win_CL',\n",
    "       'Range2_Win_CL', 'Range3_Win_CL', 'Range4_Win_CL', 'Range5_Win_CL',\n",
    "       'Range1_Run_CL', 'Range2_Run_CL', 'Range3_Run_CL', 'Range4_Run_CL',\n",
    "       'Range5_Run_CL', 'Range1_SF_CL', 'Range2_SF_CL', 'Range3_SF_CL',\n",
    "       'Range4_SF_CL', 'Range5_SF_CL', 'Range1_Win_EL', 'Range2_Win_EL',\n",
    "       'Range3_Win_EL', 'Range4_Win_EL', 'Range5_Win_EL', 'Range1_Run_EL',\n",
    "       'Range2_Run_EL', 'Range3_Run_EL', 'Range4_Run_EL', 'Range5_Run_EL',\n",
    "       'Range1_SF_EL', 'Range2_SF_EL', 'Range3_SF_EL', 'Range4_SF_EL',\n",
    "       'Range5_SF_EL']"
   ]
  },
  {
   "cell_type": "code",
   "execution_count": 33,
   "metadata": {},
   "outputs": [
    {
     "name": "stderr",
     "output_type": "stream",
     "text": [
      "c:\\users\\akhil_s_bhat\\appdata\\local\\programs\\python\\python36\\lib\\site-packages\\ipykernel_launcher.py:5: SettingWithCopyWarning: \n",
      "A value is trying to be set on a copy of a slice from a DataFrame\n",
      "\n",
      "See the caveats in the documentation: http://pandas.pydata.org/pandas-docs/stable/indexing.html#indexing-view-versus-copy\n",
      "  \"\"\"\n"
     ]
    },
    {
     "data": {
      "text/html": [
       "<div>\n",
       "<style scoped>\n",
       "    .dataframe tbody tr th:only-of-type {\n",
       "        vertical-align: middle;\n",
       "    }\n",
       "\n",
       "    .dataframe tbody tr th {\n",
       "        vertical-align: top;\n",
       "    }\n",
       "\n",
       "    .dataframe thead th {\n",
       "        text-align: right;\n",
       "    }\n",
       "</style>\n",
       "<table border=\"1\" class=\"dataframe\">\n",
       "  <thead>\n",
       "    <tr style=\"text-align: right;\">\n",
       "      <th></th>\n",
       "      <th>Team</th>\n",
       "      <th>League</th>\n",
       "      <th>WC_Player_Count</th>\n",
       "    </tr>\n",
       "  </thead>\n",
       "  <tbody>\n",
       "    <tr>\n",
       "      <th>12</th>\n",
       "      <td>Bologna</td>\n",
       "      <td>Serie A</td>\n",
       "      <td>4</td>\n",
       "    </tr>\n",
       "    <tr>\n",
       "      <th>21</th>\n",
       "      <td>Fiorentina</td>\n",
       "      <td>Serie A</td>\n",
       "      <td>2</td>\n",
       "    </tr>\n",
       "    <tr>\n",
       "      <th>23</th>\n",
       "      <td>Inter Milan</td>\n",
       "      <td>Serie A</td>\n",
       "      <td>4</td>\n",
       "    </tr>\n",
       "    <tr>\n",
       "      <th>24</th>\n",
       "      <td>Juventus</td>\n",
       "      <td>Serie A</td>\n",
       "      <td>11</td>\n",
       "    </tr>\n",
       "    <tr>\n",
       "      <th>25</th>\n",
       "      <td>Lazio</td>\n",
       "      <td>Serie A</td>\n",
       "      <td>2</td>\n",
       "    </tr>\n",
       "    <tr>\n",
       "      <th>34</th>\n",
       "      <td>Milan</td>\n",
       "      <td>Serie A</td>\n",
       "      <td>5</td>\n",
       "    </tr>\n",
       "    <tr>\n",
       "      <th>44</th>\n",
       "      <td>Roma</td>\n",
       "      <td>Serie A</td>\n",
       "      <td>3</td>\n",
       "    </tr>\n",
       "    <tr>\n",
       "      <th>45</th>\n",
       "      <td>SPAL</td>\n",
       "      <td>Serie A</td>\n",
       "      <td>2</td>\n",
       "    </tr>\n",
       "    <tr>\n",
       "      <th>49</th>\n",
       "      <td>Torino</td>\n",
       "      <td>Serie A</td>\n",
       "      <td>4</td>\n",
       "    </tr>\n",
       "    <tr>\n",
       "      <th>52</th>\n",
       "      <td>Udinese</td>\n",
       "      <td>Serie A</td>\n",
       "      <td>3</td>\n",
       "    </tr>\n",
       "  </tbody>\n",
       "</table>\n",
       "</div>"
      ],
      "text/plain": [
       "           Team   League  WC_Player_Count\n",
       "12      Bologna  Serie A                4\n",
       "21   Fiorentina  Serie A                2\n",
       "23  Inter Milan  Serie A                4\n",
       "24     Juventus  Serie A               11\n",
       "25        Lazio  Serie A                2\n",
       "34        Milan  Serie A                5\n",
       "44         Roma  Serie A                3\n",
       "45         SPAL  Serie A                2\n",
       "49       Torino  Serie A                4\n",
       "52      Udinese  Serie A                3"
      ]
     },
     "execution_count": 33,
     "metadata": {},
     "output_type": "execute_result"
    }
   ],
   "source": [
    "world_cup_data_df = pd.read_csv('..\\\\..\\\\Consolidated Data\\\\World Cup Data at Club Level.csv')\n",
    "\n",
    "club_string = world_cup_data_df['Club']\n",
    "for i in range(0,len(club_string)):\n",
    "    club_string[i]=unicodedata.normalize('NFKD', club_string[i]).encode('ASCII', 'ignore').decode('utf-8')\n",
    "\n",
    "world_cup_data_df['Club'] = club_string\n",
    "\n",
    "world_cup_data_df.columns = ['Team','League','WC_Player_Count']"
   ]
  },
  {
   "cell_type": "code",
   "execution_count": 34,
   "metadata": {},
   "outputs": [],
   "source": [
    "serie_a_temp_df=serie_a_combined_df.merge(world_cup_data_df,how='outer',on='Team')\n",
    "\n",
    "for i in range(serie_a_temp_df[serie_a_temp_df['Total Market Value'].isnull()].head(1).index[0],serie_a_temp_df[serie_a_temp_df['Total Market Value'].isnull()].tail(1).index[0]):\n",
    "    for j in range(serie_a_temp_df[serie_a_temp_df['WC_Player_Count'].isnull()].head(1).index[0],serie_a_temp_df[serie_a_temp_df['WC_Player_Count'].isnull()].tail(1).index[0]):\n",
    "        search = re.search(serie_a_temp_df.loc[j]['Team'],serie_a_temp_df.loc[i]['Team'])\n",
    "        if search is not None:\n",
    "            clean = search.group()\n",
    "            serie_a_temp_df.loc[i] = serie_a_temp_df.loc[i].combine_first(serie_a_temp_df.loc[j])\n",
    "            break"
   ]
  },
  {
   "cell_type": "code",
   "execution_count": 37,
   "metadata": {},
   "outputs": [],
   "source": [
    "serie_a_temp_df.iloc[0, serie_a_temp_df.columns.get_loc('WC_Player_Count')] = 5\n",
    "serie_a_temp_df.iloc[1, serie_a_temp_df.columns.get_loc('WC_Player_Count')] = 3"
   ]
  },
  {
   "cell_type": "code",
   "execution_count": 39,
   "metadata": {},
   "outputs": [],
   "source": [
    "serie_a_temp_df=serie_a_temp_df.drop(['League_y'],axis=1)\n",
    "serie_a_temp_df['WC_Player_Count']=serie_a_temp_df['WC_Player_Count'].fillna(0)\n",
    "serie_a_temp_df=serie_a_temp_df.dropna()\n",
    "serie_a_combined_df = serie_a_temp_df"
   ]
  },
  {
   "cell_type": "code",
   "execution_count": 40,
   "metadata": {},
   "outputs": [],
   "source": [
    "top_50_data_df = pd.read_csv('..\\\\..\\\\Consolidated Data\\\\Top 50 Players Club Level.csv')\n",
    "top_50_data_df['Value in GBP'] = top_50_data_df['Value in GBP'].map(lambda x: x.lstrip('£').rstrip('m'))\n",
    "x=top_50_data_df.groupby('Team').agg({'Player':'count'})\n",
    "x=x.reset_index()\n",
    "serie_a_temp_df=serie_a_temp_df.merge(x,how='left',on='Team')\n",
    "serie_a_combined_df = serie_a_temp_df.fillna(0)"
   ]
  },
  {
   "cell_type": "code",
   "execution_count": 42,
   "metadata": {},
   "outputs": [],
   "source": [
    "coppa_italia_df = pd.read_csv('..\\\\..\\\\Consolidated Data\\\\Coppa Italia Records.csv')\n",
    "coppa_winner = coppa_italia_df[['Season','Winner']].groupby('Winner').count()\n",
    "coppa_winner = coppa_winner.reset_index()\n",
    "coppa_winner.columns = ['Team','Coppa_Wins']\n",
    "serie_a_temp_df=serie_a_combined_df\n",
    "serie_a_temp_df= pd.merge(serie_a_temp_df,coppa_winner,how='left',on='Team')\n",
    "serie_a_temp_df=serie_a_temp_df.fillna(0)"
   ]
  },
  {
   "cell_type": "code",
   "execution_count": 44,
   "metadata": {},
   "outputs": [],
   "source": [
    "coppa_runner = coppa_italia_df[['Season','Runner']].groupby('Runner').count()\n",
    "coppa_runner = coppa_runner.reset_index()\n",
    "coppa_runner.columns = ['Team','Copa_Runners']\n",
    "serie_a_temp_df= pd.merge(serie_a_temp_df,coppa_runner,how='left',on='Team')\n",
    "serie_a_temp_df=serie_a_temp_df.fillna(0)\n",
    "serie_a_combined_df=serie_a_temp_df"
   ]
  },
  {
   "cell_type": "code",
   "execution_count": 45,
   "metadata": {},
   "outputs": [
    {
     "data": {
      "text/plain": [
       "Index(['Team', 'Avg_Pos', 'Total Market Value', 'League_x', 'Range1_Win_CL',\n",
       "       'Range2_Win_CL', 'Range3_Win_CL', 'Range4_Win_CL', 'Range5_Win_CL',\n",
       "       'Range1_Run_CL', 'Range2_Run_CL', 'Range3_Run_CL', 'Range4_Run_CL',\n",
       "       'Range5_Run_CL', 'Range1_SF_CL', 'Range2_SF_CL', 'Range3_SF_CL',\n",
       "       'Range4_SF_CL', 'Range5_SF_CL', 'Range1_Win_EL', 'Range2_Win_EL',\n",
       "       'Range3_Win_EL', 'Range4_Win_EL', 'Range5_Win_EL', 'Range1_Run_EL',\n",
       "       'Range2_Run_EL', 'Range3_Run_EL', 'Range4_Run_EL', 'Range5_Run_EL',\n",
       "       'Range1_SF_EL', 'Range2_SF_EL', 'Range3_SF_EL', 'Range4_SF_EL',\n",
       "       'Range5_SF_EL', 'WC_Player_Count', 'Player', 'Coppa_Wins',\n",
       "       'Copa_Runners'],\n",
       "      dtype='object')"
      ]
     },
     "execution_count": 45,
     "metadata": {},
     "output_type": "execute_result"
    }
   ],
   "source": [
    "serie_a_combined_df.columns"
   ]
  },
  {
   "cell_type": "code",
   "execution_count": 46,
   "metadata": {},
   "outputs": [],
   "source": [
    "serie_a_temp_df['Avg_Pos'] = 1 - (serie_a_temp_df['Avg_Pos']/20)"
   ]
  },
  {
   "cell_type": "code",
   "execution_count": 50,
   "metadata": {},
   "outputs": [],
   "source": [
    "serie_a_temp_df['Total Market Value'] = serie_a_temp_df['Total Market Value'].map(lambda x: x.lstrip('£').rstrip('m'))"
   ]
  },
  {
   "cell_type": "code",
   "execution_count": 51,
   "metadata": {},
   "outputs": [],
   "source": [
    "serie_a_combined_df=serie_a_temp_df"
   ]
  },
  {
   "cell_type": "code",
   "execution_count": 52,
   "metadata": {},
   "outputs": [],
   "source": [
    "serie_a_combined_df.to_csv('..\\\\..\\\\Consolidated Data\\\\Serie A Final.csv')"
   ]
  }
 ],
 "metadata": {
  "kernelspec": {
   "display_name": "Python 3",
   "language": "python",
   "name": "python3"
  },
  "language_info": {
   "codemirror_mode": {
    "name": "ipython",
    "version": 3
   },
   "file_extension": ".py",
   "mimetype": "text/x-python",
   "name": "python",
   "nbconvert_exporter": "python",
   "pygments_lexer": "ipython3",
   "version": "3.6.4"
  }
 },
 "nbformat": 4,
 "nbformat_minor": 2
}
