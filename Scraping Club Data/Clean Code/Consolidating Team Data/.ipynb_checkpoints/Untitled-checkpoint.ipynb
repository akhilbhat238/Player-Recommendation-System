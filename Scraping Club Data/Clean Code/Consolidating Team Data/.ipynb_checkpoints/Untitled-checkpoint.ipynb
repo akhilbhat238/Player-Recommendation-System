{
 "cells": [
  {
   "cell_type": "code",
   "execution_count": 1,
   "metadata": {},
   "outputs": [],
   "source": [
    "import numpy as np\n",
    "import pandas as pd\n",
    "import re\n",
    "import unicodedata"
   ]
  },
  {
   "cell_type": "code",
   "execution_count": 3,
   "metadata": {},
   "outputs": [],
   "source": [
    "la_liga_valuations_df = pd.read_csv('..\\\\..\\\\Consolidated Data\\\\La Liga Club Valuations.csv',usecols=['Club','Total Market Value','League'])\n",
    "la_liga_valuations_df = la_liga_valuations_df.rename(columns={'Club':'Team'})"
   ]
  },
  {
   "cell_type": "code",
   "execution_count": 4,
   "metadata": {},
   "outputs": [],
   "source": [
    "la_liga_postions_df = pd.read_csv('..\\\\..\\\\Consolidated Data\\\\La Liga Average Positions.csv')"
   ]
  },
  {
   "cell_type": "code",
   "execution_count": 5,
   "metadata": {},
   "outputs": [],
   "source": [
    "la_liga_combined_df = la_liga_postions_df.merge(la_liga_valuations_df,how='outer',on='Team')"
   ]
  },
  {
   "cell_type": "code",
   "execution_count": 6,
   "metadata": {},
   "outputs": [],
   "source": [
    "la_liga_temp_df = la_liga_combined_df.dropna()\n",
    "\n",
    "la_liga_next_df = pd.concat([la_liga_combined_df,la_liga_temp_df]).drop_duplicates(keep=False)\n",
    "la_liga_next_df = la_liga_next_df.reset_index(drop=True)"
   ]
  },
  {
   "cell_type": "code",
   "execution_count": null,
   "metadata": {},
   "outputs": [],
   "source": [
    "for i in range(la_liga_next_df[la_liga_next_df['Total Market Value'].isnull()].head(1).index[0],la_liga_next_df[la_liga_next_df['Total Market Value'].isnull()].tail(1).index[0]):\n",
    "    for j in range(la_liga_next_df[la_liga_next_df['Avg_Pos'].isnull()].head(1).index[0],la_liga_next_df[la_liga_next_df['Avg_Pos'].isnull()].tail(1).index[0]):\n",
    "        search = re.search(la_liga_next_df.loc[i]['Team'],la_liga_next_df.loc[j]['Team'],re.UNICODE)\n",
    "        if search is not None:\n",
    "            clean = search.group()\n",
    "            la_liga_next_df.loc[i] = la_liga_next_df.loc[i].combine_first(la_liga_next_df.loc[j])\n",
    "            break"
   ]
  },
  {
   "cell_type": "code",
   "execution_count": 8,
   "metadata": {},
   "outputs": [],
   "source": [
    "la_liga_next_df.loc[1] = la_liga_next_df.loc[1].combine_first(la_liga_next_df.loc[17])\n",
    "la_liga_next_df.loc[3] = la_liga_next_df.loc[3].combine_first(la_liga_next_df.loc[31])\n",
    "la_liga_next_df.loc[7] = la_liga_next_df.loc[7].combine_first(la_liga_next_df.loc[27])\n",
    "la_liga_next_df.loc[10] = la_liga_next_df.loc[10].combine_first(la_liga_next_df.loc[29])\n",
    "la_liga_next_df.loc[15] = la_liga_next_df.loc[15].combine_first(la_liga_next_df.loc[25])"
   ]
  },
  {
   "cell_type": "code",
   "execution_count": 9,
   "metadata": {},
   "outputs": [],
   "source": [
    "la_liga_combined_df = pd.concat([la_liga_combined_df.dropna(), la_liga_next_df.dropna()])"
   ]
  },
  {
   "cell_type": "code",
   "execution_count": 10,
   "metadata": {},
   "outputs": [],
   "source": [
    "la_liga_combined_df=la_liga_combined_df.reset_index(drop=True)"
   ]
  },
  {
   "cell_type": "code",
   "execution_count": 11,
   "metadata": {},
   "outputs": [],
   "source": [
    "champ_league_data_df = pd.read_csv('..\\\\..\\\\Consolidated Data\\\\Champions_League_CLub_Level.csv')\n",
    "\n",
    "champ_league_data_df.iloc[10, champ_league_data_df.columns.get_loc('Team')] = 'Atletico Madrid'\n",
    "\n",
    "la_liga_combined_df=la_liga_combined_df.merge(champ_league_data_df,how='left',on='Team')\n",
    "\n",
    "la_liga_combined_df = la_liga_combined_df.fillna(0)"
   ]
  },
  {
   "cell_type": "code",
   "execution_count": 12,
   "metadata": {},
   "outputs": [],
   "source": [
    "europa_league_data_df = pd.read_csv('..\\\\..\\\\Consolidated Data\\\\Europa_League_CLub_Level.csv')\n",
    "\n",
    "europa_league_data_df.iloc[4, champ_league_data_df.columns.get_loc('Team')] = 'Atletico Madrid'\n",
    "\n",
    "la_liga_combined_df=la_liga_combined_df.merge(europa_league_data_df,how='left',on='Team')\n",
    "\n",
    "la_liga_combined_df = la_liga_combined_df.fillna(0)"
   ]
  },
  {
   "cell_type": "code",
   "execution_count": 13,
   "metadata": {},
   "outputs": [],
   "source": [
    "la_liga_combined_df.columns = ['Team', 'Avg_Pos', 'Total Market Value', 'League', 'Range1_Win_CL',\n",
    "       'Range2_Win_CL', 'Range3_Win_CL', 'Range4_Win_CL', 'Range5_Win_CL',\n",
    "       'Range1_Run_CL', 'Range2_Run_CL', 'Range3_Run_CL', 'Range4_Run_CL',\n",
    "       'Range5_Run_CL', 'Range1_SF_CL', 'Range2_SF_CL', 'Range3_SF_CL',\n",
    "       'Range4_SF_CL', 'Range5_SF_CL', 'Range1_Win_EL', 'Range2_Win_EL',\n",
    "       'Range3_Win_EL', 'Range4_Win_EL', 'Range5_Win_EL', 'Range1_Run_EL',\n",
    "       'Range2_Run_EL', 'Range3_Run_EL', 'Range4_Run_EL', 'Range5_Run_EL',\n",
    "       'Range1_SF_EL', 'Range2_SF_EL', 'Range3_SF_EL', 'Range4_SF_EL',\n",
    "       'Range5_SF_EL']"
   ]
  },
  {
   "cell_type": "code",
   "execution_count": 15,
   "metadata": {},
   "outputs": [
    {
     "name": "stderr",
     "output_type": "stream",
     "text": [
      "c:\\users\\akhil_s_bhat\\appdata\\local\\programs\\python\\python36\\lib\\site-packages\\ipykernel_launcher.py:5: SettingWithCopyWarning: \n",
      "A value is trying to be set on a copy of a slice from a DataFrame\n",
      "\n",
      "See the caveats in the documentation: http://pandas.pydata.org/pandas-docs/stable/indexing.html#indexing-view-versus-copy\n",
      "  \"\"\"\n"
     ]
    },
    {
     "data": {
      "text/html": [
       "<div>\n",
       "<style scoped>\n",
       "    .dataframe tbody tr th:only-of-type {\n",
       "        vertical-align: middle;\n",
       "    }\n",
       "\n",
       "    .dataframe tbody tr th {\n",
       "        vertical-align: top;\n",
       "    }\n",
       "\n",
       "    .dataframe thead th {\n",
       "        text-align: right;\n",
       "    }\n",
       "</style>\n",
       "<table border=\"1\" class=\"dataframe\">\n",
       "  <thead>\n",
       "    <tr style=\"text-align: right;\">\n",
       "      <th></th>\n",
       "      <th>Team</th>\n",
       "      <th>League</th>\n",
       "      <th>WC_Player_Count</th>\n",
       "    </tr>\n",
       "  </thead>\n",
       "  <tbody>\n",
       "    <tr>\n",
       "      <th>4</th>\n",
       "      <td>Alaves</td>\n",
       "      <td>La Liga</td>\n",
       "      <td>1</td>\n",
       "    </tr>\n",
       "    <tr>\n",
       "      <th>7</th>\n",
       "      <td>Athletic Bilbao</td>\n",
       "      <td>La Liga</td>\n",
       "      <td>1</td>\n",
       "    </tr>\n",
       "    <tr>\n",
       "      <th>8</th>\n",
       "      <td>Atletico Madrid</td>\n",
       "      <td>La Liga</td>\n",
       "      <td>9</td>\n",
       "    </tr>\n",
       "    <tr>\n",
       "      <th>9</th>\n",
       "      <td>Barcelona</td>\n",
       "      <td>La Liga</td>\n",
       "      <td>14</td>\n",
       "    </tr>\n",
       "    <tr>\n",
       "      <th>16</th>\n",
       "      <td>Celta Vigo</td>\n",
       "      <td>La Liga</td>\n",
       "      <td>3</td>\n",
       "    </tr>\n",
       "    <tr>\n",
       "      <th>19</th>\n",
       "      <td>Espanyol</td>\n",
       "      <td>La Liga</td>\n",
       "      <td>2</td>\n",
       "    </tr>\n",
       "    <tr>\n",
       "      <th>42</th>\n",
       "      <td>Real Betis</td>\n",
       "      <td>La Liga</td>\n",
       "      <td>2</td>\n",
       "    </tr>\n",
       "    <tr>\n",
       "      <th>47</th>\n",
       "      <td>Sevilla</td>\n",
       "      <td>La Liga</td>\n",
       "      <td>6</td>\n",
       "    </tr>\n",
       "    <tr>\n",
       "      <th>53</th>\n",
       "      <td>Valencia</td>\n",
       "      <td>La Liga</td>\n",
       "      <td>2</td>\n",
       "    </tr>\n",
       "    <tr>\n",
       "      <th>55</th>\n",
       "      <td>Villarreal</td>\n",
       "      <td>La Liga</td>\n",
       "      <td>4</td>\n",
       "    </tr>\n",
       "  </tbody>\n",
       "</table>\n",
       "</div>"
      ],
      "text/plain": [
       "               Team   League  WC_Player_Count\n",
       "4            Alaves  La Liga                1\n",
       "7   Athletic Bilbao  La Liga                1\n",
       "8   Atletico Madrid  La Liga                9\n",
       "9         Barcelona  La Liga               14\n",
       "16       Celta Vigo  La Liga                3\n",
       "19         Espanyol  La Liga                2\n",
       "42       Real Betis  La Liga                2\n",
       "47          Sevilla  La Liga                6\n",
       "53         Valencia  La Liga                2\n",
       "55       Villarreal  La Liga                4"
      ]
     },
     "execution_count": 15,
     "metadata": {},
     "output_type": "execute_result"
    }
   ],
   "source": [
    "world_cup_data_df = pd.read_csv('..\\\\..\\\\Consolidated Data\\\\World Cup Data at Club Level.csv')\n",
    "\n",
    "club_string = world_cup_data_df['Club']\n",
    "for i in range(0,len(club_string)):\n",
    "    club_string[i]=unicodedata.normalize('NFKD', club_string[i]).encode('ASCII', 'ignore').decode('utf-8')\n",
    "\n",
    "world_cup_data_df['Club'] = club_string\n",
    "\n",
    "world_cup_data_df.columns = ['Team','League','WC_Player_Count']\n",
    "\n",
    "world_cup_data_df[world_cup_data_df['League'] ==  'La Liga']"
   ]
  },
  {
   "cell_type": "code",
   "execution_count": 16,
   "metadata": {},
   "outputs": [],
   "source": [
    "la_liga_temp_df=la_liga_combined_df.merge(world_cup_data_df,how='outer',on='Team')\n",
    "\n",
    "for i in range(la_liga_temp_df[la_liga_temp_df['Total Market Value'].isnull()].head(1).index[0],la_liga_temp_df[la_liga_temp_df['Total Market Value'].isnull()].tail(1).index[0]):\n",
    "    for j in range(la_liga_temp_df[la_liga_temp_df['WC_Player_Count'].isnull()].head(1).index[0],la_liga_temp_df[la_liga_temp_df['WC_Player_Count'].isnull()].tail(1).index[0]):\n",
    "        search = re.search(la_liga_temp_df.loc[j]['Team'],la_liga_temp_df.loc[i]['Team'])\n",
    "        if search is not None:\n",
    "            clean = search.group()\n",
    "            la_liga_temp_df.loc[i] = la_liga_temp_df.loc[i].combine_first(la_liga_temp_df.loc[j])\n",
    "            break"
   ]
  },
  {
   "cell_type": "code",
   "execution_count": 17,
   "metadata": {},
   "outputs": [],
   "source": [
    "la_liga_temp_df.iloc[0, la_liga_temp_df.columns.get_loc('WC_Player_Count')] = 15\n",
    "la_liga_temp_df.iloc[2, la_liga_temp_df.columns.get_loc('WC_Player_Count')] = 3\n",
    "la_liga_temp_df.iloc[3, la_liga_temp_df.columns.get_loc('WC_Player_Count')] = 3\n",
    "la_liga_temp_df.iloc[8, la_liga_temp_df.columns.get_loc('WC_Player_Count')] = 2\n",
    "la_liga_temp_df.iloc[17, la_liga_temp_df.columns.get_loc('WC_Player_Count')] = 2\n",
    "la_liga_temp_df.iloc[18, la_liga_temp_df.columns.get_loc('WC_Player_Count')] = 2\n",
    "la_liga_temp_df.iloc[19, la_liga_temp_df.columns.get_loc('WC_Player_Count')] = 2"
   ]
  },
  {
   "cell_type": "code",
   "execution_count": 18,
   "metadata": {},
   "outputs": [],
   "source": [
    "la_liga_temp_df=la_liga_temp_df.drop(['League_y'],axis=1)\n",
    "la_liga_temp_df['WC_Player_Count']=la_liga_temp_df['WC_Player_Count'].fillna(0)\n",
    "la_liga_temp_df=la_liga_temp_df.dropna()\n",
    "la_liga_combined_df = la_liga_temp_df"
   ]
  },
  {
   "cell_type": "code",
   "execution_count": 19,
   "metadata": {},
   "outputs": [],
   "source": [
    "top_50_data_df = pd.read_csv('..\\\\..\\\\Consolidated Data\\\\Top 50 Players Club Level.csv')\n",
    "top_50_data_df['Value in GBP'] = top_50_data_df['Value in GBP'].map(lambda x: x.lstrip('£').rstrip('m'))\n",
    "x=top_50_data_df.groupby('Team').agg({'Player':'count'})\n",
    "x=x.reset_index()\n",
    "la_liga_temp_df=la_liga_temp_df.merge(x,how='left',on='Team')\n",
    "la_liga_combined_df = la_liga_temp_df.fillna(0)"
   ]
  },
  {
   "cell_type": "code",
   "execution_count": 20,
   "metadata": {},
   "outputs": [],
   "source": [
    "copa_del_df = pd.read_csv('..\\\\..\\\\Consolidated Data\\\\Copa Del Rey Records.csv')\n",
    "copa_winner = copa_del_df[['Season','Winner']].groupby('Winner').count()\n",
    "copa_winner = copa_winner.reset_index()\n",
    "copa_winner.columns = ['Team','Copa_Wins']\n",
    "la_liga_temp_df=la_liga_combined_df\n",
    "la_liga_temp_df= pd.merge(la_liga_temp_df,copa_winner,how='left',on='Team')\n",
    "la_liga_temp_df=la_liga_temp_df.fillna(0)"
   ]
  },
  {
   "cell_type": "code",
   "execution_count": 21,
   "metadata": {},
   "outputs": [],
   "source": [
    "copa_runner = copa_del_df[['Season','Runner']].groupby('Runner').count()\n",
    "copa_runner = copa_runner.reset_index()\n",
    "copa_runner.columns = ['Team','Copa_Runners']\n",
    "la_liga_temp_df= pd.merge(la_liga_temp_df,copa_runner,how='left',on='Team')\n",
    "la_liga_temp_df=la_liga_temp_df.fillna(0)\n",
    "la_liga_combined_df=la_liga_temp_df"
   ]
  },
  {
   "cell_type": "code",
   "execution_count": 24,
   "metadata": {},
   "outputs": [
    {
     "data": {
      "text/plain": [
       "Index(['Team', 'Avg_Pos', 'Total Market Value', 'League_x', 'Range1_Win_CL',\n",
       "       'Range2_Win_CL', 'Range3_Win_CL', 'Range4_Win_CL', 'Range5_Win_CL',\n",
       "       'Range1_Run_CL', 'Range2_Run_CL', 'Range3_Run_CL', 'Range4_Run_CL',\n",
       "       'Range5_Run_CL', 'Range1_SF_CL', 'Range2_SF_CL', 'Range3_SF_CL',\n",
       "       'Range4_SF_CL', 'Range5_SF_CL', 'Range1_Win_EL', 'Range2_Win_EL',\n",
       "       'Range3_Win_EL', 'Range4_Win_EL', 'Range5_Win_EL', 'Range1_Run_EL',\n",
       "       'Range2_Run_EL', 'Range3_Run_EL', 'Range4_Run_EL', 'Range5_Run_EL',\n",
       "       'Range1_SF_EL', 'Range2_SF_EL', 'Range3_SF_EL', 'Range4_SF_EL',\n",
       "       'Range5_SF_EL', 'WC_Player_Count', 'Player', 'Copa_Wins',\n",
       "       'Copa_Runners'],\n",
       "      dtype='object')"
      ]
     },
     "execution_count": 24,
     "metadata": {},
     "output_type": "execute_result"
    }
   ],
   "source": [
    "la_liga_combined_df.columns"
   ]
  },
  {
   "cell_type": "code",
   "execution_count": 29,
   "metadata": {},
   "outputs": [],
   "source": [
    "la_liga_temp_df['Avg_Pos'] = 1 - (la_liga_temp_df['Avg_Pos']/20)"
   ]
  },
  {
   "cell_type": "code",
   "execution_count": 45,
   "metadata": {},
   "outputs": [],
   "source": [
    "la_liga_temp_df.at[0,'Total Market Value'] = '£1070m'\n",
    "la_liga_temp_df.at[6,'Total Market Value'] = '£1060m'"
   ]
  },
  {
   "cell_type": "code",
   "execution_count": 48,
   "metadata": {},
   "outputs": [],
   "source": [
    "la_liga_temp_df['Total Market Value'] = la_liga_temp_df['Total Market Value'].map(lambda x: x.lstrip('£').rstrip('m'))"
   ]
  },
  {
   "cell_type": "code",
   "execution_count": 50,
   "metadata": {},
   "outputs": [],
   "source": [
    "la_liga_temp_df.to_csv('..\\\\..\\\\Consolidated Data\\\\La Liga Final.csv')"
   ]
  }
 ],
 "metadata": {
  "kernelspec": {
   "display_name": "Python 3",
   "language": "python",
   "name": "python3"
  },
  "language_info": {
   "codemirror_mode": {
    "name": "ipython",
    "version": 3
   },
   "file_extension": ".py",
   "mimetype": "text/x-python",
   "name": "python",
   "nbconvert_exporter": "python",
   "pygments_lexer": "ipython3",
   "version": "3.6.4"
  }
 },
 "nbformat": 4,
 "nbformat_minor": 2
}
