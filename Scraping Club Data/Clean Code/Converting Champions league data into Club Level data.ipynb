{
 "cells": [
  {
   "cell_type": "code",
   "execution_count": 1,
   "metadata": {},
   "outputs": [],
   "source": [
    "import numpy as np\n",
    "import pandas as pd"
   ]
  },
  {
   "cell_type": "code",
   "execution_count": 2,
   "metadata": {},
   "outputs": [],
   "source": [
    "champions_league_df = pd.read_csv('..\\\\Consolidated Data\\\\Champions_League_Data.csv')\n",
    "cl_in_scope_df = champions_league_df.loc[champions_league_df.loc[champions_league_df['Season']==2005].index[0]:champions_league_df.loc[champions_league_df['Season']==2019].index[0]]\n",
    "cl_teams = cl_in_scope_df['Winners'].append(cl_in_scope_df['Runner Up']).append(cl_in_scope_df['SF1']).append(cl_in_scope_df['SF2'])\n",
    "cl_teams = cl_teams.unique()"
   ]
  },
  {
   "cell_type": "code",
   "execution_count": 3,
   "metadata": {},
   "outputs": [],
   "source": [
    "range1_start = int(cl_in_scope_df['Season'].max())\n",
    "range2_start = range1_start-3\n",
    "range3_start = range2_start-3\n",
    "range4_start = range3_start-3\n",
    "range5_start = range4_start-3\n",
    "range_dict = {\"range1_start\":range1_start,\"range2_start\":range2_start,\"range3_start\":range3_start,\"range4_start\":range4_start,\"range5_start\":range5_start}"
   ]
  },
  {
   "cell_type": "code",
   "execution_count": 4,
   "metadata": {},
   "outputs": [],
   "source": [
    "final_df = pd.DataFrame(columns=['Team','Range1_Win','Range2_Win','Range3_Win','Range4_Win','Range5_Win','Range1_Run','Range2_Run','Range3_Run','Range4_Run','Range5_Run','Range1_SF','Range2_SF','Range3_SF','Range4_SF','Range5_SF'])"
   ]
  },
  {
   "cell_type": "code",
   "execution_count": 5,
   "metadata": {},
   "outputs": [],
   "source": [
    "final_df['Team'] = cl_teams\n",
    "final_df = final_df.set_index('Team')"
   ]
  },
  {
   "cell_type": "code",
   "execution_count": 6,
   "metadata": {},
   "outputs": [],
   "source": [
    "final_df=final_df.fillna(0)"
   ]
  },
  {
   "cell_type": "code",
   "execution_count": 7,
   "metadata": {},
   "outputs": [],
   "source": [
    "cl_range_1 = cl_in_scope_df.loc[61:63]\n",
    "range1_winners = cl_range_1.groupby(['Winners']).count()['Season']\n",
    "range1_runners = cl_range_1.groupby(['Runner Up']).count()['Season']\n",
    "range1_sf1 = cl_range_1.groupby(['SF1']).count()['Season']\n",
    "range1_sf2 = cl_range_1.groupby(['SF2']).count()['Season']\n",
    "range1_sf = range1_sf1.append(range1_sf2)\n",
    "range1_sf_df = range1_sf.to_frame()\n",
    "range1_sf_df.index.name = 'Team'\n",
    "range1_sf = range1_sf_df.groupby(['Team']).sum()['Season']"
   ]
  },
  {
   "cell_type": "code",
   "execution_count": 8,
   "metadata": {},
   "outputs": [],
   "source": [
    "df = range1_winners.to_frame().T\n",
    "df.columns\n",
    "for i in df.columns:\n",
    "    final_df.loc[i]['Range1_Win'] = range1_winners[i]\n",
    "\n",
    "df = range1_runners.to_frame().T\n",
    "df.columns\n",
    "for i in df.columns:\n",
    "    final_df.loc[i]['Range1_Run'] = range1_runners[i]\n",
    "\n",
    "df = range1_sf.to_frame().T\n",
    "df.columns\n",
    "for i in df.columns:\n",
    "    final_df.loc[i]['Range1_SF'] = range1_sf[i]"
   ]
  },
  {
   "cell_type": "code",
   "execution_count": 9,
   "metadata": {},
   "outputs": [],
   "source": [
    "cl_range_2 = cl_in_scope_df.loc[58:60]\n",
    "range2_winners = cl_range_2.groupby(['Winners']).count()['Season']\n",
    "range2_runners = cl_range_2.groupby(['Runner Up']).count()['Season']\n",
    "range2_sf1 = cl_range_2.groupby(['SF1']).count()['Season']\n",
    "range2_sf2 = cl_range_2.groupby(['SF2']).count()['Season']\n",
    "range2_sf = range2_sf1.append(range2_sf2)\n",
    "range2_sf_df = range2_sf.to_frame()\n",
    "range2_sf_df.index.name = 'Team'\n",
    "range2_sf = range2_sf_df.groupby(['Team']).sum()['Season']"
   ]
  },
  {
   "cell_type": "code",
   "execution_count": 10,
   "metadata": {},
   "outputs": [],
   "source": [
    "df = range2_winners.to_frame().T\n",
    "df.columns\n",
    "for i in df.columns:\n",
    "    final_df.loc[i]['Range2_Win'] = range2_winners[i]\n",
    "\n",
    "df = range2_runners.to_frame().T\n",
    "df.columns\n",
    "for i in df.columns:\n",
    "    final_df.loc[i]['Range2_Run'] = range2_runners[i]\n",
    "\n",
    "df = range2_sf.to_frame().T\n",
    "df.columns\n",
    "for i in df.columns:\n",
    "    final_df.loc[i]['Range2_SF'] = range2_sf[i]"
   ]
  },
  {
   "cell_type": "code",
   "execution_count": 11,
   "metadata": {},
   "outputs": [],
   "source": [
    "cl_range_3 = cl_in_scope_df.loc[55:57]\n",
    "range3_winners = cl_range_3.groupby(['Winners']).count()['Season']\n",
    "range3_runners = cl_range_3.groupby(['Runner Up']).count()['Season']\n",
    "range3_sf1 = cl_range_3.groupby(['SF1']).count()['Season']\n",
    "range3_sf2 = cl_range_3.groupby(['SF2']).count()['Season']\n",
    "range3_sf = range3_sf1.append(range3_sf2)\n",
    "range3_sf_df = range3_sf.to_frame()\n",
    "range3_sf_df.index.name = 'Team'\n",
    "range3_sf = range3_sf_df.groupby(['Team']).sum()['Season']"
   ]
  },
  {
   "cell_type": "code",
   "execution_count": 12,
   "metadata": {},
   "outputs": [],
   "source": [
    "df = range3_winners.to_frame().T\n",
    "df.columns\n",
    "for i in df.columns:\n",
    "    final_df.loc[i]['Range3_Win'] = range3_winners[i]\n",
    "\n",
    "df = range3_runners.to_frame().T\n",
    "df.columns\n",
    "for i in df.columns:\n",
    "    final_df.loc[i]['Range3_Run'] = range3_runners[i]\n",
    "\n",
    "df = range3_sf.to_frame().T\n",
    "df.columns\n",
    "for i in df.columns:\n",
    "    final_df.loc[i]['Range3_SF'] = range3_sf[i]"
   ]
  },
  {
   "cell_type": "code",
   "execution_count": 13,
   "metadata": {},
   "outputs": [],
   "source": [
    "cl_range_4 = cl_in_scope_df.loc[52:54]\n",
    "range4_winners = cl_range_4.groupby(['Winners']).count()['Season']\n",
    "range4_runners = cl_range_4.groupby(['Runner Up']).count()['Season']\n",
    "range4_sf1 = cl_range_4.groupby(['SF1']).count()['Season']\n",
    "range4_sf2 = cl_range_4.groupby(['SF2']).count()['Season']\n",
    "range4_sf = range4_sf1.append(range4_sf2)\n",
    "range4_sf_df = range4_sf.to_frame()\n",
    "range4_sf_df.index.name = 'Team'\n",
    "range4_sf = range4_sf_df.groupby(['Team']).sum()['Season']"
   ]
  },
  {
   "cell_type": "code",
   "execution_count": 14,
   "metadata": {},
   "outputs": [],
   "source": [
    "df = range4_winners.to_frame().T\n",
    "df.columns\n",
    "for i in df.columns:\n",
    "    final_df.loc[i]['Range4_Win'] = range4_winners[i]\n",
    "\n",
    "df = range4_runners.to_frame().T\n",
    "df.columns\n",
    "for i in df.columns:\n",
    "    final_df.loc[i]['Range4_Run'] = range4_runners[i]\n",
    "\n",
    "df = range4_sf.to_frame().T\n",
    "df.columns\n",
    "for i in df.columns:\n",
    "    final_df.loc[i]['Range4_SF'] = range4_sf[i]"
   ]
  },
  {
   "cell_type": "code",
   "execution_count": 15,
   "metadata": {},
   "outputs": [],
   "source": [
    "cl_range_5 = cl_in_scope_df.loc[49:53]\n",
    "range5_winners = cl_range_5.groupby(['Winners']).count()['Season']\n",
    "range5_runners = cl_range_5.groupby(['Runner Up']).count()['Season']\n",
    "range5_sf1 = cl_range_5.groupby(['SF1']).count()['Season']\n",
    "range5_sf2 = cl_range_5.groupby(['SF2']).count()['Season']\n",
    "range5_sf = range5_sf1.append(range5_sf2)\n",
    "range5_sf_df = range5_sf.to_frame()\n",
    "range5_sf_df.index.name = 'Team'\n",
    "range5_sf = range5_sf_df.groupby(['Team']).sum()['Season']"
   ]
  },
  {
   "cell_type": "code",
   "execution_count": 16,
   "metadata": {},
   "outputs": [],
   "source": [
    "df = range5_winners.to_frame().T\n",
    "df.columns\n",
    "for i in df.columns:\n",
    "    final_df.loc[i]['Range5_Win'] = range5_winners[i]\n",
    "\n",
    "df = range5_runners.to_frame().T\n",
    "df.columns\n",
    "for i in df.columns:\n",
    "    final_df.loc[i]['Range5_Run'] = range5_runners[i]\n",
    "\n",
    "df = range5_sf.to_frame().T\n",
    "df.columns\n",
    "for i in df.columns:\n",
    "    final_df.loc[i]['Range5_SF'] = range5_sf[i]"
   ]
  },
  {
   "cell_type": "code",
   "execution_count": 17,
   "metadata": {},
   "outputs": [],
   "source": [
    "final_df.to_csv('..\\\\Consolidated Data\\\\Champions_League_CLub_Level.csv')"
   ]
  }
 ],
 "metadata": {
  "kernelspec": {
   "display_name": "Python 3",
   "language": "python",
   "name": "python3"
  },
  "language_info": {
   "codemirror_mode": {
    "name": "ipython",
    "version": 3
   },
   "file_extension": ".py",
   "mimetype": "text/x-python",
   "name": "python",
   "nbconvert_exporter": "python",
   "pygments_lexer": "ipython3",
   "version": "3.6.4"
  }
 },
 "nbformat": 4,
 "nbformat_minor": 2
}
