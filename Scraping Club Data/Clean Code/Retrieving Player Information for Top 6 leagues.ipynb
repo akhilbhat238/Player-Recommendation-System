{
 "cells": [
  {
   "cell_type": "code",
   "execution_count": 68,
   "metadata": {},
   "outputs": [],
   "source": [
    "import numpy as np\n",
    "import pandas as pd\n",
    "from bs4 import BeautifulSoup\n",
    "import requests"
   ]
  },
  {
   "cell_type": "code",
   "execution_count": 71,
   "metadata": {},
   "outputs": [],
   "source": [
    "def get_club_details(club_name,club_link):\n",
    "    i_url = club_link\n",
    "    i_headers = {\"User-Agent\":\"Mozilla/5.0\"}\n",
    "    i_response = requests.get(i_url, headers=i_headers)\n",
    "    i_soup = BeautifulSoup(i_response.content, 'html.parser')\n",
    "    i_tables = i_soup.findAll(\"table\")\n",
    "    i_data_values = i_tables[1].find('tbody').find_all('tr')\n",
    "    header=['Club','Position','Player_Name','DOB','Nation','Contract_Expiry','Value']\n",
    "    content=pd.DataFrame(columns=header)\n",
    "    for i in range(0,len(i_data_values),3):\n",
    "        content_list=[]\n",
    "        if(i_data_values[i].find_all('td')[1].contents[0].name=='table'):\n",
    "            content_list.append(club_name)\n",
    "            content_list.append(i_data_values[i].find_all('td')[0].get('title'))\n",
    "            content_list.append(i_data_values[i].find_all('td')[1].contents[0].contents[0].find_all('a')[1].contents[0])\n",
    "            content_list.append(i_data_values[i].find_all('td')[5].contents[0])\n",
    "            content_list.append(i_data_values[i].find_all('td')[6].contents[0].get('title'))\n",
    "            content_list.append(i_data_values[i].find_all('td')[7].contents[0])\n",
    "            content_list.append(i_data_values[i].find_all('td')[8].contents[0].strip())\n",
    "        else:\n",
    "            content_list.append(club_name)\n",
    "            content_list.append(i_data_values[i].find_all('td')[0].get('title'))\n",
    "            content_list.append(i_data_values[i].find_all('td')[3].contents[0].contents[0].contents[0].contents[0])\n",
    "            content_list.append(i_data_values[i].find_all('td')[5].contents[0])\n",
    "            content_list.append(i_data_values[i].find_all('td')[6].contents[0].get('title'))\n",
    "            content_list.append(i_data_values[i].find_all('td')[7].contents[0])\n",
    "            content_list.append(i_data_values[i].find_all('td')[8].contents[0].strip())\n",
    "#         print(content_list)\n",
    "        content.loc[i] = content_list\n",
    "#     content['Player Number'] = content.index\n",
    "    content.reset_index(level=0, inplace=True)\n",
    "    content.drop([\"index\"], axis = 1, inplace = True)\n",
    "    return content"
   ]
  },
  {
   "cell_type": "code",
   "execution_count": 85,
   "metadata": {},
   "outputs": [],
   "source": [
    "header=['Club','Position','Player_Name','DOB','Nation','Contract_Expiry','Value']\n",
    "premier_league_df=pd.DataFrame(columns=header)\n",
    "for i in range(0,len(tables[3].find('tbody').find_all('tr'))):\n",
    "    club_name = tables[3].find('tbody').find_all('tr')[i].find('td').find('img').get('alt')\n",
    "    club_link = (tables[3].find('tbody').find_all('tr')[i].find('td').find('a').get('href'))\n",
    "    club_link = 'https://www.transfermarkt.co.uk'+club_link\n",
    "    club_link=club_link.replace(\"startseite\", \"kader\")\n",
    "    club_df = get_club_details(club_name,club_link)\n",
    "    premier_league_df=premier_league_df.append(club_df)"
   ]
  },
  {
   "cell_type": "code",
   "execution_count": 114,
   "metadata": {},
   "outputs": [],
   "source": [
    "def get_league_details(league,league_link):\n",
    "    url = league_link\n",
    "    headers = {\"User-Agent\":\"Mozilla/5.0\"}\n",
    "    response = requests.get(url, headers=headers)\n",
    "    soup = BeautifulSoup(response.content, 'html.parser')\n",
    "    tables = soup.findAll(\"table\")\n",
    "    header=['Club','Position','Player_Name','DOB','Nation','Contract_Expiry','Value']\n",
    "    league_df=pd.DataFrame(columns=header)\n",
    "    for i in range(0,len(tables[3].find('tbody').find_all('tr'))):\n",
    "        club_name = tables[3].find('tbody').find_all('tr')[i].find('td').find('img').get('alt')\n",
    "        club_link = (tables[3].find('tbody').find_all('tr')[i].find('td').find('a').get('href'))\n",
    "        club_link = 'https://www.transfermarkt.co.uk'+club_link\n",
    "        club_link=club_link.replace(\"startseite\", \"kader\")\n",
    "        club_df = get_club_details(club_name,club_link)\n",
    "        league_df=league_df.append(club_df)\n",
    "    league_df['League'] = league\n",
    "    league_df.reset_index(level=0, inplace=True)\n",
    "    league_df.drop([\"index\"], axis = 1, inplace = True)\n",
    "    return league_df"
   ]
  },
  {
   "cell_type": "code",
   "execution_count": 122,
   "metadata": {},
   "outputs": [],
   "source": [
    "premier_league_df = get_league_details('Premier League','https://www.transfermarkt.co.uk/jumplist/startseite/wettbewerb/GB1')\n",
    "\n",
    "la_liga_df = get_league_details('La Liga','https://www.transfermarkt.co.uk/jumplist/startseite/wettbewerb/ES1')\n",
    "\n",
    "serie_a_df = get_league_details('Serie A','https://www.transfermarkt.co.uk/jumplist/startseite/wettbewerb/IT1')\n",
    "\n",
    "bundesliga_df = get_league_details('Bundesliga','https://www.transfermarkt.co.uk/jumplist/startseite/wettbewerb/L1')\n",
    "\n",
    "ligue1_df = get_league_details('Ligue 1','https://www.transfermarkt.co.uk/jumplist/startseite/wettbewerb/FR1')\n",
    "\n",
    "eredivise_df = get_league_details('Eredivise','https://www.transfermarkt.co.uk/jumplist/startseite/wettbewerb/NL1')"
   ]
  },
  {
   "cell_type": "code",
   "execution_count": 126,
   "metadata": {},
   "outputs": [],
   "source": [
    "premier_league_df.to_csv('..\\\\Consolidated Data\\\\Premier League Data Consildation.csv')\n",
    "la_liga_df.to_csv('..\\\\Consolidated Data\\\\La Liga Data Consildation.csv')\n",
    "serie_a_df.to_csv('..\\\\Consolidated Data\\\\Serie A League Data Consildation.csv')\n",
    "bundesliga_df.to_csv('..\\\\Consolidated Data\\\\Bundesliga Data Consildation.csv')\n",
    "ligue1_df.to_csv('..\\\\Consolidated Data\\\\Ligue 1 Data Consildation.csv')\n",
    "eredivise_df.to_csv('..\\\\Consolidated Data\\\\Eredivise Data Consildation.csv')"
   ]
  }
 ],
 "metadata": {
  "kernelspec": {
   "display_name": "Python 3",
   "language": "python",
   "name": "python3"
  },
  "language_info": {
   "codemirror_mode": {
    "name": "ipython",
    "version": 3
   },
   "file_extension": ".py",
   "mimetype": "text/x-python",
   "name": "python",
   "nbconvert_exporter": "python",
   "pygments_lexer": "ipython3",
   "version": "3.6.4"
  }
 },
 "nbformat": 4,
 "nbformat_minor": 2
}
