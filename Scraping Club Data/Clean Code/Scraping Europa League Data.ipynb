{
 "cells": [
  {
   "cell_type": "markdown",
   "metadata": {},
   "source": [
    "### Necessary Imports"
   ]
  },
  {
   "cell_type": "code",
   "execution_count": 46,
   "metadata": {},
   "outputs": [],
   "source": [
    "import numpy as np\n",
    "import pandas as pd\n",
    "from bs4 import BeautifulSoup\n",
    "import requests"
   ]
  },
  {
   "cell_type": "markdown",
   "metadata": {},
   "source": [
    "### Use Beautiful Soup to pull all contents of the web-page"
   ]
  },
  {
   "cell_type": "code",
   "execution_count": 31,
   "metadata": {},
   "outputs": [],
   "source": [
    "page = requests.get('https://en.wikipedia.org/wiki/UEFA_Cup_and_Europa_League_records_and_statistics')\n",
    "soup = BeautifulSoup(page.content,'html.parser')"
   ]
  },
  {
   "cell_type": "markdown",
   "metadata": {},
   "source": [
    "### Find the necessary table on the page. First let us consider the finalist data."
   ]
  },
  {
   "cell_type": "code",
   "execution_count": 32,
   "metadata": {},
   "outputs": [],
   "source": [
    "tables = soup.findAll(\"table\")"
   ]
  },
  {
   "cell_type": "markdown",
   "metadata": {},
   "source": [
    "### Build Table Header"
   ]
  },
  {
   "cell_type": "code",
   "execution_count": 33,
   "metadata": {},
   "outputs": [],
   "source": [
    "table_header = tables[1].findAll(\"tr\")\n",
    "header_list=[]\n",
    "for i in range(1,len(table_header[0])):\n",
    "    if(i==1):\n",
    "        header_list.append(table_header[0].contents[i].contents[0].lstrip().rstrip())\n",
    "    elif (i%2 != 0):\n",
    "        header_list.append(table_header[0].contents[i].contents[0].lstrip().rstrip())"
   ]
  },
  {
   "cell_type": "markdown",
   "metadata": {},
   "source": [
    "### Create an empty data frame with all the columns"
   ]
  },
  {
   "cell_type": "code",
   "execution_count": 34,
   "metadata": {},
   "outputs": [],
   "source": [
    "el_final_record = pd.DataFrame(columns=header_list)"
   ]
  },
  {
   "cell_type": "markdown",
   "metadata": {},
   "source": [
    "### Consume all the row element columns and populate the data frame for the finalists"
   ]
  },
  {
   "cell_type": "code",
   "execution_count": 35,
   "metadata": {},
   "outputs": [],
   "source": [
    "rows = tables[1].findAll(\"tr\")\n",
    "x = rows[1].contents[9].findAll(\"a\")\n",
    "for club in range(1,len(rows)):\n",
    "    club_name = rows[club].contents[1].contents[2].contents[0]\n",
    "    titles = rows[club].contents[3].contents[0].rstrip()\n",
    "    runners = rows[club].contents[3].contents[0].rstrip()\n",
    "    x = rows[club].contents[7].findAll(\"a\")\n",
    "    win_list = []\n",
    "    for i in range(0,len(x)):\n",
    "        win_list.append(x[i].contents[0])\n",
    "    y = rows[club].contents[9].findAll(\"a\")\n",
    "    runner_list = []\n",
    "    for j in range(0,len(y)):\n",
    "        runner_list.append(y[j].contents[0])\n",
    "    el_final_record.loc[club-1] = [club_name,titles,runners,win_list,runner_list]"
   ]
  },
  {
   "cell_type": "markdown",
   "metadata": {},
   "source": [
    "### Find the data for the semi-finalists and build a seperate data frame"
   ]
  },
  {
   "cell_type": "code",
   "execution_count": 36,
   "metadata": {},
   "outputs": [],
   "source": [
    "semi_table_hdr = tables[8].findAll(\"tr\")\n",
    "semi_hdr_list = []\n",
    "for i in range(1,len(semi_table_hdr[0])):\n",
    "    if (i%2 != 0):\n",
    "        semi_hdr_list.append(semi_table_hdr[0].contents[i].contents[0].lstrip().rstrip())"
   ]
  },
  {
   "cell_type": "markdown",
   "metadata": {},
   "source": [
    "### Consume all the row element columns and populate the data frame for the finalists"
   ]
  },
  {
   "cell_type": "code",
   "execution_count": 37,
   "metadata": {},
   "outputs": [],
   "source": [
    "el_semi_record = pd.DataFrame(columns=semi_hdr_list)\n",
    "rows = tables[8].findAll(\"tr\")\n",
    "for club in range(1,len(rows)):\n",
    "    club_name = rows[club].contents[1].contents[2].contents[0]\n",
    "    number_of_semis = rows[club].contents[3].contents[0].rstrip()\n",
    "    x = rows[club].contents[5].findAll(\"a\")\n",
    "    years = []\n",
    "    for i in range(0,len(x)):\n",
    "        years.append(x[i].contents[0])\n",
    "    el_semi_record.loc[club-1] = [club_name,number_of_semis,years]"
   ]
  },
  {
   "cell_type": "code",
   "execution_count": 38,
   "metadata": {},
   "outputs": [],
   "source": [
    "season_dict={}\n",
    "for i in range(0,len(el_final_record)):\n",
    "    club_name = el_final_record['Club'][i]\n",
    "    winning_list = el_final_record[el_final_record.Club == club_name]['Years won'].tolist()\n",
    "    for i in range(0,len(winning_list)):\n",
    "            season_list = winning_list[i]\n",
    "            if(len(season_list)!=0):\n",
    "                for i in season_list:\n",
    "                    season_dict[i] = [club_name]"
   ]
  },
  {
   "cell_type": "markdown",
   "metadata": {},
   "source": [
    "### Using the other website to get the runner-up details"
   ]
  },
  {
   "cell_type": "code",
   "execution_count": 39,
   "metadata": {},
   "outputs": [],
   "source": [
    "supp_page = requests.get('https://en.wikipedia.org/wiki/List_of_UEFA_Cup_and_Europa_League_finals')\n",
    "supp_soup = BeautifulSoup(supp_page.content,'html.parser')\n",
    "supp_tables = supp_soup.findAll(\"table\")\n",
    "x=supp_tables[2].find_all(\"th\")\n",
    "hdr_list = ['Season','Runners-Up']\n",
    "runners = pd.DataFrame(columns=hdr_list)\n",
    "season_list=[]\n",
    "for i in range(8,56):\n",
    "    season = (x[i].contents[0].contents[0])\n",
    "    if len(season) > 7:\n",
    "        season_list.append(season[-4:])\n",
    "    else:\n",
    "        season_list.append(season[0:2]+season[-2:])\n",
    "con = supp_tables[2].find_all(\"td\")\n",
    "runners.Season = season_list\n",
    "runners_list=[]\n",
    "for i in range(3,264,10):\n",
    "    runners_list.append(con[i].contents[0])\n",
    "for i in range(270,414,7):\n",
    "    runners_list.append(con[i].contents[0])\n",
    "runner_up=[]\n",
    "for i in range(0,len(runners_list)):\n",
    "    runner_up.append(runners_list[i].contents[0])\n",
    "runners['Runners-Up'] = runner_up\n",
    "for i in range(0,len(runners)):\n",
    "    season_dict[runners['Season'][i]].append(runners['Runners-Up'][i])"
   ]
  },
  {
   "cell_type": "markdown",
   "metadata": {},
   "source": [
    "### Now add the other semi-finalists from the semi finalist data frame to complete the dataset"
   ]
  },
  {
   "cell_type": "code",
   "execution_count": 40,
   "metadata": {},
   "outputs": [],
   "source": [
    "teams = el_semi_record['Team']\n",
    "for team in teams:\n",
    "    season_list=[]\n",
    "    team_list = el_semi_record[el_semi_record['Team']==team]['Years']\n",
    "    team_index = team_list.index[0]\n",
    "    season_list = team_list[team_index]\n",
    "    for season in season_list:\n",
    "        if(team!=season_dict[season][0]):\n",
    "            if(team!=season_dict[season][1]):\n",
    "                season_dict[season].append(team)"
   ]
  },
  {
   "cell_type": "markdown",
   "metadata": {},
   "source": [
    "### Clean the data-set to remove duplication caused due to the use of different names for the same team"
   ]
  },
  {
   "cell_type": "code",
   "execution_count": 41,
   "metadata": {},
   "outputs": [],
   "source": [
    "season_dict_items = season_dict.items()\n",
    "for i in season_dict_items:\n",
    "    if (len(i[1])>4):\n",
    "        if((season_dict[i[0]][2][0:5]==season_dict[i[0]][0][0:5]) or (season_dict[i[0]][2][0:5]==season_dict[i[0]][1][0:5])):\n",
    "            season_dict[i[0]].remove(season_dict[i[0]][2])\n",
    "        elif((season_dict[i[0]][3][0:5]==season_dict[i[0]][0][0:5]) or (season_dict[i[0]][3][0:5]==season_dict[i[0]][1][0:5])):\n",
    "            season_dict[i[0]].remove(season_dict[i[0]][3])\n",
    "        elif((season_dict[i[0]][4][0:5]==season_dict[i[0]][0][0:5]) or (season_dict[i[0]][4][0:5]==season_dict[i[0]][1][0:5])):\n",
    "            season_dict[i[0]].remove(season_dict[i[0]][4])"
   ]
  },
  {
   "cell_type": "markdown",
   "metadata": {},
   "source": [
    "### Clean the data-set to remove duplication caused due to the use of different names for the same team"
   ]
  },
  {
   "cell_type": "code",
   "execution_count": 42,
   "metadata": {},
   "outputs": [],
   "source": [
    "for i in season_dict_items:\n",
    "    if (len(i[1])>4):\n",
    "        if((season_dict[i[0]][2][-6:]==season_dict[i[0]][0][-6:]) or (season_dict[i[0]][2][-6:]==season_dict[i[0]][1][-6:])):\n",
    "            season_dict[i[0]].remove(season_dict[i[0]][2])\n",
    "        elif((season_dict[i[0]][3][-6:]==season_dict[i[0]][0][-6:]) or (season_dict[i[0]][3][-6:]==season_dict[i[0]][1][-6:])):\n",
    "            season_dict[i[0]].remove(season_dict[i[0]][3])\n",
    "        elif((season_dict[i[0]][4][-6:]==season_dict[i[0]][0][-6:]) or (season_dict[i[0]][4][-6:]==season_dict[i[0]][1][-6:])):\n",
    "            season_dict[i[0]].remove(season_dict[i[0]][4])"
   ]
  },
  {
   "cell_type": "markdown",
   "metadata": {},
   "source": [
    "### Convert the list of dictionaries into a self-contained data-frame which has winners, runner-ups and finalists for each season"
   ]
  },
  {
   "cell_type": "code",
   "execution_count": 43,
   "metadata": {},
   "outputs": [],
   "source": [
    "europa_league_data = pd.DataFrame(list(season_dict.items()))\n",
    "europa_league_data.columns = ['Season','Teams']\n",
    "winner_list=[]\n",
    "runner_list=[]\n",
    "sf1_list=[]\n",
    "sf2_list=[]\n",
    "for i in range(0,len(europa_league_data)):\n",
    "    winner_list.append(europa_league_data.Teams[i][0])\n",
    "    runner_list.append(europa_league_data.Teams[i][1])\n",
    "    sf1_list.append(europa_league_data.Teams[i][2])\n",
    "    sf2_list.append(europa_league_data.Teams[i][3])\n",
    "europa_league_data['Winners'] = winner_list\n",
    "europa_league_data['Runner Up'] = runner_list\n",
    "europa_league_data['SF1'] = sf1_list\n",
    "europa_league_data['SF2'] = sf2_list\n",
    "europa_league_data = europa_league_data.drop(columns='Teams')\n",
    "europa_league_data = europa_league_data.sort_values('Season')\n",
    "europa_league_data = europa_league_data.set_index('Season')"
   ]
  },
  {
   "cell_type": "code",
   "execution_count": 45,
   "metadata": {},
   "outputs": [],
   "source": [
    "europa_league_data.to_csv('Europa_League_Data.csv',index=False)"
   ]
  }
 ],
 "metadata": {
  "kernelspec": {
   "display_name": "Python 3",
   "language": "python",
   "name": "python3"
  },
  "language_info": {
   "codemirror_mode": {
    "name": "ipython",
    "version": 3
   },
   "file_extension": ".py",
   "mimetype": "text/x-python",
   "name": "python",
   "nbconvert_exporter": "python",
   "pygments_lexer": "ipython3",
   "version": "3.7.4"
  }
 },
 "nbformat": 4,
 "nbformat_minor": 2
}
