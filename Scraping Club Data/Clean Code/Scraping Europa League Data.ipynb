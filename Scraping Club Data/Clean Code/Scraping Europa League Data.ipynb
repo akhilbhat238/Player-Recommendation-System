{
 "cells": [
  {
   "cell_type": "markdown",
   "metadata": {},
   "source": [
    "### Necessary Imports"
   ]
  },
  {
   "cell_type": "code",
   "execution_count": 152,
   "metadata": {},
   "outputs": [],
   "source": [
    "import numpy as np\n",
    "import pandas as pd\n",
    "from bs4 import BeautifulSoup\n",
    "import requests"
   ]
  },
  {
   "cell_type": "markdown",
   "metadata": {},
   "source": [
    "### Use Beautiful Soup to pull all contents of the web-page"
   ]
  },
  {
   "cell_type": "code",
   "execution_count": 153,
   "metadata": {},
   "outputs": [],
   "source": [
    "page = requests.get('https://en.wikipedia.org/wiki/UEFA_Cup_and_Europa_League_records_and_statistics')\n",
    "soup = BeautifulSoup(page.content,'html.parser')"
   ]
  },
  {
   "cell_type": "markdown",
   "metadata": {},
   "source": [
    "### Find the necessary table on the page. First let us consider the finalist data."
   ]
  },
  {
   "cell_type": "code",
   "execution_count": 154,
   "metadata": {},
   "outputs": [],
   "source": [
    "tables = soup.findAll(\"table\")"
   ]
  },
  {
   "cell_type": "markdown",
   "metadata": {},
   "source": [
    "### Build Table Header"
   ]
  },
  {
   "cell_type": "code",
   "execution_count": 155,
   "metadata": {},
   "outputs": [],
   "source": [
    "table_header = tables[0].findAll(\"tr\")\n",
    "header_list=[]\n",
    "for i in range(1,len(table_header[0])):\n",
    "    if(i==1):\n",
    "        header_list.append(table_header[0].contents[i].contents[0].lstrip().rstrip())\n",
    "    elif (i%2 != 0):\n",
    "        header_list.append(table_header[0].contents[i].contents[0].lstrip().rstrip())"
   ]
  },
  {
   "cell_type": "code",
   "execution_count": 156,
   "metadata": {},
   "outputs": [],
   "source": [
    "header_list.append('League')"
   ]
  },
  {
   "cell_type": "code",
   "execution_count": 157,
   "metadata": {},
   "outputs": [
    {
     "data": {
      "text/plain": [
       "['Club', 'Winners', 'Runners-up', 'Years won', 'Years runner-up', 'League']"
      ]
     },
     "execution_count": 157,
     "metadata": {},
     "output_type": "execute_result"
    }
   ],
   "source": [
    "header_list"
   ]
  },
  {
   "cell_type": "markdown",
   "metadata": {},
   "source": [
    "### Create an empty data frame with all the columns"
   ]
  },
  {
   "cell_type": "code",
   "execution_count": 158,
   "metadata": {},
   "outputs": [],
   "source": [
    "el_final_record = pd.DataFrame(columns=header_list)"
   ]
  },
  {
   "cell_type": "markdown",
   "metadata": {},
   "source": [
    "### Function to pull League information"
   ]
  },
  {
   "cell_type": "code",
   "execution_count": 159,
   "metadata": {},
   "outputs": [],
   "source": [
    "def get_league(temp_link):\n",
    "    club_link = 'https://en.wikipedia.org/' + temp_link\n",
    "    club_page = requests.get(club_link)\n",
    "    club_soup = BeautifulSoup(club_page.content,'html.parser')\n",
    "    info_table = club_soup.find('table',attrs={\"class\":\"infobox vcard\"})\n",
    "    info_table_rows = info_table.find_all('tr')\n",
    "    try:\n",
    "        for j in range(0,12):\n",
    "            if(info_table_rows[j].contents[0].contents[0]=='League'):\n",
    "                league_name=(info_table_rows[j].contents[1].contents[0].get('title'))\n",
    "                break\n",
    "    except IndexError:\n",
    "        league_name = 'Unavailable'\n",
    "    return(league_name)"
   ]
  },
  {
   "cell_type": "markdown",
   "metadata": {},
   "source": [
    "### Consume all the row element columns and populate the data frame for the finalists"
   ]
  },
  {
   "cell_type": "code",
   "execution_count": 160,
   "metadata": {},
   "outputs": [],
   "source": [
    "rows = tables[0].findAll(\"tr\")\n",
    "for club in range(1,len(rows)):\n",
    "    club_name = rows[club].contents[1].contents[2].contents[0]\n",
    "    temp_link = rows[club].contents[1].contents[2].get('href')\n",
    "    league_name = get_league(temp_link)    \n",
    "    titles = rows[club].contents[3].contents[0].rstrip()\n",
    "    runners = rows[club].contents[5].contents[0].rstrip()\n",
    "    x = rows[club].contents[7].findAll(\"a\")\n",
    "    win_list = []\n",
    "    for i in range(0,len(x)):\n",
    "        win_list.append(x[i].contents[0])\n",
    "    y = rows[club].contents[9].findAll(\"a\")\n",
    "    runner_list = []\n",
    "    for j in range(0,len(y)):\n",
    "        runner_list.append(y[j].contents[0])\n",
    "    el_final_record.loc[club-1] = [club_name,titles,runners,win_list,runner_list,league_name]"
   ]
  },
  {
   "cell_type": "markdown",
   "metadata": {},
   "source": [
    "### Find the data for the semi-finalists and build a seperate data frame"
   ]
  },
  {
   "cell_type": "code",
   "execution_count": 161,
   "metadata": {},
   "outputs": [],
   "source": [
    "semi_table_hdr = tables[7].findAll(\"tr\")\n",
    "semi_hdr_list = []\n",
    "for i in range(1,len(semi_table_hdr[0])):\n",
    "    if (i%2 != 0):\n",
    "        semi_hdr_list.append(semi_table_hdr[0].contents[i].contents[0].lstrip().rstrip())"
   ]
  },
  {
   "cell_type": "code",
   "execution_count": 162,
   "metadata": {},
   "outputs": [],
   "source": [
    "semi_hdr_list.append('League')"
   ]
  },
  {
   "cell_type": "markdown",
   "metadata": {},
   "source": [
    "### Consume all the row element columns and populate the data frame for the finalists"
   ]
  },
  {
   "cell_type": "code",
   "execution_count": 163,
   "metadata": {},
   "outputs": [],
   "source": [
    "el_semi_record = pd.DataFrame(columns=semi_hdr_list)\n",
    "rows = tables[7].findAll(\"tr\")\n",
    "for club in range(1,len(rows)):\n",
    "    club_name = rows[club].contents[1].contents[2].contents[0]\n",
    "    temp_link = rows[club].contents[1].contents[2].get('href')\n",
    "    league_name = get_league(temp_link)\n",
    "    number_of_semis = rows[club].contents[3].contents[0].rstrip()\n",
    "    x = rows[club].contents[5].findAll(\"a\")\n",
    "    years = []\n",
    "    for i in range(0,len(x)):\n",
    "        years.append(x[i].contents[0])\n",
    "    el_semi_record.loc[club-1] = [club_name,number_of_semis,years,league_name]"
   ]
  },
  {
   "cell_type": "code",
   "execution_count": 164,
   "metadata": {},
   "outputs": [],
   "source": [
    "season_dict={}\n",
    "league_dict={}\n",
    "for i in range(0,len(el_final_record)):\n",
    "    club_name = el_final_record['Club'][i]\n",
    "    league_name = el_final_record['League'][i]\n",
    "    winning_list = el_final_record[el_final_record.Club == club_name]['Years won'].tolist()\n",
    "    for i in range(0,len(winning_list)):\n",
    "            season_list = winning_list[i]\n",
    "            if(len(season_list)!=0):\n",
    "                for i in season_list:\n",
    "                    season_dict[i] = [club_name]\n",
    "                    league_dict[i] = [league_name]"
   ]
  },
  {
   "cell_type": "markdown",
   "metadata": {},
   "source": [
    "### Using the other website to get the runner-up details"
   ]
  },
  {
   "cell_type": "code",
   "execution_count": 165,
   "metadata": {},
   "outputs": [],
   "source": [
    "supp_page = requests.get('https://en.wikipedia.org/wiki/List_of_UEFA_Cup_and_Europa_League_finals')\n",
    "supp_soup = BeautifulSoup(supp_page.content,'html.parser')\n",
    "supp_tables = supp_soup.findAll(\"table\")\n",
    "x=supp_tables[2].find_all(\"th\")\n",
    "hdr_list = ['Season','Runners-Up']\n",
    "runners = pd.DataFrame(columns=hdr_list)\n",
    "rn_league = pd.DataFrame(columns=hdr_list)\n",
    "season_list=[]\n",
    "for i in range(8,56):\n",
    "    season = (x[i].contents[0].contents[0])\n",
    "    if len(season) > 7:\n",
    "        season_list.append(season[-4:])\n",
    "    else:\n",
    "        season_list.append(season[0:2]+season[-2:])\n",
    "con = supp_tables[2].find_all(\"td\")\n",
    "runners.Season = season_list\n",
    "rn_league.Season = season_list\n",
    "runners_list=[]\n",
    "for i in range(3,264,10):\n",
    "    runners_list.append(con[i].contents[0])\n",
    "for i in range(270,414,7):\n",
    "    runners_list.append(con[i].contents[0])\n",
    "runner_up=[]\n",
    "league_run=[]\n",
    "for i in range(0,len(runners_list)):\n",
    "    team_name = runners_list[i].contents[0]\n",
    "    runner_up.append(team_name)    \n",
    "    temp_link = runners_list[i].get('href')\n",
    "    league_name = get_league(temp_link)\n",
    "    league_run.append(league_name)\n",
    "runners['Runners-Up'] = runner_up\n",
    "rn_league['Runners-Up'] = league_run\n",
    "for i in range(0,len(runners)):\n",
    "    season_dict[runners['Season'][i]].append(runners['Runners-Up'][i])\n",
    "    league_dict[rn_league['Season'][i]].append(rn_league['Runners-Up'][i])"
   ]
  },
  {
   "cell_type": "markdown",
   "metadata": {},
   "source": [
    "### Now add the other semi-finalists from the semi finalist data frame to complete the dataset"
   ]
  },
  {
   "cell_type": "code",
   "execution_count": 166,
   "metadata": {},
   "outputs": [],
   "source": [
    "teams = el_semi_record['Team']\n",
    "for team in teams:\n",
    "    league = el_semi_record[el_semi_record['Team']==team]['League'].values[0]\n",
    "    season_list=[]\n",
    "    team_list = el_semi_record[el_semi_record['Team']==team]['Years']\n",
    "    team_index = team_list.index[0]\n",
    "    season_list = team_list[team_index]\n",
    "    for season in season_list:\n",
    "        if(team!=season_dict[season][0]):\n",
    "            if(team!=season_dict[season][1]):\n",
    "                season_dict[season].append(team)\n",
    "                league_dict[season].append(league)"
   ]
  },
  {
   "cell_type": "markdown",
   "metadata": {},
   "source": [
    "### Clean the data-set to remove duplication caused due to the use of different names for the same team"
   ]
  },
  {
   "cell_type": "code",
   "execution_count": 167,
   "metadata": {},
   "outputs": [],
   "source": [
    "season_dict_items = season_dict.items()\n",
    "for i in season_dict_items:\n",
    "    if (len(i[1])>4):\n",
    "        if((season_dict[i[0]][2][0:5]==season_dict[i[0]][0][0:5]) or (season_dict[i[0]][2][0:5]==season_dict[i[0]][1][0:5])):\n",
    "            del(season_dict[i[0]][2])\n",
    "            del(league_dict[i[0]][2])\n",
    "        elif((season_dict[i[0]][3][0:5]==season_dict[i[0]][0][0:5]) or (season_dict[i[0]][3][0:5]==season_dict[i[0]][1][0:5])):\n",
    "            del(season_dict[i[0]][3])\n",
    "            del(league_dict[i[0]][3])\n",
    "        elif((season_dict[i[0]][4][0:5]==season_dict[i[0]][0][0:5]) or (season_dict[i[0]][4][0:5]==season_dict[i[0]][1][0:5])):\n",
    "            del(season_dict[i[0]][4])\n",
    "            del(league_dict[i[0]][4])"
   ]
  },
  {
   "cell_type": "markdown",
   "metadata": {},
   "source": [
    "### Clean the data-set to remove duplication caused due to the use of different names for the same team"
   ]
  },
  {
   "cell_type": "code",
   "execution_count": 168,
   "metadata": {},
   "outputs": [],
   "source": [
    "for i in season_dict_items:\n",
    "    if (len(i[1])>4):\n",
    "        if((season_dict[i[0]][2][-6:]==season_dict[i[0]][0][-6:]) or (season_dict[i[0]][2][-6:]==season_dict[i[0]][1][-6:])):\n",
    "            del(season_dict[i[0]][2])\n",
    "            del(league_dict[i[0]][2])\n",
    "        elif((season_dict[i[0]][3][-6:]==season_dict[i[0]][0][-6:]) or (season_dict[i[0]][3][-6:]==season_dict[i[0]][1][-6:])):\n",
    "            del(season_dict[i[0]][3])\n",
    "            del(league_dict[i[0]][3])\n",
    "        elif((season_dict[i[0]][4][-6:]==season_dict[i[0]][0][-6:]) or (season_dict[i[0]][4][-6:]==season_dict[i[0]][1][-6:])):\n",
    "            del(season_dict[i[0]][4])\n",
    "            del(league_dict[i[0]][4])"
   ]
  },
  {
   "cell_type": "code",
   "execution_count": 169,
   "metadata": {
    "scrolled": true
   },
   "outputs": [],
   "source": [
    "season_dict['1978'].remove('PSV Eindhoven')\n",
    "season_dict['1986'].remove('1. FC Köln')"
   ]
  },
  {
   "cell_type": "markdown",
   "metadata": {},
   "source": [
    "### Convert the list of dictionaries into a self-contained data-frame which has winners, runner-ups and finalists for each season"
   ]
  },
  {
   "cell_type": "code",
   "execution_count": 170,
   "metadata": {},
   "outputs": [],
   "source": [
    "europa_league_data = pd.DataFrame(list(season_dict.items()))\n",
    "europa_league_data.columns = ['Season','Teams']\n",
    "winner_list=[]\n",
    "runner_list=[]\n",
    "sf1_list=[]\n",
    "sf2_list=[]\n",
    "for i in range(0,len(europa_league_data)):\n",
    "    winner_list.append(europa_league_data.Teams[i][0])\n",
    "    runner_list.append(europa_league_data.Teams[i][1])\n",
    "    sf1_list.append(europa_league_data.Teams[i][2])\n",
    "    sf2_list.append(europa_league_data.Teams[i][3])\n",
    "europa_league_data['Winners'] = winner_list\n",
    "europa_league_data['Runner Up'] = runner_list\n",
    "europa_league_data['SF1'] = sf1_list\n",
    "europa_league_data['SF2'] = sf2_list\n",
    "europa_league_data = europa_league_data.drop(columns='Teams')\n",
    "europa_league_data = europa_league_data.sort_values('Season')\n",
    "europa_league_data = europa_league_data.set_index('Season')"
   ]
  },
  {
   "cell_type": "code",
   "execution_count": 171,
   "metadata": {},
   "outputs": [],
   "source": [
    "europa_league_teams = pd.DataFrame(list(league_dict.items()))\n",
    "europa_league_teams.columns = ['Season','Teams']\n",
    "winner_list=[]\n",
    "runner_list=[]\n",
    "sf1_list=[]\n",
    "sf2_list=[]\n",
    "for i in range(0,len(europa_league_teams)):\n",
    "    winner_list.append(europa_league_teams.Teams[i][0])\n",
    "    runner_list.append(europa_league_teams.Teams[i][1])\n",
    "    sf1_list.append(europa_league_teams.Teams[i][2])\n",
    "    sf2_list.append(europa_league_teams.Teams[i][3])\n",
    "europa_league_teams['Winners'] = winner_list\n",
    "europa_league_teams['Runner Up'] = runner_list\n",
    "europa_league_teams['SF1'] = sf1_list\n",
    "europa_league_teams['SF2'] = sf2_list\n",
    "europa_league_teams = europa_league_teams.drop(columns='Teams')\n",
    "europa_league_teams = europa_league_teams.sort_values('Season')\n",
    "europa_league_teams = europa_league_teams.set_index('Season')"
   ]
  },
  {
   "cell_type": "code",
   "execution_count": 172,
   "metadata": {},
   "outputs": [],
   "source": [
    "unique_leagues = europa_league_teams['Winners'].unique()\n",
    "unique_leagues = np.append(unique_leagues,europa_league_teams['Runner Up'].unique())\n",
    "unique_leagues = np.append(unique_leagues,europa_league_teams['SF1'].unique())\n",
    "unique_leagues = np.append(unique_leagues,europa_league_teams['SF2'].unique())\n",
    "lg_unique = np.unique(unique_leagues)\n",
    "header = ['range1win','range2win','range3win','range4win','range5win','range1run','range2run','range3run','range4run','range5run','range1sf1','range2sf1','range3sf1','range4sf1','range5sf1','range1sf2','range2sf2','range3sf2','range4sf2','range5sf2']\n",
    "league_df = pd.DataFrame(columns=header,index=lg_unique)\n",
    "league_df = league_df.fillna(0)"
   ]
  },
  {
   "cell_type": "code",
   "execution_count": 173,
   "metadata": {},
   "outputs": [],
   "source": [
    "range1_start = int(europa_league_teams.index.max())\n",
    "range2_start = range1_start-3\n",
    "range3_start = range2_start-3\n",
    "range4_start = range3_start-3\n",
    "range5_start = range4_start-3\n",
    "range_dict = {\"range1_start\":range1_start,\"range2_start\":range2_start,\"range3_start\":range3_start,\"range4_start\":range4_start,\"range5_start\":range5_start}"
   ]
  },
  {
   "cell_type": "code",
   "execution_count": 174,
   "metadata": {},
   "outputs": [],
   "source": [
    "for i in europa_league_teams.index:\n",
    "    if (range_dict['range1_start'] >= int(i) > range_dict['range2_start']):\n",
    "        winning_league = (europa_league_teams.loc[i]['Winners'])\n",
    "        runner_league = (europa_league_teams.loc[i]['Runner Up'])\n",
    "        sf1_league = (europa_league_teams.loc[i]['SF1'])\n",
    "        sf2_league = (europa_league_teams.loc[i]['SF2'])\n",
    "        league_df.loc[winning_league]['range1win'] = (league_df.loc[winning_league]['range1win']) + 1\n",
    "        league_df.loc[runner_league]['range1run'] = (league_df.loc[runner_league]['range1run']) + 1\n",
    "        league_df.loc[sf1_league]['range1sf1'] = (league_df.loc[sf1_league]['range1sf1']) + 1\n",
    "        league_df.loc[sf2_league]['range1sf2'] = (league_df.loc[sf2_league]['range1sf2']) + 1\n",
    "    elif (range_dict['range2_start'] >= int(i) > range_dict['range3_start']):\n",
    "        winning_league = (europa_league_teams.loc[i]['Winners'])\n",
    "        runner_league = (europa_league_teams.loc[i]['Runner Up'])\n",
    "        sf1_league = (europa_league_teams.loc[i]['SF1'])\n",
    "        sf2_league = (europa_league_teams.loc[i]['SF2'])\n",
    "        league_df.loc[winning_league]['range2win'] = (league_df.loc[winning_league]['range2win']) + 1\n",
    "        league_df.loc[runner_league]['range2run'] = (league_df.loc[runner_league]['range2run']) + 1\n",
    "        league_df.loc[sf1_league]['range2sf1'] = (league_df.loc[sf1_league]['range2sf1']) + 1\n",
    "        league_df.loc[sf2_league]['range2sf2'] = (league_df.loc[sf2_league]['range2sf2']) + 1\n",
    "    elif (range_dict['range3_start'] >= int(i) > range_dict['range4_start']):\n",
    "        winning_league = (europa_league_teams.loc[i]['Winners'])\n",
    "        runner_league = (europa_league_teams.loc[i]['Runner Up'])\n",
    "        sf1_league = (europa_league_teams.loc[i]['SF1'])\n",
    "        sf2_league = (europa_league_teams.loc[i]['SF2'])\n",
    "        league_df.loc[winning_league]['range3win'] = (league_df.loc[winning_league]['range3win']) + 1\n",
    "        league_df.loc[runner_league]['range3run'] = (league_df.loc[runner_league]['range3run']) + 1\n",
    "        league_df.loc[sf1_league]['range3sf1'] = (league_df.loc[sf1_league]['range3sf1']) + 1\n",
    "        league_df.loc[sf2_league]['range3sf2'] = (league_df.loc[sf2_league]['range3sf2']) + 1\n",
    "    elif (range_dict['range4_start'] >= int(i) > range_dict['range5_start']):\n",
    "        winning_league = (europa_league_teams.loc[i]['Winners'])\n",
    "        runner_league = (europa_league_teams.loc[i]['Runner Up'])\n",
    "        sf1_league = (europa_league_teams.loc[i]['SF1'])\n",
    "        sf2_league = (europa_league_teams.loc[i]['SF2'])\n",
    "        league_df.loc[winning_league]['range4win'] = (league_df.loc[winning_league]['range4win']) + 1\n",
    "        league_df.loc[runner_league]['range4run'] = (league_df.loc[runner_league]['range4run']) + 1\n",
    "        league_df.loc[sf1_league]['range4sf1'] = (league_df.loc[sf1_league]['range4sf1']) + 1\n",
    "        league_df.loc[sf2_league]['range4sf2'] = (league_df.loc[sf2_league]['range4sf2']) + 1\n",
    "    elif (range_dict['range5_start'] >= int(i) >= range_dict['range5_start']-2):\n",
    "        winning_league = (europa_league_teams.loc[i]['Winners'])\n",
    "        runner_league = (europa_league_teams.loc[i]['Runner Up'])\n",
    "        sf1_league = (europa_league_teams.loc[i]['SF1'])\n",
    "        sf2_league = (europa_league_teams.loc[i]['SF2'])\n",
    "        league_df.loc[winning_league]['range5win'] = (league_df.loc[winning_league]['range5win']) + 1\n",
    "        league_df.loc[runner_league]['range5run'] = (league_df.loc[runner_league]['range5run']) + 1\n",
    "        league_df.loc[sf1_league]['range5sf1'] = (league_df.loc[sf1_league]['range5sf1']) + 1\n",
    "        league_df.loc[sf2_league]['range5sf2'] = (league_df.loc[sf2_league]['range5sf2']) + 1"
   ]
  },
  {
   "cell_type": "code",
   "execution_count": 175,
   "metadata": {},
   "outputs": [],
   "source": [
    "league_df = league_df.fillna(0)"
   ]
  },
  {
   "cell_type": "code",
   "execution_count": 180,
   "metadata": {},
   "outputs": [],
   "source": [
    "# league_df.to_csv('..\\\\Consolidated Data\\\\Europa League Data Consildation.csv')"
   ]
  }
 ],
 "metadata": {
  "kernelspec": {
   "display_name": "Python 3",
   "language": "python",
   "name": "python3"
  },
  "language_info": {
   "codemirror_mode": {
    "name": "ipython",
    "version": 3
   },
   "file_extension": ".py",
   "mimetype": "text/x-python",
   "name": "python",
   "nbconvert_exporter": "python",
   "pygments_lexer": "ipython3",
   "version": "3.6.4"
  }
 },
 "nbformat": 4,
 "nbformat_minor": 2
}
