{
 "cells": [
  {
   "cell_type": "code",
   "execution_count": 2,
   "metadata": {},
   "outputs": [],
   "source": [
    "import numpy as np\n",
    "import pandas as pd\n",
    "from bs4 import BeautifulSoup\n",
    "import requests"
   ]
  },
  {
   "cell_type": "code",
   "execution_count": 3,
   "metadata": {},
   "outputs": [],
   "source": [
    "page = requests.get(\"https://www.espn.in/football/table/_/league/TUR.1/season/2018\")\n",
    "soup = BeautifulSoup(page.content,'html.parser')"
   ]
  },
  {
   "cell_type": "code",
   "execution_count": 4,
   "metadata": {},
   "outputs": [],
   "source": [
    "tables = soup.findAll(\"table\")"
   ]
  },
  {
   "cell_type": "code",
   "execution_count": 5,
   "metadata": {},
   "outputs": [],
   "source": [
    "table_rows = tables[0].find_all('tr')"
   ]
  },
  {
   "cell_type": "code",
   "execution_count": 158,
   "metadata": {},
   "outputs": [
    {
     "name": "stdout",
     "output_type": "stream",
     "text": [
      "22\n",
      "['34', '20', '9', '5', '72', '36', '+36', '69']\n",
      "23\n",
      "['34', '19', '10', '5', '49', '22', '+27', '67']\n",
      "24\n",
      "['34', '19', '8', '7', '72', '46', '+26', '65']\n",
      "25\n",
      "['34', '18', '9', '7', '64', '46', '+18', '63']\n",
      "26\n",
      "['34', '13', '8', '13', '47', '46', '+1', '47']\n",
      "27\n",
      "['34', '11', '13', '10', '44', '44', '0', '46']\n",
      "28\n",
      "['34', '13', '6', '15', '39', '55', '-16', '45']\n",
      "29\n",
      "['34', '9', '17', '8', '40', '38', '+2', '44']\n",
      "30\n",
      "['34', '12', '8', '14', '37', '43', '-6', '44']\n",
      "31\n",
      "['34', '10', '11', '13', '35', '50', '-15', '41']\n",
      "32\n",
      "['34', '9', '14', '11', '48', '50', '-2', '41']\n",
      "33\n",
      "['34', '10', '11', '13', '49', '54', '-5', '41']\n",
      "34\n",
      "['34', '11', '7', '16', '38', '53', '-15', '40']\n",
      "35\n",
      "['34', '11', '6', '17', '53', '62', '-9', '39']\n",
      "36\n",
      "['34', '11', '5', '18', '37', '42', '-5', '38']\n",
      "37\n",
      "['34', '7', '16', '11', '28', '37', '-9', '37']\n",
      "38\n",
      "['34', '8', '11', '15', '36', '43', '-7', '35']\n",
      "39\n",
      "['34', '6', '9', '19', '33', '54', '-21', '27']\n",
      "[['34', '20', '9', '5', '72', '36', '+36', '69'], ['34', '19', '10', '5', '49', '22', '+27', '67'], ['34', '19', '8', '7', '72', '46', '+26', '65'], ['34', '18', '9', '7', '64', '46', '+18', '63'], ['34', '13', '8', '13', '47', '46', '+1', '47'], ['34', '11', '13', '10', '44', '44', '0', '46'], ['34', '13', '6', '15', '39', '55', '-16', '45'], ['34', '9', '17', '8', '40', '38', '+2', '44'], ['34', '12', '8', '14', '37', '43', '-6', '44'], ['34', '10', '11', '13', '35', '50', '-15', '41'], ['34', '9', '14', '11', '48', '50', '-2', '41'], ['34', '10', '11', '13', '49', '54', '-5', '41'], ['34', '11', '7', '16', '38', '53', '-15', '40'], ['34', '11', '6', '17', '53', '62', '-9', '39'], ['34', '11', '5', '18', '37', '42', '-5', '38'], ['34', '7', '16', '11', '28', '37', '-9', '37'], ['34', '8', '11', '15', '36', '43', '-7', '35'], ['34', '6', '9', '19', '33', '54', '-21', '27']]\n"
     ]
    }
   ],
   "source": [
    "big_list = []\n",
    "for i in range(22,len(table_rows)):    \n",
    "    x = table_rows[i].find_all(\"span\")\n",
    "    row_list=[]\n",
    "    for j in range(0,len(x)):\n",
    "        row_list.append(x[j].contents[0])\n",
    "    big_list.append(row_list)\n",
    "df = pd.DataFrame(big_list, columns =['GP','W','D','L','F','A','GD','P']) "
   ]
  },
  {
   "cell_type": "code",
   "execution_count": 159,
   "metadata": {},
   "outputs": [
    {
     "name": "stdout",
     "output_type": "stream",
     "text": [
      "    GP   W   D   L   F   A   GD   P\n",
      "0   34  20   9   5  72  36  +36  69\n",
      "1   34  19  10   5  49  22  +27  67\n",
      "2   34  19   8   7  72  46  +26  65\n",
      "3   34  18   9   7  64  46  +18  63\n",
      "4   34  13   8  13  47  46   +1  47\n",
      "5   34  11  13  10  44  44    0  46\n",
      "6   34  13   6  15  39  55  -16  45\n",
      "7   34   9  17   8  40  38   +2  44\n",
      "8   34  12   8  14  37  43   -6  44\n",
      "9   34  10  11  13  35  50  -15  41\n",
      "10  34   9  14  11  48  50   -2  41\n",
      "11  34  10  11  13  49  54   -5  41\n",
      "12  34  11   7  16  38  53  -15  40\n",
      "13  34  11   6  17  53  62   -9  39\n",
      "14  34  11   5  18  37  42   -5  38\n",
      "15  34   7  16  11  28  37   -9  37\n",
      "16  34   8  11  15  36  43   -7  35\n",
      "17  34   6   9  19  33  54  -21  27\n"
     ]
    }
   ],
   "source": [
    "print(df)"
   ]
  },
  {
   "cell_type": "code",
   "execution_count": 146,
   "metadata": {},
   "outputs": [
    {
     "data": {
      "text/html": [
       "<div>\n",
       "<style scoped>\n",
       "    .dataframe tbody tr th:only-of-type {\n",
       "        vertical-align: middle;\n",
       "    }\n",
       "\n",
       "    .dataframe tbody tr th {\n",
       "        vertical-align: top;\n",
       "    }\n",
       "\n",
       "    .dataframe thead th {\n",
       "        text-align: right;\n",
       "    }\n",
       "</style>\n",
       "<table border=\"1\" class=\"dataframe\">\n",
       "  <thead>\n",
       "    <tr style=\"text-align: right;\">\n",
       "      <th></th>\n",
       "      <th>GP</th>\n",
       "      <th>W</th>\n",
       "      <th>D</th>\n",
       "      <th>L</th>\n",
       "      <th>F</th>\n",
       "      <th>A</th>\n",
       "      <th>GD</th>\n",
       "      <th>P</th>\n",
       "    </tr>\n",
       "  </thead>\n",
       "  <tbody>\n",
       "    <tr>\n",
       "      <th>0</th>\n",
       "      <td>34</td>\n",
       "      <td>6</td>\n",
       "      <td>9</td>\n",
       "      <td>19</td>\n",
       "      <td>33</td>\n",
       "      <td>54</td>\n",
       "      <td>-21</td>\n",
       "      <td>27</td>\n",
       "    </tr>\n",
       "    <tr>\n",
       "      <th>1</th>\n",
       "      <td>34</td>\n",
       "      <td>6</td>\n",
       "      <td>9</td>\n",
       "      <td>19</td>\n",
       "      <td>33</td>\n",
       "      <td>54</td>\n",
       "      <td>-21</td>\n",
       "      <td>27</td>\n",
       "    </tr>\n",
       "  </tbody>\n",
       "</table>\n",
       "</div>"
      ],
      "text/plain": [
       "   GP  W  D   L   F   A   GD   P\n",
       "0  34  6  9  19  33  54  -21  27\n",
       "1  34  6  9  19  33  54  -21  27"
      ]
     },
     "execution_count": 146,
     "metadata": {},
     "output_type": "execute_result"
    }
   ],
   "source": [
    "df = pd.DataFrame(columns=['GP','W','D','L','F','A','GD','P'])\n",
    "row_list = ['34', '6', '9', '19', '33', '54', '-21', '27']\n",
    "df.loc[0] = row_list\n",
    "row_list = ['34', '6', '9', '19', '33', '54', '-21', '27']\n",
    "df.loc[1] = row_list\n",
    "df"
   ]
  },
  {
   "cell_type": "code",
   "execution_count": 70,
   "metadata": {},
   "outputs": [
    {
     "data": {
      "text/plain": [
       "'34'"
      ]
     },
     "execution_count": 70,
     "metadata": {},
     "output_type": "execute_result"
    }
   ],
   "source": [
    "table_rows[22].find_all(\"span\")[0].contents[0]"
   ]
  },
  {
   "cell_type": "code",
   "execution_count": 78,
   "metadata": {},
   "outputs": [],
   "source": [
    "full_row = table_rows[22].find_all(\"span\")"
   ]
  },
  {
   "cell_type": "code",
   "execution_count": 80,
   "metadata": {},
   "outputs": [
    {
     "name": "stdout",
     "output_type": "stream",
     "text": [
      "34\n",
      "6\n",
      "9\n",
      "19\n",
      "33\n",
      "54\n",
      "-21\n",
      "27\n"
     ]
    }
   ],
   "source": [
    "for i in range(0,len(full_row)):\n",
    "    print(table_rows[39].find_all(\"span\")[i].contents[0])"
   ]
  },
  {
   "cell_type": "code",
   "execution_count": 77,
   "metadata": {},
   "outputs": [
    {
     "data": {
      "text/plain": [
       "'6'"
      ]
     },
     "execution_count": 77,
     "metadata": {},
     "output_type": "execute_result"
    }
   ],
   "source": [
    "table_rows[39].find_all(\"span\")[1].contents[0]"
   ]
  },
  {
   "cell_type": "code",
   "execution_count": 50,
   "metadata": {},
   "outputs": [],
   "source": [
    "header_row = table_rows[0].find_all('th')"
   ]
  },
  {
   "cell_type": "code",
   "execution_count": 53,
   "metadata": {},
   "outputs": [],
   "source": [
    "first_row = table_rows[1].find_all('th')"
   ]
  },
  {
   "cell_type": "code",
   "execution_count": 56,
   "metadata": {},
   "outputs": [],
   "source": [
    "data = table_rows[1].find_all('td')"
   ]
  },
  {
   "cell_type": "code",
   "execution_count": 57,
   "metadata": {},
   "outputs": [
    {
     "data": {
      "text/plain": [
       "[]"
      ]
     },
     "execution_count": 57,
     "metadata": {},
     "output_type": "execute_result"
    }
   ],
   "source": [
    "data"
   ]
  }
 ],
 "metadata": {
  "kernelspec": {
   "display_name": "Python 3",
   "language": "python",
   "name": "python3"
  },
  "language_info": {
   "codemirror_mode": {
    "name": "ipython",
    "version": 3
   },
   "file_extension": ".py",
   "mimetype": "text/x-python",
   "name": "python",
   "nbconvert_exporter": "python",
   "pygments_lexer": "ipython3",
   "version": "3.6.4"
  }
 },
 "nbformat": 4,
 "nbformat_minor": 2
}
