{
 "cells": [
  {
   "cell_type": "markdown",
   "metadata": {},
   "source": [
    "### All the necessary Imports"
   ]
  },
  {
   "cell_type": "code",
   "execution_count": 26,
   "metadata": {},
   "outputs": [],
   "source": [
    "import numpy as np\n",
    "import pandas as pd\n",
    "from bs4 import BeautifulSoup\n",
    "import requests"
   ]
  },
  {
   "cell_type": "markdown",
   "metadata": {},
   "source": [
    "### Defining League and Seasons to consider"
   ]
  },
  {
   "cell_type": "code",
   "execution_count": 27,
   "metadata": {},
   "outputs": [],
   "source": [
    "league_key = {'England':1,'Spain':31,'Germany':32,'Italy':33,'France':34,'Holland':36,'Portugal':37,'Scotland':10,'Turkey':79,'Championship':2}"
   ]
  },
  {
   "cell_type": "code",
   "execution_count": 28,
   "metadata": {},
   "outputs": [],
   "source": [
    "season_key = {2019:16,2018:15,2017:14,2016:13,2015:12}"
   ]
  },
  {
   "cell_type": "markdown",
   "metadata": {},
   "source": [
    "### Defining a function to split one list into a list of smaller lists"
   ]
  },
  {
   "cell_type": "code",
   "execution_count": 29,
   "metadata": {},
   "outputs": [],
   "source": [
    "def divide_chunks(l, n): \n",
    "    for i in range(0, len(l), n):  \n",
    "        yield l[i:i + n]"
   ]
  },
  {
   "cell_type": "markdown",
   "metadata": {},
   "source": [
    "### Defining a function to get league data based on input League and Season"
   ]
  },
  {
   "cell_type": "code",
   "execution_count": 36,
   "metadata": {},
   "outputs": [],
   "source": [
    "def get_league_data(league,season):\n",
    "    #Building the URL\n",
    "    data_url = 'https://thefishy.co.uk/leaguetable.php?table='+str(league_key[league])+'&season='+str(season_key[season])\n",
    "    \n",
    "    #Use Beautiful Soup to pull all contents of the web-page\n",
    "    page = requests.get(data_url)\n",
    "    soup = BeautifulSoup(page.content,'html.parser')\n",
    "    \n",
    "    #Find all tables in the page\n",
    "    tables = soup.findAll(\"table\")\n",
    "    \n",
    "    #Selecting the correct table to pull data from\n",
    "    table_to_use = tables[5]\n",
    "    \n",
    "    #Extracting the header details\n",
    "    table_header = table_to_use.find_all('th')\n",
    "    header_list = []\n",
    "    for i in table_header:\n",
    "        header_list.append(i.contents[0])\n",
    "        \n",
    "    #Extracting table contents and cleaning data\n",
    "    table_data = table_to_use.find_all('td')\n",
    "    \n",
    "    #Cleaning the table by removing tags\n",
    "    table_data_clean = []\n",
    "    for i in table_data:\n",
    "        table_data_clean.append(i.contents[0])\n",
    "            \n",
    "    #Converting the larger list into a list of lists\n",
    "    n = 10  \n",
    "    x = list(divide_chunks(table_data_clean, n))\n",
    "    \n",
    "    #Converting the list of lists into a dataframe\n",
    "    df = pd.DataFrame(x, columns =header_list)\n",
    "    \n",
    "    #Removing the tag values from the Team column\n",
    "    df_team = df['Team']\n",
    "    for i in range(0,len(df_team)):\n",
    "        df_team[i] = df_team[i].contents[0]\n",
    "    df['Team'] = df_team\n",
    "    return df"
   ]
  },
  {
   "cell_type": "code",
   "execution_count": 37,
   "metadata": {},
   "outputs": [
    {
     "ename": "TypeError",
     "evalue": "bad operand type for unary +: 'str'",
     "output_type": "error",
     "traceback": [
      "\u001b[1;31m---------------------------------------------------------------------------\u001b[0m",
      "\u001b[1;31mTypeError\u001b[0m                                 Traceback (most recent call last)",
      "\u001b[1;32m<ipython-input-37-4c8cfa1a6bf8>\u001b[0m in \u001b[0;36m<module>\u001b[1;34m\u001b[0m\n\u001b[1;32m----> 1\u001b[1;33m \u001b[0mget_league_data\u001b[0m\u001b[1;33m(\u001b[0m\u001b[1;34m'England'\u001b[0m\u001b[1;33m,\u001b[0m\u001b[1;36m2019\u001b[0m\u001b[1;33m)\u001b[0m\u001b[1;33m\u001b[0m\u001b[0m\n\u001b[0m",
      "\u001b[1;32m<ipython-input-36-ef4f93f0be41>\u001b[0m in \u001b[0;36mget_league_data\u001b[1;34m(league, season)\u001b[0m\n\u001b[0;32m      1\u001b[0m \u001b[1;32mdef\u001b[0m \u001b[0mget_league_data\u001b[0m\u001b[1;33m(\u001b[0m\u001b[0mleague\u001b[0m\u001b[1;33m,\u001b[0m\u001b[0mseason\u001b[0m\u001b[1;33m)\u001b[0m\u001b[1;33m:\u001b[0m\u001b[1;33m\u001b[0m\u001b[0m\n\u001b[0;32m      2\u001b[0m     \u001b[0mdata_url\u001b[0m \u001b[1;33m=\u001b[0m \u001b[1;34m'https://thefishy.co.uk/leaguetable.php?table='\u001b[0m\u001b[1;33m+\u001b[0m\u001b[0mstr\u001b[0m\u001b[1;33m(\u001b[0m\u001b[0mleague_key\u001b[0m\u001b[1;33m[\u001b[0m\u001b[0mleague\u001b[0m\u001b[1;33m]\u001b[0m\u001b[1;33m)\u001b[0m\u001b[1;33m\u001b[0m\u001b[0m\n\u001b[1;32m----> 3\u001b[1;33m     \u001b[1;33m+\u001b[0m\u001b[1;34m'&season='\u001b[0m\u001b[1;33m+\u001b[0m\u001b[0mstr\u001b[0m\u001b[1;33m(\u001b[0m\u001b[0mseason_key\u001b[0m\u001b[1;33m[\u001b[0m\u001b[0mseason\u001b[0m\u001b[1;33m]\u001b[0m\u001b[1;33m)\u001b[0m\u001b[1;33m\u001b[0m\u001b[0m\n\u001b[0m\u001b[0;32m      4\u001b[0m     \u001b[0mpage\u001b[0m \u001b[1;33m=\u001b[0m \u001b[0mrequests\u001b[0m\u001b[1;33m.\u001b[0m\u001b[0mget\u001b[0m\u001b[1;33m(\u001b[0m\u001b[0mdata_url\u001b[0m\u001b[1;33m)\u001b[0m\u001b[1;33m\u001b[0m\u001b[0m\n\u001b[0;32m      5\u001b[0m     \u001b[0msoup\u001b[0m \u001b[1;33m=\u001b[0m \u001b[0mBeautifulSoup\u001b[0m\u001b[1;33m(\u001b[0m\u001b[0mpage\u001b[0m\u001b[1;33m.\u001b[0m\u001b[0mcontent\u001b[0m\u001b[1;33m,\u001b[0m\u001b[1;34m'html.parser'\u001b[0m\u001b[1;33m)\u001b[0m\u001b[1;33m\u001b[0m\u001b[0m\n",
      "\u001b[1;31mTypeError\u001b[0m: bad operand type for unary +: 'str'"
     ]
    }
   ],
   "source": [
    "get_league_data('England',2019)"
   ]
  }
 ],
 "metadata": {
  "kernelspec": {
   "display_name": "Python 3",
   "language": "python",
   "name": "python3"
  },
  "language_info": {
   "codemirror_mode": {
    "name": "ipython",
    "version": 3
   },
   "file_extension": ".py",
   "mimetype": "text/x-python",
   "name": "python",
   "nbconvert_exporter": "python",
   "pygments_lexer": "ipython3",
   "version": "3.6.4"
  }
 },
 "nbformat": 4,
 "nbformat_minor": 2
}
