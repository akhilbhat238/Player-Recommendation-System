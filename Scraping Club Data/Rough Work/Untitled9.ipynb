{
 "cells": [
  {
   "cell_type": "code",
   "execution_count": 3,
   "metadata": {},
   "outputs": [],
   "source": [
    "import numpy as np\n",
    "import pandas as pd\n",
    "from bs4 import BeautifulSoup\n",
    "import requests"
   ]
  },
  {
   "cell_type": "code",
   "execution_count": 32,
   "metadata": {},
   "outputs": [
    {
     "name": "stdout",
     "output_type": "stream",
     "text": [
      "0\n",
      "<tr><td colspan=\"2\" style=\"text-align:center\"><a class=\"image\" href=\"/wiki/File:Real_Madrid_CF.svg\"><img alt=\"Real Madrid CF.svg\" data-file-height=\"200\" data-file-width=\"143\" decoding=\"async\" height=\"182\" src=\"//upload.wikimedia.org/wikipedia/en/thumb/5/56/Real_Madrid_CF.svg/130px-Real_Madrid_CF.svg.png\" srcset=\"//upload.wikimedia.org/wikipedia/en/thumb/5/56/Real_Madrid_CF.svg/195px-Real_Madrid_CF.svg.png 1.5x, //upload.wikimedia.org/wikipedia/en/thumb/5/56/Real_Madrid_CF.svg/260px-Real_Madrid_CF.svg.png 2x\" width=\"130\"/></a></td></tr>\n",
      "<a class=\"image\" href=\"/wiki/File:Real_Madrid_CF.svg\"><img alt=\"Real Madrid CF.svg\" data-file-height=\"200\" data-file-width=\"143\" decoding=\"async\" height=\"182\" src=\"//upload.wikimedia.org/wikipedia/en/thumb/5/56/Real_Madrid_CF.svg/130px-Real_Madrid_CF.svg.png\" srcset=\"//upload.wikimedia.org/wikipedia/en/thumb/5/56/Real_Madrid_CF.svg/195px-Real_Madrid_CF.svg.png 1.5x, //upload.wikimedia.org/wikipedia/en/thumb/5/56/Real_Madrid_CF.svg/260px-Real_Madrid_CF.svg.png 2x\" width=\"130\"/></a>\n",
      "1\n",
      "<tr><th scope=\"row\" style=\"white-space: nowrap; text-align:left\">Full name</th><td>Real Madrid Club de Fútbol<sup class=\"reference\" id=\"cite_ref-Real_Madrid_Club_de_Fútbol_1-0\"><a href=\"#cite_note-Real_Madrid_Club_de_Fútbol-1\">[1]</a></sup></td></tr>\n",
      "Full name\n",
      "2\n",
      "<tr><th scope=\"row\" style=\"white-space: nowrap; text-align:left\">Nickname(s)</th><td class=\"nickname\"><span class=\"nowrap\"><i>Los Blancos</i> (The Whites)</span><br/><span class=\"nowrap\"><i>Los Merengues</i> (The Meringues)</span><br/><span class=\"nowrap\"><i>Los Vikingos</i> (The Vikings)</span><sup class=\"reference\" id=\"cite_ref-2\"><a href=\"#cite_note-2\">[2]</a></sup><br/> <span class=\"nowrap\"><i>La Casa Blanca</i> (The White House)</span><sup class=\"reference\" id=\"cite_ref-3\"><a href=\"#cite_note-3\">[3]</a></sup></td></tr>\n",
      "Nickname(s)\n",
      "3\n",
      "<tr><th scope=\"row\" style=\"white-space: nowrap; text-align:left\">Founded</th><td>6 March 1902<span class=\"noprint\">; 117 years ago</span><span style=\"display:none\"> (<span class=\"bday dtstart published updated\">1902-03-06</span>)</span><br/>as <i>Madrid Football Club</i><sup class=\"reference\" id=\"cite_ref-Real_Madrid_turns_106_(I)_4-0\"><a href=\"#cite_note-Real_Madrid_turns_106_(I)-4\">[4]</a></sup></td></tr>\n",
      "Founded\n",
      "4\n",
      "<tr><th scope=\"row\" style=\"white-space: nowrap; text-align:left\">Ground</th><td class=\"label\"><a href=\"/wiki/Santiago_Bernab%C3%A9u_Stadium\" title=\"Santiago Bernabéu Stadium\">Estadio Santiago Bernabéu</a></td></tr>\n",
      "Ground\n",
      "5\n",
      "<tr><th scope=\"row\" style=\"white-space: nowrap; text-align:left\">Capacity</th><td>81,044<sup class=\"reference\" id=\"cite_ref-5\"><a href=\"#cite_note-5\">[5]</a></sup></td></tr>\n",
      "Capacity\n",
      "6\n",
      "<tr><th scope=\"row\" style=\"white-space: nowrap; text-align:left\">President</th><td class=\"agent\"><a href=\"/wiki/Florentino_P%C3%A9rez\" title=\"Florentino Pérez\">Florentino Pérez</a></td></tr>\n",
      "President\n",
      "7\n",
      "<tr><th scope=\"row\" style=\"white-space: nowrap; text-align:left\">Head coach</th><td class=\"agent\"><a href=\"/wiki/Zinedine_Zidane\" title=\"Zinedine Zidane\">Zinedine Zidane</a></td></tr>\n",
      "Head coach\n",
      "8\n",
      "<tr><th scope=\"row\" style=\"white-space: nowrap; text-align:left\">League</th><td><a href=\"/wiki/La_Liga\" title=\"La Liga\">La Liga</a></td></tr>\n",
      "League\n",
      "9\n",
      "<tr><th scope=\"row\" style=\"white-space: nowrap; text-align:left\"><a href=\"/wiki/2018%E2%80%9319_La_Liga\" title=\"2018–19 La Liga\">2018–19</a></th><td>3rd</td></tr>\n",
      "<a href=\"/wiki/2018%E2%80%9319_La_Liga\" title=\"2018–19 La Liga\">2018–19</a>\n",
      "10\n",
      "<tr><th scope=\"row\" style=\"white-space: nowrap; text-align:left\">Website</th><td><span class=\"url\"><a class=\"external text\" href=\"http://www.realmadrid.com\" rel=\"nofollow\">Club website</a></span></td></tr>\n",
      "Website\n",
      "11\n",
      "<tr><td colspan=\"2\" style=\"text-align:center\"></td></tr>\n",
      "Unavailable\n"
     ]
    }
   ],
   "source": [
    "club_page = requests.get('https://en.wikipedia.org/wiki/Real_Madrid_CF')\n",
    "club_soup = BeautifulSoup(club_page.content,'html.parser')\n",
    "info_table = club_soup.find('table',attrs={\"class\":\"infobox vcard\"})\n",
    "info_table_rows = info_table.find_all('tr')\n",
    "# print(info_table_rows[8].contents[0].contents[0])\n",
    "# print(info_table_rows[8].contents[1].contents[0].get('title'))\n",
    "try:\n",
    "    for j in range(0,12):\n",
    "        print(j)\n",
    "        print(info_table_rows[j])\n",
    "        print(info_table_rows[j].contents[0].contents[0])\n",
    "#         print(info_table_rows[j].contents[1])\n",
    "        if(info_table_rows[j].contents[0].contents[0]=='League'):\n",
    "            league_name=(info_table_rows[j].contents[1].contents[0].get('title'))\n",
    "except IndexError:\n",
    "    league_name = 'Unavailable'\n",
    "#     continue\n",
    "print(league_name)"
   ]
  }
 ],
 "metadata": {
  "kernelspec": {
   "display_name": "Python 3",
   "language": "python",
   "name": "python3"
  },
  "language_info": {
   "codemirror_mode": {
    "name": "ipython",
    "version": 3
   },
   "file_extension": ".py",
   "mimetype": "text/x-python",
   "name": "python",
   "nbconvert_exporter": "python",
   "pygments_lexer": "ipython3",
   "version": "3.6.4"
  }
 },
 "nbformat": 4,
 "nbformat_minor": 2
}
