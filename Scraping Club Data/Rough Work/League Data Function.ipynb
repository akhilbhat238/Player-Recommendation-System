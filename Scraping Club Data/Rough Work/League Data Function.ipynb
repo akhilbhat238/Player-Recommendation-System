{
 "cells": [
  {
   "cell_type": "markdown",
   "metadata": {},
   "source": [
    "### All the necessary Imports"
   ]
  },
  {
   "cell_type": "code",
   "execution_count": 2,
   "metadata": {},
   "outputs": [],
   "source": [
    "import numpy as np\n",
    "import pandas as pd\n",
    "from bs4 import BeautifulSoup\n",
    "import requests"
   ]
  },
  {
   "cell_type": "markdown",
   "metadata": {},
   "source": [
    "### Defining League and Seasons to consider"
   ]
  },
  {
   "cell_type": "code",
   "execution_count": 3,
   "metadata": {},
   "outputs": [],
   "source": [
    "league_key = {'England':1}"
   ]
  },
  {
   "cell_type": "code",
   "execution_count": 4,
   "metadata": {},
   "outputs": [],
   "source": [
    "season_key = {2019:16,2018:15,2017:14,2016:13,2015:12,2014:11,2013:10,2012:9,2011:8,2010:7,2009:6,2008:5,2007:4,2006:3}"
   ]
  },
  {
   "cell_type": "markdown",
   "metadata": {},
   "source": [
    "### Defining a function to split one list into a list of smaller lists"
   ]
  },
  {
   "cell_type": "code",
   "execution_count": 5,
   "metadata": {},
   "outputs": [],
   "source": [
    "def divide_chunks(l, n): \n",
    "    for i in range(0, len(l), n):  \n",
    "        yield l[i:i + n]"
   ]
  },
  {
   "cell_type": "markdown",
   "metadata": {},
   "source": [
    "### Defining a function to get league data based on input League and Season"
   ]
  },
  {
   "cell_type": "code",
   "execution_count": 8,
   "metadata": {},
   "outputs": [
    {
     "name": "stdout",
     "output_type": "stream",
     "text": [
      "<table class=\"table table-condensed table-striped table-bordered\">\n",
      "<caption>\r\n",
      "                                2009-2010 Turkish Super League (Overall)\r\n",
      "                            </caption>\n",
      "<tr class=\"success cats2\">\n",
      "<th>Pos</th>\n",
      "<th class=\"cats\">Team</th>\n",
      "<th>P</th>\n",
      "<th>W</th>\n",
      "<th>D</th>\n",
      "<th>L</th>\n",
      "<th>F</th>\n",
      "<th>A</th>\n",
      "<th>GD</th>\n",
      "<th>Pts</th>\n",
      "</tr>\n",
      "</table>\n"
     ]
    }
   ],
   "source": [
    "league = 'Turkey'\n",
    "season = 2010\n",
    "#Building the URL\n",
    "data_url = 'https://thefishy.co.uk/leaguetable.php?table='+str(league_key[league])+'&season='+str(season_key[season])\n",
    "\n",
    "#Use Beautiful Soup to pull all contents of the web-page\n",
    "page = requests.get(data_url)\n",
    "soup = BeautifulSoup(page.content,'html.parser')\n",
    "\n",
    "#Find all tables in the page\n",
    "tables = soup.findAll(\"table\")\n",
    "\n",
    "#Selecting the correct table to pull data from\n",
    "table_to_use = tables[5]\n",
    "\n",
    "print(table_to_use)"
   ]
  },
  {
   "cell_type": "code",
   "execution_count": 9,
   "metadata": {},
   "outputs": [],
   "source": [
    "table_header = table_to_use.find_all('th')\n",
    "header_list = []\n",
    "for i in table_header:\n",
    "    header_list.append(i.contents[0])\n",
    "    "
   ]
  },
  {
   "cell_type": "code",
   "execution_count": 10,
   "metadata": {},
   "outputs": [
    {
     "data": {
      "text/plain": [
       "['Pos', 'Team', 'P', 'W', 'D', 'L', 'F', 'A', 'GD', 'Pts']"
      ]
     },
     "execution_count": 10,
     "metadata": {},
     "output_type": "execute_result"
    }
   ],
   "source": [
    "header_list"
   ]
  },
  {
   "cell_type": "code",
   "execution_count": 11,
   "metadata": {},
   "outputs": [],
   "source": [
    "table_data = table_to_use.find_all('td')"
   ]
  },
  {
   "cell_type": "code",
   "execution_count": 12,
   "metadata": {},
   "outputs": [
    {
     "data": {
      "text/plain": [
       "[]"
      ]
     },
     "execution_count": 12,
     "metadata": {},
     "output_type": "execute_result"
    }
   ],
   "source": [
    "table_data"
   ]
  },
  {
   "cell_type": "code",
   "execution_count": null,
   "metadata": {},
   "outputs": [],
   "source": [
    "#Extracting table contents and cleaning data\n",
    "\n",
    "\n",
    "#Cleaning the table by removing tags\n",
    "table_data_clean = []\n",
    "for i in table_data:\n",
    "    table_data_clean.append(i.contents[0])\n",
    "\n",
    "#Converting the larger list into a list of lists\n",
    "n = 10  \n",
    "x = list(divide_chunks(table_data_clean, n))\n",
    "\n",
    "#Converting the list of lists into a dataframe\n",
    "df = pd.DataFrame(x, columns =header_list)\n",
    "\n",
    "#Removing the tag values from the Team column\n",
    "df_team = df['Team']\n",
    "for i in range(0,len(df_team)):\n",
    "    df_team[i] = df_team[i].contents[0]\n",
    "df['Team'] = df_team\n",
    "# return df\n",
    "df"
   ]
  },
  {
   "cell_type": "code",
   "execution_count": 13,
   "metadata": {},
   "outputs": [
    {
     "ename": "NameError",
     "evalue": "name 'get_league_data' is not defined",
     "output_type": "error",
     "traceback": [
      "\u001b[1;31m---------------------------------------------------------------------------\u001b[0m",
      "\u001b[1;31mNameError\u001b[0m                                 Traceback (most recent call last)",
      "\u001b[1;32m<ipython-input-13-eab43fc7f01d>\u001b[0m in \u001b[0;36m<module>\u001b[1;34m\u001b[0m\n\u001b[1;32m----> 1\u001b[1;33m \u001b[0mget_league_data\u001b[0m\u001b[1;33m(\u001b[0m\u001b[1;34m'Turkey'\u001b[0m\u001b[1;33m,\u001b[0m\u001b[1;36m2018\u001b[0m\u001b[1;33m)\u001b[0m\u001b[1;33m\u001b[0m\u001b[1;33m\u001b[0m\u001b[0m\n\u001b[0m",
      "\u001b[1;31mNameError\u001b[0m: name 'get_league_data' is not defined"
     ]
    }
   ],
   "source": [
    "get_league_data('Turkey',2018)"
   ]
  }
 ],
 "metadata": {
  "kernelspec": {
   "display_name": "Python 3",
   "language": "python",
   "name": "python3"
  },
  "language_info": {
   "codemirror_mode": {
    "name": "ipython",
    "version": 3
   },
   "file_extension": ".py",
   "mimetype": "text/x-python",
   "name": "python",
   "nbconvert_exporter": "python",
   "pygments_lexer": "ipython3",
   "version": "3.7.4"
  }
 },
 "nbformat": 4,
 "nbformat_minor": 2
}
