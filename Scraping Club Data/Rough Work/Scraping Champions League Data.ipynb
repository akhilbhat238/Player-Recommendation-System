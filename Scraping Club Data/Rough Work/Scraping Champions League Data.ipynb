{
 "cells": [
  {
   "cell_type": "code",
   "execution_count": 216,
   "metadata": {},
   "outputs": [],
   "source": [
    "import numpy as np\n",
    "import pandas as pd\n",
    "from bs4 import BeautifulSoup\n",
    "import requests\n",
    "from selenium import webdriver"
   ]
  },
  {
   "cell_type": "code",
   "execution_count": 217,
   "metadata": {},
   "outputs": [],
   "source": [
    "#Use Beautiful Soup to pull all contents of the web-page\n",
    "page = requests.get('https://en.wikipedia.org/wiki/European_Cup_and_UEFA_Champions_League_records_and_statistics')\n",
    "soup = BeautifulSoup(page.content,'html.parser')\n",
    "\n",
    "#Find all tables in the page\n",
    "tables = soup.findAll(\"table\")"
   ]
  },
  {
   "cell_type": "code",
   "execution_count": 218,
   "metadata": {},
   "outputs": [],
   "source": [
    "tables = soup.findAll(\"table\")"
   ]
  },
  {
   "cell_type": "code",
   "execution_count": 219,
   "metadata": {},
   "outputs": [],
   "source": [
    "table_header = tables[0].findAll(\"tr\")"
   ]
  },
  {
   "cell_type": "code",
   "execution_count": 220,
   "metadata": {},
   "outputs": [
    {
     "data": {
      "text/plain": [
       "[<tr>\n",
       " <th style=\"width:210px\"><div style=\"float: left;\"><div class=\"plainlinks hlist navbar mini\"><ul><li class=\"nv-view\"><a href=\"/wiki/Template:UEFA_Champions_League_performance_by_club\" title=\"Template:UEFA Champions League performance by club\"><abbr title=\"View this template\">v</abbr></a></li><li class=\"nv-talk\"><a href=\"/wiki/Template_talk:UEFA_Champions_League_performance_by_club\" title=\"Template talk:UEFA Champions League performance by club\"><abbr title=\"Discuss this template\">t</abbr></a></li><li class=\"nv-edit\"><a class=\"external text\" href=\"https://en.wikipedia.org/w/index.php?title=Template:UEFA_Champions_League_performance_by_club&amp;action=edit\"><abbr title=\"Edit this template\">e</abbr></a></li></ul></div></div> Club\n",
       " </th>\n",
       " <th style=\"width:60px\">Titles\n",
       " </th>\n",
       " <th style=\"width:90px\">Runners-up\n",
       " </th>\n",
       " <th style=\"width:430px\">Seasons won\n",
       " </th>\n",
       " <th style=\"width:290px\">Seasons runner-up\n",
       " </th></tr>, <tr>\n",
       " <th align=\"left\" scope=\"row\"><span class=\"flagicon\"><a href=\"/wiki/Spain\" title=\"Spain\"><img alt=\"Spain\" class=\"thumbborder\" data-file-height=\"500\" data-file-width=\"750\" decoding=\"async\" height=\"15\" src=\"//upload.wikimedia.org/wikipedia/en/thumb/9/9a/Flag_of_Spain.svg/23px-Flag_of_Spain.svg.png\" srcset=\"//upload.wikimedia.org/wikipedia/en/thumb/9/9a/Flag_of_Spain.svg/35px-Flag_of_Spain.svg.png 1.5x, //upload.wikimedia.org/wikipedia/en/thumb/9/9a/Flag_of_Spain.svg/45px-Flag_of_Spain.svg.png 2x\" width=\"23\"/></a></span> <a href=\"/wiki/Real_Madrid_CF\" title=\"Real Madrid CF\">Real Madrid</a>\n",
       " </th>\n",
       " <td style=\"text-align:center;\">13\n",
       " </td>\n",
       " <td style=\"text-align:center;\">3\n",
       " </td>\n",
       " <td><a href=\"/wiki/1955%E2%80%9356_European_Cup\" title=\"1955–56 European Cup\">1956</a>, <a href=\"/wiki/1956%E2%80%9357_European_Cup\" title=\"1956–57 European Cup\">1957</a>, <a href=\"/wiki/1957%E2%80%9358_European_Cup\" title=\"1957–58 European Cup\">1958</a>, <a href=\"/wiki/1958%E2%80%9359_European_Cup\" title=\"1958–59 European Cup\">1959</a>, <a href=\"/wiki/1959%E2%80%9360_European_Cup\" title=\"1959–60 European Cup\">1960</a>, <a href=\"/wiki/1965%E2%80%9366_European_Cup\" title=\"1965–66 European Cup\">1966</a>, <a href=\"/wiki/1997%E2%80%9398_UEFA_Champions_League\" title=\"1997–98 UEFA Champions League\">1998</a>, <a href=\"/wiki/1999%E2%80%932000_UEFA_Champions_League\" title=\"1999–2000 UEFA Champions League\">2000</a>, <a href=\"/wiki/2001%E2%80%9302_UEFA_Champions_League\" title=\"2001–02 UEFA Champions League\">2002</a>, <a href=\"/wiki/2013%E2%80%9314_UEFA_Champions_League\" title=\"2013–14 UEFA Champions League\">2014</a>, <a href=\"/wiki/2015%E2%80%9316_UEFA_Champions_League\" title=\"2015–16 UEFA Champions League\">2016</a>, <a href=\"/wiki/2016%E2%80%9317_UEFA_Champions_League\" title=\"2016–17 UEFA Champions League\">2017</a>, <a href=\"/wiki/2017%E2%80%9318_UEFA_Champions_League\" title=\"2017–18 UEFA Champions League\">2018</a>\n",
       " </td>\n",
       " <td><a href=\"/wiki/1961%E2%80%9362_European_Cup\" title=\"1961–62 European Cup\">1962</a>, <a href=\"/wiki/1963%E2%80%9364_European_Cup\" title=\"1963–64 European Cup\">1964</a>, <a href=\"/wiki/1980%E2%80%9381_European_Cup\" title=\"1980–81 European Cup\">1981</a>\n",
       " </td></tr>, <tr>\n",
       " <th align=\"left\" scope=\"row\"><span class=\"flagicon\"><a href=\"/wiki/Italy\" title=\"Italy\"><img alt=\"Italy\" class=\"thumbborder\" data-file-height=\"1000\" data-file-width=\"1500\" decoding=\"async\" height=\"15\" src=\"//upload.wikimedia.org/wikipedia/en/thumb/0/03/Flag_of_Italy.svg/23px-Flag_of_Italy.svg.png\" srcset=\"//upload.wikimedia.org/wikipedia/en/thumb/0/03/Flag_of_Italy.svg/35px-Flag_of_Italy.svg.png 1.5x, //upload.wikimedia.org/wikipedia/en/thumb/0/03/Flag_of_Italy.svg/45px-Flag_of_Italy.svg.png 2x\" width=\"23\"/></a></span> <a href=\"/wiki/A.C._Milan\" title=\"A.C. Milan\">Milan</a>\n",
       " </th>\n",
       " <td style=\"text-align:center;\">7\n",
       " </td>\n",
       " <td style=\"text-align:center;\">4\n",
       " </td>\n",
       " <td><a href=\"/wiki/1962%E2%80%9363_European_Cup\" title=\"1962–63 European Cup\">1963</a>, <a href=\"/wiki/1968%E2%80%9369_European_Cup\" title=\"1968–69 European Cup\">1969</a>, <a href=\"/wiki/1988%E2%80%9389_European_Cup\" title=\"1988–89 European Cup\">1989</a>, <a href=\"/wiki/1989%E2%80%9390_European_Cup\" title=\"1989–90 European Cup\">1990</a>, <a href=\"/wiki/1993%E2%80%9394_UEFA_Champions_League\" title=\"1993–94 UEFA Champions League\">1994</a>, <a href=\"/wiki/2002%E2%80%9303_UEFA_Champions_League\" title=\"2002–03 UEFA Champions League\">2003</a>, <a href=\"/wiki/2006%E2%80%9307_UEFA_Champions_League\" title=\"2006–07 UEFA Champions League\">2007</a>\n",
       " </td>\n",
       " <td><a href=\"/wiki/1957%E2%80%9358_European_Cup\" title=\"1957–58 European Cup\">1958</a>, <a href=\"/wiki/1992%E2%80%9393_UEFA_Champions_League\" title=\"1992–93 UEFA Champions League\">1993</a>, <a href=\"/wiki/1994%E2%80%9395_UEFA_Champions_League\" title=\"1994–95 UEFA Champions League\">1995</a>, <a href=\"/wiki/2004%E2%80%9305_UEFA_Champions_League\" title=\"2004–05 UEFA Champions League\">2005</a>\n",
       " </td></tr>, <tr>\n",
       " <th align=\"left\" scope=\"row\"><span class=\"flagicon\"><a href=\"/wiki/England\" title=\"England\"><img alt=\"England\" class=\"thumbborder\" data-file-height=\"480\" data-file-width=\"800\" decoding=\"async\" height=\"14\" src=\"//upload.wikimedia.org/wikipedia/en/thumb/b/be/Flag_of_England.svg/23px-Flag_of_England.svg.png\" srcset=\"//upload.wikimedia.org/wikipedia/en/thumb/b/be/Flag_of_England.svg/35px-Flag_of_England.svg.png 1.5x, //upload.wikimedia.org/wikipedia/en/thumb/b/be/Flag_of_England.svg/46px-Flag_of_England.svg.png 2x\" width=\"23\"/></a></span> <a href=\"/wiki/Liverpool_F.C.\" title=\"Liverpool F.C.\">Liverpool</a>\n",
       " </th>\n",
       " <td style=\"text-align:center;\">6\n",
       " </td>\n",
       " <td style=\"text-align:center;\">3\n",
       " </td>\n",
       " <td><a href=\"/wiki/1976%E2%80%9377_European_Cup\" title=\"1976–77 European Cup\">1977</a>, <a href=\"/wiki/1977%E2%80%9378_European_Cup\" title=\"1977–78 European Cup\">1978</a>, <a href=\"/wiki/1980%E2%80%9381_European_Cup\" title=\"1980–81 European Cup\">1981</a>, <a href=\"/wiki/1983%E2%80%9384_European_Cup\" title=\"1983–84 European Cup\">1984</a>, <a href=\"/wiki/2004%E2%80%9305_UEFA_Champions_League\" title=\"2004–05 UEFA Champions League\">2005</a>, <a href=\"/wiki/2018%E2%80%9319_UEFA_Champions_League\" title=\"2018–19 UEFA Champions League\">2019</a>\n",
       " </td>\n",
       " <td><a href=\"/wiki/1984%E2%80%9385_European_Cup\" title=\"1984–85 European Cup\">1985</a>, <a href=\"/wiki/2006%E2%80%9307_UEFA_Champions_League\" title=\"2006–07 UEFA Champions League\">2007</a>, <a href=\"/wiki/2017%E2%80%9318_UEFA_Champions_League\" title=\"2017–18 UEFA Champions League\">2018</a>\n",
       " </td></tr>, <tr>\n",
       " <th align=\"left\" scope=\"row\"><span class=\"flagicon\"><a href=\"/wiki/Germany\" title=\"Germany\"><img alt=\"Germany\" class=\"thumbborder\" data-file-height=\"600\" data-file-width=\"1000\" decoding=\"async\" height=\"14\" src=\"//upload.wikimedia.org/wikipedia/en/thumb/b/ba/Flag_of_Germany.svg/23px-Flag_of_Germany.svg.png\" srcset=\"//upload.wikimedia.org/wikipedia/en/thumb/b/ba/Flag_of_Germany.svg/35px-Flag_of_Germany.svg.png 1.5x, //upload.wikimedia.org/wikipedia/en/thumb/b/ba/Flag_of_Germany.svg/46px-Flag_of_Germany.svg.png 2x\" width=\"23\"/></a></span> <a href=\"/wiki/FC_Bayern_Munich\" title=\"FC Bayern Munich\">Bayern Munich</a>\n",
       " </th>\n",
       " <td style=\"text-align:center;\">5\n",
       " </td>\n",
       " <td style=\"text-align:center;\">5\n",
       " </td>\n",
       " <td><a href=\"/wiki/1973%E2%80%9374_European_Cup\" title=\"1973–74 European Cup\">1974</a>, <a href=\"/wiki/1974%E2%80%9375_European_Cup\" title=\"1974–75 European Cup\">1975</a>, <a href=\"/wiki/1975%E2%80%9376_European_Cup\" title=\"1975–76 European Cup\">1976</a>, <a href=\"/wiki/2000%E2%80%9301_UEFA_Champions_League\" title=\"2000–01 UEFA Champions League\">2001</a>, <a href=\"/wiki/2012%E2%80%9313_UEFA_Champions_League\" title=\"2012–13 UEFA Champions League\">2013</a>\n",
       " </td>\n",
       " <td><a href=\"/wiki/1981%E2%80%9382_European_Cup\" title=\"1981–82 European Cup\">1982</a>, <a href=\"/wiki/1986%E2%80%9387_European_Cup\" title=\"1986–87 European Cup\">1987</a>, <a href=\"/wiki/1998%E2%80%9399_UEFA_Champions_League\" title=\"1998–99 UEFA Champions League\">1999</a>, <a href=\"/wiki/2009%E2%80%9310_UEFA_Champions_League\" title=\"2009–10 UEFA Champions League\">2010</a>, <a href=\"/wiki/2011%E2%80%9312_UEFA_Champions_League\" title=\"2011–12 UEFA Champions League\">2012</a>\n",
       " </td></tr>, <tr>\n",
       " <th align=\"left\" scope=\"row\"><span class=\"flagicon\"><a href=\"/wiki/Spain\" title=\"Spain\"><img alt=\"Spain\" class=\"thumbborder\" data-file-height=\"500\" data-file-width=\"750\" decoding=\"async\" height=\"15\" src=\"//upload.wikimedia.org/wikipedia/en/thumb/9/9a/Flag_of_Spain.svg/23px-Flag_of_Spain.svg.png\" srcset=\"//upload.wikimedia.org/wikipedia/en/thumb/9/9a/Flag_of_Spain.svg/35px-Flag_of_Spain.svg.png 1.5x, //upload.wikimedia.org/wikipedia/en/thumb/9/9a/Flag_of_Spain.svg/45px-Flag_of_Spain.svg.png 2x\" width=\"23\"/></a></span> <a href=\"/wiki/FC_Barcelona\" title=\"FC Barcelona\">Barcelona</a>\n",
       " </th>\n",
       " <td style=\"text-align:center;\">5\n",
       " </td>\n",
       " <td style=\"text-align:center;\">3\n",
       " </td>\n",
       " <td><a href=\"/wiki/1991%E2%80%9392_European_Cup\" title=\"1991–92 European Cup\">1992</a>, <a href=\"/wiki/2005%E2%80%9306_UEFA_Champions_League\" title=\"2005–06 UEFA Champions League\">2006</a>, <a href=\"/wiki/2008%E2%80%9309_UEFA_Champions_League\" title=\"2008–09 UEFA Champions League\">2009</a>, <a href=\"/wiki/2010%E2%80%9311_UEFA_Champions_League\" title=\"2010–11 UEFA Champions League\">2011</a>, <a href=\"/wiki/2014%E2%80%9315_UEFA_Champions_League\" title=\"2014–15 UEFA Champions League\">2015</a>\n",
       " </td>\n",
       " <td><a href=\"/wiki/1960%E2%80%9361_European_Cup\" title=\"1960–61 European Cup\">1961</a>, <a href=\"/wiki/1985%E2%80%9386_European_Cup\" title=\"1985–86 European Cup\">1986</a>, <a href=\"/wiki/1993%E2%80%9394_UEFA_Champions_League\" title=\"1993–94 UEFA Champions League\">1994</a>\n",
       " </td></tr>, <tr>\n",
       " <th align=\"left\" scope=\"row\"><span class=\"flagicon\"><a href=\"/wiki/Netherlands\" title=\"Netherlands\"><img alt=\"Netherlands\" class=\"thumbborder\" data-file-height=\"600\" data-file-width=\"900\" decoding=\"async\" height=\"15\" src=\"//upload.wikimedia.org/wikipedia/commons/thumb/2/20/Flag_of_the_Netherlands.svg/23px-Flag_of_the_Netherlands.svg.png\" srcset=\"//upload.wikimedia.org/wikipedia/commons/thumb/2/20/Flag_of_the_Netherlands.svg/35px-Flag_of_the_Netherlands.svg.png 1.5x, //upload.wikimedia.org/wikipedia/commons/thumb/2/20/Flag_of_the_Netherlands.svg/45px-Flag_of_the_Netherlands.svg.png 2x\" width=\"23\"/></a></span> <a href=\"/wiki/AFC_Ajax\" title=\"AFC Ajax\">Ajax</a>\n",
       " </th>\n",
       " <td style=\"text-align:center;\">4\n",
       " </td>\n",
       " <td style=\"text-align:center;\">2\n",
       " </td>\n",
       " <td><a href=\"/wiki/1970%E2%80%9371_European_Cup\" title=\"1970–71 European Cup\">1971</a>, <a href=\"/wiki/1971%E2%80%9372_European_Cup\" title=\"1971–72 European Cup\">1972</a>, <a href=\"/wiki/1972%E2%80%9373_European_Cup\" title=\"1972–73 European Cup\">1973</a>, <a href=\"/wiki/1994%E2%80%9395_UEFA_Champions_League\" title=\"1994–95 UEFA Champions League\">1995</a>\n",
       " </td>\n",
       " <td><a href=\"/wiki/1968%E2%80%9369_European_Cup\" title=\"1968–69 European Cup\">1969</a>, <a href=\"/wiki/1995%E2%80%9396_UEFA_Champions_League\" title=\"1995–96 UEFA Champions League\">1996</a>\n",
       " </td></tr>, <tr>\n",
       " <th align=\"left\" scope=\"row\"><span class=\"flagicon\"><a href=\"/wiki/Italy\" title=\"Italy\"><img alt=\"Italy\" class=\"thumbborder\" data-file-height=\"1000\" data-file-width=\"1500\" decoding=\"async\" height=\"15\" src=\"//upload.wikimedia.org/wikipedia/en/thumb/0/03/Flag_of_Italy.svg/23px-Flag_of_Italy.svg.png\" srcset=\"//upload.wikimedia.org/wikipedia/en/thumb/0/03/Flag_of_Italy.svg/35px-Flag_of_Italy.svg.png 1.5x, //upload.wikimedia.org/wikipedia/en/thumb/0/03/Flag_of_Italy.svg/45px-Flag_of_Italy.svg.png 2x\" width=\"23\"/></a></span> <a href=\"/wiki/Inter_Milan\" title=\"Inter Milan\">Internazionale</a>\n",
       " </th>\n",
       " <td style=\"text-align:center;\">3\n",
       " </td>\n",
       " <td style=\"text-align:center;\">2\n",
       " </td>\n",
       " <td><a href=\"/wiki/1963%E2%80%9364_European_Cup\" title=\"1963–64 European Cup\">1964</a>, <a href=\"/wiki/1964%E2%80%9365_European_Cup\" title=\"1964–65 European Cup\">1965</a>, <a href=\"/wiki/2009%E2%80%9310_UEFA_Champions_League\" title=\"2009–10 UEFA Champions League\">2010</a>\n",
       " </td>\n",
       " <td><a href=\"/wiki/1966%E2%80%9367_European_Cup\" title=\"1966–67 European Cup\">1967</a>, <a href=\"/wiki/1971%E2%80%9372_European_Cup\" title=\"1971–72 European Cup\">1972</a>\n",
       " </td></tr>, <tr>\n",
       " <th align=\"left\" scope=\"row\"><span class=\"flagicon\"><a href=\"/wiki/England\" title=\"England\"><img alt=\"England\" class=\"thumbborder\" data-file-height=\"480\" data-file-width=\"800\" decoding=\"async\" height=\"14\" src=\"//upload.wikimedia.org/wikipedia/en/thumb/b/be/Flag_of_England.svg/23px-Flag_of_England.svg.png\" srcset=\"//upload.wikimedia.org/wikipedia/en/thumb/b/be/Flag_of_England.svg/35px-Flag_of_England.svg.png 1.5x, //upload.wikimedia.org/wikipedia/en/thumb/b/be/Flag_of_England.svg/46px-Flag_of_England.svg.png 2x\" width=\"23\"/></a></span> <a href=\"/wiki/Manchester_United_F.C.\" title=\"Manchester United F.C.\">Manchester United</a>\n",
       " </th>\n",
       " <td style=\"text-align:center;\">3\n",
       " </td>\n",
       " <td style=\"text-align:center;\">2\n",
       " </td>\n",
       " <td><a href=\"/wiki/1967%E2%80%9368_European_Cup\" title=\"1967–68 European Cup\">1968</a>, <a href=\"/wiki/1998%E2%80%9399_UEFA_Champions_League\" title=\"1998–99 UEFA Champions League\">1999</a>, <a href=\"/wiki/2007%E2%80%9308_UEFA_Champions_League\" title=\"2007–08 UEFA Champions League\">2008</a>\n",
       " </td>\n",
       " <td><a href=\"/wiki/2008%E2%80%9309_UEFA_Champions_League\" title=\"2008–09 UEFA Champions League\">2009</a>, <a href=\"/wiki/2010%E2%80%9311_UEFA_Champions_League\" title=\"2010–11 UEFA Champions League\">2011</a>\n",
       " </td></tr>, <tr>\n",
       " <th align=\"left\" scope=\"row\"><span class=\"flagicon\"><a href=\"/wiki/Italy\" title=\"Italy\"><img alt=\"Italy\" class=\"thumbborder\" data-file-height=\"1000\" data-file-width=\"1500\" decoding=\"async\" height=\"15\" src=\"//upload.wikimedia.org/wikipedia/en/thumb/0/03/Flag_of_Italy.svg/23px-Flag_of_Italy.svg.png\" srcset=\"//upload.wikimedia.org/wikipedia/en/thumb/0/03/Flag_of_Italy.svg/35px-Flag_of_Italy.svg.png 1.5x, //upload.wikimedia.org/wikipedia/en/thumb/0/03/Flag_of_Italy.svg/45px-Flag_of_Italy.svg.png 2x\" width=\"23\"/></a></span> <a href=\"/wiki/Juventus_F.C.\" title=\"Juventus F.C.\">Juventus</a>\n",
       " </th>\n",
       " <td style=\"text-align:center;\">2\n",
       " </td>\n",
       " <td style=\"text-align:center;\">7\n",
       " </td>\n",
       " <td><a href=\"/wiki/1984%E2%80%9385_European_Cup\" title=\"1984–85 European Cup\">1985</a>, <a href=\"/wiki/1995%E2%80%9396_UEFA_Champions_League\" title=\"1995–96 UEFA Champions League\">1996</a>\n",
       " </td>\n",
       " <td><a href=\"/wiki/1972%E2%80%9373_European_Cup\" title=\"1972–73 European Cup\">1973</a>, <a href=\"/wiki/1982%E2%80%9383_European_Cup\" title=\"1982–83 European Cup\">1983</a>, <a href=\"/wiki/1996%E2%80%9397_UEFA_Champions_League\" title=\"1996–97 UEFA Champions League\">1997</a>, <a href=\"/wiki/1997%E2%80%9398_UEFA_Champions_League\" title=\"1997–98 UEFA Champions League\">1998</a>, <a href=\"/wiki/2002%E2%80%9303_UEFA_Champions_League\" title=\"2002–03 UEFA Champions League\">2003</a>, <a href=\"/wiki/2014%E2%80%9315_UEFA_Champions_League\" title=\"2014–15 UEFA Champions League\">2015</a>, <a href=\"/wiki/2016%E2%80%9317_UEFA_Champions_League\" title=\"2016–17 UEFA Champions League\">2017</a>\n",
       " </td></tr>, <tr>\n",
       " <th align=\"left\" scope=\"row\"><span class=\"flagicon\"><a href=\"/wiki/Portugal\" title=\"Portugal\"><img alt=\"Portugal\" class=\"thumbborder\" data-file-height=\"400\" data-file-width=\"600\" decoding=\"async\" height=\"15\" src=\"//upload.wikimedia.org/wikipedia/commons/thumb/5/5c/Flag_of_Portugal.svg/23px-Flag_of_Portugal.svg.png\" srcset=\"//upload.wikimedia.org/wikipedia/commons/thumb/5/5c/Flag_of_Portugal.svg/35px-Flag_of_Portugal.svg.png 1.5x, //upload.wikimedia.org/wikipedia/commons/thumb/5/5c/Flag_of_Portugal.svg/45px-Flag_of_Portugal.svg.png 2x\" width=\"23\"/></a></span> <a href=\"/wiki/S.L._Benfica\" title=\"S.L. Benfica\">Benfica</a>\n",
       " </th>\n",
       " <td style=\"text-align:center;\">2\n",
       " </td>\n",
       " <td style=\"text-align:center;\">5\n",
       " </td>\n",
       " <td><a href=\"/wiki/1960%E2%80%9361_European_Cup\" title=\"1960–61 European Cup\">1961</a>, <a href=\"/wiki/1961%E2%80%9362_European_Cup\" title=\"1961–62 European Cup\">1962</a>\n",
       " </td>\n",
       " <td><a href=\"/wiki/1962%E2%80%9363_European_Cup\" title=\"1962–63 European Cup\">1963</a>, <a href=\"/wiki/1964%E2%80%9365_European_Cup\" title=\"1964–65 European Cup\">1965</a>, <a href=\"/wiki/1967%E2%80%9368_European_Cup\" title=\"1967–68 European Cup\">1968</a>, <a href=\"/wiki/1987%E2%80%9388_European_Cup\" title=\"1987–88 European Cup\">1988</a>, <a href=\"/wiki/1989%E2%80%9390_European_Cup\" title=\"1989–90 European Cup\">1990</a>\n",
       " </td></tr>, <tr>\n",
       " <th align=\"left\" scope=\"row\"><span class=\"flagicon\"><a href=\"/wiki/England\" title=\"England\"><img alt=\"England\" class=\"thumbborder\" data-file-height=\"480\" data-file-width=\"800\" decoding=\"async\" height=\"14\" src=\"//upload.wikimedia.org/wikipedia/en/thumb/b/be/Flag_of_England.svg/23px-Flag_of_England.svg.png\" srcset=\"//upload.wikimedia.org/wikipedia/en/thumb/b/be/Flag_of_England.svg/35px-Flag_of_England.svg.png 1.5x, //upload.wikimedia.org/wikipedia/en/thumb/b/be/Flag_of_England.svg/46px-Flag_of_England.svg.png 2x\" width=\"23\"/></a></span> <a href=\"/wiki/Nottingham_Forest_F.C.\" title=\"Nottingham Forest F.C.\">Nottingham Forest</a>\n",
       " </th>\n",
       " <td style=\"text-align:center;\">2\n",
       " </td>\n",
       " <td style=\"text-align:center;\">0\n",
       " </td>\n",
       " <td><a href=\"/wiki/1978%E2%80%9379_European_Cup\" title=\"1978–79 European Cup\">1979</a>, <a href=\"/wiki/1979%E2%80%9380_European_Cup\" title=\"1979–80 European Cup\">1980</a>\n",
       " </td>\n",
       " <td class=\"table-na\" data-sort-value=\"\" style=\"vertical-align:middle; text-align:center\">—\n",
       " </td></tr>, <tr>\n",
       " <th align=\"left\" scope=\"row\"><span class=\"flagicon\"><a href=\"/wiki/Portugal\" title=\"Portugal\"><img alt=\"Portugal\" class=\"thumbborder\" data-file-height=\"400\" data-file-width=\"600\" decoding=\"async\" height=\"15\" src=\"//upload.wikimedia.org/wikipedia/commons/thumb/5/5c/Flag_of_Portugal.svg/23px-Flag_of_Portugal.svg.png\" srcset=\"//upload.wikimedia.org/wikipedia/commons/thumb/5/5c/Flag_of_Portugal.svg/35px-Flag_of_Portugal.svg.png 1.5x, //upload.wikimedia.org/wikipedia/commons/thumb/5/5c/Flag_of_Portugal.svg/45px-Flag_of_Portugal.svg.png 2x\" width=\"23\"/></a></span> <a href=\"/wiki/FC_Porto\" title=\"FC Porto\">Porto</a>\n",
       " </th>\n",
       " <td style=\"text-align:center;\">2\n",
       " </td>\n",
       " <td style=\"text-align:center;\">0\n",
       " </td>\n",
       " <td><a href=\"/wiki/1986%E2%80%9387_European_Cup\" title=\"1986–87 European Cup\">1987</a>, <a href=\"/wiki/2003%E2%80%9304_UEFA_Champions_League\" title=\"2003–04 UEFA Champions League\">2004</a>\n",
       " </td>\n",
       " <td class=\"table-na\" data-sort-value=\"\" style=\"vertical-align:middle; text-align:center\">—\n",
       " </td></tr>, <tr>\n",
       " <th align=\"left\" scope=\"row\"><span class=\"flagicon\"><a href=\"/wiki/Scotland\" title=\"Scotland\"><img alt=\"Scotland\" class=\"thumbborder\" data-file-height=\"600\" data-file-width=\"1000\" decoding=\"async\" height=\"14\" src=\"//upload.wikimedia.org/wikipedia/commons/thumb/1/10/Flag_of_Scotland.svg/23px-Flag_of_Scotland.svg.png\" srcset=\"//upload.wikimedia.org/wikipedia/commons/thumb/1/10/Flag_of_Scotland.svg/35px-Flag_of_Scotland.svg.png 1.5x, //upload.wikimedia.org/wikipedia/commons/thumb/1/10/Flag_of_Scotland.svg/46px-Flag_of_Scotland.svg.png 2x\" width=\"23\"/></a></span> <a href=\"/wiki/Celtic_F.C.\" title=\"Celtic F.C.\">Celtic</a>\n",
       " </th>\n",
       " <td style=\"text-align:center;\">1\n",
       " </td>\n",
       " <td style=\"text-align:center;\">1\n",
       " </td>\n",
       " <td><a href=\"/wiki/1966%E2%80%9367_European_Cup\" title=\"1966–67 European Cup\">1967</a>\n",
       " </td>\n",
       " <td><a href=\"/wiki/1969%E2%80%9370_European_Cup\" title=\"1969–70 European Cup\">1970</a>\n",
       " </td></tr>, <tr>\n",
       " <th align=\"left\" scope=\"row\"><span class=\"flagicon\"><a href=\"/wiki/Germany\" title=\"Germany\"><img alt=\"Germany\" class=\"thumbborder\" data-file-height=\"600\" data-file-width=\"1000\" decoding=\"async\" height=\"14\" src=\"//upload.wikimedia.org/wikipedia/en/thumb/b/ba/Flag_of_Germany.svg/23px-Flag_of_Germany.svg.png\" srcset=\"//upload.wikimedia.org/wikipedia/en/thumb/b/ba/Flag_of_Germany.svg/35px-Flag_of_Germany.svg.png 1.5x, //upload.wikimedia.org/wikipedia/en/thumb/b/ba/Flag_of_Germany.svg/46px-Flag_of_Germany.svg.png 2x\" width=\"23\"/></a></span> <a href=\"/wiki/Hamburger_SV\" title=\"Hamburger SV\">Hamburger SV</a>\n",
       " </th>\n",
       " <td style=\"text-align:center;\">1\n",
       " </td>\n",
       " <td style=\"text-align:center;\">1\n",
       " </td>\n",
       " <td><a href=\"/wiki/1982%E2%80%9383_European_Cup\" title=\"1982–83 European Cup\">1983</a>\n",
       " </td>\n",
       " <td><a href=\"/wiki/1979%E2%80%9380_European_Cup\" title=\"1979–80 European Cup\">1980</a>\n",
       " </td></tr>, <tr>\n",
       " <th align=\"left\" scope=\"row\"><span class=\"flagicon\"><a href=\"/wiki/Romania\" title=\"Romania\"><img alt=\"Romania\" class=\"thumbborder\" data-file-height=\"400\" data-file-width=\"600\" decoding=\"async\" height=\"15\" src=\"//upload.wikimedia.org/wikipedia/commons/thumb/7/73/Flag_of_Romania.svg/23px-Flag_of_Romania.svg.png\" srcset=\"//upload.wikimedia.org/wikipedia/commons/thumb/7/73/Flag_of_Romania.svg/35px-Flag_of_Romania.svg.png 1.5x, //upload.wikimedia.org/wikipedia/commons/thumb/7/73/Flag_of_Romania.svg/45px-Flag_of_Romania.svg.png 2x\" width=\"23\"/></a></span> <a href=\"/wiki/FCSB\" title=\"FCSB\">Steaua București</a>\n",
       " </th>\n",
       " <td style=\"text-align:center;\">1\n",
       " </td>\n",
       " <td style=\"text-align:center;\">1\n",
       " </td>\n",
       " <td><a href=\"/wiki/1985%E2%80%9386_European_Cup\" title=\"1985–86 European Cup\">1986</a>\n",
       " </td>\n",
       " <td><a href=\"/wiki/1988%E2%80%9389_European_Cup\" title=\"1988–89 European Cup\">1989</a>\n",
       " </td></tr>, <tr>\n",
       " <th align=\"left\" scope=\"row\"><span class=\"flagicon\"><a href=\"/wiki/France\" title=\"France\"><img alt=\"France\" class=\"thumbborder\" data-file-height=\"600\" data-file-width=\"900\" decoding=\"async\" height=\"15\" src=\"//upload.wikimedia.org/wikipedia/en/thumb/c/c3/Flag_of_France.svg/23px-Flag_of_France.svg.png\" srcset=\"//upload.wikimedia.org/wikipedia/en/thumb/c/c3/Flag_of_France.svg/35px-Flag_of_France.svg.png 1.5x, //upload.wikimedia.org/wikipedia/en/thumb/c/c3/Flag_of_France.svg/45px-Flag_of_France.svg.png 2x\" width=\"23\"/></a></span> <a href=\"/wiki/Olympique_de_Marseille\" title=\"Olympique de Marseille\">Marseille</a>\n",
       " </th>\n",
       " <td style=\"text-align:center;\">1\n",
       " </td>\n",
       " <td style=\"text-align:center;\">1\n",
       " </td>\n",
       " <td><a href=\"/wiki/1992%E2%80%9393_UEFA_Champions_League\" title=\"1992–93 UEFA Champions League\">1993</a>\n",
       " </td>\n",
       " <td><a href=\"/wiki/1990%E2%80%9391_European_Cup\" title=\"1990–91 European Cup\">1991</a>\n",
       " </td></tr>, <tr>\n",
       " <th align=\"left\" scope=\"row\"><span class=\"flagicon\"><a href=\"/wiki/Germany\" title=\"Germany\"><img alt=\"Germany\" class=\"thumbborder\" data-file-height=\"600\" data-file-width=\"1000\" decoding=\"async\" height=\"14\" src=\"//upload.wikimedia.org/wikipedia/en/thumb/b/ba/Flag_of_Germany.svg/23px-Flag_of_Germany.svg.png\" srcset=\"//upload.wikimedia.org/wikipedia/en/thumb/b/ba/Flag_of_Germany.svg/35px-Flag_of_Germany.svg.png 1.5x, //upload.wikimedia.org/wikipedia/en/thumb/b/ba/Flag_of_Germany.svg/46px-Flag_of_Germany.svg.png 2x\" width=\"23\"/></a></span> <a href=\"/wiki/Borussia_Dortmund\" title=\"Borussia Dortmund\">Borussia Dortmund</a>\n",
       " </th>\n",
       " <td style=\"text-align:center;\">1\n",
       " </td>\n",
       " <td style=\"text-align:center;\">1\n",
       " </td>\n",
       " <td><a href=\"/wiki/1996%E2%80%9397_UEFA_Champions_League\" title=\"1996–97 UEFA Champions League\">1997</a>\n",
       " </td>\n",
       " <td><a href=\"/wiki/2012%E2%80%9313_UEFA_Champions_League\" title=\"2012–13 UEFA Champions League\">2013</a>\n",
       " </td></tr>, <tr>\n",
       " <th align=\"left\" scope=\"row\"><span class=\"flagicon\"><a href=\"/wiki/England\" title=\"England\"><img alt=\"England\" class=\"thumbborder\" data-file-height=\"480\" data-file-width=\"800\" decoding=\"async\" height=\"14\" src=\"//upload.wikimedia.org/wikipedia/en/thumb/b/be/Flag_of_England.svg/23px-Flag_of_England.svg.png\" srcset=\"//upload.wikimedia.org/wikipedia/en/thumb/b/be/Flag_of_England.svg/35px-Flag_of_England.svg.png 1.5x, //upload.wikimedia.org/wikipedia/en/thumb/b/be/Flag_of_England.svg/46px-Flag_of_England.svg.png 2x\" width=\"23\"/></a></span> <a href=\"/wiki/Chelsea_F.C.\" title=\"Chelsea F.C.\">Chelsea</a>\n",
       " </th>\n",
       " <td style=\"text-align:center;\">1\n",
       " </td>\n",
       " <td style=\"text-align:center;\">1\n",
       " </td>\n",
       " <td><a href=\"/wiki/2011%E2%80%9312_UEFA_Champions_League\" title=\"2011–12 UEFA Champions League\">2012</a>\n",
       " </td>\n",
       " <td><a href=\"/wiki/2007%E2%80%9308_UEFA_Champions_League\" title=\"2007–08 UEFA Champions League\">2008</a>\n",
       " </td></tr>, <tr>\n",
       " <th align=\"left\" scope=\"row\"><span class=\"flagicon\"><a href=\"/wiki/Netherlands\" title=\"Netherlands\"><img alt=\"Netherlands\" class=\"thumbborder\" data-file-height=\"600\" data-file-width=\"900\" decoding=\"async\" height=\"15\" src=\"//upload.wikimedia.org/wikipedia/commons/thumb/2/20/Flag_of_the_Netherlands.svg/23px-Flag_of_the_Netherlands.svg.png\" srcset=\"//upload.wikimedia.org/wikipedia/commons/thumb/2/20/Flag_of_the_Netherlands.svg/35px-Flag_of_the_Netherlands.svg.png 1.5x, //upload.wikimedia.org/wikipedia/commons/thumb/2/20/Flag_of_the_Netherlands.svg/45px-Flag_of_the_Netherlands.svg.png 2x\" width=\"23\"/></a></span> <a href=\"/wiki/Feyenoord\" title=\"Feyenoord\">Feyenoord</a>\n",
       " </th>\n",
       " <td style=\"text-align:center;\">1\n",
       " </td>\n",
       " <td style=\"text-align:center;\">0\n",
       " </td>\n",
       " <td><a href=\"/wiki/1969%E2%80%9370_European_Cup\" title=\"1969–70 European Cup\">1970</a>\n",
       " </td>\n",
       " <td class=\"table-na\" data-sort-value=\"\" style=\"vertical-align:middle; text-align:center\">—\n",
       " </td></tr>, <tr>\n",
       " <th align=\"left\" scope=\"row\"><span class=\"flagicon\"><a href=\"/wiki/England\" title=\"England\"><img alt=\"England\" class=\"thumbborder\" data-file-height=\"480\" data-file-width=\"800\" decoding=\"async\" height=\"14\" src=\"//upload.wikimedia.org/wikipedia/en/thumb/b/be/Flag_of_England.svg/23px-Flag_of_England.svg.png\" srcset=\"//upload.wikimedia.org/wikipedia/en/thumb/b/be/Flag_of_England.svg/35px-Flag_of_England.svg.png 1.5x, //upload.wikimedia.org/wikipedia/en/thumb/b/be/Flag_of_England.svg/46px-Flag_of_England.svg.png 2x\" width=\"23\"/></a></span> <a href=\"/wiki/Aston_Villa_F.C.\" title=\"Aston Villa F.C.\">Aston Villa</a>\n",
       " </th>\n",
       " <td style=\"text-align:center;\">1\n",
       " </td>\n",
       " <td style=\"text-align:center;\">0\n",
       " </td>\n",
       " <td><a href=\"/wiki/1981%E2%80%9382_European_Cup\" title=\"1981–82 European Cup\">1982</a>\n",
       " </td>\n",
       " <td class=\"table-na\" data-sort-value=\"\" style=\"vertical-align:middle; text-align:center\">—\n",
       " </td></tr>, <tr>\n",
       " <th align=\"left\" scope=\"row\"><span class=\"flagicon\"><a href=\"/wiki/Netherlands\" title=\"Netherlands\"><img alt=\"Netherlands\" class=\"thumbborder\" data-file-height=\"600\" data-file-width=\"900\" decoding=\"async\" height=\"15\" src=\"//upload.wikimedia.org/wikipedia/commons/thumb/2/20/Flag_of_the_Netherlands.svg/23px-Flag_of_the_Netherlands.svg.png\" srcset=\"//upload.wikimedia.org/wikipedia/commons/thumb/2/20/Flag_of_the_Netherlands.svg/35px-Flag_of_the_Netherlands.svg.png 1.5x, //upload.wikimedia.org/wikipedia/commons/thumb/2/20/Flag_of_the_Netherlands.svg/45px-Flag_of_the_Netherlands.svg.png 2x\" width=\"23\"/></a></span> <a href=\"/wiki/PSV_Eindhoven\" title=\"PSV Eindhoven\">PSV Eindhoven</a>\n",
       " </th>\n",
       " <td style=\"text-align:center;\">1\n",
       " </td>\n",
       " <td style=\"text-align:center;\">0\n",
       " </td>\n",
       " <td><a href=\"/wiki/1987%E2%80%9388_European_Cup\" title=\"1987–88 European Cup\">1988</a>\n",
       " </td>\n",
       " <td class=\"table-na\" data-sort-value=\"\" style=\"vertical-align:middle; text-align:center\">—\n",
       " </td></tr>, <tr>\n",
       " <th align=\"left\" scope=\"row\"><span class=\"flagicon\"><a href=\"/wiki/Serbia\" title=\"Serbia\"><img alt=\"Serbia\" class=\"thumbborder\" data-file-height=\"630\" data-file-width=\"945\" decoding=\"async\" height=\"15\" src=\"//upload.wikimedia.org/wikipedia/commons/thumb/f/ff/Flag_of_Serbia.svg/23px-Flag_of_Serbia.svg.png\" srcset=\"//upload.wikimedia.org/wikipedia/commons/thumb/f/ff/Flag_of_Serbia.svg/35px-Flag_of_Serbia.svg.png 1.5x, //upload.wikimedia.org/wikipedia/commons/thumb/f/ff/Flag_of_Serbia.svg/45px-Flag_of_Serbia.svg.png 2x\" width=\"23\"/></a></span> <a href=\"/wiki/Red_Star_Belgrade\" title=\"Red Star Belgrade\">Red Star Belgrade</a>\n",
       " </th>\n",
       " <td style=\"text-align:center;\">1\n",
       " </td>\n",
       " <td style=\"text-align:center;\">0\n",
       " </td>\n",
       " <td><a href=\"/wiki/1990%E2%80%9391_European_Cup\" title=\"1990–91 European Cup\">1991</a>\n",
       " </td>\n",
       " <td class=\"table-na\" data-sort-value=\"\" style=\"vertical-align:middle; text-align:center\">—\n",
       " </td></tr>, <tr>\n",
       " <th align=\"left\" scope=\"row\"><span class=\"flagicon\"><a href=\"/wiki/Spain\" title=\"Spain\"><img alt=\"Spain\" class=\"thumbborder\" data-file-height=\"500\" data-file-width=\"750\" decoding=\"async\" height=\"15\" src=\"//upload.wikimedia.org/wikipedia/en/thumb/9/9a/Flag_of_Spain.svg/23px-Flag_of_Spain.svg.png\" srcset=\"//upload.wikimedia.org/wikipedia/en/thumb/9/9a/Flag_of_Spain.svg/35px-Flag_of_Spain.svg.png 1.5x, //upload.wikimedia.org/wikipedia/en/thumb/9/9a/Flag_of_Spain.svg/45px-Flag_of_Spain.svg.png 2x\" width=\"23\"/></a></span> <a href=\"/wiki/Atl%C3%A9tico_Madrid\" title=\"Atlético Madrid\">Atlético Madrid</a>\n",
       " </th>\n",
       " <td style=\"text-align:center;\">0\n",
       " </td>\n",
       " <td style=\"text-align:center;\">3\n",
       " </td>\n",
       " <td class=\"table-na\" data-sort-value=\"\" style=\"vertical-align:middle; text-align:center\">—\n",
       " </td>\n",
       " <td><a href=\"/wiki/1973%E2%80%9374_European_Cup\" title=\"1973–74 European Cup\">1974</a>, <a href=\"/wiki/2013%E2%80%9314_UEFA_Champions_League\" title=\"2013–14 UEFA Champions League\">2014</a>, <a href=\"/wiki/2015%E2%80%9316_UEFA_Champions_League\" title=\"2015–16 UEFA Champions League\">2016</a>\n",
       " </td></tr>, <tr>\n",
       " <th align=\"left\" scope=\"row\"><span class=\"flagicon\"><a href=\"/wiki/France\" title=\"France\"><img alt=\"France\" class=\"thumbborder\" data-file-height=\"600\" data-file-width=\"900\" decoding=\"async\" height=\"15\" src=\"//upload.wikimedia.org/wikipedia/en/thumb/c/c3/Flag_of_France.svg/23px-Flag_of_France.svg.png\" srcset=\"//upload.wikimedia.org/wikipedia/en/thumb/c/c3/Flag_of_France.svg/35px-Flag_of_France.svg.png 1.5x, //upload.wikimedia.org/wikipedia/en/thumb/c/c3/Flag_of_France.svg/45px-Flag_of_France.svg.png 2x\" width=\"23\"/></a></span> <a href=\"/wiki/Stade_de_Reims\" title=\"Stade de Reims\">Reims</a>\n",
       " </th>\n",
       " <td style=\"text-align:center;\">0\n",
       " </td>\n",
       " <td style=\"text-align:center;\">2\n",
       " </td>\n",
       " <td class=\"table-na\" data-sort-value=\"\" style=\"vertical-align:middle; text-align:center\">—\n",
       " </td>\n",
       " <td><a href=\"/wiki/1955%E2%80%9356_European_Cup\" title=\"1955–56 European Cup\">1956</a>, <a href=\"/wiki/1958%E2%80%9359_European_Cup\" title=\"1958–59 European Cup\">1959</a>\n",
       " </td></tr>, <tr>\n",
       " <th align=\"left\" scope=\"row\"><span class=\"flagicon\"><a href=\"/wiki/Spain\" title=\"Spain\"><img alt=\"Spain\" class=\"thumbborder\" data-file-height=\"500\" data-file-width=\"750\" decoding=\"async\" height=\"15\" src=\"//upload.wikimedia.org/wikipedia/en/thumb/9/9a/Flag_of_Spain.svg/23px-Flag_of_Spain.svg.png\" srcset=\"//upload.wikimedia.org/wikipedia/en/thumb/9/9a/Flag_of_Spain.svg/35px-Flag_of_Spain.svg.png 1.5x, //upload.wikimedia.org/wikipedia/en/thumb/9/9a/Flag_of_Spain.svg/45px-Flag_of_Spain.svg.png 2x\" width=\"23\"/></a></span> <a href=\"/wiki/Valencia_CF\" title=\"Valencia CF\">Valencia</a>\n",
       " </th>\n",
       " <td style=\"text-align:center;\">0\n",
       " </td>\n",
       " <td style=\"text-align:center;\">2\n",
       " </td>\n",
       " <td class=\"table-na\" data-sort-value=\"\" style=\"vertical-align:middle; text-align:center\">—\n",
       " </td>\n",
       " <td><a href=\"/wiki/1999%E2%80%932000_UEFA_Champions_League\" title=\"1999–2000 UEFA Champions League\">2000</a>, <a href=\"/wiki/2000%E2%80%9301_UEFA_Champions_League\" title=\"2000–01 UEFA Champions League\">2001</a>\n",
       " </td></tr>, <tr>\n",
       " <th align=\"left\" scope=\"row\"><span class=\"flagicon\"><a href=\"/wiki/Italy\" title=\"Italy\"><img alt=\"Italy\" class=\"thumbborder\" data-file-height=\"1000\" data-file-width=\"1500\" decoding=\"async\" height=\"15\" src=\"//upload.wikimedia.org/wikipedia/en/thumb/0/03/Flag_of_Italy.svg/23px-Flag_of_Italy.svg.png\" srcset=\"//upload.wikimedia.org/wikipedia/en/thumb/0/03/Flag_of_Italy.svg/35px-Flag_of_Italy.svg.png 1.5x, //upload.wikimedia.org/wikipedia/en/thumb/0/03/Flag_of_Italy.svg/45px-Flag_of_Italy.svg.png 2x\" width=\"23\"/></a></span> <a href=\"/wiki/ACF_Fiorentina\" title=\"ACF Fiorentina\">Fiorentina</a>\n",
       " </th>\n",
       " <td style=\"text-align:center;\">0\n",
       " </td>\n",
       " <td style=\"text-align:center;\">1\n",
       " </td>\n",
       " <td class=\"table-na\" data-sort-value=\"\" style=\"vertical-align:middle; text-align:center\">—\n",
       " </td>\n",
       " <td><a href=\"/wiki/1956%E2%80%9357_European_Cup\" title=\"1956–57 European Cup\">1957</a>\n",
       " </td></tr>, <tr>\n",
       " <th align=\"left\" scope=\"row\"><span class=\"flagicon\"><a href=\"/wiki/Germany\" title=\"Germany\"><img alt=\"Germany\" class=\"thumbborder\" data-file-height=\"600\" data-file-width=\"1000\" decoding=\"async\" height=\"14\" src=\"//upload.wikimedia.org/wikipedia/en/thumb/b/ba/Flag_of_Germany.svg/23px-Flag_of_Germany.svg.png\" srcset=\"//upload.wikimedia.org/wikipedia/en/thumb/b/ba/Flag_of_Germany.svg/35px-Flag_of_Germany.svg.png 1.5x, //upload.wikimedia.org/wikipedia/en/thumb/b/ba/Flag_of_Germany.svg/46px-Flag_of_Germany.svg.png 2x\" width=\"23\"/></a></span> <a href=\"/wiki/Eintracht_Frankfurt\" title=\"Eintracht Frankfurt\">Eintracht Frankfurt</a>\n",
       " </th>\n",
       " <td style=\"text-align:center;\">0\n",
       " </td>\n",
       " <td style=\"text-align:center;\">1\n",
       " </td>\n",
       " <td class=\"table-na\" data-sort-value=\"\" style=\"vertical-align:middle; text-align:center\">—\n",
       " </td>\n",
       " <td><a href=\"/wiki/1959%E2%80%9360_European_Cup\" title=\"1959–60 European Cup\">1960</a>\n",
       " </td></tr>, <tr>\n",
       " <th align=\"left\" scope=\"row\"><span class=\"flagicon\"><a href=\"/wiki/Serbia\" title=\"Serbia\"><img alt=\"Serbia\" class=\"thumbborder\" data-file-height=\"630\" data-file-width=\"945\" decoding=\"async\" height=\"15\" src=\"//upload.wikimedia.org/wikipedia/commons/thumb/f/ff/Flag_of_Serbia.svg/23px-Flag_of_Serbia.svg.png\" srcset=\"//upload.wikimedia.org/wikipedia/commons/thumb/f/ff/Flag_of_Serbia.svg/35px-Flag_of_Serbia.svg.png 1.5x, //upload.wikimedia.org/wikipedia/commons/thumb/f/ff/Flag_of_Serbia.svg/45px-Flag_of_Serbia.svg.png 2x\" width=\"23\"/></a></span> <a href=\"/wiki/FK_Partizan\" title=\"FK Partizan\">Partizan</a>\n",
       " </th>\n",
       " <td style=\"text-align:center;\">0\n",
       " </td>\n",
       " <td style=\"text-align:center;\">1\n",
       " </td>\n",
       " <td class=\"table-na\" data-sort-value=\"\" style=\"vertical-align:middle; text-align:center\">—\n",
       " </td>\n",
       " <td><a href=\"/wiki/1965%E2%80%9366_European_Cup\" title=\"1965–66 European Cup\">1966</a>\n",
       " </td></tr>, <tr>\n",
       " <th align=\"left\" scope=\"row\"><span class=\"flagicon\"><a href=\"/wiki/Greece\" title=\"Greece\"><img alt=\"Greece\" class=\"thumbborder\" data-file-height=\"400\" data-file-width=\"600\" decoding=\"async\" height=\"15\" src=\"//upload.wikimedia.org/wikipedia/commons/thumb/5/5c/Flag_of_Greece.svg/23px-Flag_of_Greece.svg.png\" srcset=\"//upload.wikimedia.org/wikipedia/commons/thumb/5/5c/Flag_of_Greece.svg/35px-Flag_of_Greece.svg.png 1.5x, //upload.wikimedia.org/wikipedia/commons/thumb/5/5c/Flag_of_Greece.svg/45px-Flag_of_Greece.svg.png 2x\" width=\"23\"/></a></span> <a href=\"/wiki/Panathinaikos_F.C.\" title=\"Panathinaikos F.C.\">Panathinaikos</a>\n",
       " </th>\n",
       " <td style=\"text-align:center;\">0\n",
       " </td>\n",
       " <td style=\"text-align:center;\">1\n",
       " </td>\n",
       " <td class=\"table-na\" data-sort-value=\"\" style=\"vertical-align:middle; text-align:center\">—\n",
       " </td>\n",
       " <td><a href=\"/wiki/1970%E2%80%9371_European_Cup\" title=\"1970–71 European Cup\">1971</a>\n",
       " </td></tr>, <tr>\n",
       " <th align=\"left\" scope=\"row\"><span class=\"flagicon\"><a href=\"/wiki/England\" title=\"England\"><img alt=\"England\" class=\"thumbborder\" data-file-height=\"480\" data-file-width=\"800\" decoding=\"async\" height=\"14\" src=\"//upload.wikimedia.org/wikipedia/en/thumb/b/be/Flag_of_England.svg/23px-Flag_of_England.svg.png\" srcset=\"//upload.wikimedia.org/wikipedia/en/thumb/b/be/Flag_of_England.svg/35px-Flag_of_England.svg.png 1.5x, //upload.wikimedia.org/wikipedia/en/thumb/b/be/Flag_of_England.svg/46px-Flag_of_England.svg.png 2x\" width=\"23\"/></a></span> <a href=\"/wiki/Leeds_United_F.C.\" title=\"Leeds United F.C.\">Leeds United</a>\n",
       " </th>\n",
       " <td style=\"text-align:center;\">0\n",
       " </td>\n",
       " <td style=\"text-align:center;\">1\n",
       " </td>\n",
       " <td class=\"table-na\" data-sort-value=\"\" style=\"vertical-align:middle; text-align:center\">—\n",
       " </td>\n",
       " <td><a href=\"/wiki/1974%E2%80%9375_European_Cup\" title=\"1974–75 European Cup\">1975</a>\n",
       " </td></tr>, <tr>\n",
       " <th align=\"left\" scope=\"row\"><span class=\"flagicon\"><a href=\"/wiki/France\" title=\"France\"><img alt=\"France\" class=\"thumbborder\" data-file-height=\"600\" data-file-width=\"900\" decoding=\"async\" height=\"15\" src=\"//upload.wikimedia.org/wikipedia/en/thumb/c/c3/Flag_of_France.svg/23px-Flag_of_France.svg.png\" srcset=\"//upload.wikimedia.org/wikipedia/en/thumb/c/c3/Flag_of_France.svg/35px-Flag_of_France.svg.png 1.5x, //upload.wikimedia.org/wikipedia/en/thumb/c/c3/Flag_of_France.svg/45px-Flag_of_France.svg.png 2x\" width=\"23\"/></a></span> <a href=\"/wiki/AS_Saint-%C3%89tienne\" title=\"AS Saint-Étienne\">Saint-Étienne</a>\n",
       " </th>\n",
       " <td style=\"text-align:center;\">0\n",
       " </td>\n",
       " <td style=\"text-align:center;\">1\n",
       " </td>\n",
       " <td class=\"table-na\" data-sort-value=\"\" style=\"vertical-align:middle; text-align:center\">—\n",
       " </td>\n",
       " <td><a href=\"/wiki/1975%E2%80%9376_European_Cup\" title=\"1975–76 European Cup\">1976</a>\n",
       " </td></tr>, <tr>\n",
       " <th align=\"left\" scope=\"row\"><span class=\"flagicon\"><a href=\"/wiki/Germany\" title=\"Germany\"><img alt=\"Germany\" class=\"thumbborder\" data-file-height=\"600\" data-file-width=\"1000\" decoding=\"async\" height=\"14\" src=\"//upload.wikimedia.org/wikipedia/en/thumb/b/ba/Flag_of_Germany.svg/23px-Flag_of_Germany.svg.png\" srcset=\"//upload.wikimedia.org/wikipedia/en/thumb/b/ba/Flag_of_Germany.svg/35px-Flag_of_Germany.svg.png 1.5x, //upload.wikimedia.org/wikipedia/en/thumb/b/ba/Flag_of_Germany.svg/46px-Flag_of_Germany.svg.png 2x\" width=\"23\"/></a></span> <a href=\"/wiki/Borussia_M%C3%B6nchengladbach\" title=\"Borussia Mönchengladbach\">Borussia Mönchengladbach</a>\n",
       " </th>\n",
       " <td style=\"text-align:center;\">0\n",
       " </td>\n",
       " <td style=\"text-align:center;\">1\n",
       " </td>\n",
       " <td class=\"table-na\" data-sort-value=\"\" style=\"vertical-align:middle; text-align:center\">—\n",
       " </td>\n",
       " <td><a href=\"/wiki/1976%E2%80%9377_European_Cup\" title=\"1976–77 European Cup\">1977</a>\n",
       " </td></tr>, <tr>\n",
       " <th align=\"left\" scope=\"row\"><span class=\"flagicon\"><a href=\"/wiki/Belgium\" title=\"Belgium\"><img alt=\"Belgium\" class=\"thumbborder\" data-file-height=\"300\" data-file-width=\"450\" decoding=\"async\" height=\"15\" src=\"//upload.wikimedia.org/wikipedia/commons/thumb/9/92/Flag_of_Belgium_%28civil%29.svg/23px-Flag_of_Belgium_%28civil%29.svg.png\" srcset=\"//upload.wikimedia.org/wikipedia/commons/thumb/9/92/Flag_of_Belgium_%28civil%29.svg/35px-Flag_of_Belgium_%28civil%29.svg.png 1.5x, //upload.wikimedia.org/wikipedia/commons/thumb/9/92/Flag_of_Belgium_%28civil%29.svg/45px-Flag_of_Belgium_%28civil%29.svg.png 2x\" width=\"23\"/></a></span> <a class=\"mw-redirect\" href=\"/wiki/Club_Brugge_K.V.\" title=\"Club Brugge K.V.\">Club Brugge</a>\n",
       " </th>\n",
       " <td style=\"text-align:center;\">0\n",
       " </td>\n",
       " <td style=\"text-align:center;\">1\n",
       " </td>\n",
       " <td class=\"table-na\" data-sort-value=\"\" style=\"vertical-align:middle; text-align:center\">—\n",
       " </td>\n",
       " <td><a href=\"/wiki/1977%E2%80%9378_European_Cup\" title=\"1977–78 European Cup\">1978</a>\n",
       " </td></tr>, <tr>\n",
       " <th align=\"left\" scope=\"row\"><span class=\"flagicon\"><a href=\"/wiki/Sweden\" title=\"Sweden\"><img alt=\"Sweden\" class=\"thumbborder\" data-file-height=\"1000\" data-file-width=\"1600\" decoding=\"async\" height=\"14\" src=\"//upload.wikimedia.org/wikipedia/en/thumb/4/4c/Flag_of_Sweden.svg/23px-Flag_of_Sweden.svg.png\" srcset=\"//upload.wikimedia.org/wikipedia/en/thumb/4/4c/Flag_of_Sweden.svg/35px-Flag_of_Sweden.svg.png 1.5x, //upload.wikimedia.org/wikipedia/en/thumb/4/4c/Flag_of_Sweden.svg/46px-Flag_of_Sweden.svg.png 2x\" width=\"23\"/></a></span> <a href=\"/wiki/Malm%C3%B6_FF\" title=\"Malmö FF\">Malmö FF</a>\n",
       " </th>\n",
       " <td style=\"text-align:center;\">0\n",
       " </td>\n",
       " <td style=\"text-align:center;\">1\n",
       " </td>\n",
       " <td class=\"table-na\" data-sort-value=\"\" style=\"vertical-align:middle; text-align:center\">—\n",
       " </td>\n",
       " <td><a href=\"/wiki/1978%E2%80%9379_European_Cup\" title=\"1978–79 European Cup\">1979</a>\n",
       " </td></tr>, <tr>\n",
       " <th align=\"left\" scope=\"row\"><span class=\"flagicon\"><a href=\"/wiki/Italy\" title=\"Italy\"><img alt=\"Italy\" class=\"thumbborder\" data-file-height=\"1000\" data-file-width=\"1500\" decoding=\"async\" height=\"15\" src=\"//upload.wikimedia.org/wikipedia/en/thumb/0/03/Flag_of_Italy.svg/23px-Flag_of_Italy.svg.png\" srcset=\"//upload.wikimedia.org/wikipedia/en/thumb/0/03/Flag_of_Italy.svg/35px-Flag_of_Italy.svg.png 1.5x, //upload.wikimedia.org/wikipedia/en/thumb/0/03/Flag_of_Italy.svg/45px-Flag_of_Italy.svg.png 2x\" width=\"23\"/></a></span> <a href=\"/wiki/A.S._Roma\" title=\"A.S. Roma\">Roma</a>\n",
       " </th>\n",
       " <td style=\"text-align:center;\">0\n",
       " </td>\n",
       " <td style=\"text-align:center;\">1\n",
       " </td>\n",
       " <td class=\"table-na\" data-sort-value=\"\" style=\"vertical-align:middle; text-align:center\">—\n",
       " </td>\n",
       " <td><a href=\"/wiki/1983%E2%80%9384_European_Cup\" title=\"1983–84 European Cup\">1984</a>\n",
       " </td></tr>, <tr>\n",
       " <th align=\"left\" scope=\"row\"><span class=\"flagicon\"><a href=\"/wiki/Italy\" title=\"Italy\"><img alt=\"Italy\" class=\"thumbborder\" data-file-height=\"1000\" data-file-width=\"1500\" decoding=\"async\" height=\"15\" src=\"//upload.wikimedia.org/wikipedia/en/thumb/0/03/Flag_of_Italy.svg/23px-Flag_of_Italy.svg.png\" srcset=\"//upload.wikimedia.org/wikipedia/en/thumb/0/03/Flag_of_Italy.svg/35px-Flag_of_Italy.svg.png 1.5x, //upload.wikimedia.org/wikipedia/en/thumb/0/03/Flag_of_Italy.svg/45px-Flag_of_Italy.svg.png 2x\" width=\"23\"/></a></span> <a href=\"/wiki/U.C._Sampdoria\" title=\"U.C. Sampdoria\">Sampdoria</a>\n",
       " </th>\n",
       " <td style=\"text-align:center;\">0\n",
       " </td>\n",
       " <td style=\"text-align:center;\">1\n",
       " </td>\n",
       " <td class=\"table-na\" data-sort-value=\"\" style=\"vertical-align:middle; text-align:center\">—\n",
       " </td>\n",
       " <td><a href=\"/wiki/1991%E2%80%9392_European_Cup\" title=\"1991–92 European Cup\">1992</a>\n",
       " </td></tr>, <tr>\n",
       " <th align=\"left\" scope=\"row\"><span class=\"flagicon\"><a href=\"/wiki/Germany\" title=\"Germany\"><img alt=\"Germany\" class=\"thumbborder\" data-file-height=\"600\" data-file-width=\"1000\" decoding=\"async\" height=\"14\" src=\"//upload.wikimedia.org/wikipedia/en/thumb/b/ba/Flag_of_Germany.svg/23px-Flag_of_Germany.svg.png\" srcset=\"//upload.wikimedia.org/wikipedia/en/thumb/b/ba/Flag_of_Germany.svg/35px-Flag_of_Germany.svg.png 1.5x, //upload.wikimedia.org/wikipedia/en/thumb/b/ba/Flag_of_Germany.svg/46px-Flag_of_Germany.svg.png 2x\" width=\"23\"/></a></span> <a href=\"/wiki/Bayer_04_Leverkusen\" title=\"Bayer 04 Leverkusen\">Bayer Leverkusen</a>\n",
       " </th>\n",
       " <td style=\"text-align:center;\">0\n",
       " </td>\n",
       " <td style=\"text-align:center;\">1\n",
       " </td>\n",
       " <td class=\"table-na\" data-sort-value=\"\" style=\"vertical-align:middle; text-align:center\">—\n",
       " </td>\n",
       " <td><a href=\"/wiki/2001%E2%80%9302_UEFA_Champions_League\" title=\"2001–02 UEFA Champions League\">2002</a>\n",
       " </td></tr>, <tr>\n",
       " <th align=\"left\" scope=\"row\"><span class=\"flagicon\"><a href=\"/wiki/France\" title=\"France\"><img alt=\"France\" class=\"thumbborder\" data-file-height=\"600\" data-file-width=\"900\" decoding=\"async\" height=\"15\" src=\"//upload.wikimedia.org/wikipedia/en/thumb/c/c3/Flag_of_France.svg/23px-Flag_of_France.svg.png\" srcset=\"//upload.wikimedia.org/wikipedia/en/thumb/c/c3/Flag_of_France.svg/35px-Flag_of_France.svg.png 1.5x, //upload.wikimedia.org/wikipedia/en/thumb/c/c3/Flag_of_France.svg/45px-Flag_of_France.svg.png 2x\" width=\"23\"/></a></span> <a href=\"/wiki/AS_Monaco_FC\" title=\"AS Monaco FC\">Monaco</a>\n",
       " </th>\n",
       " <td style=\"text-align:center;\">0\n",
       " </td>\n",
       " <td style=\"text-align:center;\">1\n",
       " </td>\n",
       " <td class=\"table-na\" data-sort-value=\"\" style=\"vertical-align:middle; text-align:center\">—\n",
       " </td>\n",
       " <td><a href=\"/wiki/2003%E2%80%9304_UEFA_Champions_League\" title=\"2003–04 UEFA Champions League\">2004</a>\n",
       " </td></tr>, <tr>\n",
       " <th align=\"left\" scope=\"row\"><span class=\"flagicon\"><a href=\"/wiki/England\" title=\"England\"><img alt=\"England\" class=\"thumbborder\" data-file-height=\"480\" data-file-width=\"800\" decoding=\"async\" height=\"14\" src=\"//upload.wikimedia.org/wikipedia/en/thumb/b/be/Flag_of_England.svg/23px-Flag_of_England.svg.png\" srcset=\"//upload.wikimedia.org/wikipedia/en/thumb/b/be/Flag_of_England.svg/35px-Flag_of_England.svg.png 1.5x, //upload.wikimedia.org/wikipedia/en/thumb/b/be/Flag_of_England.svg/46px-Flag_of_England.svg.png 2x\" width=\"23\"/></a></span> <a href=\"/wiki/Arsenal_F.C.\" title=\"Arsenal F.C.\">Arsenal</a>\n",
       " </th>\n",
       " <td style=\"text-align:center;\">0\n",
       " </td>\n",
       " <td style=\"text-align:center;\">1\n",
       " </td>\n",
       " <td class=\"table-na\" data-sort-value=\"\" style=\"vertical-align:middle; text-align:center\">—\n",
       " </td>\n",
       " <td><a href=\"/wiki/2005%E2%80%9306_UEFA_Champions_League\" title=\"2005–06 UEFA Champions League\">2006</a>\n",
       " </td></tr>, <tr>\n",
       " <th align=\"left\" scope=\"row\"><span class=\"flagicon\"><a href=\"/wiki/England\" title=\"England\"><img alt=\"England\" class=\"thumbborder\" data-file-height=\"480\" data-file-width=\"800\" decoding=\"async\" height=\"14\" src=\"//upload.wikimedia.org/wikipedia/en/thumb/b/be/Flag_of_England.svg/23px-Flag_of_England.svg.png\" srcset=\"//upload.wikimedia.org/wikipedia/en/thumb/b/be/Flag_of_England.svg/35px-Flag_of_England.svg.png 1.5x, //upload.wikimedia.org/wikipedia/en/thumb/b/be/Flag_of_England.svg/46px-Flag_of_England.svg.png 2x\" width=\"23\"/></a></span> <a href=\"/wiki/Tottenham_Hotspur_F.C.\" title=\"Tottenham Hotspur F.C.\">Tottenham Hotspur</a>\n",
       " </th>\n",
       " <td style=\"text-align:center;\">0\n",
       " </td>\n",
       " <td style=\"text-align:center;\">1\n",
       " </td>\n",
       " <td class=\"table-na\" data-sort-value=\"\" style=\"vertical-align:middle; text-align:center\">—\n",
       " </td>\n",
       " <td><a href=\"/wiki/2018%E2%80%9319_UEFA_Champions_League\" title=\"2018–19 UEFA Champions League\">2019</a>\n",
       " </td></tr>]"
      ]
     },
     "execution_count": 220,
     "metadata": {},
     "output_type": "execute_result"
    }
   ],
   "source": [
    "table_header"
   ]
  },
  {
   "cell_type": "code",
   "execution_count": 260,
   "metadata": {},
   "outputs": [],
   "source": [
    "header_list = []"
   ]
  },
  {
   "cell_type": "code",
   "execution_count": 225,
   "metadata": {},
   "outputs": [
    {
     "data": {
      "text/plain": [
       "list"
      ]
     },
     "execution_count": 225,
     "metadata": {},
     "output_type": "execute_result"
    }
   ],
   "source": [
    "type(header_list)"
   ]
  },
  {
   "cell_type": "code",
   "execution_count": 247,
   "metadata": {},
   "outputs": [
    {
     "data": {
      "text/plain": [
       "' Club\\n'"
      ]
     },
     "execution_count": 247,
     "metadata": {},
     "output_type": "execute_result"
    }
   ],
   "source": [
    "table_header[0].contents[1].contents[1]"
   ]
  },
  {
   "cell_type": "code",
   "execution_count": 248,
   "metadata": {},
   "outputs": [],
   "source": [
    "header_list.append(table_header[0].contents[1].contents[1].rstrip().lstrip())"
   ]
  },
  {
   "cell_type": "code",
   "execution_count": 255,
   "metadata": {},
   "outputs": [
    {
     "data": {
      "text/plain": [
       "<th align=\"left\" scope=\"row\"><span class=\"flagicon\"><a href=\"/wiki/Spain\" title=\"Spain\"><img alt=\"Spain\" class=\"thumbborder\" data-file-height=\"500\" data-file-width=\"750\" decoding=\"async\" height=\"15\" src=\"//upload.wikimedia.org/wikipedia/en/thumb/9/9a/Flag_of_Spain.svg/23px-Flag_of_Spain.svg.png\" srcset=\"//upload.wikimedia.org/wikipedia/en/thumb/9/9a/Flag_of_Spain.svg/35px-Flag_of_Spain.svg.png 1.5x, //upload.wikimedia.org/wikipedia/en/thumb/9/9a/Flag_of_Spain.svg/45px-Flag_of_Spain.svg.png 2x\" width=\"23\"/></a></span> <a href=\"/wiki/Real_Madrid_CF\" title=\"Real Madrid CF\">Real Madrid</a>\n",
       "</th>"
      ]
     },
     "execution_count": 255,
     "metadata": {},
     "output_type": "execute_result"
    }
   ],
   "source": [
    "table_header[1].contents[1]"
   ]
  },
  {
   "cell_type": "code",
   "execution_count": null,
   "metadata": {},
   "outputs": [],
   "source": []
  },
  {
   "cell_type": "code",
   "execution_count": 258,
   "metadata": {},
   "outputs": [
    {
     "ename": "TypeError",
     "evalue": "'NoneType' object is not callable",
     "output_type": "error",
     "traceback": [
      "\u001b[1;31m---------------------------------------------------------------------------\u001b[0m",
      "\u001b[1;31mTypeError\u001b[0m                                 Traceback (most recent call last)",
      "\u001b[1;32m<ipython-input-258-921b2107bd33>\u001b[0m in \u001b[0;36m<module>\u001b[1;34m\u001b[0m\n\u001b[0;32m      1\u001b[0m \u001b[1;32mfor\u001b[0m \u001b[0mi\u001b[0m \u001b[1;32min\u001b[0m \u001b[0mrange\u001b[0m\u001b[1;33m(\u001b[0m\u001b[1;36m1\u001b[0m\u001b[1;33m,\u001b[0m\u001b[1;36m5\u001b[0m\u001b[1;33m)\u001b[0m\u001b[1;33m:\u001b[0m\u001b[1;33m\u001b[0m\u001b[0m\n\u001b[1;32m----> 2\u001b[1;33m     \u001b[0mheader_list\u001b[0m\u001b[1;33m.\u001b[0m\u001b[0mappend\u001b[0m\u001b[1;33m(\u001b[0m\u001b[0mtable_header\u001b[0m\u001b[1;33m[\u001b[0m\u001b[1;36m0\u001b[0m\u001b[1;33m]\u001b[0m\u001b[1;33m.\u001b[0m\u001b[0mcontents\u001b[0m\u001b[1;33m[\u001b[0m\u001b[0mi\u001b[0m\u001b[1;33m]\u001b[0m\u001b[1;33m.\u001b[0m\u001b[0mrstrip\u001b[0m\u001b[1;33m(\u001b[0m\u001b[1;33m)\u001b[0m\u001b[1;33m.\u001b[0m\u001b[0mlstrip\u001b[0m\u001b[1;33m(\u001b[0m\u001b[1;33m)\u001b[0m\u001b[1;33m)\u001b[0m\u001b[1;33m\u001b[0m\u001b[0m\n\u001b[0m",
      "\u001b[1;31mTypeError\u001b[0m: 'NoneType' object is not callable"
     ]
    }
   ],
   "source": [
    "for i in range(1,5):\n",
    "    header_list.append(table_header[0].contents[i].rstrip().lstrip())"
   ]
  },
  {
   "cell_type": "code",
   "execution_count": 259,
   "metadata": {},
   "outputs": [
    {
     "data": {
      "text/plain": [
       "['', '', '', '', '', '', '', '', 'Club', '', '', '', '']"
      ]
     },
     "execution_count": 259,
     "metadata": {},
     "output_type": "execute_result"
    }
   ],
   "source": [
    "header_list"
   ]
  },
  {
   "cell_type": "code",
   "execution_count": 236,
   "metadata": {},
   "outputs": [],
   "source": [
    "rows = tables[0].findAll(\"tr\")"
   ]
  },
  {
   "cell_type": "code",
   "execution_count": 231,
   "metadata": {
    "scrolled": true
   },
   "outputs": [
    {
     "data": {
      "text/plain": [
       "<tr>\n",
       "<th align=\"left\" scope=\"row\"><span class=\"flagicon\"><a href=\"/wiki/Spain\" title=\"Spain\"><img alt=\"Spain\" class=\"thumbborder\" data-file-height=\"500\" data-file-width=\"750\" decoding=\"async\" height=\"15\" src=\"//upload.wikimedia.org/wikipedia/en/thumb/9/9a/Flag_of_Spain.svg/23px-Flag_of_Spain.svg.png\" srcset=\"//upload.wikimedia.org/wikipedia/en/thumb/9/9a/Flag_of_Spain.svg/35px-Flag_of_Spain.svg.png 1.5x, //upload.wikimedia.org/wikipedia/en/thumb/9/9a/Flag_of_Spain.svg/45px-Flag_of_Spain.svg.png 2x\" width=\"23\"/></a></span> <a href=\"/wiki/Real_Madrid_CF\" title=\"Real Madrid CF\">Real Madrid</a>\n",
       "</th>\n",
       "<td style=\"text-align:center;\">13\n",
       "</td>\n",
       "<td style=\"text-align:center;\">3\n",
       "</td>\n",
       "<td><a href=\"/wiki/1955%E2%80%9356_European_Cup\" title=\"1955–56 European Cup\">1956</a>, <a href=\"/wiki/1956%E2%80%9357_European_Cup\" title=\"1956–57 European Cup\">1957</a>, <a href=\"/wiki/1957%E2%80%9358_European_Cup\" title=\"1957–58 European Cup\">1958</a>, <a href=\"/wiki/1958%E2%80%9359_European_Cup\" title=\"1958–59 European Cup\">1959</a>, <a href=\"/wiki/1959%E2%80%9360_European_Cup\" title=\"1959–60 European Cup\">1960</a>, <a href=\"/wiki/1965%E2%80%9366_European_Cup\" title=\"1965–66 European Cup\">1966</a>, <a href=\"/wiki/1997%E2%80%9398_UEFA_Champions_League\" title=\"1997–98 UEFA Champions League\">1998</a>, <a href=\"/wiki/1999%E2%80%932000_UEFA_Champions_League\" title=\"1999–2000 UEFA Champions League\">2000</a>, <a href=\"/wiki/2001%E2%80%9302_UEFA_Champions_League\" title=\"2001–02 UEFA Champions League\">2002</a>, <a href=\"/wiki/2013%E2%80%9314_UEFA_Champions_League\" title=\"2013–14 UEFA Champions League\">2014</a>, <a href=\"/wiki/2015%E2%80%9316_UEFA_Champions_League\" title=\"2015–16 UEFA Champions League\">2016</a>, <a href=\"/wiki/2016%E2%80%9317_UEFA_Champions_League\" title=\"2016–17 UEFA Champions League\">2017</a>, <a href=\"/wiki/2017%E2%80%9318_UEFA_Champions_League\" title=\"2017–18 UEFA Champions League\">2018</a>\n",
       "</td>\n",
       "<td><a href=\"/wiki/1961%E2%80%9362_European_Cup\" title=\"1961–62 European Cup\">1962</a>, <a href=\"/wiki/1963%E2%80%9364_European_Cup\" title=\"1963–64 European Cup\">1964</a>, <a href=\"/wiki/1980%E2%80%9381_European_Cup\" title=\"1980–81 European Cup\">1981</a>\n",
       "</td></tr>"
      ]
     },
     "execution_count": 231,
     "metadata": {},
     "output_type": "execute_result"
    }
   ],
   "source": [
    "rows[1]"
   ]
  },
  {
   "cell_type": "code",
   "execution_count": null,
   "metadata": {},
   "outputs": [],
   "source": [
    "club_name = rows[1].contents[1].contents[2].contents[0]"
   ]
  },
  {
   "cell_type": "code",
   "execution_count": null,
   "metadata": {},
   "outputs": [],
   "source": [
    "club_name"
   ]
  },
  {
   "cell_type": "code",
   "execution_count": null,
   "metadata": {},
   "outputs": [],
   "source": [
    "titles = rows[1].contents[3].contents[0].rstrip()"
   ]
  },
  {
   "cell_type": "code",
   "execution_count": null,
   "metadata": {},
   "outputs": [],
   "source": [
    "titles"
   ]
  },
  {
   "cell_type": "code",
   "execution_count": null,
   "metadata": {},
   "outputs": [],
   "source": [
    "runners = rows[1].contents[5].contents[0].rstrip()"
   ]
  },
  {
   "cell_type": "code",
   "execution_count": null,
   "metadata": {},
   "outputs": [],
   "source": [
    "runners"
   ]
  },
  {
   "cell_type": "code",
   "execution_count": null,
   "metadata": {},
   "outputs": [],
   "source": [
    "rows[1].contents[7].contents[0]"
   ]
  },
  {
   "cell_type": "code",
   "execution_count": null,
   "metadata": {},
   "outputs": [],
   "source": [
    "x = rows[1].contents[7].findAll(\"a\")"
   ]
  },
  {
   "cell_type": "code",
   "execution_count": null,
   "metadata": {},
   "outputs": [],
   "source": [
    "win_list = []"
   ]
  },
  {
   "cell_type": "code",
   "execution_count": null,
   "metadata": {},
   "outputs": [],
   "source": [
    "for i in range(0,len(x)):\n",
    "    win_list.append(x[i].contents[0])"
   ]
  },
  {
   "cell_type": "code",
   "execution_count": null,
   "metadata": {},
   "outputs": [],
   "source": [
    "win_list"
   ]
  },
  {
   "cell_type": "code",
   "execution_count": null,
   "metadata": {},
   "outputs": [],
   "source": [
    "rows[1].contents[9].contents[0]"
   ]
  },
  {
   "cell_type": "code",
   "execution_count": null,
   "metadata": {},
   "outputs": [],
   "source": [
    "y = rows[1].contents[9].findAll(\"a\")"
   ]
  },
  {
   "cell_type": "code",
   "execution_count": null,
   "metadata": {},
   "outputs": [],
   "source": [
    "runner_list = []\n",
    "for j in range(0,len(y)):\n",
    "    runner_list.append(y[j].contents[0])"
   ]
  },
  {
   "cell_type": "code",
   "execution_count": null,
   "metadata": {},
   "outputs": [],
   "source": [
    "runner_list"
   ]
  },
  {
   "cell_type": "code",
   "execution_count": null,
   "metadata": {},
   "outputs": [],
   "source": [
    "first_row = [club_name,titles,runners,win_list,runner_list]"
   ]
  },
  {
   "cell_type": "code",
   "execution_count": null,
   "metadata": {},
   "outputs": [],
   "source": [
    "first_row"
   ]
  },
  {
   "cell_type": "code",
   "execution_count": null,
   "metadata": {},
   "outputs": [],
   "source": [
    "champions_league_record = pd.DataFrame(first_row)"
   ]
  },
  {
   "cell_type": "code",
   "execution_count": 237,
   "metadata": {},
   "outputs": [],
   "source": [
    "champions_league_record = pd.DataFrame(columns=header_list)"
   ]
  },
  {
   "cell_type": "code",
   "execution_count": 238,
   "metadata": {},
   "outputs": [
    {
     "ename": "ValueError",
     "evalue": "cannot set a row with mismatched columns",
     "output_type": "error",
     "traceback": [
      "\u001b[1;31m---------------------------------------------------------------------------\u001b[0m",
      "\u001b[1;31mValueError\u001b[0m                                Traceback (most recent call last)",
      "\u001b[1;32m<ipython-input-238-74e2def841c4>\u001b[0m in \u001b[0;36m<module>\u001b[1;34m\u001b[0m\n\u001b[1;32m----> 1\u001b[1;33m \u001b[0mchampions_league_record\u001b[0m\u001b[1;33m.\u001b[0m\u001b[0mloc\u001b[0m\u001b[1;33m[\u001b[0m\u001b[1;36m0\u001b[0m\u001b[1;33m]\u001b[0m \u001b[1;33m=\u001b[0m \u001b[0mfirst_row\u001b[0m\u001b[1;33m\u001b[0m\u001b[0m\n\u001b[0m",
      "\u001b[1;32mc:\\users\\akhil_s_bhat\\appdata\\local\\programs\\python\\python36\\lib\\site-packages\\pandas\\core\\indexing.py\u001b[0m in \u001b[0;36m__setitem__\u001b[1;34m(self, key, value)\u001b[0m\n\u001b[0;32m    192\u001b[0m             \u001b[0mkey\u001b[0m \u001b[1;33m=\u001b[0m \u001b[0mcom\u001b[0m\u001b[1;33m.\u001b[0m\u001b[0m_apply_if_callable\u001b[0m\u001b[1;33m(\u001b[0m\u001b[0mkey\u001b[0m\u001b[1;33m,\u001b[0m \u001b[0mself\u001b[0m\u001b[1;33m.\u001b[0m\u001b[0mobj\u001b[0m\u001b[1;33m)\u001b[0m\u001b[1;33m\u001b[0m\u001b[0m\n\u001b[0;32m    193\u001b[0m         \u001b[0mindexer\u001b[0m \u001b[1;33m=\u001b[0m \u001b[0mself\u001b[0m\u001b[1;33m.\u001b[0m\u001b[0m_get_setitem_indexer\u001b[0m\u001b[1;33m(\u001b[0m\u001b[0mkey\u001b[0m\u001b[1;33m)\u001b[0m\u001b[1;33m\u001b[0m\u001b[0m\n\u001b[1;32m--> 194\u001b[1;33m         \u001b[0mself\u001b[0m\u001b[1;33m.\u001b[0m\u001b[0m_setitem_with_indexer\u001b[0m\u001b[1;33m(\u001b[0m\u001b[0mindexer\u001b[0m\u001b[1;33m,\u001b[0m \u001b[0mvalue\u001b[0m\u001b[1;33m)\u001b[0m\u001b[1;33m\u001b[0m\u001b[0m\n\u001b[0m\u001b[0;32m    195\u001b[0m \u001b[1;33m\u001b[0m\u001b[0m\n\u001b[0;32m    196\u001b[0m     \u001b[1;32mdef\u001b[0m \u001b[0m_has_valid_type\u001b[0m\u001b[1;33m(\u001b[0m\u001b[0mself\u001b[0m\u001b[1;33m,\u001b[0m \u001b[0mk\u001b[0m\u001b[1;33m,\u001b[0m \u001b[0maxis\u001b[0m\u001b[1;33m)\u001b[0m\u001b[1;33m:\u001b[0m\u001b[1;33m\u001b[0m\u001b[0m\n",
      "\u001b[1;32mc:\\users\\akhil_s_bhat\\appdata\\local\\programs\\python\\python36\\lib\\site-packages\\pandas\\core\\indexing.py\u001b[0m in \u001b[0;36m_setitem_with_indexer\u001b[1;34m(self, indexer, value)\u001b[0m\n\u001b[0;32m    437\u001b[0m                         \u001b[1;32mif\u001b[0m \u001b[0mis_list_like_indexer\u001b[0m\u001b[1;33m(\u001b[0m\u001b[0mvalue\u001b[0m\u001b[1;33m)\u001b[0m\u001b[1;33m:\u001b[0m\u001b[1;33m\u001b[0m\u001b[0m\n\u001b[0;32m    438\u001b[0m                             \u001b[1;32mif\u001b[0m \u001b[0mlen\u001b[0m\u001b[1;33m(\u001b[0m\u001b[0mvalue\u001b[0m\u001b[1;33m)\u001b[0m \u001b[1;33m!=\u001b[0m \u001b[0mlen\u001b[0m\u001b[1;33m(\u001b[0m\u001b[0mself\u001b[0m\u001b[1;33m.\u001b[0m\u001b[0mobj\u001b[0m\u001b[1;33m.\u001b[0m\u001b[0mcolumns\u001b[0m\u001b[1;33m)\u001b[0m\u001b[1;33m:\u001b[0m\u001b[1;33m\u001b[0m\u001b[0m\n\u001b[1;32m--> 439\u001b[1;33m                                 raise ValueError(\"cannot set a row with \"\n\u001b[0m\u001b[0;32m    440\u001b[0m                                                  \"mismatched columns\")\n\u001b[0;32m    441\u001b[0m \u001b[1;33m\u001b[0m\u001b[0m\n",
      "\u001b[1;31mValueError\u001b[0m: cannot set a row with mismatched columns"
     ]
    }
   ],
   "source": [
    "champions_league_record.loc[0] = first_row"
   ]
  },
  {
   "cell_type": "code",
   "execution_count": null,
   "metadata": {},
   "outputs": [],
   "source": [
    "champions_league_record"
   ]
  },
  {
   "cell_type": "code",
   "execution_count": null,
   "metadata": {},
   "outputs": [],
   "source": [
    "club_name = rows[2].contents[1].contents[2].contents[0]\n",
    "titles = rows[2].contents[3].contents[0].rstrip()\n",
    "runners = rows[2].contents[5].contents[0].rstrip()\n",
    "x = rows[2].contents[7].findAll(\"a\")\n",
    "win_list = []\n",
    "for i in range(0,len(x)):\n",
    "    win_list.append(x[i].contents[0])\n",
    "y = rows[2].contents[9].findAll(\"a\")\n",
    "runner_list = []\n",
    "for j in range(0,len(y)):\n",
    "    runner_list.append(y[j].contents[0])\n",
    "second_row = [club_name,titles,runners,win_list,runner_list]"
   ]
  },
  {
   "cell_type": "code",
   "execution_count": null,
   "metadata": {},
   "outputs": [],
   "source": [
    "champions_league_record.loc[1] = second_row"
   ]
  },
  {
   "cell_type": "code",
   "execution_count": null,
   "metadata": {},
   "outputs": [],
   "source": [
    "champions_league_record"
   ]
  },
  {
   "cell_type": "code",
   "execution_count": null,
   "metadata": {},
   "outputs": [],
   "source": [
    "club_name = rows[11].contents[1].contents[2].contents[0]\n",
    "titles = rows[11].contents[3].contents[0].rstrip()\n",
    "runners = rows[11].contents[5].contents[0].rstrip()\n",
    "x = rows[11].contents[7].findAll(\"a\")\n",
    "win_list = []\n",
    "for i in range(0,len(x)):\n",
    "    win_list.append(x[i].contents[0])\n",
    "y = rows[11].contents[9].findAll(\"a\")\n",
    "runner_list = []\n",
    "for j in range(0,len(y)):\n",
    "    runner_list.append(y[j].contents[0])\n",
    "second_row = [club_name,titles,runners,win_list,runner_list]"
   ]
  },
  {
   "cell_type": "code",
   "execution_count": null,
   "metadata": {},
   "outputs": [],
   "source": [
    "len(rows)"
   ]
  },
  {
   "cell_type": "code",
   "execution_count": null,
   "metadata": {},
   "outputs": [],
   "source": [
    "for club in range(1,len(rows)):\n",
    "    club_name = rows[club].contents[1].contents[2].contents[0]\n",
    "    titles = rows[club].contents[3].contents[0].rstrip()\n",
    "    runners = rows[club].contents[5].contents[0].rstrip()\n",
    "    x = rows[club].contents[7].findAll(\"a\")\n",
    "    win_list = []\n",
    "    for i in range(0,len(x)):\n",
    "        win_list.append(x[i].contents[0])\n",
    "    y = rows[club].contents[9].findAll(\"a\")\n",
    "    runner_list = []\n",
    "    for j in range(0,len(y)):\n",
    "        runner_list.append(y[j].contents[0])\n",
    "    champions_league_record.loc[club-1] = [club_name,titles,runners,win_list,runner_list]"
   ]
  },
  {
   "cell_type": "code",
   "execution_count": 261,
   "metadata": {},
   "outputs": [
    {
     "data": {
      "text/html": [
       "<div>\n",
       "<style scoped>\n",
       "    .dataframe tbody tr th:only-of-type {\n",
       "        vertical-align: middle;\n",
       "    }\n",
       "\n",
       "    .dataframe tbody tr th {\n",
       "        vertical-align: top;\n",
       "    }\n",
       "\n",
       "    .dataframe thead th {\n",
       "        text-align: right;\n",
       "    }\n",
       "</style>\n",
       "<table border=\"1\" class=\"dataframe\">\n",
       "  <thead>\n",
       "    <tr style=\"text-align: right;\">\n",
       "      <th></th>\n",
       "      <th></th>\n",
       "      <th></th>\n",
       "      <th></th>\n",
       "      <th></th>\n",
       "      <th></th>\n",
       "      <th></th>\n",
       "      <th></th>\n",
       "      <th></th>\n",
       "    </tr>\n",
       "  </thead>\n",
       "  <tbody>\n",
       "  </tbody>\n",
       "</table>\n",
       "</div>"
      ],
      "text/plain": [
       "Empty DataFrame\n",
       "Columns: [, , , , , , , ]\n",
       "Index: []"
      ]
     },
     "execution_count": 261,
     "metadata": {},
     "output_type": "execute_result"
    }
   ],
   "source": [
    "champions_league_record"
   ]
  },
  {
   "cell_type": "code",
   "execution_count": null,
   "metadata": {},
   "outputs": [],
   "source": []
  },
  {
   "cell_type": "code",
   "execution_count": 105,
   "metadata": {},
   "outputs": [
    {
     "data": {
      "text/plain": [
       "[<td style=\"text-align:center;\">13\n",
       " </td>, '\\n', <td style=\"text-align:center;\">3\n",
       " </td>, '\\n', <td><a href=\"/wiki/1955%E2%80%9356_European_Cup\" title=\"1955–56 European Cup\">1956</a>, <a href=\"/wiki/1956%E2%80%9357_European_Cup\" title=\"1956–57 European Cup\">1957</a>, <a href=\"/wiki/1957%E2%80%9358_European_Cup\" title=\"1957–58 European Cup\">1958</a>, <a href=\"/wiki/1958%E2%80%9359_European_Cup\" title=\"1958–59 European Cup\">1959</a>, <a href=\"/wiki/1959%E2%80%9360_European_Cup\" title=\"1959–60 European Cup\">1960</a>, <a href=\"/wiki/1965%E2%80%9366_European_Cup\" title=\"1965–66 European Cup\">1966</a>, <a href=\"/wiki/1997%E2%80%9398_UEFA_Champions_League\" title=\"1997–98 UEFA Champions League\">1998</a>, <a href=\"/wiki/1999%E2%80%932000_UEFA_Champions_League\" title=\"1999–2000 UEFA Champions League\">2000</a>, <a href=\"/wiki/2001%E2%80%9302_UEFA_Champions_League\" title=\"2001–02 UEFA Champions League\">2002</a>, <a href=\"/wiki/2013%E2%80%9314_UEFA_Champions_League\" title=\"2013–14 UEFA Champions League\">2014</a>, <a href=\"/wiki/2015%E2%80%9316_UEFA_Champions_League\" title=\"2015–16 UEFA Champions League\">2016</a>, <a href=\"/wiki/2016%E2%80%9317_UEFA_Champions_League\" title=\"2016–17 UEFA Champions League\">2017</a>, <a href=\"/wiki/2017%E2%80%9318_UEFA_Champions_League\" title=\"2017–18 UEFA Champions League\">2018</a>\n",
       " </td>, '\\n', <td><a href=\"/wiki/1961%E2%80%9362_European_Cup\" title=\"1961–62 European Cup\">1962</a>, <a href=\"/wiki/1963%E2%80%9364_European_Cup\" title=\"1963–64 European Cup\">1964</a>, <a href=\"/wiki/1980%E2%80%9381_European_Cup\" title=\"1980–81 European Cup\">1981</a>\n",
       " </td>, <td style=\"text-align:center;\">13\n",
       " </td>, '\\n', <td style=\"text-align:center;\">3\n",
       " </td>, '\\n', <td><a href=\"/wiki/1955%E2%80%9356_European_Cup\" title=\"1955–56 European Cup\">1956</a>, <a href=\"/wiki/1956%E2%80%9357_European_Cup\" title=\"1956–57 European Cup\">1957</a>, <a href=\"/wiki/1957%E2%80%9358_European_Cup\" title=\"1957–58 European Cup\">1958</a>, <a href=\"/wiki/1958%E2%80%9359_European_Cup\" title=\"1958–59 European Cup\">1959</a>, <a href=\"/wiki/1959%E2%80%9360_European_Cup\" title=\"1959–60 European Cup\">1960</a>, <a href=\"/wiki/1965%E2%80%9366_European_Cup\" title=\"1965–66 European Cup\">1966</a>, <a href=\"/wiki/1997%E2%80%9398_UEFA_Champions_League\" title=\"1997–98 UEFA Champions League\">1998</a>, <a href=\"/wiki/1999%E2%80%932000_UEFA_Champions_League\" title=\"1999–2000 UEFA Champions League\">2000</a>, <a href=\"/wiki/2001%E2%80%9302_UEFA_Champions_League\" title=\"2001–02 UEFA Champions League\">2002</a>, <a href=\"/wiki/2013%E2%80%9314_UEFA_Champions_League\" title=\"2013–14 UEFA Champions League\">2014</a>, <a href=\"/wiki/2015%E2%80%9316_UEFA_Champions_League\" title=\"2015–16 UEFA Champions League\">2016</a>, <a href=\"/wiki/2016%E2%80%9317_UEFA_Champions_League\" title=\"2016–17 UEFA Champions League\">2017</a>, <a href=\"/wiki/2017%E2%80%9318_UEFA_Champions_League\" title=\"2017–18 UEFA Champions League\">2018</a>\n",
       " </td>, '\\n', <td><a href=\"/wiki/1961%E2%80%9362_European_Cup\" title=\"1961–62 European Cup\">1962</a>, <a href=\"/wiki/1963%E2%80%9364_European_Cup\" title=\"1963–64 European Cup\">1964</a>, <a href=\"/wiki/1980%E2%80%9381_European_Cup\" title=\"1980–81 European Cup\">1981</a>\n",
       " </td>]"
      ]
     },
     "execution_count": 105,
     "metadata": {},
     "output_type": "execute_result"
    }
   ],
   "source": [
    "data_list"
   ]
  }
 ],
 "metadata": {
  "kernelspec": {
   "display_name": "Python 3",
   "language": "python",
   "name": "python3"
  },
  "language_info": {
   "codemirror_mode": {
    "name": "ipython",
    "version": 3
   },
   "file_extension": ".py",
   "mimetype": "text/x-python",
   "name": "python",
   "nbconvert_exporter": "python",
   "pygments_lexer": "ipython3",
   "version": "3.6.4"
  }
 },
 "nbformat": 4,
 "nbformat_minor": 2
}
