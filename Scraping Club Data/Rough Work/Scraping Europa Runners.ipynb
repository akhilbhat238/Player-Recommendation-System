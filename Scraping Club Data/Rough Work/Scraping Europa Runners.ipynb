{
 "cells": [
  {
   "cell_type": "code",
   "execution_count": 1,
   "metadata": {},
   "outputs": [],
   "source": [
    "import numpy as np\n",
    "import pandas as pd\n",
    "from bs4 import BeautifulSoup\n",
    "import requests"
   ]
  },
  {
   "cell_type": "code",
   "execution_count": 3,
   "metadata": {},
   "outputs": [],
   "source": [
    "#Use Beautiful Soup to pull all contents of the web-page\n",
    "supp_page = requests.get('https://en.wikipedia.org/wiki/List_of_UEFA_Cup_and_Europa_League_finals')\n",
    "supp_soup = BeautifulSoup(supp_page.content,'html.parser')\n",
    "supp_tables = supp_soup.findAll(\"table\")"
   ]
  },
  {
   "cell_type": "code",
   "execution_count": 9,
   "metadata": {},
   "outputs": [],
   "source": [
    "x=supp_tables[2].find_all(\"th\")"
   ]
  },
  {
   "cell_type": "code",
   "execution_count": 60,
   "metadata": {},
   "outputs": [],
   "source": [
    "hdr_list = ['Season','Runners-Up']"
   ]
  },
  {
   "cell_type": "code",
   "execution_count": 151,
   "metadata": {},
   "outputs": [],
   "source": [
    "runners = pd.DataFrame(columns=hdr_list)"
   ]
  },
  {
   "cell_type": "code",
   "execution_count": 152,
   "metadata": {},
   "outputs": [
    {
     "data": {
      "text/html": [
       "<div>\n",
       "<style scoped>\n",
       "    .dataframe tbody tr th:only-of-type {\n",
       "        vertical-align: middle;\n",
       "    }\n",
       "\n",
       "    .dataframe tbody tr th {\n",
       "        vertical-align: top;\n",
       "    }\n",
       "\n",
       "    .dataframe thead th {\n",
       "        text-align: right;\n",
       "    }\n",
       "</style>\n",
       "<table border=\"1\" class=\"dataframe\">\n",
       "  <thead>\n",
       "    <tr style=\"text-align: right;\">\n",
       "      <th></th>\n",
       "      <th>Season</th>\n",
       "      <th>Runners-Up</th>\n",
       "    </tr>\n",
       "  </thead>\n",
       "  <tbody>\n",
       "  </tbody>\n",
       "</table>\n",
       "</div>"
      ],
      "text/plain": [
       "Empty DataFrame\n",
       "Columns: [Season, Runners-Up]\n",
       "Index: []"
      ]
     },
     "execution_count": 152,
     "metadata": {},
     "output_type": "execute_result"
    }
   ],
   "source": [
    "runners"
   ]
  },
  {
   "cell_type": "code",
   "execution_count": 23,
   "metadata": {},
   "outputs": [],
   "source": [
    "y=x[8].contents[0].contents[0]"
   ]
  },
  {
   "cell_type": "code",
   "execution_count": 29,
   "metadata": {},
   "outputs": [
    {
     "data": {
      "text/plain": [
       "'1972'"
      ]
     },
     "execution_count": 29,
     "metadata": {},
     "output_type": "execute_result"
    }
   ],
   "source": [
    "y[0:2]+y[-2:]"
   ]
  },
  {
   "cell_type": "code",
   "execution_count": 68,
   "metadata": {},
   "outputs": [
    {
     "data": {
      "text/plain": [
       "[<th scope=\"col\">Season\n",
       " </th>, <th scope=\"col\">Country\n",
       " </th>, <th scope=\"col\">Winners\n",
       " </th>, <th scope=\"col\">Score\n",
       " </th>, <th scope=\"col\">Runners-up\n",
       " </th>, <th scope=\"col\">Country\n",
       " </th>, <th scope=\"col\">Venue\n",
       " </th>, <th scope=\"col\">Attendance\n",
       " </th>, <th rowspan=\"2\" scope=\"row\" style=\"text-align:center\"><a href=\"/wiki/1971%E2%80%9372_UEFA_Cup\" title=\"1971–72 UEFA Cup\">1971–72</a>\n",
       " </th>, <th rowspan=\"2\" scope=\"row\" style=\"text-align:center\"><a href=\"/wiki/1972%E2%80%9373_UEFA_Cup\" title=\"1972–73 UEFA Cup\">1972–73</a>\n",
       " </th>, <th rowspan=\"2\" scope=\"row\" style=\"text-align:center\"><a href=\"/wiki/1973%E2%80%9374_UEFA_Cup\" title=\"1973–74 UEFA Cup\">1973–74</a>\n",
       " </th>, <th rowspan=\"2\" scope=\"row\" style=\"text-align:center\"><a href=\"/wiki/1974%E2%80%9375_UEFA_Cup\" title=\"1974–75 UEFA Cup\">1974–75</a>\n",
       " </th>, <th rowspan=\"2\" scope=\"row\" style=\"text-align:center\"><a href=\"/wiki/1975%E2%80%9376_UEFA_Cup\" title=\"1975–76 UEFA Cup\">1975–76</a>\n",
       " </th>, <th rowspan=\"2\" scope=\"row\" style=\"text-align:center\"><a href=\"/wiki/1976%E2%80%9377_UEFA_Cup\" title=\"1976–77 UEFA Cup\">1976–77</a>\n",
       " </th>, <th rowspan=\"2\" scope=\"row\" style=\"text-align:center\"><a href=\"/wiki/1977%E2%80%9378_UEFA_Cup\" title=\"1977–78 UEFA Cup\">1977–78</a>\n",
       " </th>, <th rowspan=\"2\" scope=\"row\" style=\"text-align:center\"><a href=\"/wiki/1978%E2%80%9379_UEFA_Cup\" title=\"1978–79 UEFA Cup\">1978–79</a>\n",
       " </th>, <th rowspan=\"2\" scope=\"row\" style=\"text-align:center\"><a href=\"/wiki/1979%E2%80%9380_UEFA_Cup\" title=\"1979–80 UEFA Cup\">1979–80</a>\n",
       " </th>, <th rowspan=\"2\" scope=\"row\" style=\"text-align:center\"><a href=\"/wiki/1980%E2%80%9381_UEFA_Cup\" title=\"1980–81 UEFA Cup\">1980–81</a>\n",
       " </th>, <th rowspan=\"2\" scope=\"row\" style=\"text-align:center\"><a href=\"/wiki/1981%E2%80%9382_UEFA_Cup\" title=\"1981–82 UEFA Cup\">1981–82</a>\n",
       " </th>, <th rowspan=\"2\" scope=\"row\" style=\"text-align:center\"><a href=\"/wiki/1982%E2%80%9383_UEFA_Cup\" title=\"1982–83 UEFA Cup\">1982–83</a>\n",
       " </th>, <th rowspan=\"2\" scope=\"row\" style=\"text-align:center\"><a href=\"/wiki/1983%E2%80%9384_UEFA_Cup\" title=\"1983–84 UEFA Cup\">1983–84</a>\n",
       " </th>, <th rowspan=\"2\" scope=\"row\" style=\"text-align:center\"><a href=\"/wiki/1984%E2%80%9385_UEFA_Cup\" title=\"1984–85 UEFA Cup\">1984–85</a>\n",
       " </th>, <th rowspan=\"2\" scope=\"row\" style=\"text-align:center\"><a href=\"/wiki/1985%E2%80%9386_UEFA_Cup\" title=\"1985–86 UEFA Cup\">1985–86</a>\n",
       " </th>, <th rowspan=\"2\" scope=\"row\" style=\"text-align:center\"><a href=\"/wiki/1986%E2%80%9387_UEFA_Cup\" title=\"1986–87 UEFA Cup\">1986–87</a>\n",
       " </th>, <th rowspan=\"2\" scope=\"row\" style=\"text-align:center\"><a href=\"/wiki/1987%E2%80%9388_UEFA_Cup\" title=\"1987–88 UEFA Cup\">1987–88</a>\n",
       " </th>, <th rowspan=\"2\" scope=\"row\" style=\"text-align:center\"><a href=\"/wiki/1988%E2%80%9389_UEFA_Cup\" title=\"1988–89 UEFA Cup\">1988–89</a>\n",
       " </th>, <th rowspan=\"2\" scope=\"row\" style=\"text-align:center\"><a href=\"/wiki/1989%E2%80%9390_UEFA_Cup\" title=\"1989–90 UEFA Cup\">1989–90</a>\n",
       " </th>, <th rowspan=\"2\" scope=\"row\" style=\"text-align:center\"><a href=\"/wiki/1990%E2%80%9391_UEFA_Cup\" title=\"1990–91 UEFA Cup\">1990–91</a>\n",
       " </th>, <th rowspan=\"2\" scope=\"row\" style=\"text-align:center\"><a href=\"/wiki/1991%E2%80%9392_UEFA_Cup\" title=\"1991–92 UEFA Cup\">1991–92</a>\n",
       " </th>, <th rowspan=\"2\" scope=\"row\" style=\"text-align:center\"><a href=\"/wiki/1992%E2%80%9393_UEFA_Cup\" title=\"1992–93 UEFA Cup\">1992–93</a>\n",
       " </th>, <th rowspan=\"2\" scope=\"row\" style=\"text-align:center\"><a href=\"/wiki/1993%E2%80%9394_UEFA_Cup\" title=\"1993–94 UEFA Cup\">1993–94</a>\n",
       " </th>, <th rowspan=\"2\" scope=\"row\" style=\"text-align:center\"><a href=\"/wiki/1994%E2%80%9395_UEFA_Cup\" title=\"1994–95 UEFA Cup\">1994–95</a>\n",
       " </th>, <th rowspan=\"2\" scope=\"row\" style=\"text-align:center\"><a href=\"/wiki/1995%E2%80%9396_UEFA_Cup\" title=\"1995–96 UEFA Cup\">1995–96</a>\n",
       " </th>, <th rowspan=\"2\" scope=\"row\" style=\"text-align:center\"><a href=\"/wiki/1996%E2%80%9397_UEFA_Cup\" title=\"1996–97 UEFA Cup\">1996–97</a>\n",
       " </th>, <th scope=\"row\" style=\"text-align:center\"><a href=\"/wiki/1997%E2%80%9398_UEFA_Cup\" title=\"1997–98 UEFA Cup\">1997–98</a>\n",
       " </th>, <th scope=\"row\" style=\"text-align:center\"><a href=\"/wiki/1998%E2%80%9399_UEFA_Cup\" title=\"1998–99 UEFA Cup\">1998–99</a>\n",
       " </th>, <th scope=\"row\" style=\"text-align:center\"><a href=\"/wiki/1999%E2%80%932000_UEFA_Cup\" title=\"1999–2000 UEFA Cup\">1999–2000</a>\n",
       " </th>, <th scope=\"row\" style=\"text-align:center\"><a href=\"/wiki/2000%E2%80%9301_UEFA_Cup\" title=\"2000–01 UEFA Cup\">2000–01</a>\n",
       " </th>, <th scope=\"row\" style=\"text-align:center\"><a href=\"/wiki/2001%E2%80%9302_UEFA_Cup\" title=\"2001–02 UEFA Cup\">2001–02</a>\n",
       " </th>, <th scope=\"row\" style=\"text-align:center\"><a href=\"/wiki/2002%E2%80%9303_UEFA_Cup\" title=\"2002–03 UEFA Cup\">2002–03</a>\n",
       " </th>, <th scope=\"row\" style=\"text-align:center\"><a href=\"/wiki/2003%E2%80%9304_UEFA_Cup\" title=\"2003–04 UEFA Cup\">2003–04</a>\n",
       " </th>, <th scope=\"row\" style=\"text-align:center\"><a href=\"/wiki/2004%E2%80%9305_UEFA_Cup\" title=\"2004–05 UEFA Cup\">2004–05</a>\n",
       " </th>, <th scope=\"row\" style=\"text-align:center\"><a href=\"/wiki/2005%E2%80%9306_UEFA_Cup\" title=\"2005–06 UEFA Cup\">2005–06</a>\n",
       " </th>, <th scope=\"row\" style=\"text-align:center\"><a href=\"/wiki/2006%E2%80%9307_UEFA_Cup\" title=\"2006–07 UEFA Cup\">2006–07</a>\n",
       " </th>, <th scope=\"row\" style=\"text-align:center\"><a href=\"/wiki/2007%E2%80%9308_UEFA_Cup\" title=\"2007–08 UEFA Cup\">2007–08</a>\n",
       " </th>, <th scope=\"row\" style=\"text-align:center\"><a href=\"/wiki/2008%E2%80%9309_UEFA_Cup\" title=\"2008–09 UEFA Cup\">2008–09</a>\n",
       " </th>, <th scope=\"row\" style=\"text-align:center\"><a href=\"/wiki/2009%E2%80%9310_UEFA_Europa_League\" title=\"2009–10 UEFA Europa League\">2009–10</a>\n",
       " </th>, <th scope=\"row\" style=\"text-align:center\"><a href=\"/wiki/2010%E2%80%9311_UEFA_Europa_League\" title=\"2010–11 UEFA Europa League\">2010–11</a>\n",
       " </th>, <th scope=\"row\" style=\"text-align:center\"><a href=\"/wiki/2011%E2%80%9312_UEFA_Europa_League\" title=\"2011–12 UEFA Europa League\">2011–12</a>\n",
       " </th>, <th scope=\"row\" style=\"text-align:center\"><a href=\"/wiki/2012%E2%80%9313_UEFA_Europa_League\" title=\"2012–13 UEFA Europa League\">2012–13</a>\n",
       " </th>, <th scope=\"row\" style=\"text-align:center\"><a href=\"/wiki/2013%E2%80%9314_UEFA_Europa_League\" title=\"2013–14 UEFA Europa League\">2013–14</a>\n",
       " </th>, <th scope=\"row\" style=\"text-align:center\"><a href=\"/wiki/2014%E2%80%9315_UEFA_Europa_League\" title=\"2014–15 UEFA Europa League\">2014–15</a>\n",
       " </th>, <th scope=\"row\" style=\"text-align:center\"><a href=\"/wiki/2015%E2%80%9316_UEFA_Europa_League\" title=\"2015–16 UEFA Europa League\">2015–16</a>\n",
       " </th>, <th scope=\"row\" style=\"text-align:center\"><a href=\"/wiki/2016%E2%80%9317_UEFA_Europa_League\" title=\"2016–17 UEFA Europa League\">2016–17</a>\n",
       " </th>, <th scope=\"row\" style=\"text-align:center\"><a href=\"/wiki/2017%E2%80%9318_UEFA_Europa_League\" title=\"2017–18 UEFA Europa League\">2017–18</a>\n",
       " </th>, <th scope=\"row\" style=\"text-align:center\"><a href=\"/wiki/2018%E2%80%9319_UEFA_Europa_League\" title=\"2018–19 UEFA Europa League\">2018–19</a>\n",
       " </th>, <th colspan=\"8\">Upcoming finals\n",
       " </th>, <th scope=\"col\">Season\n",
       " </th>, <th scope=\"col\">Nation\n",
       " </th>, <th scope=\"col\">Finalist\n",
       " </th>, <th scope=\"col\">Match\n",
       " </th>, <th scope=\"col\">Finalist\n",
       " </th>, <th scope=\"col\">Nation\n",
       " </th>, <th scope=\"col\">Venue\n",
       " </th>, <th scope=\"col\">\n",
       " </th>, <th scope=\"row\" style=\"text-align:center\"><a href=\"/wiki/2019%E2%80%9320_UEFA_Europa_League\" title=\"2019–20 UEFA Europa League\">2019–20</a>\n",
       " </th>]"
      ]
     },
     "execution_count": 68,
     "metadata": {},
     "output_type": "execute_result"
    }
   ],
   "source": [
    "x"
   ]
  },
  {
   "cell_type": "code",
   "execution_count": 72,
   "metadata": {},
   "outputs": [
    {
     "data": {
      "text/plain": [
       "<th scope=\"row\" style=\"text-align:center\"><a href=\"/wiki/2018%E2%80%9319_UEFA_Europa_League\" title=\"2018–19 UEFA Europa League\">2018–19</a>\n",
       "</th>"
      ]
     },
     "execution_count": 72,
     "metadata": {},
     "output_type": "execute_result"
    }
   ],
   "source": [
    "x[55]"
   ]
  },
  {
   "cell_type": "code",
   "execution_count": 97,
   "metadata": {},
   "outputs": [],
   "source": [
    "con = supp_tables[2].find_all(\"td\")"
   ]
  },
  {
   "cell_type": "code",
   "execution_count": 98,
   "metadata": {},
   "outputs": [
    {
     "data": {
      "text/plain": [
       "'Wolverhampton Wanderers'"
      ]
     },
     "execution_count": 98,
     "metadata": {},
     "output_type": "execute_result"
    }
   ],
   "source": [
    "con[3].contents[0].contents[0]"
   ]
  },
  {
   "cell_type": "code",
   "execution_count": 53,
   "metadata": {},
   "outputs": [
    {
     "data": {
      "text/plain": [
       "'Borussia Mönchengladbach'"
      ]
     },
     "execution_count": 53,
     "metadata": {},
     "output_type": "execute_result"
    }
   ],
   "source": [
    "con[13].contents[0].contents[0]"
   ]
  },
  {
   "cell_type": "code",
   "execution_count": 85,
   "metadata": {},
   "outputs": [
    {
     "data": {
      "text/plain": [
       "'Valencia'"
      ]
     },
     "execution_count": 85,
     "metadata": {},
     "output_type": "execute_result"
    }
   ],
   "source": [
    "con[303].contents[0].contents[0]"
   ]
  },
  {
   "cell_type": "code",
   "execution_count": 153,
   "metadata": {},
   "outputs": [],
   "source": [
    "season_list=[]\n",
    "for i in range(8,56):\n",
    "    season = (x[i].contents[0].contents[0])\n",
    "    if len(season) > 7:\n",
    "        season_list.append(season[-4:])\n",
    "    else:\n",
    "        season_list.append(season[0:2]+season[-2:])"
   ]
  },
  {
   "cell_type": "code",
   "execution_count": 154,
   "metadata": {},
   "outputs": [],
   "source": [
    "runners.Season = season_list"
   ]
  },
  {
   "cell_type": "code",
   "execution_count": 145,
   "metadata": {},
   "outputs": [
    {
     "data": {
      "text/html": [
       "<div>\n",
       "<style scoped>\n",
       "    .dataframe tbody tr th:only-of-type {\n",
       "        vertical-align: middle;\n",
       "    }\n",
       "\n",
       "    .dataframe tbody tr th {\n",
       "        vertical-align: top;\n",
       "    }\n",
       "\n",
       "    .dataframe thead th {\n",
       "        text-align: right;\n",
       "    }\n",
       "</style>\n",
       "<table border=\"1\" class=\"dataframe\">\n",
       "  <thead>\n",
       "    <tr style=\"text-align: right;\">\n",
       "      <th></th>\n",
       "      <th>Season</th>\n",
       "      <th>Runners-Up</th>\n",
       "    </tr>\n",
       "  </thead>\n",
       "  <tbody>\n",
       "    <tr>\n",
       "      <th>0</th>\n",
       "      <td>1972</td>\n",
       "      <td>NaN</td>\n",
       "    </tr>\n",
       "    <tr>\n",
       "      <th>1</th>\n",
       "      <td>1973</td>\n",
       "      <td>NaN</td>\n",
       "    </tr>\n",
       "    <tr>\n",
       "      <th>2</th>\n",
       "      <td>1974</td>\n",
       "      <td>NaN</td>\n",
       "    </tr>\n",
       "    <tr>\n",
       "      <th>3</th>\n",
       "      <td>1975</td>\n",
       "      <td>NaN</td>\n",
       "    </tr>\n",
       "    <tr>\n",
       "      <th>4</th>\n",
       "      <td>1976</td>\n",
       "      <td>NaN</td>\n",
       "    </tr>\n",
       "  </tbody>\n",
       "</table>\n",
       "</div>"
      ],
      "text/plain": [
       "  Season Runners-Up\n",
       "0   1972        NaN\n",
       "1   1973        NaN\n",
       "2   1974        NaN\n",
       "3   1975        NaN\n",
       "4   1976        NaN"
      ]
     },
     "execution_count": 145,
     "metadata": {},
     "output_type": "execute_result"
    }
   ],
   "source": [
    "runners.head()"
   ]
  },
  {
   "cell_type": "code",
   "execution_count": 127,
   "metadata": {},
   "outputs": [],
   "source": [
    "runners_list=[]\n",
    "for i in range(3,264,10):\n",
    "#     print(i)\n",
    "#     print(con[i].contents[0])\n",
    "    runners_list.append(con[i].contents[0])\n",
    "for i in range(270,414,7):\n",
    "#     print(i)\n",
    "#     print(con[i].contents[0])\n",
    "    runners_list.append(con[i].contents[0])"
   ]
  },
  {
   "cell_type": "code",
   "execution_count": 140,
   "metadata": {},
   "outputs": [
    {
     "name": "stdout",
     "output_type": "stream",
     "text": [
      "Wolverhampton Wanderers\n",
      "Borussia Mönchengladbach\n",
      "Tottenham Hotspur\n",
      "Twente\n",
      "Club Brugge\n",
      "Athletic Bilbao\n",
      "Bastia\n",
      "Red Star Belgrade\n",
      "Borussia Mönchengladbach\n",
      "AZ\n",
      "Hamburg\n",
      "Benfica\n",
      "Anderlecht\n",
      "Videoton\n",
      "Köln\n",
      "Dundee United\n",
      "Espanyol\n",
      "VfB Stuttgart\n",
      "Fiorentina\n",
      "Roma\n",
      "Torino\n",
      "Borussia Dortmund\n",
      "Salzburg\n",
      "Juventus\n",
      "Bordeaux\n",
      "Internazionale\n",
      "Lazio\n",
      "Marseille\n",
      "Arsenal\n",
      "Deportivo Alavés\n",
      "Borussia Dortmund\n",
      "Celtic\n",
      "Marseille\n",
      "Sporting CP\n",
      "Middlesbrough\n",
      "Espanyol\n",
      "Rangers\n",
      "Werder Bremen\n",
      "Fulham\n",
      "Braga\n",
      "Athletic Bilbao\n",
      "Benfica\n",
      "Benfica\n",
      "Dnipro\n",
      "Liverpool\n",
      "Ajax\n",
      "Marseille\n",
      "Arsenal\n"
     ]
    }
   ],
   "source": [
    "runner_up=[]\n",
    "for i in range(0,len(runners_list)):\n",
    "    print(runners_list[i].contents[0])\n",
    "    runner_up.append(runners_list[i].contents[0])"
   ]
  },
  {
   "cell_type": "code",
   "execution_count": 141,
   "metadata": {},
   "outputs": [
    {
     "data": {
      "text/plain": [
       "['Wolverhampton Wanderers',\n",
       " 'Borussia Mönchengladbach',\n",
       " 'Tottenham Hotspur',\n",
       " 'Twente',\n",
       " 'Club Brugge',\n",
       " 'Athletic Bilbao',\n",
       " 'Bastia',\n",
       " 'Red Star Belgrade',\n",
       " 'Borussia Mönchengladbach',\n",
       " 'AZ',\n",
       " 'Hamburg',\n",
       " 'Benfica',\n",
       " 'Anderlecht',\n",
       " 'Videoton',\n",
       " 'Köln',\n",
       " 'Dundee United',\n",
       " 'Espanyol',\n",
       " 'VfB Stuttgart',\n",
       " 'Fiorentina',\n",
       " 'Roma',\n",
       " 'Torino',\n",
       " 'Borussia Dortmund',\n",
       " 'Salzburg',\n",
       " 'Juventus',\n",
       " 'Bordeaux',\n",
       " 'Internazionale',\n",
       " 'Lazio',\n",
       " 'Marseille',\n",
       " 'Arsenal',\n",
       " 'Deportivo Alavés',\n",
       " 'Borussia Dortmund',\n",
       " 'Celtic',\n",
       " 'Marseille',\n",
       " 'Sporting CP',\n",
       " 'Middlesbrough',\n",
       " 'Espanyol',\n",
       " 'Rangers',\n",
       " 'Werder Bremen',\n",
       " 'Fulham',\n",
       " 'Braga',\n",
       " 'Athletic Bilbao',\n",
       " 'Benfica',\n",
       " 'Benfica',\n",
       " 'Dnipro',\n",
       " 'Liverpool',\n",
       " 'Ajax',\n",
       " 'Marseille',\n",
       " 'Arsenal']"
      ]
     },
     "execution_count": 141,
     "metadata": {},
     "output_type": "execute_result"
    }
   ],
   "source": [
    "runner_up"
   ]
  },
  {
   "cell_type": "code",
   "execution_count": 155,
   "metadata": {},
   "outputs": [],
   "source": [
    "runners['Runners-Up'] = runner_up"
   ]
  },
  {
   "cell_type": "code",
   "execution_count": 156,
   "metadata": {},
   "outputs": [
    {
     "data": {
      "text/plain": [
       "48"
      ]
     },
     "execution_count": 156,
     "metadata": {},
     "output_type": "execute_result"
    }
   ],
   "source": [
    "len(runners)"
   ]
  },
  {
   "cell_type": "code",
   "execution_count": 147,
   "metadata": {},
   "outputs": [
    {
     "data": {
      "text/plain": [
       "48"
      ]
     },
     "execution_count": 147,
     "metadata": {},
     "output_type": "execute_result"
    }
   ],
   "source": [
    "len(runner_up)"
   ]
  },
  {
   "cell_type": "code",
   "execution_count": 157,
   "metadata": {},
   "outputs": [
    {
     "data": {
      "text/html": [
       "<div>\n",
       "<style scoped>\n",
       "    .dataframe tbody tr th:only-of-type {\n",
       "        vertical-align: middle;\n",
       "    }\n",
       "\n",
       "    .dataframe tbody tr th {\n",
       "        vertical-align: top;\n",
       "    }\n",
       "\n",
       "    .dataframe thead th {\n",
       "        text-align: right;\n",
       "    }\n",
       "</style>\n",
       "<table border=\"1\" class=\"dataframe\">\n",
       "  <thead>\n",
       "    <tr style=\"text-align: right;\">\n",
       "      <th></th>\n",
       "      <th>Season</th>\n",
       "      <th>Runners-Up</th>\n",
       "    </tr>\n",
       "  </thead>\n",
       "  <tbody>\n",
       "    <tr>\n",
       "      <th>0</th>\n",
       "      <td>1972</td>\n",
       "      <td>Wolverhampton Wanderers</td>\n",
       "    </tr>\n",
       "    <tr>\n",
       "      <th>1</th>\n",
       "      <td>1973</td>\n",
       "      <td>Borussia Mönchengladbach</td>\n",
       "    </tr>\n",
       "    <tr>\n",
       "      <th>2</th>\n",
       "      <td>1974</td>\n",
       "      <td>Tottenham Hotspur</td>\n",
       "    </tr>\n",
       "    <tr>\n",
       "      <th>3</th>\n",
       "      <td>1975</td>\n",
       "      <td>Twente</td>\n",
       "    </tr>\n",
       "    <tr>\n",
       "      <th>4</th>\n",
       "      <td>1976</td>\n",
       "      <td>Club Brugge</td>\n",
       "    </tr>\n",
       "    <tr>\n",
       "      <th>5</th>\n",
       "      <td>1977</td>\n",
       "      <td>Athletic Bilbao</td>\n",
       "    </tr>\n",
       "    <tr>\n",
       "      <th>6</th>\n",
       "      <td>1978</td>\n",
       "      <td>Bastia</td>\n",
       "    </tr>\n",
       "    <tr>\n",
       "      <th>7</th>\n",
       "      <td>1979</td>\n",
       "      <td>Red Star Belgrade</td>\n",
       "    </tr>\n",
       "    <tr>\n",
       "      <th>8</th>\n",
       "      <td>1980</td>\n",
       "      <td>Borussia Mönchengladbach</td>\n",
       "    </tr>\n",
       "    <tr>\n",
       "      <th>9</th>\n",
       "      <td>1981</td>\n",
       "      <td>AZ</td>\n",
       "    </tr>\n",
       "    <tr>\n",
       "      <th>10</th>\n",
       "      <td>1982</td>\n",
       "      <td>Hamburg</td>\n",
       "    </tr>\n",
       "    <tr>\n",
       "      <th>11</th>\n",
       "      <td>1983</td>\n",
       "      <td>Benfica</td>\n",
       "    </tr>\n",
       "    <tr>\n",
       "      <th>12</th>\n",
       "      <td>1984</td>\n",
       "      <td>Anderlecht</td>\n",
       "    </tr>\n",
       "    <tr>\n",
       "      <th>13</th>\n",
       "      <td>1985</td>\n",
       "      <td>Videoton</td>\n",
       "    </tr>\n",
       "    <tr>\n",
       "      <th>14</th>\n",
       "      <td>1986</td>\n",
       "      <td>Köln</td>\n",
       "    </tr>\n",
       "    <tr>\n",
       "      <th>15</th>\n",
       "      <td>1987</td>\n",
       "      <td>Dundee United</td>\n",
       "    </tr>\n",
       "    <tr>\n",
       "      <th>16</th>\n",
       "      <td>1988</td>\n",
       "      <td>Espanyol</td>\n",
       "    </tr>\n",
       "    <tr>\n",
       "      <th>17</th>\n",
       "      <td>1989</td>\n",
       "      <td>VfB Stuttgart</td>\n",
       "    </tr>\n",
       "    <tr>\n",
       "      <th>18</th>\n",
       "      <td>1990</td>\n",
       "      <td>Fiorentina</td>\n",
       "    </tr>\n",
       "    <tr>\n",
       "      <th>19</th>\n",
       "      <td>1991</td>\n",
       "      <td>Roma</td>\n",
       "    </tr>\n",
       "    <tr>\n",
       "      <th>20</th>\n",
       "      <td>1992</td>\n",
       "      <td>Torino</td>\n",
       "    </tr>\n",
       "    <tr>\n",
       "      <th>21</th>\n",
       "      <td>1993</td>\n",
       "      <td>Borussia Dortmund</td>\n",
       "    </tr>\n",
       "    <tr>\n",
       "      <th>22</th>\n",
       "      <td>1994</td>\n",
       "      <td>Salzburg</td>\n",
       "    </tr>\n",
       "    <tr>\n",
       "      <th>23</th>\n",
       "      <td>1995</td>\n",
       "      <td>Juventus</td>\n",
       "    </tr>\n",
       "    <tr>\n",
       "      <th>24</th>\n",
       "      <td>1996</td>\n",
       "      <td>Bordeaux</td>\n",
       "    </tr>\n",
       "    <tr>\n",
       "      <th>25</th>\n",
       "      <td>1997</td>\n",
       "      <td>Internazionale</td>\n",
       "    </tr>\n",
       "    <tr>\n",
       "      <th>26</th>\n",
       "      <td>1998</td>\n",
       "      <td>Lazio</td>\n",
       "    </tr>\n",
       "    <tr>\n",
       "      <th>27</th>\n",
       "      <td>1999</td>\n",
       "      <td>Marseille</td>\n",
       "    </tr>\n",
       "    <tr>\n",
       "      <th>28</th>\n",
       "      <td>2000</td>\n",
       "      <td>Arsenal</td>\n",
       "    </tr>\n",
       "    <tr>\n",
       "      <th>29</th>\n",
       "      <td>2001</td>\n",
       "      <td>Deportivo Alavés</td>\n",
       "    </tr>\n",
       "    <tr>\n",
       "      <th>30</th>\n",
       "      <td>2002</td>\n",
       "      <td>Borussia Dortmund</td>\n",
       "    </tr>\n",
       "    <tr>\n",
       "      <th>31</th>\n",
       "      <td>2003</td>\n",
       "      <td>Celtic</td>\n",
       "    </tr>\n",
       "    <tr>\n",
       "      <th>32</th>\n",
       "      <td>2004</td>\n",
       "      <td>Marseille</td>\n",
       "    </tr>\n",
       "    <tr>\n",
       "      <th>33</th>\n",
       "      <td>2005</td>\n",
       "      <td>Sporting CP</td>\n",
       "    </tr>\n",
       "    <tr>\n",
       "      <th>34</th>\n",
       "      <td>2006</td>\n",
       "      <td>Middlesbrough</td>\n",
       "    </tr>\n",
       "    <tr>\n",
       "      <th>35</th>\n",
       "      <td>2007</td>\n",
       "      <td>Espanyol</td>\n",
       "    </tr>\n",
       "    <tr>\n",
       "      <th>36</th>\n",
       "      <td>2008</td>\n",
       "      <td>Rangers</td>\n",
       "    </tr>\n",
       "    <tr>\n",
       "      <th>37</th>\n",
       "      <td>2009</td>\n",
       "      <td>Werder Bremen</td>\n",
       "    </tr>\n",
       "    <tr>\n",
       "      <th>38</th>\n",
       "      <td>2010</td>\n",
       "      <td>Fulham</td>\n",
       "    </tr>\n",
       "    <tr>\n",
       "      <th>39</th>\n",
       "      <td>2011</td>\n",
       "      <td>Braga</td>\n",
       "    </tr>\n",
       "    <tr>\n",
       "      <th>40</th>\n",
       "      <td>2012</td>\n",
       "      <td>Athletic Bilbao</td>\n",
       "    </tr>\n",
       "    <tr>\n",
       "      <th>41</th>\n",
       "      <td>2013</td>\n",
       "      <td>Benfica</td>\n",
       "    </tr>\n",
       "    <tr>\n",
       "      <th>42</th>\n",
       "      <td>2014</td>\n",
       "      <td>Benfica</td>\n",
       "    </tr>\n",
       "    <tr>\n",
       "      <th>43</th>\n",
       "      <td>2015</td>\n",
       "      <td>Dnipro</td>\n",
       "    </tr>\n",
       "    <tr>\n",
       "      <th>44</th>\n",
       "      <td>2016</td>\n",
       "      <td>Liverpool</td>\n",
       "    </tr>\n",
       "    <tr>\n",
       "      <th>45</th>\n",
       "      <td>2017</td>\n",
       "      <td>Ajax</td>\n",
       "    </tr>\n",
       "    <tr>\n",
       "      <th>46</th>\n",
       "      <td>2018</td>\n",
       "      <td>Marseille</td>\n",
       "    </tr>\n",
       "    <tr>\n",
       "      <th>47</th>\n",
       "      <td>2019</td>\n",
       "      <td>Arsenal</td>\n",
       "    </tr>\n",
       "  </tbody>\n",
       "</table>\n",
       "</div>"
      ],
      "text/plain": [
       "   Season                Runners-Up\n",
       "0    1972   Wolverhampton Wanderers\n",
       "1    1973  Borussia Mönchengladbach\n",
       "2    1974         Tottenham Hotspur\n",
       "3    1975                    Twente\n",
       "4    1976               Club Brugge\n",
       "5    1977           Athletic Bilbao\n",
       "6    1978                    Bastia\n",
       "7    1979         Red Star Belgrade\n",
       "8    1980  Borussia Mönchengladbach\n",
       "9    1981                        AZ\n",
       "10   1982                   Hamburg\n",
       "11   1983                   Benfica\n",
       "12   1984                Anderlecht\n",
       "13   1985                  Videoton\n",
       "14   1986                      Köln\n",
       "15   1987             Dundee United\n",
       "16   1988                  Espanyol\n",
       "17   1989             VfB Stuttgart\n",
       "18   1990                Fiorentina\n",
       "19   1991                      Roma\n",
       "20   1992                    Torino\n",
       "21   1993         Borussia Dortmund\n",
       "22   1994                  Salzburg\n",
       "23   1995                  Juventus\n",
       "24   1996                  Bordeaux\n",
       "25   1997            Internazionale\n",
       "26   1998                     Lazio\n",
       "27   1999                 Marseille\n",
       "28   2000                   Arsenal\n",
       "29   2001          Deportivo Alavés\n",
       "30   2002         Borussia Dortmund\n",
       "31   2003                    Celtic\n",
       "32   2004                 Marseille\n",
       "33   2005               Sporting CP\n",
       "34   2006             Middlesbrough\n",
       "35   2007                  Espanyol\n",
       "36   2008                   Rangers\n",
       "37   2009             Werder Bremen\n",
       "38   2010                    Fulham\n",
       "39   2011                     Braga\n",
       "40   2012           Athletic Bilbao\n",
       "41   2013                   Benfica\n",
       "42   2014                   Benfica\n",
       "43   2015                    Dnipro\n",
       "44   2016                 Liverpool\n",
       "45   2017                      Ajax\n",
       "46   2018                 Marseille\n",
       "47   2019                   Arsenal"
      ]
     },
     "execution_count": 157,
     "metadata": {},
     "output_type": "execute_result"
    }
   ],
   "source": [
    "runners"
   ]
  },
  {
   "cell_type": "code",
   "execution_count": 123,
   "metadata": {},
   "outputs": [
    {
     "data": {
      "text/plain": [
       "<a href=\"/wiki/Celtic_F.C.\" title=\"Celtic F.C.\">Celtic</a>"
      ]
     },
     "execution_count": 123,
     "metadata": {},
     "output_type": "execute_result"
    }
   ],
   "source": [
    "con[298].contents[0]"
   ]
  }
 ],
 "metadata": {
  "kernelspec": {
   "display_name": "Python 3",
   "language": "python",
   "name": "python3"
  },
  "language_info": {
   "codemirror_mode": {
    "name": "ipython",
    "version": 3
   },
   "file_extension": ".py",
   "mimetype": "text/x-python",
   "name": "python",
   "nbconvert_exporter": "python",
   "pygments_lexer": "ipython3",
   "version": "3.7.4"
  }
 },
 "nbformat": 4,
 "nbformat_minor": 2
}
