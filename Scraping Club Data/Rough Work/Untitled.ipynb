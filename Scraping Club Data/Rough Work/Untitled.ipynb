{
 "cells": [
  {
   "cell_type": "code",
   "execution_count": 137,
   "metadata": {},
   "outputs": [],
   "source": [
    "import pandas as pd\n",
    "import numpy as np\n",
    "import matplotlib.pyplot as plt"
   ]
  },
  {
   "cell_type": "code",
   "execution_count": 138,
   "metadata": {},
   "outputs": [],
   "source": [
    "player_data = pd.read_csv('..\\\\Consolidated Data\\\\Player_Attribute_Data.csv')\n",
    "team_rankings = pd.read_csv('..\\\\Consolidated Data\\\\Team Rankings_corrected.csv')\n",
    "spend_df = pd.read_csv('..\\\\Consolidated Data\\\\Average_Transfer_Budget.csv')"
   ]
  },
  {
   "cell_type": "code",
   "execution_count": 139,
   "metadata": {},
   "outputs": [],
   "source": [
    "team_rankings=team_rankings.drop(['Unnamed: 0'],axis=1)\n",
    "player_df = player_data[['sofifa_id','club', 'overall','position', 'section', 'role']]\n",
    "combo_df = pd.merge(player_df,team_rankings,how='inner',left_on='club',right_on='Team')\n",
    "combo_df=combo_df.drop(['sofifa_id','club','Team'],axis=1)\n",
    "role_df = combo_df.groupby(['role','Tier']).mean()\n",
    "pos_df = combo_df.groupby(['position','Tier']).mean()\n",
    "role_df.reset_index(inplace = True)\n",
    "pos_df.reset_index(inplace = True)"
   ]
  },
  {
   "cell_type": "code",
   "execution_count": 140,
   "metadata": {},
   "outputs": [],
   "source": [
    "def club_level(club):\n",
    "    club_tier = (team_rankings[team_rankings['Team'] == club]['Tier']).values[0]\n",
    "    club_df = player_data[player_data['club']==club][['overall','section','role']]\n",
    "    club_df = club_df.groupby(['role']).mean()\n",
    "    club_df = club_df.reset_index()\n",
    "    upper_tier_df = role_df[role_df['Tier']==(club_tier-1)]\n",
    "    upper_tier_df = upper_tier_df.reset_index()\n",
    "    upper_tier_df = upper_tier_df.drop(['index','Tier'],axis=1)\n",
    "    combo_df = pd.merge(upper_tier_df,club_df,how='inner',on='role')\n",
    "    combo_df.columns = ['Role','Upper_Tier_Rating','Club_Rating']\n",
    "    combo_df['Rating_Gap'] = combo_df['Upper_Tier_Rating'] - combo_df['Club_Rating']\n",
    "#     return combo_df\n",
    "    role_focus = combo_df[combo_df['Rating_Gap']==combo_df['Rating_Gap'].values.max()]['Role'].values[0]\n",
    "    return role_focus"
   ]
  },
  {
   "cell_type": "code",
   "execution_count": 141,
   "metadata": {},
   "outputs": [],
   "source": [
    "def club_gap(club):\n",
    "    club_tier = (team_rankings[team_rankings['Team'] == club]['Tier']).values[0]\n",
    "    club_df = player_data[player_data['club']==club][['overall','section','position']]\n",
    "    club_df = club_df.groupby(['position']).mean()\n",
    "    club_df = club_df.reset_index()\n",
    "    upper_tier_df = pos_df[pos_df['Tier']==(club_tier-1)]\n",
    "    upper_tier_df = upper_tier_df.reset_index()\n",
    "    upper_tier_df = upper_tier_df.drop(['index','Tier'],axis=1)\n",
    "    combo_df = pd.merge(upper_tier_df,club_df,how='inner',on='position')\n",
    "    combo_df.columns = ['Position','Upper_Tier_Rating','Club_Rating']\n",
    "    combo_df['Rating_Gap'] = combo_df['Upper_Tier_Rating'] - combo_df['Club_Rating']\n",
    "#     return combo_df\n",
    "    pos_focus = combo_df[combo_df['Rating_Gap']==combo_df['Rating_Gap'].values.max()]['Position'].values[0]\n",
    "    return pos_focus"
   ]
  },
  {
   "cell_type": "code",
   "execution_count": 142,
   "metadata": {},
   "outputs": [],
   "source": [
    "role_to_fill=club_level('Liverpool')"
   ]
  },
  {
   "cell_type": "code",
   "execution_count": 143,
   "metadata": {},
   "outputs": [],
   "source": [
    "pos_to_fill = club_gap('Liverpool')"
   ]
  },
  {
   "cell_type": "code",
   "execution_count": 144,
   "metadata": {},
   "outputs": [
    {
     "name": "stderr",
     "output_type": "stream",
     "text": [
      "c:\\users\\akhil_s_bhat\\appdata\\local\\programs\\python\\python36\\lib\\site-packages\\ipykernel_launcher.py:2: SettingWithCopyWarning: \n",
      "A value is trying to be set on a copy of a slice from a DataFrame.\n",
      "Try using .loc[row_indexer,col_indexer] = value instead\n",
      "\n",
      "See the caveats in the documentation: http://pandas.pydata.org/pandas-docs/stable/indexing.html#indexing-view-versus-copy\n",
      "  \n"
     ]
    }
   ],
   "source": [
    "player_df = player_data[['sofifa_id','short_name','long_name','club', 'overall','position', 'section', 'role','age','value_eur']]\n",
    "player_df['value_in_mil'] = player_df['value_eur']/1000000"
   ]
  },
  {
   "cell_type": "code",
   "execution_count": 157,
   "metadata": {},
   "outputs": [],
   "source": [
    "def rec_player_by_role(club,pct):\n",
    "    spend_limit = (spend_df[spend_df['Team']==club]['Total_Arrivals'].values[0]) * pct\n",
    "    clean_df = player_df[player_df['club'] != club]\n",
    "    limit_df=clean_df[clean_df['value_in_mil']<spend_limit]\n",
    "    age_df = limit_df[['club','age']].groupby('club').mean()\n",
    "    age_df['age'] = round(age_df['age'],2)\n",
    "    age_df = age_df.reset_index()\n",
    "    target_age = player_df[player_df['club'] == club]\n",
    "    target_age=target_age['age'].values[0]\n",
    "    role_df = limit_df[clean_df['role']==role_to_fill]\n",
    "    age_range_df = role_df[(role_df['age']>=(target_age-1.5)) & (role_df['age']<=(target_age+1.5))]\n",
    "    return(age_range_df.head(1)['short_name'].values[0])"
   ]
  },
  {
   "cell_type": "code",
   "execution_count": 158,
   "metadata": {},
   "outputs": [
    {
     "name": "stderr",
     "output_type": "stream",
     "text": [
      "c:\\users\\akhil_s_bhat\\appdata\\local\\programs\\python\\python36\\lib\\site-packages\\ipykernel_launcher.py:10: UserWarning: Boolean Series key will be reindexed to match DataFrame index.\n",
      "  # Remove the CWD from sys.path while we load stuff.\n"
     ]
    },
    {
     "data": {
      "text/plain": [
       "'Thiago'"
      ]
     },
     "execution_count": 158,
     "metadata": {},
     "output_type": "execute_result"
    }
   ],
   "source": [
    "rec_player_by_role('Liverpool',.6)"
   ]
  },
  {
   "cell_type": "code",
   "execution_count": 164,
   "metadata": {},
   "outputs": [],
   "source": [
    "def rec_player_by_pos(club,pct):\n",
    "    spend_limit = (spend_df[spend_df['Team']==club]['Total_Arrivals'].values[0]) * pct\n",
    "    clean_df = player_df[player_df['club'] != club]\n",
    "    limit_df=clean_df[clean_df['value_in_mil']<spend_limit]\n",
    "    age_df = limit_df[['club','age']].groupby('club').mean()\n",
    "    age_df['age'] = round(age_df['age'],2)\n",
    "    age_df = age_df.reset_index()\n",
    "    target_age = player_df[player_df['club'] == club]\n",
    "    target_age=target_age['age'].values[0]\n",
    "    pos_df = limit_df[player_df['position']==pos_to_fill]\n",
    "    age_range_df = pos_df[(pos_df['age']>=(target_age-1.5)) & (pos_df['age']<=(target_age+1.5))]\n",
    "    return(age_range_df.head(1)['short_name'].values[0])"
   ]
  },
  {
   "cell_type": "code",
   "execution_count": null,
   "metadata": {},
   "outputs": [],
   "source": []
  },
  {
   "cell_type": "code",
   "execution_count": null,
   "metadata": {
    "scrolled": true
   },
   "outputs": [],
   "source": [
    "rec_player_by_pos('Liverpool')"
   ]
  },
  {
   "cell_type": "code",
   "execution_count": 162,
   "metadata": {},
   "outputs": [],
   "source": [
    "def recommend_players(club,count):\n",
    "    player_array = []\n",
    "    if(count == 1):\n",
    "        player = rec_player_by_role(club,1)\n",
    "        player_array.append(player)\n",
    "        print(player_array)\n",
    "    elif(count == 2):\n",
    "        player = rec_player_by_role(club,.6)\n",
    "        player_array.append(player)\n",
    "        player = rec_player_by_pos(club,.4)\n",
    "        player_array.append(player)\n",
    "        print(player_array)\n",
    "    elif(count == 3):\n",
    "        player = rec_player_by_role(club,.45)\n",
    "        player_array.append(player)\n",
    "        player = rec_player_by_pos(club,.30)\n",
    "        player_array.append(player)\n",
    "        player = rec_player_by_role(club,.25)\n",
    "        player_array.append(player)\n",
    "        print(player_array)\n",
    "    elif(count == 4):\n",
    "        player = rec_player_by_role(club,.40)\n",
    "        player_array.append(player)\n",
    "        player = rec_player_by_pos(club,.30)\n",
    "        player_array.append(player)\n",
    "        player = rec_player_by_role(club,.20)\n",
    "        player_array.append(player)\n",
    "        player = rec_player_by_pos(club,.10)\n",
    "        player_array.append(player)\n",
    "        print(player_array)\n",
    "    elif(count == 5):\n",
    "        player = rec_player_by_role(club,.35)\n",
    "        player_array.append(player)\n",
    "        player = rec_player_by_pos(club,.28)\n",
    "        player_array.append(player)\n",
    "        player = rec_player_by_role(club,.21)\n",
    "        player_array.append(player)\n",
    "        player = rec_player_by_pos(club,.15)\n",
    "        player_array.append(player)\n",
    "        player = rec_player_by_pos(club,.10)\n",
    "        player_array.append(player)\n",
    "        print(player_array)"
   ]
  },
  {
   "cell_type": "code",
   "execution_count": 165,
   "metadata": {},
   "outputs": [
    {
     "name": "stdout",
     "output_type": "stream",
     "text": [
      "['T. Kroos', 'Rodrigo', 'G. Wijnaldum']\n"
     ]
    },
    {
     "name": "stderr",
     "output_type": "stream",
     "text": [
      "c:\\users\\akhil_s_bhat\\appdata\\local\\programs\\python\\python36\\lib\\site-packages\\ipykernel_launcher.py:10: UserWarning: Boolean Series key will be reindexed to match DataFrame index.\n",
      "  # Remove the CWD from sys.path while we load stuff.\n"
     ]
    }
   ],
   "source": [
    "recommend_players('Manchester United',3)"
   ]
  },
  {
   "cell_type": "code",
   "execution_count": null,
   "metadata": {},
   "outputs": [],
   "source": [
    "player_array"
   ]
  },
  {
   "cell_type": "code",
   "execution_count": 195,
   "metadata": {},
   "outputs": [],
   "source": [
    "def club_gap_2(club,pr):\n",
    "    club_tier = (team_rankings[team_rankings['Team'] == club]['Tier']).values[0]\n",
    "    club_df = player_data[player_data['club']==club][['overall','section','position']]\n",
    "    club_df = club_df.groupby(['position']).mean()\n",
    "    club_df = club_df.reset_index()\n",
    "    upper_tier_df = pos_df[pos_df['Tier']==(club_tier-1)]\n",
    "    upper_tier_df = upper_tier_df.reset_index()\n",
    "    upper_tier_df = upper_tier_df.drop(['index','Tier'],axis=1)\n",
    "    combo_df = pd.merge(upper_tier_df,club_df,how='inner',on='position')\n",
    "    combo_df.columns = ['Position','Upper_Tier_Rating','Club_Rating']\n",
    "    combo_df['Rating_Gap'] = combo_df['Upper_Tier_Rating'] - combo_df['Club_Rating']\n",
    "#     pos_focus = combo_df[combo_df['Rating_Gap']==combo_df['Rating_Gap'].values.max()]['Position'].values[0]\n",
    "    pos_focus = combo_df[combo_df['Rating_Gap'] == np.sort(combo_df['Rating_Gap'])[-1*pr]]['Position'].values[0]\n",
    "    return pos_focus"
   ]
  },
  {
   "cell_type": "code",
   "execution_count": 196,
   "metadata": {},
   "outputs": [],
   "source": [
    "abc = club_gap_2('Liverpool',2)"
   ]
  },
  {
   "cell_type": "code",
   "execution_count": 197,
   "metadata": {},
   "outputs": [
    {
     "data": {
      "text/plain": [
       "'LB'"
      ]
     },
     "execution_count": 197,
     "metadata": {},
     "output_type": "execute_result"
    }
   ],
   "source": [
    "abc"
   ]
  },
  {
   "cell_type": "code",
   "execution_count": 186,
   "metadata": {},
   "outputs": [
    {
     "data": {
      "text/plain": [
       "array([-4.25      , -4.        , -1.07619048,  0.5       ,  2.        ,\n",
       "        3.75      ,  4.46666667,  4.5       , 11.44444444, 11.77777778])"
      ]
     },
     "execution_count": 186,
     "metadata": {},
     "output_type": "execute_result"
    }
   ],
   "source": [
    "np.sort(abc['Rating_Gap'])"
   ]
  },
  {
   "cell_type": "code",
   "execution_count": 185,
   "metadata": {},
   "outputs": [
    {
     "data": {
      "text/plain": [
       "11.444444444444443"
      ]
     },
     "execution_count": 185,
     "metadata": {},
     "output_type": "execute_result"
    }
   ],
   "source": [
    "np.sort(abc['Rating_Gap'])[-2]"
   ]
  },
  {
   "cell_type": "code",
   "execution_count": 189,
   "metadata": {},
   "outputs": [
    {
     "data": {
      "text/html": [
       "<div>\n",
       "<style scoped>\n",
       "    .dataframe tbody tr th:only-of-type {\n",
       "        vertical-align: middle;\n",
       "    }\n",
       "\n",
       "    .dataframe tbody tr th {\n",
       "        vertical-align: top;\n",
       "    }\n",
       "\n",
       "    .dataframe thead th {\n",
       "        text-align: right;\n",
       "    }\n",
       "</style>\n",
       "<table border=\"1\" class=\"dataframe\">\n",
       "  <thead>\n",
       "    <tr style=\"text-align: right;\">\n",
       "      <th></th>\n",
       "      <th>Position</th>\n",
       "      <th>Upper_Tier_Rating</th>\n",
       "      <th>Club_Rating</th>\n",
       "      <th>Rating_Gap</th>\n",
       "    </tr>\n",
       "  </thead>\n",
       "  <tbody>\n",
       "    <tr>\n",
       "      <th>9</th>\n",
       "      <td>ST</td>\n",
       "      <td>79.111111</td>\n",
       "      <td>67.333333</td>\n",
       "      <td>11.777778</td>\n",
       "    </tr>\n",
       "  </tbody>\n",
       "</table>\n",
       "</div>"
      ],
      "text/plain": [
       "  Position  Upper_Tier_Rating  Club_Rating  Rating_Gap\n",
       "9       ST          79.111111    67.333333   11.777778"
      ]
     },
     "execution_count": 189,
     "metadata": {},
     "output_type": "execute_result"
    }
   ],
   "source": [
    "abc[abc['Rating_Gap'] == np.sort(abc['Rating_Gap'])[-1]]"
   ]
  }
 ],
 "metadata": {
  "kernelspec": {
   "display_name": "Python 3",
   "language": "python",
   "name": "python3"
  },
  "language_info": {
   "codemirror_mode": {
    "name": "ipython",
    "version": 3
   },
   "file_extension": ".py",
   "mimetype": "text/x-python",
   "name": "python",
   "nbconvert_exporter": "python",
   "pygments_lexer": "ipython3",
   "version": "3.6.4"
  }
 },
 "nbformat": 4,
 "nbformat_minor": 2
}
