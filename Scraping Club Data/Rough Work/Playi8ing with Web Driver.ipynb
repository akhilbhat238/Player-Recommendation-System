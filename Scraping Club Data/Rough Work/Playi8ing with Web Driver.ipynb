{
 "cells": [
  {
   "cell_type": "code",
   "execution_count": 60,
   "metadata": {},
   "outputs": [],
   "source": [
    "import numpy as np\n",
    "import pandas as pd\n",
    "from bs4 import BeautifulSoup\n",
    "import requests"
   ]
  },
  {
   "cell_type": "code",
   "execution_count": 61,
   "metadata": {},
   "outputs": [],
   "source": [
    "headers = {\"User-Agent\":\"Mozilla/5.0\"}\n",
    "response = requests.get('https://www.transfermarkt.com/laliga/startseite/wettbewerb/ES1', headers=headers)\n",
    "soup = BeautifulSoup(response.content, 'html.parser')\n",
    "tables = soup.findAll(\"table\")"
   ]
  },
  {
   "cell_type": "code",
   "execution_count": 62,
   "metadata": {},
   "outputs": [],
   "source": [
    "team_data = tables[3].findAll(\"tbody\")"
   ]
  },
  {
   "cell_type": "code",
   "execution_count": 119,
   "metadata": {},
   "outputs": [
    {
     "data": {
      "text/plain": [
       "[<td class=\"zentriert no-border-rechts\"><a class=\"vereinprofil_tooltip\" href=\"/real-madrid/startseite/verein/418/saison_id/2019\"><img alt=\"Real Madrid\" class=\"tiny_wappen\" src=\"https://tmssl.akamaized.net//images/wappen/tiny/418.png?lm=1403089383\" title=\" \"/></a></td>,\n",
       " <td class=\"hauptlink no-border-links hide-for-small hide-for-pad\"><a class=\"vereinprofil_tooltip\" href=\"/real-madrid/startseite/verein/418/saison_id/2019\" id=\"418\">Real Madrid</a> </td>,\n",
       " <td class=\"hauptlink no-border-links show-for-small show-for-pad\"><a class=\"vereinprofil_tooltip\" href=\"/real-madrid/startseite/verein/418/saison_id/2019\" id=\"418\">Real Madrid</a></td>,\n",
       " <td class=\"zentriert\"><a href=\"/real-madrid/kader/verein/418/saison_id/2019\" title=\"Real Madrid\">26</a></td>,\n",
       " <td class=\"zentriert hide-for-small hide-for-pad\">26,7</td>,\n",
       " <td class=\"zentriert hide-for-pad hide-for-small\">18</td>,\n",
       " <td class=\"rechts hide-for-small hide-for-pad\"><a href=\"/real-madrid/kader/verein/418/saison_id/2019\" title=\"Real Madrid\">€1.19bn</a></td>,\n",
       " <td class=\"rechts hide-for-small hide-for-pad\">€45.75m</td>,\n",
       " <td class=\"rechts show-for-small show-for-pad nowrap\"><a href=\"/real-madrid/kader/verein/418/saison_id/2019\" title=\"Real Madrid\">€1.19bn</a></td>,\n",
       " <td class=\"rechts show-for-small show-for-pad nowrap\">€45.75m</td>,\n",
       " <td class=\"zentriert no-border-rechts\"><a class=\"vereinprofil_tooltip\" href=\"/fc-barcelona/startseite/verein/131/saison_id/2019\"><img alt=\"FC Barcelona\" class=\"tiny_wappen\" src=\"https://tmssl.akamaized.net//images/wappen/tiny/131.png?lm=1406739548\" title=\" \"/></a></td>,\n",
       " <td class=\"hauptlink no-border-links hide-for-small hide-for-pad\"><a class=\"vereinprofil_tooltip\" href=\"/fc-barcelona/startseite/verein/131/saison_id/2019\" id=\"131\">FC Barcelona</a> <a href=\"#\"><img alt=\"Spanish Champion 18/19\" class=\"tabelle-erfolg\" src=\"https://tmssl.akamaized.net//images/erfolge/mini/11.png?lm=1520606997\" title=\"Spanish Champion 18/19\"/></a></td>,\n",
       " <td class=\"hauptlink no-border-links show-for-small show-for-pad\"><a class=\"vereinprofil_tooltip\" href=\"/fc-barcelona/startseite/verein/131/saison_id/2019\" id=\"131\">FC Barcelona</a></td>,\n",
       " <td class=\"zentriert\"><a href=\"/fc-barcelona/kader/verein/131/saison_id/2019\" title=\"FC Barcelona\">23</a></td>,\n",
       " <td class=\"zentriert hide-for-small hide-for-pad\">26,5</td>,\n",
       " <td class=\"zentriert hide-for-pad hide-for-small\">15</td>,\n",
       " <td class=\"rechts hide-for-small hide-for-pad\"><a href=\"/fc-barcelona/kader/verein/131/saison_id/2019\" title=\"FC Barcelona\">€1.18bn</a></td>,\n",
       " <td class=\"rechts hide-for-small hide-for-pad\">€51.13m</td>,\n",
       " <td class=\"rechts show-for-small show-for-pad nowrap\"><a href=\"/fc-barcelona/kader/verein/131/saison_id/2019\" title=\"FC Barcelona\">€1.18bn</a></td>,\n",
       " <td class=\"rechts show-for-small show-for-pad nowrap\">€51.13m</td>,\n",
       " <td class=\"zentriert no-border-rechts\"><a class=\"vereinprofil_tooltip\" href=\"/atletico-madrid/startseite/verein/13/saison_id/2019\"><img alt=\"Atlético Madrid\" class=\"tiny_wappen\" src=\"https://tmssl.akamaized.net//images/wappen/tiny/13.png?lm=1519120744\" title=\" \"/></a></td>,\n",
       " <td class=\"hauptlink no-border-links hide-for-small hide-for-pad\"><a class=\"vereinprofil_tooltip\" href=\"/atletico-madrid/startseite/verein/13/saison_id/2019\" id=\"13\">Atlético Madrid</a> </td>,\n",
       " <td class=\"hauptlink no-border-links show-for-small show-for-pad\"><a class=\"vereinprofil_tooltip\" href=\"/atletico-madrid/startseite/verein/13/saison_id/2019\" id=\"13\">Atlético Madrid</a></td>,\n",
       " <td class=\"zentriert\"><a href=\"/atletico-madrid/kader/verein/13/saison_id/2019\" title=\"Atlético Madrid\">22</a></td>,\n",
       " <td class=\"zentriert hide-for-small hide-for-pad\">26,8</td>,\n",
       " <td class=\"zentriert hide-for-pad hide-for-small\">14</td>,\n",
       " <td class=\"rechts hide-for-small hide-for-pad\"><a href=\"/atletico-madrid/kader/verein/13/saison_id/2019\" title=\"Atlético Madrid\">€872.50m</a></td>,\n",
       " <td class=\"rechts hide-for-small hide-for-pad\">€39.66m</td>,\n",
       " <td class=\"rechts show-for-small show-for-pad nowrap\"><a href=\"/atletico-madrid/kader/verein/13/saison_id/2019\" title=\"Atlético Madrid\">€872.50m</a></td>,\n",
       " <td class=\"rechts show-for-small show-for-pad nowrap\">€39.66m</td>,\n",
       " <td class=\"zentriert no-border-rechts\"><a class=\"vereinprofil_tooltip\" href=\"/fc-valencia/startseite/verein/1049/saison_id/2019\"><img alt=\"Valencia CF\" class=\"tiny_wappen\" src=\"https://tmssl.akamaized.net//images/wappen/tiny/1049.png?lm=1406966320\" title=\" \"/></a></td>,\n",
       " <td class=\"hauptlink no-border-links hide-for-small hide-for-pad\"><a class=\"vereinprofil_tooltip\" href=\"/fc-valencia/startseite/verein/1049/saison_id/2019\" id=\"1049\">Valencia CF</a> <a href=\"#\"><img alt=\"Spanish Cup winner  18/19\" class=\"tabelle-erfolg\" src=\"https://tmssl.akamaized.net//images/erfolge/mini/94.png?lm=1520606999\" title=\"Spanish Cup winner  18/19\"/></a></td>,\n",
       " <td class=\"hauptlink no-border-links show-for-small show-for-pad\"><a class=\"vereinprofil_tooltip\" href=\"/fc-valencia/startseite/verein/1049/saison_id/2019\" id=\"1049\">Valencia</a></td>,\n",
       " <td class=\"zentriert\"><a href=\"/valencia-cf/kader/verein/1049/saison_id/2019\" title=\"Valencia CF\">24</a></td>,\n",
       " <td class=\"zentriert hide-for-small hide-for-pad\">26,8</td>,\n",
       " <td class=\"zentriert hide-for-pad hide-for-small\">15</td>,\n",
       " <td class=\"rechts hide-for-small hide-for-pad\"><a href=\"/valencia-cf/kader/verein/1049/saison_id/2019\" title=\"Valencia CF\">€495.50m</a></td>,\n",
       " <td class=\"rechts hide-for-small hide-for-pad\">€20.65m</td>,\n",
       " <td class=\"rechts show-for-small show-for-pad nowrap\"><a href=\"/valencia-cf/kader/verein/1049/saison_id/2019\" title=\"Valencia CF\">€495.50m</a></td>,\n",
       " <td class=\"rechts show-for-small show-for-pad nowrap\">€20.65m</td>,\n",
       " <td class=\"zentriert no-border-rechts\"><a class=\"vereinprofil_tooltip\" href=\"/real-sociedad-san-sebastian/startseite/verein/681/saison_id/2019\"><img alt=\"Real Sociedad\" class=\"tiny_wappen\" src=\"https://tmssl.akamaized.net//images/wappen/tiny/681.png?lm=1469965714\" title=\" \"/></a></td>,\n",
       " <td class=\"hauptlink no-border-links hide-for-small hide-for-pad\"><a class=\"vereinprofil_tooltip\" href=\"/real-sociedad-san-sebastian/startseite/verein/681/saison_id/2019\" id=\"681\">Real Sociedad</a> </td>,\n",
       " <td class=\"hauptlink no-border-links show-for-small show-for-pad\"><a class=\"vereinprofil_tooltip\" href=\"/real-sociedad-san-sebastian/startseite/verein/681/saison_id/2019\" id=\"681\">Real Sociedad</a></td>,\n",
       " <td class=\"zentriert\"><a href=\"/real-sociedad/kader/verein/681/saison_id/2019\" title=\"Real Sociedad\">25</a></td>,\n",
       " <td class=\"zentriert hide-for-small hide-for-pad\">25,3</td>,\n",
       " <td class=\"zentriert hide-for-pad hide-for-small\">6</td>,\n",
       " <td class=\"rechts hide-for-small hide-for-pad\"><a href=\"/real-sociedad/kader/verein/681/saison_id/2019\" title=\"Real Sociedad\">€309.80m</a></td>,\n",
       " <td class=\"rechts hide-for-small hide-for-pad\">€12.39m</td>,\n",
       " <td class=\"rechts show-for-small show-for-pad nowrap\"><a href=\"/real-sociedad/kader/verein/681/saison_id/2019\" title=\"Real Sociedad\">€309.80m</a></td>,\n",
       " <td class=\"rechts show-for-small show-for-pad nowrap\">€12.39m</td>,\n",
       " <td class=\"zentriert no-border-rechts\"><a class=\"vereinprofil_tooltip\" href=\"/real-betis-sevilla/startseite/verein/150/saison_id/2019\"><img alt=\"Real Betis Balompié\" class=\"tiny_wappen\" src=\"https://tmssl.akamaized.net//images/wappen/tiny/150.png?lm=1407484550\" title=\" \"/></a></td>,\n",
       " <td class=\"hauptlink no-border-links hide-for-small hide-for-pad\"><a class=\"vereinprofil_tooltip\" href=\"/real-betis-sevilla/startseite/verein/150/saison_id/2019\" id=\"150\">Real Betis Balompié</a> </td>,\n",
       " <td class=\"hauptlink no-border-links show-for-small show-for-pad\"><a class=\"vereinprofil_tooltip\" href=\"/real-betis-sevilla/startseite/verein/150/saison_id/2019\" id=\"150\">Real Betis</a></td>,\n",
       " <td class=\"zentriert\"><a href=\"/real-betis-balompie/kader/verein/150/saison_id/2019\" title=\"Real Betis Balompié\">23</a></td>,\n",
       " <td class=\"zentriert hide-for-small hide-for-pad\">27,5</td>,\n",
       " <td class=\"zentriert hide-for-pad hide-for-small\">9</td>,\n",
       " <td class=\"rechts hide-for-small hide-for-pad\"><a href=\"/real-betis-balompie/kader/verein/150/saison_id/2019\" title=\"Real Betis Balompié\">€292.50m</a></td>,\n",
       " <td class=\"rechts hide-for-small hide-for-pad\">€12.72m</td>,\n",
       " <td class=\"rechts show-for-small show-for-pad nowrap\"><a href=\"/real-betis-balompie/kader/verein/150/saison_id/2019\" title=\"Real Betis Balompié\">€292.50m</a></td>,\n",
       " <td class=\"rechts show-for-small show-for-pad nowrap\">€12.72m</td>,\n",
       " <td class=\"zentriert no-border-rechts\"><a class=\"vereinprofil_tooltip\" href=\"/fc-sevilla/startseite/verein/368/saison_id/2019\"><img alt=\"Sevilla FC\" class=\"tiny_wappen\" src=\"https://tmssl.akamaized.net//images/wappen/tiny/368.png?lm=1408655455\" title=\" \"/></a></td>,\n",
       " <td class=\"hauptlink no-border-links hide-for-small hide-for-pad\"><a class=\"vereinprofil_tooltip\" href=\"/fc-sevilla/startseite/verein/368/saison_id/2019\" id=\"368\">Sevilla FC</a> </td>,\n",
       " <td class=\"hauptlink no-border-links show-for-small show-for-pad\"><a class=\"vereinprofil_tooltip\" href=\"/fc-sevilla/startseite/verein/368/saison_id/2019\" id=\"368\">Sevilla FC</a></td>,\n",
       " <td class=\"zentriert\"><a href=\"/sevilla-fc/kader/verein/368/saison_id/2019\" title=\"Sevilla FC\">25</a></td>,\n",
       " <td class=\"zentriert hide-for-small hide-for-pad\">27,4</td>,\n",
       " <td class=\"zentriert hide-for-pad hide-for-small\">14</td>,\n",
       " <td class=\"rechts hide-for-small hide-for-pad\"><a href=\"/sevilla-fc/kader/verein/368/saison_id/2019\" title=\"Sevilla FC\">€283.20m</a></td>,\n",
       " <td class=\"rechts hide-for-small hide-for-pad\">€11.33m</td>,\n",
       " <td class=\"rechts show-for-small show-for-pad nowrap\"><a href=\"/sevilla-fc/kader/verein/368/saison_id/2019\" title=\"Sevilla FC\">€283.20m</a></td>,\n",
       " <td class=\"rechts show-for-small show-for-pad nowrap\">€11.33m</td>,\n",
       " <td class=\"zentriert no-border-rechts\"><a class=\"vereinprofil_tooltip\" href=\"/celta-vigo/startseite/verein/940/saison_id/2019\"><img alt=\"Celta de Vigo\" class=\"tiny_wappen\" src=\"https://tmssl.akamaized.net//images/wappen/tiny/940.png?lm=1406966406\" title=\" \"/></a></td>,\n",
       " <td class=\"hauptlink no-border-links hide-for-small hide-for-pad\"><a class=\"vereinprofil_tooltip\" href=\"/celta-vigo/startseite/verein/940/saison_id/2019\" id=\"940\">Celta de Vigo</a> </td>,\n",
       " <td class=\"hauptlink no-border-links show-for-small show-for-pad\"><a class=\"vereinprofil_tooltip\" href=\"/celta-vigo/startseite/verein/940/saison_id/2019\" id=\"940\">Celta de Vigo</a></td>,\n",
       " <td class=\"zentriert\"><a href=\"/celta-de-vigo/kader/verein/940/saison_id/2019\" title=\"Celta de Vigo\">24</a></td>,\n",
       " <td class=\"zentriert hide-for-small hide-for-pad\">25,8</td>,\n",
       " <td class=\"zentriert hide-for-pad hide-for-small\">9</td>,\n",
       " <td class=\"rechts hide-for-small hide-for-pad\"><a href=\"/celta-de-vigo/kader/verein/940/saison_id/2019\" title=\"Celta de Vigo\">€226.30m</a></td>,\n",
       " <td class=\"rechts hide-for-small hide-for-pad\">€9.43m</td>,\n",
       " <td class=\"rechts show-for-small show-for-pad nowrap\"><a href=\"/celta-de-vigo/kader/verein/940/saison_id/2019\" title=\"Celta de Vigo\">€226.30m</a></td>,\n",
       " <td class=\"rechts show-for-small show-for-pad nowrap\">€9.43m</td>,\n",
       " <td class=\"zentriert no-border-rechts\"><a class=\"vereinprofil_tooltip\" href=\"/athletic-bilbao/startseite/verein/621/saison_id/2019\"><img alt=\"Athletic Bilbao\" class=\"tiny_wappen\" src=\"https://tmssl.akamaized.net//images/wappen/tiny/621.png?lm=1565768743\" title=\" \"/></a></td>,\n",
       " <td class=\"hauptlink no-border-links hide-for-small hide-for-pad\"><a class=\"vereinprofil_tooltip\" href=\"/athletic-bilbao/startseite/verein/621/saison_id/2019\" id=\"621\">Athletic Bilbao</a> </td>,\n",
       " <td class=\"hauptlink no-border-links show-for-small show-for-pad\"><a class=\"vereinprofil_tooltip\" href=\"/athletic-bilbao/startseite/verein/621/saison_id/2019\" id=\"621\">Athletic</a></td>,\n",
       " <td class=\"zentriert\"><a href=\"/athletic-bilbao/kader/verein/621/saison_id/2019\" title=\"Athletic Bilbao\">26</a></td>,\n",
       " <td class=\"zentriert hide-for-small hide-for-pad\">27,5</td>,\n",
       " <td class=\"zentriert hide-for-pad hide-for-small\">2</td>,\n",
       " <td class=\"rechts hide-for-small hide-for-pad\"><a href=\"/athletic-bilbao/kader/verein/621/saison_id/2019\" title=\"Athletic Bilbao\">€225.00m</a></td>,\n",
       " <td class=\"rechts hide-for-small hide-for-pad\">€8.65m</td>,\n",
       " <td class=\"rechts show-for-small show-for-pad nowrap\"><a href=\"/athletic-bilbao/kader/verein/621/saison_id/2019\" title=\"Athletic Bilbao\">€225.00m</a></td>,\n",
       " <td class=\"rechts show-for-small show-for-pad nowrap\">€8.65m</td>,\n",
       " <td class=\"zentriert no-border-rechts\"><a class=\"vereinprofil_tooltip\" href=\"/fc-villarreal/startseite/verein/1050/saison_id/2019\"><img alt=\"Villarreal CF\" class=\"tiny_wappen\" src=\"https://tmssl.akamaized.net//images/wappen/tiny/1050.png?lm=1408655310\" title=\" \"/></a></td>,\n",
       " <td class=\"hauptlink no-border-links hide-for-small hide-for-pad\"><a class=\"vereinprofil_tooltip\" href=\"/fc-villarreal/startseite/verein/1050/saison_id/2019\" id=\"1050\">Villarreal CF</a> </td>,\n",
       " <td class=\"hauptlink no-border-links show-for-small show-for-pad\"><a class=\"vereinprofil_tooltip\" href=\"/fc-villarreal/startseite/verein/1050/saison_id/2019\" id=\"1050\">Villarreal</a></td>,\n",
       " <td class=\"zentriert\"><a href=\"/villarreal-cf/kader/verein/1050/saison_id/2019\" title=\"Villarreal CF\">24</a></td>,\n",
       " <td class=\"zentriert hide-for-small hide-for-pad\">28,0</td>,\n",
       " <td class=\"zentriert hide-for-pad hide-for-small\">8</td>,\n",
       " <td class=\"rechts hide-for-small hide-for-pad\"><a href=\"/villarreal-cf/kader/verein/1050/saison_id/2019\" title=\"Villarreal CF\">€211.70m</a></td>,\n",
       " <td class=\"rechts hide-for-small hide-for-pad\">€8.82m</td>,\n",
       " <td class=\"rechts show-for-small show-for-pad nowrap\"><a href=\"/villarreal-cf/kader/verein/1050/saison_id/2019\" title=\"Villarreal CF\">€211.70m</a></td>,\n",
       " <td class=\"rechts show-for-small show-for-pad nowrap\">€8.82m</td>,\n",
       " <td class=\"zentriert no-border-rechts\"><a class=\"vereinprofil_tooltip\" href=\"/fc-getafe/startseite/verein/3709/saison_id/2019\"><img alt=\"Getafe CF\" class=\"tiny_wappen\" src=\"https://tmssl.akamaized.net//images/wappen/tiny/3709.png?lm=1408655116\" title=\" \"/></a></td>,\n",
       " <td class=\"hauptlink no-border-links hide-for-small hide-for-pad\"><a class=\"vereinprofil_tooltip\" href=\"/fc-getafe/startseite/verein/3709/saison_id/2019\" id=\"3709\">Getafe CF</a> </td>,\n",
       " <td class=\"hauptlink no-border-links show-for-small show-for-pad\"><a class=\"vereinprofil_tooltip\" href=\"/fc-getafe/startseite/verein/3709/saison_id/2019\" id=\"3709\">Getafe</a></td>,\n",
       " <td class=\"zentriert\"><a href=\"/getafe-cf/kader/verein/3709/saison_id/2019\" title=\"Getafe CF\">27</a></td>,\n",
       " <td class=\"zentriert hide-for-small hide-for-pad\">28,5</td>,\n",
       " <td class=\"zentriert hide-for-pad hide-for-small\">13</td>,\n",
       " <td class=\"rechts hide-for-small hide-for-pad\"><a href=\"/getafe-cf/kader/verein/3709/saison_id/2019\" title=\"Getafe CF\">€153.20m</a></td>,\n",
       " <td class=\"rechts hide-for-small hide-for-pad\">€5.67m</td>,\n",
       " <td class=\"rechts show-for-small show-for-pad nowrap\"><a href=\"/getafe-cf/kader/verein/3709/saison_id/2019\" title=\"Getafe CF\">€153.20m</a></td>,\n",
       " <td class=\"rechts show-for-small show-for-pad nowrap\">€5.67m</td>,\n",
       " <td class=\"zentriert no-border-rechts\"><a class=\"vereinprofil_tooltip\" href=\"/espanyol-barcelona/startseite/verein/714/saison_id/2019\"><img alt=\"RCD Espanyol Barcelona\" class=\"tiny_wappen\" src=\"https://tmssl.akamaized.net//images/wappen/tiny/714.png?lm=1406966369\" title=\" \"/></a></td>,\n",
       " <td class=\"hauptlink no-border-links hide-for-small hide-for-pad\"><a class=\"vereinprofil_tooltip\" href=\"/espanyol-barcelona/startseite/verein/714/saison_id/2019\" id=\"714\">RCD Espanyol Barcelona</a> </td>,\n",
       " <td class=\"hauptlink no-border-links show-for-small show-for-pad\"><a class=\"vereinprofil_tooltip\" href=\"/espanyol-barcelona/startseite/verein/714/saison_id/2019\" id=\"714\">Espanyol</a></td>,\n",
       " <td class=\"zentriert\"><a href=\"/rcd-espanyol-barcelona/kader/verein/714/saison_id/2019\" title=\"RCD Espanyol Barcelona\">26</a></td>,\n",
       " <td class=\"zentriert hide-for-small hide-for-pad\">27,1</td>,\n",
       " <td class=\"zentriert hide-for-pad hide-for-small\">8</td>,\n",
       " <td class=\"rechts hide-for-small hide-for-pad\"><a href=\"/rcd-espanyol-barcelona/kader/verein/714/saison_id/2019\" title=\"RCD Espanyol Barcelona\">€149.60m</a></td>,\n",
       " <td class=\"rechts hide-for-small hide-for-pad\">€5.75m</td>,\n",
       " <td class=\"rechts show-for-small show-for-pad nowrap\"><a href=\"/rcd-espanyol-barcelona/kader/verein/714/saison_id/2019\" title=\"RCD Espanyol Barcelona\">€149.60m</a></td>,\n",
       " <td class=\"rechts show-for-small show-for-pad nowrap\">€5.75m</td>,\n",
       " <td class=\"zentriert no-border-rechts\"><a class=\"vereinprofil_tooltip\" href=\"/cd-leganes/startseite/verein/1244/saison_id/2019\"><img alt=\"CD Leganés\" class=\"tiny_wappen\" src=\"https://tmssl.akamaized.net//images/wappen/tiny/1244.png?lm=1422972468\" title=\" \"/></a></td>,\n",
       " <td class=\"hauptlink no-border-links hide-for-small hide-for-pad\"><a class=\"vereinprofil_tooltip\" href=\"/cd-leganes/startseite/verein/1244/saison_id/2019\" id=\"1244\">CD Leganés</a> </td>,\n",
       " <td class=\"hauptlink no-border-links show-for-small show-for-pad\"><a class=\"vereinprofil_tooltip\" href=\"/cd-leganes/startseite/verein/1244/saison_id/2019\" id=\"1244\">CD Leganés</a></td>,\n",
       " <td class=\"zentriert\"><a href=\"/cd-leganes/kader/verein/1244/saison_id/2019\" title=\"CD Leganés\">26</a></td>,\n",
       " <td class=\"zentriert hide-for-small hide-for-pad\">26,6</td>,\n",
       " <td class=\"zentriert hide-for-pad hide-for-small\">12</td>,\n",
       " <td class=\"rechts hide-for-small hide-for-pad\"><a href=\"/cd-leganes/kader/verein/1244/saison_id/2019\" title=\"CD Leganés\">€106.80m</a></td>,\n",
       " <td class=\"rechts hide-for-small hide-for-pad\">€4.11m</td>,\n",
       " <td class=\"rechts show-for-small show-for-pad nowrap\"><a href=\"/cd-leganes/kader/verein/1244/saison_id/2019\" title=\"CD Leganés\">€106.80m</a></td>,\n",
       " <td class=\"rechts show-for-small show-for-pad nowrap\">€4.11m</td>,\n",
       " <td class=\"zentriert no-border-rechts\"><a class=\"vereinprofil_tooltip\" href=\"/ud-levante/startseite/verein/3368/saison_id/2019\"><img alt=\"Levante UD\" class=\"tiny_wappen\" src=\"https://tmssl.akamaized.net//images/wappen/tiny/3368.png?lm=1408655062\" title=\" \"/></a></td>,\n",
       " <td class=\"hauptlink no-border-links hide-for-small hide-for-pad\"><a class=\"vereinprofil_tooltip\" href=\"/ud-levante/startseite/verein/3368/saison_id/2019\" id=\"3368\">Levante UD</a> </td>,\n",
       " <td class=\"hauptlink no-border-links show-for-small show-for-pad\"><a class=\"vereinprofil_tooltip\" href=\"/ud-levante/startseite/verein/3368/saison_id/2019\" id=\"3368\">Levante</a></td>,\n",
       " <td class=\"zentriert\"><a href=\"/levante-ud/kader/verein/3368/saison_id/2019\" title=\"Levante UD\">23</a></td>,\n",
       " <td class=\"zentriert hide-for-small hide-for-pad\">28,1</td>,\n",
       " <td class=\"zentriert hide-for-pad hide-for-small\">7</td>,\n",
       " <td class=\"rechts hide-for-small hide-for-pad\"><a href=\"/levante-ud/kader/verein/3368/saison_id/2019\" title=\"Levante UD\">€102.40m</a></td>,\n",
       " <td class=\"rechts hide-for-small hide-for-pad\">€4.45m</td>,\n",
       " <td class=\"rechts show-for-small show-for-pad nowrap\"><a href=\"/levante-ud/kader/verein/3368/saison_id/2019\" title=\"Levante UD\">€102.40m</a></td>,\n",
       " <td class=\"rechts show-for-small show-for-pad nowrap\">€4.45m</td>,\n",
       " <td class=\"zentriert no-border-rechts\"><a class=\"vereinprofil_tooltip\" href=\"/real-valladolid/startseite/verein/366/saison_id/2019\"><img alt=\"Real Valladolid CF\" class=\"tiny_wappen\" src=\"https://tmssl.akamaized.net//images/wappen/tiny/366.png?lm=1407484674\" title=\" \"/></a></td>,\n",
       " <td class=\"hauptlink no-border-links hide-for-small hide-for-pad\"><a class=\"vereinprofil_tooltip\" href=\"/real-valladolid/startseite/verein/366/saison_id/2019\" id=\"366\">Real Valladolid CF</a> </td>,\n",
       " <td class=\"hauptlink no-border-links show-for-small show-for-pad\"><a class=\"vereinprofil_tooltip\" href=\"/real-valladolid/startseite/verein/366/saison_id/2019\" id=\"366\">Real Valladolid</a></td>,\n",
       " <td class=\"zentriert\"><a href=\"/real-valladolid-cf/kader/verein/366/saison_id/2019\" title=\"Real Valladolid CF\">26</a></td>,\n",
       " <td class=\"zentriert hide-for-small hide-for-pad\">26,0</td>,\n",
       " <td class=\"zentriert hide-for-pad hide-for-small\">6</td>,\n",
       " <td class=\"rechts hide-for-small hide-for-pad\"><a href=\"/real-valladolid-cf/kader/verein/366/saison_id/2019\" title=\"Real Valladolid CF\">€92.80m</a></td>,\n",
       " <td class=\"rechts hide-for-small hide-for-pad\">€3.57m</td>,\n",
       " <td class=\"rechts show-for-small show-for-pad nowrap\"><a href=\"/real-valladolid-cf/kader/verein/366/saison_id/2019\" title=\"Real Valladolid CF\">€92.80m</a></td>,\n",
       " <td class=\"rechts show-for-small show-for-pad nowrap\">€3.57m</td>,\n",
       " <td class=\"zentriert no-border-rechts\"><a class=\"vereinprofil_tooltip\" href=\"/deportivo-alaves/startseite/verein/1108/saison_id/2019\"><img alt=\"Deportivo Alavés\" class=\"tiny_wappen\" src=\"https://tmssl.akamaized.net//images/wappen/tiny/1108.png?lm=1438505152\" title=\" \"/></a></td>,\n",
       " <td class=\"hauptlink no-border-links hide-for-small hide-for-pad\"><a class=\"vereinprofil_tooltip\" href=\"/deportivo-alaves/startseite/verein/1108/saison_id/2019\" id=\"1108\">Deportivo Alavés</a> </td>,\n",
       " <td class=\"hauptlink no-border-links show-for-small show-for-pad\"><a class=\"vereinprofil_tooltip\" href=\"/deportivo-alaves/startseite/verein/1108/saison_id/2019\" id=\"1108\">Alavés</a></td>,\n",
       " <td class=\"zentriert\"><a href=\"/deportivo-alaves/kader/verein/1108/saison_id/2019\" title=\"Deportivo Alavés\">25</a></td>,\n",
       " <td class=\"zentriert hide-for-small hide-for-pad\">26,9</td>,\n",
       " <td class=\"zentriert hide-for-pad hide-for-small\">6</td>,\n",
       " <td class=\"rechts hide-for-small hide-for-pad\"><a href=\"/deportivo-alaves/kader/verein/1108/saison_id/2019\" title=\"Deportivo Alavés\">€90.20m</a></td>,\n",
       " <td class=\"rechts hide-for-small hide-for-pad\">€3.61m</td>,\n",
       " <td class=\"rechts show-for-small show-for-pad nowrap\"><a href=\"/deportivo-alaves/kader/verein/1108/saison_id/2019\" title=\"Deportivo Alavés\">€90.20m</a></td>,\n",
       " <td class=\"rechts show-for-small show-for-pad nowrap\">€3.61m</td>,\n",
       " <td class=\"zentriert no-border-rechts\"><a class=\"vereinprofil_tooltip\" href=\"/sd-eibar/startseite/verein/1533/saison_id/2019\"><img alt=\"SD Eibar\" class=\"tiny_wappen\" src=\"https://tmssl.akamaized.net//images/wappen/tiny/1533.png?lm=1408654757\" title=\" \"/></a></td>,\n",
       " <td class=\"hauptlink no-border-links hide-for-small hide-for-pad\"><a class=\"vereinprofil_tooltip\" href=\"/sd-eibar/startseite/verein/1533/saison_id/2019\" id=\"1533\">SD Eibar</a> </td>,\n",
       " <td class=\"hauptlink no-border-links show-for-small show-for-pad\"><a class=\"vereinprofil_tooltip\" href=\"/sd-eibar/startseite/verein/1533/saison_id/2019\" id=\"1533\">SD Eibar</a></td>,\n",
       " <td class=\"zentriert\"><a href=\"/sd-eibar/kader/verein/1533/saison_id/2019\" title=\"SD Eibar\">22</a></td>,\n",
       " <td class=\"zentriert hide-for-small hide-for-pad\">30,0</td>,\n",
       " <td class=\"zentriert hide-for-pad hide-for-small\">9</td>,\n",
       " <td class=\"rechts hide-for-small hide-for-pad\"><a href=\"/sd-eibar/kader/verein/1533/saison_id/2019\" title=\"SD Eibar\">€69.60m</a></td>,\n",
       " <td class=\"rechts hide-for-small hide-for-pad\">€3.16m</td>,\n",
       " <td class=\"rechts show-for-small show-for-pad nowrap\"><a href=\"/sd-eibar/kader/verein/1533/saison_id/2019\" title=\"SD Eibar\">€69.60m</a></td>,\n",
       " <td class=\"rechts show-for-small show-for-pad nowrap\">€3.16m</td>,\n",
       " <td class=\"zentriert no-border-rechts\"><a class=\"vereinprofil_tooltip\" href=\"/rcd-mallorca/startseite/verein/237/saison_id/2019\"><img alt=\"RCD Mallorca\" class=\"tiny_wappen\" src=\"https://tmssl.akamaized.net//images/wappen/tiny/237.png?lm=1407484750\" title=\" \"/></a></td>,\n",
       " <td class=\"hauptlink no-border-links hide-for-small hide-for-pad\"><a class=\"vereinprofil_tooltip\" href=\"/rcd-mallorca/startseite/verein/237/saison_id/2019\" id=\"237\">RCD Mallorca</a> <span class=\"icons_sprite icon-aufsteiger\" title=\"Promoted to 1st league 18/19\"> </span></td>,\n",
       " <td class=\"hauptlink no-border-links show-for-small show-for-pad\"><a class=\"vereinprofil_tooltip\" href=\"/rcd-mallorca/startseite/verein/237/saison_id/2019\" id=\"237\">RCD Mallorca</a></td>,\n",
       " <td class=\"zentriert\"><a href=\"/rcd-mallorca/kader/verein/237/saison_id/2019\" title=\"RCD Mallorca\">27</a></td>,\n",
       " <td class=\"zentriert hide-for-small hide-for-pad\">27,9</td>,\n",
       " <td class=\"zentriert hide-for-pad hide-for-small\">12</td>,\n",
       " <td class=\"rechts hide-for-small hide-for-pad\"><a href=\"/rcd-mallorca/kader/verein/237/saison_id/2019\" title=\"RCD Mallorca\">€58.55m</a></td>,\n",
       " <td class=\"rechts hide-for-small hide-for-pad\">€2.17m</td>,\n",
       " <td class=\"rechts show-for-small show-for-pad nowrap\"><a href=\"/rcd-mallorca/kader/verein/237/saison_id/2019\" title=\"RCD Mallorca\">€58.55m</a></td>,\n",
       " <td class=\"rechts show-for-small show-for-pad nowrap\">€2.17m</td>,\n",
       " <td class=\"zentriert no-border-rechts\"><a class=\"vereinprofil_tooltip\" href=\"/ca-osasuna/startseite/verein/331/saison_id/2019\"><img alt=\"CA Osasuna\" class=\"tiny_wappen\" src=\"https://tmssl.akamaized.net//images/wappen/tiny/331.png?lm=1406739464\" title=\" \"/></a></td>,\n",
       " <td class=\"hauptlink no-border-links hide-for-small hide-for-pad\"><a class=\"vereinprofil_tooltip\" href=\"/ca-osasuna/startseite/verein/331/saison_id/2019\" id=\"331\">CA Osasuna</a> <span class=\"icons_sprite icon-aufsteiger\" title=\"Promoted to 1st league 18/19\"> </span></td>,\n",
       " <td class=\"hauptlink no-border-links show-for-small show-for-pad\"><a class=\"vereinprofil_tooltip\" href=\"/ca-osasuna/startseite/verein/331/saison_id/2019\" id=\"331\">CA Osasuna</a></td>,\n",
       " <td class=\"zentriert\"><a href=\"/ca-osasuna/kader/verein/331/saison_id/2019\" title=\"CA Osasuna\">26</a></td>,\n",
       " <td class=\"zentriert hide-for-small hide-for-pad\">27,8</td>,\n",
       " <td class=\"zentriert hide-for-pad hide-for-small\">4</td>,\n",
       " <td class=\"rechts hide-for-small hide-for-pad\"><a href=\"/ca-osasuna/kader/verein/331/saison_id/2019\" title=\"CA Osasuna\">€43.70m</a></td>,\n",
       " <td class=\"rechts hide-for-small hide-for-pad\">€1.68m</td>,\n",
       " <td class=\"rechts show-for-small show-for-pad nowrap\"><a href=\"/ca-osasuna/kader/verein/331/saison_id/2019\" title=\"CA Osasuna\">€43.70m</a></td>,\n",
       " <td class=\"rechts show-for-small show-for-pad nowrap\">€1.68m</td>,\n",
       " <td class=\"zentriert no-border-rechts\"><a class=\"vereinprofil_tooltip\" href=\"/fc-granada/startseite/verein/16795/saison_id/2019\"><img alt=\"Granada CF\" class=\"tiny_wappen\" src=\"https://tmssl.akamaized.net//images/wappen/tiny/16795.png?lm=1520935994\" title=\" \"/></a></td>,\n",
       " <td class=\"hauptlink no-border-links hide-for-small hide-for-pad\"><a class=\"vereinprofil_tooltip\" href=\"/fc-granada/startseite/verein/16795/saison_id/2019\" id=\"16795\">Granada CF</a> <span class=\"icons_sprite icon-aufsteiger\" title=\"Promoted to 1st league 18/19\"> </span></td>,\n",
       " <td class=\"hauptlink no-border-links show-for-small show-for-pad\"><a class=\"vereinprofil_tooltip\" href=\"/fc-granada/startseite/verein/16795/saison_id/2019\" id=\"16795\">Granada CF</a></td>,\n",
       " <td class=\"zentriert\"><a href=\"/granada-cf/kader/verein/16795/saison_id/2019\" title=\"Granada CF\">23</a></td>,\n",
       " <td class=\"zentriert hide-for-small hide-for-pad\">27,7</td>,\n",
       " <td class=\"zentriert hide-for-pad hide-for-small\">10</td>,\n",
       " <td class=\"rechts hide-for-small hide-for-pad\"><a href=\"/granada-cf/kader/verein/16795/saison_id/2019\" title=\"Granada CF\">€33.50m</a></td>,\n",
       " <td class=\"rechts hide-for-small hide-for-pad\">€1.46m</td>,\n",
       " <td class=\"rechts show-for-small show-for-pad nowrap\"><a href=\"/granada-cf/kader/verein/16795/saison_id/2019\" title=\"Granada CF\">€33.50m</a></td>,\n",
       " <td class=\"rechts show-for-small show-for-pad nowrap\">€1.46m</td>]"
      ]
     },
     "execution_count": 119,
     "metadata": {},
     "output_type": "execute_result"
    }
   ],
   "source": [
    "team_data[0].findAll(\"td\")"
   ]
  },
  {
   "cell_type": "code",
   "execution_count": 120,
   "metadata": {},
   "outputs": [
    {
     "data": {
      "text/plain": [
       "bs4.element.ResultSet"
      ]
     },
     "execution_count": 120,
     "metadata": {},
     "output_type": "execute_result"
    }
   ],
   "source": [
    "type(team_data[0].findAll(\"td\"))"
   ]
  },
  {
   "cell_type": "code",
   "execution_count": 116,
   "metadata": {},
   "outputs": [
    {
     "data": {
      "text/plain": [
       "<td class=\"zentriert no-border-rechts\"><a class=\"vereinprofil_tooltip\" href=\"/real-madrid/startseite/verein/418/saison_id/2019\"><img alt=\"Real Madrid\" class=\"tiny_wappen\" src=\"https://tmssl.akamaized.net//images/wappen/tiny/418.png?lm=1403089383\" title=\" \"/></a></td>"
      ]
     },
     "execution_count": 116,
     "metadata": {},
     "output_type": "execute_result"
    }
   ],
   "source": [
    "team_data[0].findAll(\"td\", {'class':'zentriert no-border-rechts'})[0]"
   ]
  },
  {
   "cell_type": "code",
   "execution_count": 117,
   "metadata": {},
   "outputs": [
    {
     "data": {
      "text/plain": [
       "'Real Madrid'"
      ]
     },
     "execution_count": 117,
     "metadata": {},
     "output_type": "execute_result"
    }
   ],
   "source": [
    "team_data[0].findAll(\"td\", {'class':'zentriert no-border-rechts'})[0].find('a').find('img')['alt']"
   ]
  },
  {
   "cell_type": "code",
   "execution_count": 63,
   "metadata": {},
   "outputs": [],
   "source": [
    "team_link = team_data[0].findAll(\"td\")[0].find('a')['href']"
   ]
  },
  {
   "cell_type": "code",
   "execution_count": 64,
   "metadata": {},
   "outputs": [
    {
     "data": {
      "text/plain": [
       "'/real-madrid/startseite/verein/418/saison_id/2019'"
      ]
     },
     "execution_count": 64,
     "metadata": {},
     "output_type": "execute_result"
    }
   ],
   "source": [
    "team_link"
   ]
  },
  {
   "cell_type": "code",
   "execution_count": 65,
   "metadata": {},
   "outputs": [
    {
     "data": {
      "text/plain": [
       "34"
      ]
     },
     "execution_count": 65,
     "metadata": {},
     "output_type": "execute_result"
    }
   ],
   "source": [
    "team_link.find('/saison')"
   ]
  },
  {
   "cell_type": "code",
   "execution_count": 66,
   "metadata": {},
   "outputs": [],
   "source": [
    "team_short_link = team_link[0:team_link.find('/saison')]"
   ]
  },
  {
   "cell_type": "code",
   "execution_count": 67,
   "metadata": {},
   "outputs": [
    {
     "data": {
      "text/plain": [
       "'/real-madrid/startseite/verein/418'"
      ]
     },
     "execution_count": 67,
     "metadata": {},
     "output_type": "execute_result"
    }
   ],
   "source": [
    "team_short_link"
   ]
  },
  {
   "cell_type": "code",
   "execution_count": 68,
   "metadata": {},
   "outputs": [],
   "source": [
    "new_link = team_short_link.replace('startseite','alletransfers',1)"
   ]
  },
  {
   "cell_type": "code",
   "execution_count": 69,
   "metadata": {},
   "outputs": [],
   "source": [
    "full_link = 'https://www.transfermarkt.com' + new_link"
   ]
  },
  {
   "cell_type": "code",
   "execution_count": 70,
   "metadata": {},
   "outputs": [
    {
     "data": {
      "text/plain": [
       "'https://www.transfermarkt.com/real-madrid/alletransfers/verein/418'"
      ]
     },
     "execution_count": 70,
     "metadata": {},
     "output_type": "execute_result"
    }
   ],
   "source": [
    "full_link"
   ]
  },
  {
   "cell_type": "code",
   "execution_count": 71,
   "metadata": {},
   "outputs": [],
   "source": [
    "# https://www.transfermarkt.com/real-madrid/alletransfers/verein/418"
   ]
  },
  {
   "cell_type": "code",
   "execution_count": 74,
   "metadata": {},
   "outputs": [],
   "source": [
    "arrival_array = []\n",
    "departure_array = []"
   ]
  },
  {
   "cell_type": "code",
   "execution_count": 75,
   "metadata": {},
   "outputs": [],
   "source": [
    "def get_transfer_spends(url):\n",
    "    headers = {\"User-Agent\":\"Mozilla/5.0\"}\n",
    "    response = requests.get(url, headers=headers)\n",
    "    soup = BeautifulSoup(response.content, 'html.parser')\n",
    "    tables = soup.findAll(\"table\")\n",
    "    for i in range(0,6):\n",
    "        footer = tables[i].find('tfoot')\n",
    "        footer.find('td').contents[0]\n",
    "        x=footer.find('td').contents[0]\n",
    "        if(i%2==0):\n",
    "            arrival_array.append(x)\n",
    "        else:\n",
    "            departure_array.append(x)"
   ]
  },
  {
   "cell_type": "code",
   "execution_count": 76,
   "metadata": {},
   "outputs": [],
   "source": [
    "get_transfer_spends(full_link)"
   ]
  },
  {
   "cell_type": "code",
   "execution_count": 77,
   "metadata": {},
   "outputs": [
    {
     "data": {
      "text/plain": [
       "['€307.50m', '€162.75m', '€40.50m']"
      ]
     },
     "execution_count": 77,
     "metadata": {},
     "output_type": "execute_result"
    }
   ],
   "source": [
    "arrival_array"
   ]
  },
  {
   "cell_type": "code",
   "execution_count": 78,
   "metadata": {},
   "outputs": [
    {
     "data": {
      "text/plain": [
       "['€130.00m', '€134.10m', '€128.50m']"
      ]
     },
     "execution_count": 78,
     "metadata": {},
     "output_type": "execute_result"
    }
   ],
   "source": [
    "departure_array"
   ]
  },
  {
   "cell_type": "code",
   "execution_count": null,
   "metadata": {},
   "outputs": [],
   "source": []
  }
 ],
 "metadata": {
  "kernelspec": {
   "display_name": "Python 3",
   "language": "python",
   "name": "python3"
  },
  "language_info": {
   "codemirror_mode": {
    "name": "ipython",
    "version": 3
   },
   "file_extension": ".py",
   "mimetype": "text/x-python",
   "name": "python",
   "nbconvert_exporter": "python",
   "pygments_lexer": "ipython3",
   "version": "3.6.4"
  }
 },
 "nbformat": 4,
 "nbformat_minor": 2
}
