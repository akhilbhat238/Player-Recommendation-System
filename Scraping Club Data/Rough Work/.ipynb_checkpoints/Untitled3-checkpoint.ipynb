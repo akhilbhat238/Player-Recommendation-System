{
 "cells": [
  {
   "cell_type": "code",
   "execution_count": null,
   "metadata": {},
   "outputs": [],
   "source": [
    "import numpy as np\n",
    "import pandas as pd\n",
    "from bs4 import BeautifulSoup\n",
    "import requests"
   ]
  },
  {
   "cell_type": "code",
   "execution_count": null,
   "metadata": {},
   "outputs": [],
   "source": [
    "league_key = {'English Premiership':'https://www.transfermarkt.com/premier-league/tabelle/wettbewerb/GB1/saison_id/',\n",
    "             'La Liga':'https://www.transfermarkt.com/primera-division/tabelle/wettbewerb/ES1/saison_id/',\n",
    "             'Bundesliga':'https://www.transfermarkt.com/1-bundesliga/tabelle/wettbewerb/L1?saison_id=',\n",
    "             'Serie A':'https://www.transfermarkt.com/serie-a/tabelle/wettbewerb/IT1/saison_id/',\n",
    "             'Ligue 1':'https://www.transfermarkt.com/ligue-1/tabelle/wettbewerb/FR1/saison_id/',\n",
    "             'Eredivise':'',\n",
    "             'Premiera Liga':'',\n",
    "             'Super Lig':'https://www.transfermarkt.com/super-lig/tabelle/wettbewerb/TR1?saison_id=',\n",
    "             'Scottish Championship':'https://www.transfermarkt.com/championship/tabelle/wettbewerb/GB2/saison_id/',\n",
    "             'English Championship':'https://www.transfermarkt.com/championship/tabelle/wettbewerb/GB2/saison_id/'}"
   ]
  }
 ],
 "metadata": {
  "kernelspec": {
   "display_name": "Python 3",
   "language": "python",
   "name": "python3"
  },
  "language_info": {
   "codemirror_mode": {
    "name": "ipython",
    "version": 3
   },
   "file_extension": ".py",
   "mimetype": "text/x-python",
   "name": "python",
   "nbconvert_exporter": "python",
   "pygments_lexer": "ipython3",
   "version": "3.7.4"
  }
 },
 "nbformat": 4,
 "nbformat_minor": 2
}
