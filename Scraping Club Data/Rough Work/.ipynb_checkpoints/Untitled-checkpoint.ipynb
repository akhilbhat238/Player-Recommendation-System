{
 "cells": [
  {
   "cell_type": "code",
   "execution_count": 225,
   "metadata": {},
   "outputs": [],
   "source": [
    "import pandas as pd\n",
    "import numpy as np\n",
    "import matplotlib.pyplot as plt"
   ]
  },
  {
   "cell_type": "code",
   "execution_count": 226,
   "metadata": {},
   "outputs": [],
   "source": [
    "player_data = pd.read_csv('..\\\\Consolidated Data\\\\Player_Attribute_Data.csv')\n",
    "team_rankings = pd.read_csv('..\\\\Consolidated Data\\\\Team Rankings_corrected.csv')\n",
    "spend_df = pd.read_csv('..\\\\Consolidated Data\\\\Average_Transfer_Budget.csv')"
   ]
  },
  {
   "cell_type": "code",
   "execution_count": 227,
   "metadata": {},
   "outputs": [],
   "source": [
    "team_rankings=team_rankings.drop(['Unnamed: 0'],axis=1)\n",
    "player_df = player_data[['sofifa_id','club', 'overall','position', 'section', 'role','value_eur','age','short_name']]\n",
    "combo_df = pd.merge(player_df,team_rankings,how='inner',left_on='club',right_on='Team')\n",
    "combo_df=combo_df.drop(['sofifa_id','club','Team'],axis=1)\n",
    "role_df = combo_df.groupby(['role','Tier']).mean()\n",
    "pos_df = combo_df.groupby(['position','Tier']).mean()\n",
    "role_df.reset_index(inplace = True)\n",
    "pos_df.reset_index(inplace = True)"
   ]
  },
  {
   "cell_type": "code",
   "execution_count": 228,
   "metadata": {},
   "outputs": [],
   "source": [
    "def club_level(club):\n",
    "    club_tier = (team_rankings[team_rankings['Team'] == club]['Tier']).values[0]\n",
    "    if(club_tier!=1):\n",
    "        club_df = player_data[player_data['club']==club][['overall','section','role']]\n",
    "        club_df = club_df.groupby(['role']).mean()\n",
    "        club_df = club_df.reset_index()\n",
    "        upper_tier_df = role_df[role_df['Tier']==(club_tier-1)]\n",
    "        upper_tier_df = upper_tier_df.reset_index()\n",
    "        upper_tier_df = upper_tier_df.drop(['index','Tier'],axis=1)\n",
    "        upper_tier_df = upper_tier_df[['role','overall']]\n",
    "        combo_df = pd.merge(upper_tier_df,club_df,how='inner',on='role')\n",
    "        combo_df.columns = ['Role','Upper_Tier_Rating','Club_Rating']\n",
    "        combo_df['Rating_Gap'] = combo_df['Upper_Tier_Rating'] - combo_df['Club_Rating']\n",
    "    else:\n",
    "        club_df = player_data[player_data['club']==club][['overall','section','role']]\n",
    "        club_df = club_df.groupby(['role']).mean()\n",
    "        club_df = club_df.reset_index()\n",
    "        mean_tier_df = role_df[role_df['Tier']==(club_tier)]\n",
    "        mean_tier_df = mean_tier_df.reset_index()\n",
    "        mean_tier_df = mean_tier_df.drop(['index','Tier'],axis=1)\n",
    "        mean_tier_df = mean_tier_df[['role','overall']]\n",
    "        combo_df = pd.merge(mean_tier_df,club_df,how='inner',on='role')\n",
    "        combo_df.columns = ['Role','Mean_Tier_Rating','Club_Rating']\n",
    "        combo_df['Rating_Gap'] = combo_df['Mean_Tier_Rating'] - combo_df['Club_Rating']\n",
    "    role_focus = combo_df[combo_df['Rating_Gap']==combo_df['Rating_Gap'].values.max()]['Role'].values[0]\n",
    "    return role_focus"
   ]
  },
  {
   "cell_type": "code",
   "execution_count": 229,
   "metadata": {},
   "outputs": [],
   "source": [
    "def club_gap(club):\n",
    "    club_tier = (team_rankings[team_rankings['Team'] == club]['Tier']).values[0]\n",
    "    if (club_tier!=1):\n",
    "        club_df = player_data[player_data['club']==club][['overall','section','position']]\n",
    "        club_df = club_df.groupby(['position']).mean()\n",
    "        club_df = club_df.reset_index()\n",
    "        upper_tier_df = pos_df[pos_df['Tier']==(club_tier-1)]\n",
    "        upper_tier_df = upper_tier_df.reset_index()\n",
    "        upper_tier_df = upper_tier_df.drop(['index','Tier'],axis=1)\n",
    "        upper_tier_df = upper_tier_df[['role','overall']]\n",
    "        combined_df = pd.merge(upper_tier_df,club_df,how='inner',on='position')\n",
    "        combined_df.head(1)\n",
    "        combined_df.columns = ['Position','Upper_Tier_Rating','Club_Rating']\n",
    "        combined_df['Rating_Gap'] = combined_df['Upper_Tier_Rating'] - combined_df['Club_Rating']\n",
    "    else:\n",
    "        club_df = player_data[player_data['club']==club][['overall','section','position']]\n",
    "        club_df = club_df.groupby(['position']).mean()\n",
    "        club_df = club_df.reset_index()\n",
    "        mean_tier_df = pos_df[pos_df['Tier']==(club_tier)]\n",
    "        mean_tier_df = upper_tier_df.reset_index()\n",
    "        mean_tier_df = upper_tier_df.drop(['index','Tier'],axis=1)\n",
    "        mean_tier_df = mean_tier_df[['role','overall']]\n",
    "        combined_df = pd.merge(mean_tier_df,club_df,how='inner',on='position')\n",
    "        combined_df.head(1)\n",
    "        combined_df.columns = ['Position','Mean_Tier_Rating','Club_Rating']\n",
    "        combined_df['Rating_Gap'] = combined_df['Mean_Tier_Rating'] - combined_df['Club_Rating']\n",
    "    pos_focus = combined_df[combined_df['Rating_Gap']==combined_df['Rating_Gap'].values.max()]['Position'].values[0]\n",
    "    return pos_focus"
   ]
  },
  {
   "cell_type": "code",
   "execution_count": 230,
   "metadata": {},
   "outputs": [],
   "source": [
    "def club_gap_2(club,pr):\n",
    "    club_tier = (team_rankings[team_rankings['Team'] == club]['Tier']).values[0]\n",
    "    if(club_tier!=1):\n",
    "        club_df = player_data[player_data['club']==club][['overall','section','position']]\n",
    "        club_df = club_df.groupby(['position']).mean()\n",
    "        club_df = club_df.reset_index()\n",
    "        upper_tier_df = pos_df[pos_df['Tier']==(club_tier-1)]\n",
    "        upper_tier_df = upper_tier_df.reset_index()\n",
    "        upper_tier_df = upper_tier_df.drop(['index','Tier'],axis=1)\n",
    "        upper_tier_df = upper_tier_df[['position','overall']]\n",
    "        combined_df = pd.merge(upper_tier_df,club_df,how='inner',on='position')\n",
    "        combined_df.head(1)\n",
    "        combined_df.columns = ['Position','Upper_Tier_Rating','Club_Rating']\n",
    "        combined_df['Rating_Gap'] = combined_df['Upper_Tier_Rating'] - combined_df['Club_Rating']\n",
    "    else:\n",
    "        club_df = player_data[player_data['club']==club][['overall','section','position']]\n",
    "        club_df = club_df.groupby(['position']).mean()\n",
    "        club_df = club_df.reset_index()\n",
    "        mean_tier_df = pos_df[pos_df['Tier']==(club_tier)]\n",
    "        mean_tier_df = mean_tier_df.reset_index()\n",
    "        mean_tier_df = mean_tier_df.drop(['index','Tier'],axis=1)\n",
    "        mean_tier_df = mean_tier_df[['position','overall']]\n",
    "        combined_df = pd.merge(mean_tier_df,club_df,how='inner',on='position')\n",
    "        combined_df.columns = ['Position','Mean_Tier_Rating','Club_Rating']\n",
    "        combined_df['Rating_Gap'] = combined_df['Mean_Tier_Rating'] - combined_df['Club_Rating']        \n",
    "    pos_focus = combined_df[combined_df['Rating_Gap'] == np.sort(combined_df['Rating_Gap'])[-1*pr]]['Position'].values[0]\n",
    "    return pos_focus"
   ]
  },
  {
   "cell_type": "code",
   "execution_count": 231,
   "metadata": {},
   "outputs": [],
   "source": [
    "def rec_player_by_role(club,pct):\n",
    "    spend_limit = (spend_df[spend_df['Team']==club]['Total_Arrivals'].values[0]) * pct\n",
    "    player_df['value_in_mil'] = player_df['value_eur']/1000000\n",
    "    clean_df = player_df[player_df['club'] != club]\n",
    "    limit_df=clean_df[clean_df['value_in_mil']<spend_limit]\n",
    "    age_df = limit_df[['club','age']].groupby('club').mean()\n",
    "    age_df['age'] = round(age_df['age'],2)\n",
    "    age_df = age_df.reset_index()\n",
    "    target_age = player_df[player_df['club'] == club]\n",
    "    target_age=target_age['age'].values[0]\n",
    "    role_to_fill=club_level(club)\n",
    "    role_df = limit_df[clean_df['role']==role_to_fill]\n",
    "    age_range_df = role_df[(role_df['age']>=(target_age-1.5)) & (role_df['age']<=(target_age+1.5))]\n",
    "#     print(age_range_df.columns)\n",
    "    return(age_range_df.head(1)['short_name'].values[0])"
   ]
  },
  {
   "cell_type": "code",
   "execution_count": 232,
   "metadata": {},
   "outputs": [],
   "source": [
    "def rec_player_by_pos(club,pct,pr):\n",
    "    spend_limit = (spend_df[spend_df['Team']==club]['Total_Arrivals'].values[0]) * pct\n",
    "    player_df['value_in_mil'] = player_df['value_eur']/1000000\n",
    "    clean_df = player_df[player_df['club'] != club]\n",
    "    limit_df=clean_df[clean_df['value_in_mil']<spend_limit]\n",
    "    age_df = limit_df[['club','age']].groupby('club').mean()\n",
    "    age_df['age'] = round(age_df['age'],2)\n",
    "    age_df = age_df.reset_index()\n",
    "    target_age = player_df[player_df['club'] == club]\n",
    "    target_age=target_age['age'].values[0]\n",
    "    pos_to_fill = club_gap_2(club,pr)\n",
    "    pos_df = limit_df[player_df['position']==pos_to_fill]\n",
    "    age_range_df = pos_df[(pos_df['age']>=(target_age-1.5)) & (pos_df['age']<=(target_age+1.5))]\n",
    "#     print(age_range_df.columns())\n",
    "    return(age_range_df.head(1)['short_name'].values[0])"
   ]
  },
  {
   "cell_type": "code",
   "execution_count": 233,
   "metadata": {},
   "outputs": [],
   "source": [
    "def recommend_players(club,count):\n",
    "    player_array = []\n",
    "    if(count == 1):\n",
    "        player = rec_player_by_role(club,1)\n",
    "        player_array.append(player)\n",
    "        print(player_array)\n",
    "    elif(count == 2):\n",
    "        player = rec_player_by_role(club,.6)\n",
    "        player_array.append(player)\n",
    "        player = rec_player_by_pos(club,.4,1)\n",
    "        player_array.append(player)\n",
    "        print(player_array)\n",
    "    elif(count == 3):\n",
    "        player = rec_player_by_role(club,.45)\n",
    "        player_array.append(player)\n",
    "        player = rec_player_by_pos(club,.30,1)\n",
    "        player_array.append(player)\n",
    "        player = rec_player_by_role(club,.25)\n",
    "        player_array.append(player)\n",
    "        print(player_array)\n",
    "    elif(count == 4):\n",
    "        player = rec_player_by_role(club,.40)\n",
    "        player_array.append(player)\n",
    "        player = rec_player_by_pos(club,.30,1)\n",
    "        player_array.append(player)\n",
    "        player = rec_player_by_role(club,.20)\n",
    "        player_array.append(player)\n",
    "        player = rec_player_by_pos(club,.10,2)\n",
    "        player_array.append(player)\n",
    "        print(player_array)\n",
    "    elif(count == 5):\n",
    "        player = rec_player_by_role(club,.35)\n",
    "        player_array.append(player)\n",
    "        player = rec_player_by_pos(club,.28,1)\n",
    "        player_array.append(player)\n",
    "        player = rec_player_by_role(club,.21)\n",
    "        player_array.append(player)\n",
    "        player = rec_player_by_pos(club,.15,2)\n",
    "        player_array.append(player)\n",
    "        player = rec_player_by_pos(club,.10,3)\n",
    "        player_array.append(player)\n",
    "        print(player_array)"
   ]
  },
  {
   "cell_type": "code",
   "execution_count": 238,
   "metadata": {},
   "outputs": [
    {
     "ename": "IndexError",
     "evalue": "index 0 is out of bounds for axis 0 with size 0",
     "output_type": "error",
     "traceback": [
      "\u001b[1;31m---------------------------------------------------------------------------\u001b[0m",
      "\u001b[1;31mIndexError\u001b[0m                                Traceback (most recent call last)",
      "\u001b[1;32m<ipython-input-238-b11cecd331c4>\u001b[0m in \u001b[0;36m<module>\u001b[1;34m\u001b[0m\n\u001b[1;32m----> 1\u001b[1;33m \u001b[0mrecommend_players\u001b[0m\u001b[1;33m(\u001b[0m\u001b[1;34m'Barcelona'\u001b[0m\u001b[1;33m,\u001b[0m\u001b[1;36m5\u001b[0m\u001b[1;33m)\u001b[0m\u001b[1;33m\u001b[0m\u001b[0m\n\u001b[0m",
      "\u001b[1;32m<ipython-input-233-a5d95f00c190>\u001b[0m in \u001b[0;36mrecommend_players\u001b[1;34m(club, count)\u001b[0m\n\u001b[0;32m     30\u001b[0m         \u001b[0mprint\u001b[0m\u001b[1;33m(\u001b[0m\u001b[0mplayer_array\u001b[0m\u001b[1;33m)\u001b[0m\u001b[1;33m\u001b[0m\u001b[0m\n\u001b[0;32m     31\u001b[0m     \u001b[1;32melif\u001b[0m\u001b[1;33m(\u001b[0m\u001b[0mcount\u001b[0m \u001b[1;33m==\u001b[0m \u001b[1;36m5\u001b[0m\u001b[1;33m)\u001b[0m\u001b[1;33m:\u001b[0m\u001b[1;33m\u001b[0m\u001b[0m\n\u001b[1;32m---> 32\u001b[1;33m         \u001b[0mplayer\u001b[0m \u001b[1;33m=\u001b[0m \u001b[0mrec_player_by_role\u001b[0m\u001b[1;33m(\u001b[0m\u001b[0mclub\u001b[0m\u001b[1;33m,\u001b[0m\u001b[1;36m.35\u001b[0m\u001b[1;33m)\u001b[0m\u001b[1;33m\u001b[0m\u001b[0m\n\u001b[0m\u001b[0;32m     33\u001b[0m         \u001b[0mplayer_array\u001b[0m\u001b[1;33m.\u001b[0m\u001b[0mappend\u001b[0m\u001b[1;33m(\u001b[0m\u001b[0mplayer\u001b[0m\u001b[1;33m)\u001b[0m\u001b[1;33m\u001b[0m\u001b[0m\n\u001b[0;32m     34\u001b[0m         \u001b[0mplayer\u001b[0m \u001b[1;33m=\u001b[0m \u001b[0mrec_player_by_pos\u001b[0m\u001b[1;33m(\u001b[0m\u001b[0mclub\u001b[0m\u001b[1;33m,\u001b[0m\u001b[1;36m.28\u001b[0m\u001b[1;33m,\u001b[0m\u001b[1;36m1\u001b[0m\u001b[1;33m)\u001b[0m\u001b[1;33m\u001b[0m\u001b[0m\n",
      "\u001b[1;32m<ipython-input-231-f37abd4e6b17>\u001b[0m in \u001b[0;36mrec_player_by_role\u001b[1;34m(club, pct)\u001b[0m\n\u001b[0;32m      1\u001b[0m \u001b[1;32mdef\u001b[0m \u001b[0mrec_player_by_role\u001b[0m\u001b[1;33m(\u001b[0m\u001b[0mclub\u001b[0m\u001b[1;33m,\u001b[0m\u001b[0mpct\u001b[0m\u001b[1;33m)\u001b[0m\u001b[1;33m:\u001b[0m\u001b[1;33m\u001b[0m\u001b[0m\n\u001b[1;32m----> 2\u001b[1;33m     \u001b[0mspend_limit\u001b[0m \u001b[1;33m=\u001b[0m \u001b[1;33m(\u001b[0m\u001b[0mspend_df\u001b[0m\u001b[1;33m[\u001b[0m\u001b[0mspend_df\u001b[0m\u001b[1;33m[\u001b[0m\u001b[1;34m'Team'\u001b[0m\u001b[1;33m]\u001b[0m\u001b[1;33m==\u001b[0m\u001b[0mclub\u001b[0m\u001b[1;33m]\u001b[0m\u001b[1;33m[\u001b[0m\u001b[1;34m'Total_Arrivals'\u001b[0m\u001b[1;33m]\u001b[0m\u001b[1;33m.\u001b[0m\u001b[0mvalues\u001b[0m\u001b[1;33m[\u001b[0m\u001b[1;36m0\u001b[0m\u001b[1;33m]\u001b[0m\u001b[1;33m)\u001b[0m \u001b[1;33m*\u001b[0m \u001b[0mpct\u001b[0m\u001b[1;33m\u001b[0m\u001b[0m\n\u001b[0m\u001b[0;32m      3\u001b[0m     \u001b[0mplayer_df\u001b[0m\u001b[1;33m[\u001b[0m\u001b[1;34m'value_in_mil'\u001b[0m\u001b[1;33m]\u001b[0m \u001b[1;33m=\u001b[0m \u001b[0mplayer_df\u001b[0m\u001b[1;33m[\u001b[0m\u001b[1;34m'value_eur'\u001b[0m\u001b[1;33m]\u001b[0m\u001b[1;33m/\u001b[0m\u001b[1;36m1000000\u001b[0m\u001b[1;33m\u001b[0m\u001b[0m\n\u001b[0;32m      4\u001b[0m     \u001b[0mclean_df\u001b[0m \u001b[1;33m=\u001b[0m \u001b[0mplayer_df\u001b[0m\u001b[1;33m[\u001b[0m\u001b[0mplayer_df\u001b[0m\u001b[1;33m[\u001b[0m\u001b[1;34m'club'\u001b[0m\u001b[1;33m]\u001b[0m \u001b[1;33m!=\u001b[0m \u001b[0mclub\u001b[0m\u001b[1;33m]\u001b[0m\u001b[1;33m\u001b[0m\u001b[0m\n\u001b[0;32m      5\u001b[0m     \u001b[0mlimit_df\u001b[0m\u001b[1;33m=\u001b[0m\u001b[0mclean_df\u001b[0m\u001b[1;33m[\u001b[0m\u001b[0mclean_df\u001b[0m\u001b[1;33m[\u001b[0m\u001b[1;34m'value_in_mil'\u001b[0m\u001b[1;33m]\u001b[0m\u001b[1;33m<\u001b[0m\u001b[0mspend_limit\u001b[0m\u001b[1;33m]\u001b[0m\u001b[1;33m\u001b[0m\u001b[0m\n",
      "\u001b[1;31mIndexError\u001b[0m: index 0 is out of bounds for axis 0 with size 0"
     ]
    }
   ],
   "source": [
    "recommend_players('Barcelona',5)"
   ]
  }
 ],
 "metadata": {
  "kernelspec": {
   "display_name": "Python 3",
   "language": "python",
   "name": "python3"
  },
  "language_info": {
   "codemirror_mode": {
    "name": "ipython",
    "version": 3
   },
   "file_extension": ".py",
   "mimetype": "text/x-python",
   "name": "python",
   "nbconvert_exporter": "python",
   "pygments_lexer": "ipython3",
   "version": "3.6.4"
  }
 },
 "nbformat": 4,
 "nbformat_minor": 2
}
