{
 "cells": [
  {
   "cell_type": "code",
   "execution_count": null,
   "metadata": {},
   "outputs": [],
   "source": [
    "import numpy as np\n",
    "import pandas as pd\n",
    "from bs4 import BeautifulSoup\n",
    "import requests"
   ]
  },
  {
   "cell_type": "code",
   "execution_count": null,
   "metadata": {},
   "outputs": [],
   "source": [
    "url = 'https://www.transfermarkt.co.uk/manchester-city/kader/verein/281/saison_id/2019'\n",
    "headers = {\"User-Agent\":\"Mozilla/5.0\"}\n",
    "response = requests.get(url, headers=headers)\n",
    "soup = BeautifulSoup(response.content, 'html.parser')"
   ]
  },
  {
   "cell_type": "code",
   "execution_count": null,
   "metadata": {},
   "outputs": [],
   "source": [
    "tables = soup.findAll(\"table\")"
   ]
  },
  {
   "cell_type": "code",
   "execution_count": null,
   "metadata": {},
   "outputs": [],
   "source": [
    "data_values = tables[1].find('tbody').find_all('tr')"
   ]
  },
  {
   "cell_type": "code",
   "execution_count": null,
   "metadata": {},
   "outputs": [],
   "source": [
    "print(data_values[6].find_all('td')[3].contents[0].contents[0].contents[0].contents[0])"
   ]
  },
  {
   "cell_type": "code",
   "execution_count": null,
   "metadata": {},
   "outputs": [],
   "source": [
    "for i in range(0,len(data_values),3):\n",
    "#     print(i)\n",
    "    if(data_values[i].find_all('td')[1].contents[0].name=='table'):\n",
    "        print(i)\n",
    "        print(data_values[i].find_all('td')[0].get('title'))\n",
    "        print(data_values[i].find_all('td')[1].contents[0].contents[0].find_all('a')[1].contents[0])\n",
    "        print(data_values[i].find_all('td')[5].contents[0])\n",
    "        print(data_values[i].find_all('td')[6].contents[0].get('title'))\n",
    "        print(data_values[i].find_all('td')[7].contents[0])\n",
    "        print(data_values[i].find_all('td')[8].contents[0].strip())\n",
    "    else:\n",
    "        print(i)\n",
    "        print(data_values[i].find_all('td')[0].get('title'))\n",
    "        print(data_values[i].find_all('td')[3].contents[0].contents[0].contents[0].contents[0])\n",
    "        print(data_values[i].find_all('td')[5].contents[0])\n",
    "        print(data_values[i].find_all('td')[6].contents[0].get('title'))\n",
    "        print(data_values[i].find_all('td')[7].contents[0])\n",
    "        print(data_values[i].find_all('td')[8].contents[0].strip())"
   ]
  },
  {
   "cell_type": "code",
   "execution_count": null,
   "metadata": {},
   "outputs": [],
   "source": [
    "url = 'https://www.transfermarkt.co.uk/fc-liverpool/kader/verein/31/saison_id/2019'\n",
    "headers = {\"User-Agent\":\"Mozilla/5.0\"}\n",
    "response = requests.get(url, headers=headers)\n",
    "soup = BeautifulSoup(response.content, 'html.parser')\n",
    "tables = soup.findAll(\"table\")\n",
    "data_values = tables[1].find('tbody').find_all('tr')"
   ]
  },
  {
   "cell_type": "code",
   "execution_count": null,
   "metadata": {},
   "outputs": [],
   "source": [
    "i=0"
   ]
  },
  {
   "cell_type": "code",
   "execution_count": null,
   "metadata": {},
   "outputs": [],
   "source": [
    "data_values[i].find_all('td')"
   ]
  },
  {
   "cell_type": "code",
   "execution_count": null,
   "metadata": {},
   "outputs": [],
   "source": [
    "print(i)\n",
    "print(data_values[i].find_all('td')[0].get('title'))\n",
    "print(data_values[i].find_all('td')[1].contents[0].contents[0].find_all('a')[1].contents[0])\n",
    "print(data_values[i].find_all('td')[5].contents[0])\n",
    "print(data_values[i].find_all('td')[6].contents[0].get('title'))\n",
    "print(data_values[i].find_all('td')[7].contents[0])\n",
    "print(data_values[i].find_all('td')[8].contents[0])\n",
    "# print(data_values[i].find_all('td')[9].contents[0].strip())"
   ]
  },
  {
   "cell_type": "code",
   "execution_count": null,
   "metadata": {},
   "outputs": [],
   "source": [
    "for i in range(0,len(data_values),3):\n",
    "#     print(i)\n",
    "    if(data_values[i].find_all('td')[1].contents[0].name=='table'):\n",
    "        print(i)\n",
    "        print(data_values[i].find_all('td')[0].get('title'))\n",
    "        print(data_values[i].find_all('td')[1].contents[0].contents[0].find_all('a')[1].contents[0])\n",
    "        print(data_values[i].find_all('td')[5].contents[0])\n",
    "        print(data_values[i].find_all('td')[6].contents[0].get('title'))\n",
    "        print(data_values[i].find_all('td')[7].contents[0])\n",
    "        print(data_values[i].find_all('td')[8].contents[0].strip())\n",
    "    else:\n",
    "        print(i)\n",
    "        print(data_values[i].find_all('td')[0].get('title'))\n",
    "        print(data_values[i].find_all('td')[3].contents[0].contents[0].contents[0].contents[0])\n",
    "        print(data_values[i].find_all('td')[5].contents[0])\n",
    "        print(data_values[i].find_all('td')[6].contents[0].get('title'))\n",
    "        print(data_values[i].find_all('td')[7].contents[0])\n",
    "        print(data_values[i].find_all('td')[8].contents[0].strip())"
   ]
  },
  {
   "cell_type": "code",
   "execution_count": null,
   "metadata": {},
   "outputs": [],
   "source": [
    "url = 'https://www.transfermarkt.co.uk/norwich-city/kader/verein/1123/saison_id/2019'\n",
    "headers = {\"User-Agent\":\"Mozilla/5.0\"}\n",
    "response = requests.get(url, headers=headers)\n",
    "soup = BeautifulSoup(response.content, 'html.parser')\n",
    "tables = soup.findAll(\"table\")\n",
    "data_values = tables[1].find('tbody').find_all('tr')"
   ]
  },
  {
   "cell_type": "code",
   "execution_count": null,
   "metadata": {},
   "outputs": [],
   "source": [
    "header=['Club','Position','Player_Name','DOB','Nation','Contract_Expiry','Value']\n",
    "content=pd.DataFrame(columns=header)\n",
    "content_list=[]"
   ]
  },
  {
   "cell_type": "code",
   "execution_count": null,
   "metadata": {},
   "outputs": [],
   "source": [
    "data_values[i]"
   ]
  },
  {
   "cell_type": "code",
   "execution_count": null,
   "metadata": {},
   "outputs": [],
   "source": [
    "# content"
   ]
  },
  {
   "cell_type": "code",
   "execution_count": null,
   "metadata": {},
   "outputs": [],
   "source": [
    "for i in range(0,len(data_values),3):\n",
    "    content_list=[]\n",
    "    if(data_values[i].find_all('td')[1].contents[0].name=='table'):\n",
    "#       tables[3].find('tbody').find_all('tr')[0].find('td').find('img').get('alt')\n",
    "        content_list.append(data_values[i].find_all('td')[0].get('title'))\n",
    "        content_list.append(data_values[i].find_all('td')[1].contents[0].contents[0].find_all('a')[1].contents[0])\n",
    "        content_list.append(data_values[i].find_all('td')[5].contents[0])\n",
    "        content_list.append(data_values[i].find_all('td')[6].contents[0].get('title'))\n",
    "        content_list.append(data_values[i].find_all('td')[7].contents[0])\n",
    "        content_list.append(data_values[i].find_all('td')[8].contents[0].strip())\n",
    "    else:\n",
    "        content_list.append(data_values[i].find_all('td')[0].get('title'))\n",
    "        content_list.append(data_values[i].find_all('td')[3].contents[0].contents[0].contents[0].contents[0])\n",
    "        content_list.append(data_values[i].find_all('td')[5].contents[0])\n",
    "        content_list.append(data_values[i].find_all('td')[6].contents[0].get('title'))\n",
    "        content_list.append(data_values[i].find_all('td')[7].contents[0])\n",
    "        content_list.append(data_values[i].find_all('td')[8].contents[0].strip())\n",
    "    print(content_list)\n",
    "    content.loc[i] = content_list"
   ]
  },
  {
   "cell_type": "code",
   "execution_count": null,
   "metadata": {},
   "outputs": [],
   "source": [
    "content"
   ]
  },
  {
   "cell_type": "code",
   "execution_count": null,
   "metadata": {},
   "outputs": [],
   "source": [
    "content['Player Number'] = content.index"
   ]
  },
  {
   "cell_type": "code",
   "execution_count": null,
   "metadata": {},
   "outputs": [],
   "source": [
    "content.reset_index(level=0, inplace=True)"
   ]
  },
  {
   "cell_type": "code",
   "execution_count": null,
   "metadata": {},
   "outputs": [],
   "source": [
    "content.drop([\"index\"], axis = 1, inplace = True) "
   ]
  },
  {
   "cell_type": "code",
   "execution_count": null,
   "metadata": {},
   "outputs": [],
   "source": [
    "content"
   ]
  },
  {
   "cell_type": "code",
   "execution_count": null,
   "metadata": {},
   "outputs": [],
   "source": [
    "content_list"
   ]
  },
  {
   "cell_type": "code",
   "execution_count": null,
   "metadata": {},
   "outputs": [],
   "source": [
    "def get_club_details(name,link):\n",
    "    url = link\n",
    "    headers = {\"User-Agent\":\"Mozilla/5.0\"}\n",
    "    response = requests.get(url, headers=headers)\n",
    "    soup = BeautifulSoup(response.content, 'html.parser')\n",
    "    tables = soup.findAll(\"table\")\n",
    "    data_values = tables[1].find('tbody').find_all('tr')\n",
    "    for i in range(0,len(data_values),3):\n",
    "        print(i)\n",
    "        if(data_values[i].find_all('td')[1].contents[0].name=='table'):\n",
    "            print(i)\n",
    "            print(data_values[i].find_all('td')[0].get('title'))\n",
    "            print(data_values[i].find_all('td')[1].contents[0].contents[0].find_all('a')[1].contents[0])\n",
    "            print(data_values[i].find_all('td')[5].contents[0])\n",
    "            print(data_values[i].find_all('td')[6].contents[0].get('title'))\n",
    "            print(data_values[i].find_all('td')[7].contents[0])\n",
    "            print(data_values[i].find_all('td')[8].contents[0].strip())\n",
    "        else:\n",
    "            print(i)\n",
    "            print(data_values[i].find_all('td')[0].get('title'))\n",
    "            print(data_values[i].find_all('td')[3].contents[0].contents[0].contents[0].contents[0])\n",
    "            print(data_values[i].find_all('td')[5].contents[0])\n",
    "            print(data_values[i].find_all('td')[6].contents[0].get('title'))\n",
    "            print(data_values[i].find_all('td')[7].contents[0])\n",
    "            print(data_values[i].find_all('td')[8].contents[0].strip())"
   ]
  },
  {
   "cell_type": "code",
   "execution_count": null,
   "metadata": {},
   "outputs": [],
   "source": []
  },
  {
   "cell_type": "code",
   "execution_count": 139,
   "metadata": {},
   "outputs": [],
   "source": [
    "url = 'https://www.transfermarkt.co.uk/norwich-city/kader/verein/1123/saison_id/2019'\n",
    "headers = {\"User-Agent\":\"Mozilla/5.0\"}\n",
    "response = requests.get(url, headers=headers)\n",
    "soup = BeautifulSoup(response.content, 'html.parser')\n",
    "tables = soup.findAll(\"table\")\n",
    "data_values = tables[1].find('tbody').find_all('tr')"
   ]
  },
  {
   "cell_type": "code",
   "execution_count": 151,
   "metadata": {},
   "outputs": [],
   "source": [
    "header=['Club','Position','Player_Name','DOB','Nation','Contract_Expiry','Value']\n",
    "content=pd.DataFrame(columns=header)\n",
    "content_list=[]"
   ]
  },
  {
   "cell_type": "code",
   "execution_count": 152,
   "metadata": {},
   "outputs": [
    {
     "name": "stdout",
     "output_type": "stream",
     "text": [
      "['ClubName', 'Goalkeeper', 'Tim Krul', 'Apr 3, 1988 (31)', 'Netherlands', '30.06.2022', '£3.60m']\n",
      "['ClubName', 'Goalkeeper', 'Ralf Fährmann', 'Sep 27, 1988 (30)', 'Germany', '30.06.2020', '£3.60m']\n",
      "['ClubName', 'Goalkeeper', 'Michael McGovern', 'Jul 12, 1984 (35)', 'Northern Ireland', '30.06.2021', '£315k']\n",
      "['ClubName', 'Defender', 'Ben Godfrey', 'Jan 15, 1998 (21)', 'England', '30.06.2023', '£8.10m']\n",
      "['ClubName', 'Defender', 'Christoph Zimmermann', 'Jan 12, 1993 (26)', 'Germany', '30.06.2023', '£3.15m']\n",
      "['ClubName', 'Defender', 'Grant Hanley', 'Nov 20, 1991 (27)', 'Scotland', '30.06.2023', '£2.70m']\n",
      "['ClubName', 'Defender', 'Timm Klose', 'May 9, 1988 (31)', 'Switzerland', '30.06.2022', '£2.70m']\n",
      "['ClubName', 'Defender', 'Jamal Lewis', 'Jan 25, 1998 (21)', 'Northern Ireland', '30.06.2023', '£8.10m']\n",
      "['ClubName', 'Defender', 'Philip Heise', 'Jun 20, 1991 (28)', 'Germany', '30.06.2022', '£900k']\n",
      "['ClubName', 'Defender', 'Max Aarons', 'Jan 4, 2000 (19)', 'England', '30.06.2024', '£7.20m']\n",
      "['ClubName', 'Defender', 'Sam Byram', 'Sep 16, 1993 (25)', 'England', '30.06.2023', '£3.15m']\n",
      "['ClubName', 'Midfielder', 'Ibrahim Amadou', 'Apr 6, 1993 (26)', 'France', '30.06.2020', '£6.30m']\n",
      "['ClubName', 'Midfielder', 'Tom Trybull', 'Mar 9, 1993 (26)', 'Germany', '30.06.2022', '£3.60m']\n",
      "['ClubName', 'Midfielder', 'Alexander Tettey', 'Apr 4, 1986 (33)', 'Norway', '30.06.2020', '£1.80m']\n",
      "['ClubName', 'Midfielder', 'Mario Vrancic', 'May 23, 1989 (30)', 'Bosnia-Herzegovina', '30.06.2021', '£3.15m']\n",
      "['ClubName', 'Midfielder', 'Moritz Leitner', 'Dec 8, 1992 (26)', 'Germany', '30.06.2022', '£2.70m']\n",
      "['ClubName', 'Midfielder', 'Kenny McLean', 'Jan 8, 1992 (27)', 'Scotland', '30.06.2021', '£2.25m']\n",
      "['ClubName', 'Midfielder', 'Todd Cantwell', 'Feb 27, 1998 (21)', 'England', '30.06.2022', '£6.30m']\n",
      "['ClubName', 'Midfielder', 'Marco Stiepermann', 'Feb 9, 1991 (28)', 'Germany', '30.06.2022', '£3.60m']\n",
      "['ClubName', 'Forward', 'Onel Hernández', 'Feb 1, 1993 (26)', 'Cuba', '30.06.2023', '£3.60m']\n",
      "['ClubName', 'Forward', 'Emiliano Buendía', 'Dec 25, 1996 (22)', 'Argentina', '30.06.2024', '£16.20m']\n",
      "['ClubName', 'Forward', 'Patrick Roberts', 'Feb 5, 1997 (22)', 'England', '30.06.2022', '£4.50m']\n",
      "['ClubName', 'Forward', 'Teemu Pukki', 'Mar 29, 1990 (29)', 'Finland', '30.06.2022', '£8.10m']\n",
      "['ClubName', 'Forward', 'Josip Drmic', 'Aug 8, 1992 (27)', 'Switzerland', '30.06.2022', '£2.70m']\n",
      "['ClubName', 'Forward', 'Dennis Srbeny', 'May 5, 1994 (25)', 'Germany', '30.06.2021', '£1.13m']\n"
     ]
    }
   ],
   "source": [
    "for i in range(0,len(data_values),3):\n",
    "    content_list=[]\n",
    "    if(data_values[i].find_all('td')[1].contents[0].name=='table'):\n",
    "        content_list.append('ClubName')\n",
    "        content_list.append(data_values[i].find_all('td')[0].get('title'))\n",
    "        content_list.append(data_values[i].find_all('td')[1].contents[0].contents[0].find_all('a')[1].contents[0])\n",
    "        content_list.append(data_values[i].find_all('td')[5].contents[0])\n",
    "        content_list.append(data_values[i].find_all('td')[6].contents[0].get('title'))\n",
    "        content_list.append(data_values[i].find_all('td')[7].contents[0])\n",
    "        content_list.append(data_values[i].find_all('td')[8].contents[0].strip())\n",
    "    else:\n",
    "        content_list.append('ClubName')\n",
    "        content_list.append(data_values[i].find_all('td')[0].get('title'))\n",
    "        content_list.append(data_values[i].find_all('td')[3].contents[0].contents[0].contents[0].contents[0])\n",
    "        content_list.append(data_values[i].find_all('td')[5].contents[0])\n",
    "        content_list.append(data_values[i].find_all('td')[6].contents[0].get('title'))\n",
    "        content_list.append(data_values[i].find_all('td')[7].contents[0])\n",
    "        content_list.append(data_values[i].find_all('td')[8].contents[0].strip())\n",
    "    print(content_list)\n",
    "    content.loc[i] = content_list\n",
    "content['Player Number'] = content.index\n",
    "content.reset_index(level=0, inplace=True)\n",
    "content.drop([\"index\"], axis = 1, inplace = True)"
   ]
  },
  {
   "cell_type": "code",
   "execution_count": 143,
   "metadata": {},
   "outputs": [],
   "source": [
    "url = 'https://www.transfermarkt.co.uk/jumplist/startseite/wettbewerb/GB1'\n",
    "headers = {\"User-Agent\":\"Mozilla/5.0\"}\n",
    "response = requests.get(url, headers=headers)\n",
    "soup = BeautifulSoup(response.content, 'html.parser')\n",
    "tables = soup.findAll(\"table\")"
   ]
  },
  {
   "cell_type": "code",
   "execution_count": 153,
   "metadata": {},
   "outputs": [],
   "source": [
    "def get_club_details(club_name,club_link):\n",
    "    i_url = 'https://www.transfermarkt.co.uk/norwich-city/kader/verein/1123/saison_id/2019'\n",
    "    i_headers = {\"User-Agent\":\"Mozilla/5.0\"}\n",
    "    i_response = requests.get(i_url, headers=i_headers)\n",
    "    i_soup = BeautifulSoup(i_response.content, 'html.parser')\n",
    "    i_tables = i_soup.findAll(\"table\")\n",
    "    i_data_values = i_tables[1].find('tbody').find_all('tr')\n",
    "    for i in range(0,len(i_data_values),3):\n",
    "        header=['Club','Position','Player_Name','DOB','Nation','Contract_Expiry','Value']\n",
    "        content=pd.DataFrame(columns=header)\n",
    "        if(data_values[i].find_all('td')[1].contents[0].name=='table'):\n",
    "            content_list.append(club_name)\n",
    "            content_list.append(i_data_values[i].find_all('td')[0].get('title'))\n",
    "            content_list.append(i_data_values[i].find_all('td')[1].contents[0].contents[0].find_all('a')[1].contents[0])\n",
    "            content_list.append(i_data_values[i].find_all('td')[5].contents[0])\n",
    "            content_list.append(i_data_values[i].find_all('td')[6].contents[0].get('title'))\n",
    "            content_list.append(i_data_values[i].find_all('td')[7].contents[0])\n",
    "            content_list.append(i_data_values[i].find_all('td')[8].contents[0].strip())\n",
    "        else:\n",
    "            content_list.append(club_name)\n",
    "            content_list.append(i_data_values[i].find_all('td')[0].get('title'))\n",
    "            content_list.append(i_data_values[i].find_all('td')[3].contents[0].contents[0].contents[0].contents[0])\n",
    "            content_list.append(i_data_values[i].find_all('td')[5].contents[0])\n",
    "            content_list.append(i_data_values[i].find_all('td')[6].contents[0].get('title'))\n",
    "            content_list.append(i_data_values[i].find_all('td')[7].contents[0])\n",
    "            content_list.append(i_data_values[i].find_all('td')[8].contents[0].strip())\n",
    "        print(content_list)\n",
    "        content.loc[i] = content_list\n",
    "    content['Player Number'] = content.index\n",
    "    content.reset_index(level=0, inplace=True)\n",
    "    content.drop([\"index\"], axis = 1, inplace = True)\n",
    "    return content"
   ]
  },
  {
   "cell_type": "code",
   "execution_count": 154,
   "metadata": {},
   "outputs": [
    {
     "name": "stdout",
     "output_type": "stream",
     "text": [
      "Manchester City https://www.transfermarkt.co.uk/manchester-city/kader/verein/281/saison_id/2019\n",
      "['ClubName', 'Forward', 'Dennis Srbeny', 'May 5, 1994 (25)', 'Germany', '30.06.2021', '£1.13m', 'Manchester City', 'Goalkeeper', 'Tim Krul', 'Apr 3, 1988 (31)', 'Netherlands', '30.06.2022', '£3.60m']\n"
     ]
    },
    {
     "ename": "ValueError",
     "evalue": "cannot set a row with mismatched columns",
     "output_type": "error",
     "traceback": [
      "\u001b[1;31m---------------------------------------------------------------------------\u001b[0m",
      "\u001b[1;31mValueError\u001b[0m                                Traceback (most recent call last)",
      "\u001b[1;32m<ipython-input-154-a675679a7554>\u001b[0m in \u001b[0;36m<module>\u001b[1;34m\u001b[0m\n\u001b[0;32m     11\u001b[0m     \u001b[0mclub_link\u001b[0m\u001b[1;33m=\u001b[0m\u001b[0mclub_link\u001b[0m\u001b[1;33m.\u001b[0m\u001b[0mreplace\u001b[0m\u001b[1;33m(\u001b[0m\u001b[1;34m\"startseite\"\u001b[0m\u001b[1;33m,\u001b[0m \u001b[1;34m\"kader\"\u001b[0m\u001b[1;33m)\u001b[0m\u001b[1;33m\u001b[0m\u001b[0m\n\u001b[0;32m     12\u001b[0m     \u001b[0mprint\u001b[0m\u001b[1;33m(\u001b[0m\u001b[0mclub_name\u001b[0m\u001b[1;33m,\u001b[0m\u001b[0mclub_link\u001b[0m\u001b[1;33m)\u001b[0m\u001b[1;33m\u001b[0m\u001b[0m\n\u001b[1;32m---> 13\u001b[1;33m     \u001b[0mclub_df\u001b[0m \u001b[1;33m=\u001b[0m \u001b[0mget_club_details\u001b[0m\u001b[1;33m(\u001b[0m\u001b[0mclub_name\u001b[0m\u001b[1;33m,\u001b[0m\u001b[0mclub_link\u001b[0m\u001b[1;33m)\u001b[0m\u001b[1;33m\u001b[0m\u001b[0m\n\u001b[0m",
      "\u001b[1;32m<ipython-input-153-3a16cd248fd6>\u001b[0m in \u001b[0;36mget_club_details\u001b[1;34m(club_name, club_link)\u001b[0m\n\u001b[0;32m     26\u001b[0m             \u001b[0mcontent_list\u001b[0m\u001b[1;33m.\u001b[0m\u001b[0mappend\u001b[0m\u001b[1;33m(\u001b[0m\u001b[0mi_data_values\u001b[0m\u001b[1;33m[\u001b[0m\u001b[0mi\u001b[0m\u001b[1;33m]\u001b[0m\u001b[1;33m.\u001b[0m\u001b[0mfind_all\u001b[0m\u001b[1;33m(\u001b[0m\u001b[1;34m'td'\u001b[0m\u001b[1;33m)\u001b[0m\u001b[1;33m[\u001b[0m\u001b[1;36m8\u001b[0m\u001b[1;33m]\u001b[0m\u001b[1;33m.\u001b[0m\u001b[0mcontents\u001b[0m\u001b[1;33m[\u001b[0m\u001b[1;36m0\u001b[0m\u001b[1;33m]\u001b[0m\u001b[1;33m.\u001b[0m\u001b[0mstrip\u001b[0m\u001b[1;33m(\u001b[0m\u001b[1;33m)\u001b[0m\u001b[1;33m)\u001b[0m\u001b[1;33m\u001b[0m\u001b[0m\n\u001b[0;32m     27\u001b[0m         \u001b[0mprint\u001b[0m\u001b[1;33m(\u001b[0m\u001b[0mcontent_list\u001b[0m\u001b[1;33m)\u001b[0m\u001b[1;33m\u001b[0m\u001b[0m\n\u001b[1;32m---> 28\u001b[1;33m         \u001b[0mcontent\u001b[0m\u001b[1;33m.\u001b[0m\u001b[0mloc\u001b[0m\u001b[1;33m[\u001b[0m\u001b[0mi\u001b[0m\u001b[1;33m]\u001b[0m \u001b[1;33m=\u001b[0m \u001b[0mcontent_list\u001b[0m\u001b[1;33m\u001b[0m\u001b[0m\n\u001b[0m\u001b[0;32m     29\u001b[0m     \u001b[0mcontent\u001b[0m\u001b[1;33m[\u001b[0m\u001b[1;34m'Player Number'\u001b[0m\u001b[1;33m]\u001b[0m \u001b[1;33m=\u001b[0m \u001b[0mcontent\u001b[0m\u001b[1;33m.\u001b[0m\u001b[0mindex\u001b[0m\u001b[1;33m\u001b[0m\u001b[0m\n\u001b[0;32m     30\u001b[0m     \u001b[0mcontent\u001b[0m\u001b[1;33m.\u001b[0m\u001b[0mreset_index\u001b[0m\u001b[1;33m(\u001b[0m\u001b[0mlevel\u001b[0m\u001b[1;33m=\u001b[0m\u001b[1;36m0\u001b[0m\u001b[1;33m,\u001b[0m \u001b[0minplace\u001b[0m\u001b[1;33m=\u001b[0m\u001b[1;32mTrue\u001b[0m\u001b[1;33m)\u001b[0m\u001b[1;33m\u001b[0m\u001b[0m\n",
      "\u001b[1;32mc:\\users\\akhil_s_bhat\\appdata\\local\\programs\\python\\python36\\lib\\site-packages\\pandas\\core\\indexing.py\u001b[0m in \u001b[0;36m__setitem__\u001b[1;34m(self, key, value)\u001b[0m\n\u001b[0;32m    192\u001b[0m             \u001b[0mkey\u001b[0m \u001b[1;33m=\u001b[0m \u001b[0mcom\u001b[0m\u001b[1;33m.\u001b[0m\u001b[0m_apply_if_callable\u001b[0m\u001b[1;33m(\u001b[0m\u001b[0mkey\u001b[0m\u001b[1;33m,\u001b[0m \u001b[0mself\u001b[0m\u001b[1;33m.\u001b[0m\u001b[0mobj\u001b[0m\u001b[1;33m)\u001b[0m\u001b[1;33m\u001b[0m\u001b[0m\n\u001b[0;32m    193\u001b[0m         \u001b[0mindexer\u001b[0m \u001b[1;33m=\u001b[0m \u001b[0mself\u001b[0m\u001b[1;33m.\u001b[0m\u001b[0m_get_setitem_indexer\u001b[0m\u001b[1;33m(\u001b[0m\u001b[0mkey\u001b[0m\u001b[1;33m)\u001b[0m\u001b[1;33m\u001b[0m\u001b[0m\n\u001b[1;32m--> 194\u001b[1;33m         \u001b[0mself\u001b[0m\u001b[1;33m.\u001b[0m\u001b[0m_setitem_with_indexer\u001b[0m\u001b[1;33m(\u001b[0m\u001b[0mindexer\u001b[0m\u001b[1;33m,\u001b[0m \u001b[0mvalue\u001b[0m\u001b[1;33m)\u001b[0m\u001b[1;33m\u001b[0m\u001b[0m\n\u001b[0m\u001b[0;32m    195\u001b[0m \u001b[1;33m\u001b[0m\u001b[0m\n\u001b[0;32m    196\u001b[0m     \u001b[1;32mdef\u001b[0m \u001b[0m_has_valid_type\u001b[0m\u001b[1;33m(\u001b[0m\u001b[0mself\u001b[0m\u001b[1;33m,\u001b[0m \u001b[0mk\u001b[0m\u001b[1;33m,\u001b[0m \u001b[0maxis\u001b[0m\u001b[1;33m)\u001b[0m\u001b[1;33m:\u001b[0m\u001b[1;33m\u001b[0m\u001b[0m\n",
      "\u001b[1;32mc:\\users\\akhil_s_bhat\\appdata\\local\\programs\\python\\python36\\lib\\site-packages\\pandas\\core\\indexing.py\u001b[0m in \u001b[0;36m_setitem_with_indexer\u001b[1;34m(self, indexer, value)\u001b[0m\n\u001b[0;32m    437\u001b[0m                         \u001b[1;32mif\u001b[0m \u001b[0mis_list_like_indexer\u001b[0m\u001b[1;33m(\u001b[0m\u001b[0mvalue\u001b[0m\u001b[1;33m)\u001b[0m\u001b[1;33m:\u001b[0m\u001b[1;33m\u001b[0m\u001b[0m\n\u001b[0;32m    438\u001b[0m                             \u001b[1;32mif\u001b[0m \u001b[0mlen\u001b[0m\u001b[1;33m(\u001b[0m\u001b[0mvalue\u001b[0m\u001b[1;33m)\u001b[0m \u001b[1;33m!=\u001b[0m \u001b[0mlen\u001b[0m\u001b[1;33m(\u001b[0m\u001b[0mself\u001b[0m\u001b[1;33m.\u001b[0m\u001b[0mobj\u001b[0m\u001b[1;33m.\u001b[0m\u001b[0mcolumns\u001b[0m\u001b[1;33m)\u001b[0m\u001b[1;33m:\u001b[0m\u001b[1;33m\u001b[0m\u001b[0m\n\u001b[1;32m--> 439\u001b[1;33m                                 raise ValueError(\"cannot set a row with \"\n\u001b[0m\u001b[0;32m    440\u001b[0m                                                  \"mismatched columns\")\n\u001b[0;32m    441\u001b[0m \u001b[1;33m\u001b[0m\u001b[0m\n",
      "\u001b[1;31mValueError\u001b[0m: cannot set a row with mismatched columns"
     ]
    }
   ],
   "source": [
    "main_df = pd.DataFrame(columns=header)\n",
    "for i in range(0,len(tables[3].find('tbody').find_all('tr'))):\n",
    "    club_df = pd.DataFrame(columns=header)\n",
    "    club_name = tables[3].find('tbody').find_all('tr')[i].find('td').find('img').get('alt')\n",
    "    club_link = (tables[3].find('tbody').find_all('tr')[i].find('td').find('a').get('href'))\n",
    "#     club_df=club_link[club_link.find('/')+1:club_link.find('/',2)]\n",
    "#     club_df = club_df.replace('-','_')\n",
    "#     club_df = club_df + '_df'\n",
    "#     print(club_df)\n",
    "    club_link = 'https://www.transfermarkt.co.uk'+club_link\n",
    "    club_link=club_link.replace(\"startseite\", \"kader\")\n",
    "    print(club_name,club_link)\n",
    "    club_df = get_club_details(club_name,club_link)"
   ]
  },
  {
   "cell_type": "code",
   "execution_count": null,
   "metadata": {},
   "outputs": [],
   "source": [
    "data_values = tables[1].find('tbody').find_all('tr')"
   ]
  }
 ],
 "metadata": {
  "kernelspec": {
   "display_name": "Python 3",
   "language": "python",
   "name": "python3"
  },
  "language_info": {
   "codemirror_mode": {
    "name": "ipython",
    "version": 3
   },
   "file_extension": ".py",
   "mimetype": "text/x-python",
   "name": "python",
   "nbconvert_exporter": "python",
   "pygments_lexer": "ipython3",
   "version": "3.6.4"
  }
 },
 "nbformat": 4,
 "nbformat_minor": 2
}
