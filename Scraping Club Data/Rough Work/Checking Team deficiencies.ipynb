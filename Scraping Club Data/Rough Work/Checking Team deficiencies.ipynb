{
 "cells": [
  {
   "cell_type": "code",
   "execution_count": 100,
   "metadata": {},
   "outputs": [],
   "source": [
    "import pandas as pd\n",
    "import numpy as np\n",
    "import matplotlib.pyplot as plt\n",
    "import seaborn as sns"
   ]
  },
  {
   "cell_type": "code",
   "execution_count": 101,
   "metadata": {},
   "outputs": [],
   "source": [
    "player_data = pd.read_csv('..\\\\Consolidated Data\\\\Player_Attribute_Data.csv')\n",
    "team_rankings = pd.read_csv('..\\\\Consolidated Data\\\\Team Rankings_corrected.csv')"
   ]
  },
  {
   "cell_type": "code",
   "execution_count": 102,
   "metadata": {},
   "outputs": [],
   "source": [
    "team_rankings=team_rankings.drop(['Unnamed: 0'],axis=1)"
   ]
  },
  {
   "cell_type": "code",
   "execution_count": 103,
   "metadata": {},
   "outputs": [],
   "source": [
    "player_df = player_data[['sofifa_id','club', 'overall','position', 'section', 'role']]"
   ]
  },
  {
   "cell_type": "code",
   "execution_count": 104,
   "metadata": {},
   "outputs": [],
   "source": [
    "combo_df = pd.merge(player_df,team_rankings,how='inner',left_on='club',right_on='Team')"
   ]
  },
  {
   "cell_type": "code",
   "execution_count": 105,
   "metadata": {},
   "outputs": [],
   "source": [
    "combo_df=combo_df.drop(['sofifa_id','club','Team'],axis=1)"
   ]
  },
  {
   "cell_type": "code",
   "execution_count": 106,
   "metadata": {},
   "outputs": [],
   "source": [
    "role_df = combo_df.groupby(['role','Tier']).mean()"
   ]
  },
  {
   "cell_type": "code",
   "execution_count": 107,
   "metadata": {},
   "outputs": [],
   "source": [
    "role_df.reset_index(inplace = True)"
   ]
  },
  {
   "cell_type": "code",
   "execution_count": 210,
   "metadata": {},
   "outputs": [],
   "source": [
    "def club_role(club):\n",
    "    club_tier = (team_rankings[team_rankings['Team'] == club]['Tier']).values[0]\n",
    "    club_df = player_df[player_df['club']==club][['overall','section','role']]\n",
    "    club_df = club_df.groupby(['role']).mean()\n",
    "    club_df = club_df.reset_index()\n",
    "    upper_tier_df = role_df[role_df['Tier']==(club_tier-1)]\n",
    "    upper_tier_df = upper_tier_df.reset_index()\n",
    "    upper_tier_df = upper_tier_df.drop(['index','Tier'],axis=1)\n",
    "    role_s_df = pd.merge(upper_tier_df,club_df,how='inner',on='role')\n",
    "    role_s_df.columns = ['Role','Upper_Tier_Rating','Club_Rating']\n",
    "    role_s_df['Rating_Gap'] = role_s_df['Upper_Tier_Rating'] - role_s_df['Club_Rating']\n",
    "#     role_focus = role_s_df[role_s_df['Rating_Gap']==role_s_df['Rating_Gap'].values.max()]['Role'].values[0]\n",
    "    role_focus = role_s_df[role_s_df['Rating_Gap']==role_s_df['Rating_Gap']]\n",
    "    return role_focus"
   ]
  },
  {
   "cell_type": "code",
   "execution_count": 215,
   "metadata": {},
   "outputs": [],
   "source": [
    "x= club_role('Manchester City')"
   ]
  },
  {
   "cell_type": "code",
   "execution_count": 216,
   "metadata": {},
   "outputs": [
    {
     "name": "stdout",
     "output_type": "stream",
     "text": [
      "      Role  Upper_Tier_Rating  Club_Rating  Rating_Gap\n",
      "0   Attack          80.818182    79.500000    1.318182\n",
      "1   Defend          78.360656    75.210526    3.150129\n",
      "2  Support          78.428571    79.000000   -0.571429\n"
     ]
    }
   ],
   "source": [
    "print(x)"
   ]
  },
  {
   "cell_type": "code",
   "execution_count": 228,
   "metadata": {},
   "outputs": [],
   "source": [
    "def club_section(club,role):\n",
    "    club_tier = (team_rankings[team_rankings['Team'] == club]['Tier']).values[0]    \n",
    "    club_df = player_df[player_df['club']==club][['overall','section','role']]\n",
    "    c_sec_df = club_df[club_df['role']==role]\n",
    "    c_sec_df = c_sec_df.groupby(['section']).mean()\n",
    "    c_sec_df = c_sec_df.reset_index()\n",
    "    upper_tier_df = combo_df[combo_df['Tier']==club_tier-1]\n",
    "    upper_role_df = upper_tier_df[upper_tier_df['role']==role]\n",
    "    upper_role_df = upper_role_df[['section','overall']]\n",
    "    upper_role_df = upper_role_df.groupby(['section']).mean()\n",
    "    upper_role_df = upper_role_df.reset_index()\n",
    "    section_df = pd.merge(upper_role_df,c_sec_df,how='inner',on='section')\n",
    "    section_df.columns = ['Section','Upper_Tier_Rating','Club_Rating']\n",
    "    section_df['Rating_Gap'] = section_df['Upper_Tier_Rating']-section_df['Club_Rating']\n",
    "#     section_focus = section_df['Section'].values[0]\n",
    "    return section_df"
   ]
  },
  {
   "cell_type": "code",
   "execution_count": 229,
   "metadata": {},
   "outputs": [],
   "source": [
    "y = club_section('Manchester United','Support')"
   ]
  },
  {
   "cell_type": "code",
   "execution_count": 230,
   "metadata": {},
   "outputs": [
    {
     "data": {
      "text/html": [
       "<div>\n",
       "<style scoped>\n",
       "    .dataframe tbody tr th:only-of-type {\n",
       "        vertical-align: middle;\n",
       "    }\n",
       "\n",
       "    .dataframe tbody tr th {\n",
       "        vertical-align: top;\n",
       "    }\n",
       "\n",
       "    .dataframe thead th {\n",
       "        text-align: right;\n",
       "    }\n",
       "</style>\n",
       "<table border=\"1\" class=\"dataframe\">\n",
       "  <thead>\n",
       "    <tr style=\"text-align: right;\">\n",
       "      <th></th>\n",
       "      <th>Section</th>\n",
       "      <th>Upper_Tier_Rating</th>\n",
       "      <th>Club_Rating</th>\n",
       "      <th>Rating_Gap</th>\n",
       "    </tr>\n",
       "  </thead>\n",
       "  <tbody>\n",
       "    <tr>\n",
       "      <th>0</th>\n",
       "      <td>Midfield</td>\n",
       "      <td>78.428571</td>\n",
       "      <td>79</td>\n",
       "      <td>-0.571429</td>\n",
       "    </tr>\n",
       "  </tbody>\n",
       "</table>\n",
       "</div>"
      ],
      "text/plain": [
       "    Section  Upper_Tier_Rating  Club_Rating  Rating_Gap\n",
       "0  Midfield          78.428571           79   -0.571429"
      ]
     },
     "execution_count": 230,
     "metadata": {},
     "output_type": "execute_result"
    }
   ],
   "source": [
    "y"
   ]
  },
  {
   "cell_type": "code",
   "execution_count": 223,
   "metadata": {},
   "outputs": [],
   "source": [
    "def club_position(club,role,section):\n",
    "    club_tier = (team_rankings[team_rankings['Team'] == club]['Tier']).values[0]\n",
    "    club_df = player_df[player_df['club']==club][['overall','position','section','role']]\n",
    "    c_role_df = club_df[club_df['role']==role]\n",
    "    c_sec_df = c_role_df[c_role_df['section']==section]\n",
    "    c_pos_df = c_sec_df.groupby(['position']).mean()\n",
    "    c_pos_df = c_pos_df.reset_index()\n",
    "    upper_tier_df = combo_df[combo_df['Tier']==club_tier-1]\n",
    "    upper_role_df = upper_tier_df[upper_tier_df['role']==role]\n",
    "    upper_sec_df = upper_role_df[upper_role_df['section']==section]\n",
    "    upper_pos_df = upper_role_df[['position','overall']]\n",
    "    upper_pos_df = upper_pos_df.groupby(['position']).mean()\n",
    "    upper_pos_df = upper_pos_df.reset_index()\n",
    "    position_df = pd.merge(upper_pos_df,c_pos_df,how='inner',on='position')\n",
    "    position_df.columns=['Position','Upper_Tier_Rating','Club_Rating']\n",
    "    position_df['Rating_Gap'] = position_df['Upper_Tier_Rating']-position_df['Club_Rating']\n",
    "    return position_df"
   ]
  },
  {
   "cell_type": "code",
   "execution_count": 224,
   "metadata": {},
   "outputs": [],
   "source": [
    "z = club_position('Arsenal','Defend','Defence')"
   ]
  },
  {
   "cell_type": "code",
   "execution_count": 225,
   "metadata": {},
   "outputs": [
    {
     "data": {
      "text/html": [
       "<div>\n",
       "<style scoped>\n",
       "    .dataframe tbody tr th:only-of-type {\n",
       "        vertical-align: middle;\n",
       "    }\n",
       "\n",
       "    .dataframe tbody tr th {\n",
       "        vertical-align: top;\n",
       "    }\n",
       "\n",
       "    .dataframe thead th {\n",
       "        text-align: right;\n",
       "    }\n",
       "</style>\n",
       "<table border=\"1\" class=\"dataframe\">\n",
       "  <thead>\n",
       "    <tr style=\"text-align: right;\">\n",
       "      <th></th>\n",
       "      <th>Position</th>\n",
       "      <th>Upper_Tier_Rating</th>\n",
       "      <th>Club_Rating</th>\n",
       "      <th>Rating_Gap</th>\n",
       "    </tr>\n",
       "  </thead>\n",
       "  <tbody>\n",
       "    <tr>\n",
       "      <th>0</th>\n",
       "      <td>CB</td>\n",
       "      <td>78.588235</td>\n",
       "      <td>75.833333</td>\n",
       "      <td>2.754902</td>\n",
       "    </tr>\n",
       "    <tr>\n",
       "      <th>1</th>\n",
       "      <td>LB</td>\n",
       "      <td>72.882353</td>\n",
       "      <td>78.000000</td>\n",
       "      <td>-5.117647</td>\n",
       "    </tr>\n",
       "    <tr>\n",
       "      <th>2</th>\n",
       "      <td>RB</td>\n",
       "      <td>76.882353</td>\n",
       "      <td>80.000000</td>\n",
       "      <td>-3.117647</td>\n",
       "    </tr>\n",
       "  </tbody>\n",
       "</table>\n",
       "</div>"
      ],
      "text/plain": [
       "  Position  Upper_Tier_Rating  Club_Rating  Rating_Gap\n",
       "0       CB          78.588235    75.833333    2.754902\n",
       "1       LB          72.882353    78.000000   -5.117647\n",
       "2       RB          76.882353    80.000000   -3.117647"
      ]
     },
     "execution_count": 225,
     "metadata": {},
     "output_type": "execute_result"
    }
   ],
   "source": [
    "z"
   ]
  },
  {
   "cell_type": "code",
   "execution_count": 244,
   "metadata": {},
   "outputs": [],
   "source": [
    "x= club_role('Manchester City')"
   ]
  },
  {
   "cell_type": "code",
   "execution_count": 270,
   "metadata": {},
   "outputs": [],
   "source": [
    "x=x.sort_values(by='Rating_Gap', ascending=False)"
   ]
  },
  {
   "cell_type": "code",
   "execution_count": 271,
   "metadata": {},
   "outputs": [],
   "source": [
    "x=x.reset_index()"
   ]
  },
  {
   "cell_type": "code",
   "execution_count": 272,
   "metadata": {},
   "outputs": [],
   "source": [
    "x=x.drop(['index'],axis=1)"
   ]
  },
  {
   "cell_type": "code",
   "execution_count": 273,
   "metadata": {},
   "outputs": [
    {
     "data": {
      "text/plain": [
       "'Defend'"
      ]
     },
     "execution_count": 273,
     "metadata": {},
     "output_type": "execute_result"
    }
   ],
   "source": [
    "x.iloc[0]['Role']"
   ]
  },
  {
   "cell_type": "code",
   "execution_count": 274,
   "metadata": {},
   "outputs": [
    {
     "data": {
      "text/html": [
       "<div>\n",
       "<style scoped>\n",
       "    .dataframe tbody tr th:only-of-type {\n",
       "        vertical-align: middle;\n",
       "    }\n",
       "\n",
       "    .dataframe tbody tr th {\n",
       "        vertical-align: top;\n",
       "    }\n",
       "\n",
       "    .dataframe thead th {\n",
       "        text-align: right;\n",
       "    }\n",
       "</style>\n",
       "<table border=\"1\" class=\"dataframe\">\n",
       "  <thead>\n",
       "    <tr style=\"text-align: right;\">\n",
       "      <th></th>\n",
       "      <th>Role</th>\n",
       "      <th>Upper_Tier_Rating</th>\n",
       "      <th>Club_Rating</th>\n",
       "      <th>Rating_Gap</th>\n",
       "    </tr>\n",
       "  </thead>\n",
       "  <tbody>\n",
       "    <tr>\n",
       "      <th>0</th>\n",
       "      <td>Defend</td>\n",
       "      <td>78.360656</td>\n",
       "      <td>75.210526</td>\n",
       "      <td>3.150129</td>\n",
       "    </tr>\n",
       "    <tr>\n",
       "      <th>1</th>\n",
       "      <td>Attack</td>\n",
       "      <td>80.818182</td>\n",
       "      <td>79.500000</td>\n",
       "      <td>1.318182</td>\n",
       "    </tr>\n",
       "    <tr>\n",
       "      <th>2</th>\n",
       "      <td>Support</td>\n",
       "      <td>78.428571</td>\n",
       "      <td>79.000000</td>\n",
       "      <td>-0.571429</td>\n",
       "    </tr>\n",
       "  </tbody>\n",
       "</table>\n",
       "</div>"
      ],
      "text/plain": [
       "      Role  Upper_Tier_Rating  Club_Rating  Rating_Gap\n",
       "0   Defend          78.360656    75.210526    3.150129\n",
       "1   Attack          80.818182    79.500000    1.318182\n",
       "2  Support          78.428571    79.000000   -0.571429"
      ]
     },
     "execution_count": 274,
     "metadata": {},
     "output_type": "execute_result"
    }
   ],
   "source": [
    "x"
   ]
  },
  {
   "cell_type": "code",
   "execution_count": 275,
   "metadata": {},
   "outputs": [],
   "source": [
    "roles = x['Role']"
   ]
  },
  {
   "cell_type": "code",
   "execution_count": 276,
   "metadata": {},
   "outputs": [
    {
     "data": {
      "text/plain": [
       "0     Defend\n",
       "1     Attack\n",
       "2    Support\n",
       "Name: Role, dtype: object"
      ]
     },
     "execution_count": 276,
     "metadata": {},
     "output_type": "execute_result"
    }
   ],
   "source": [
    "roles"
   ]
  },
  {
   "cell_type": "code",
   "execution_count": 303,
   "metadata": {},
   "outputs": [
    {
     "name": "stdout",
     "output_type": "stream",
     "text": [
      "\n",
      "Role: Defend  -->  3.1501294219154374\n",
      "\n",
      "Section:  Goalkeeper  -->  5.799999999999997\n",
      "GK  : 5.799999999999997\n",
      "\n",
      "Section:  Defence  -->  2.4363636363636374\n",
      "CB  : 2.7238095238095212\n",
      "LB  : 6.194444444444443\n",
      "RB  : -5.200000000000003\n",
      "\n",
      "Section:  Midfield  -->  0.6666666666666714\n",
      "CDM  : 0.6666666666666714\n",
      "\n",
      "\n",
      "Role: Attack  -->  1.318181818181813\n",
      "\n",
      "Section:  Forward  -->  1.4903846153846132\n",
      "LW  : 8.0\n",
      "RW  : -4.583333333333329\n",
      "ST  : 1.7777777777777857\n",
      "\n",
      "Section:  Midfield  -->  0.4642857142857082\n",
      "CAM  : 0.4642857142857082\n",
      "\n",
      "\n",
      "Role: Support  -->  -0.5714285714285694\n",
      "\n",
      "Section:  Midfield  -->  -0.5714285714285694\n",
      "CM  : 0.5\n",
      "\n"
     ]
    }
   ],
   "source": [
    "for i in range(0,len(roles)):\n",
    "    print()\n",
    "    print('Role:',x.iloc[i]['Role'],' --> ',x.iloc[i]['Rating_Gap'])\n",
    "    print()\n",
    "    section_df=club_section('Manchester City',roles[i])\n",
    "    section_df=section_df.sort_values(by='Rating_Gap',ascending=False)\n",
    "    for j in range(0,len(section_df)):\n",
    "        print('Section: ',section_df.iloc[j]['Section'],' --> ',section_df.iloc[j]['Rating_Gap'])\n",
    "        position_df=club_position('Manchester City',roles[i],section_df.iloc[j]['Section'])\n",
    "        for k in range(0,len(position_df)):\n",
    "            print(position_df['Position'].values[k],' :',position_df['Rating_Gap'].values[k])\n",
    "#             print(position_df['Rating_Gap'].values[0])\n",
    "        print()"
   ]
  },
  {
   "cell_type": "code",
   "execution_count": 265,
   "metadata": {},
   "outputs": [
    {
     "name": "stdout",
     "output_type": "stream",
     "text": [
      "Defend\n",
      "0       Defence\n",
      "1    Goalkeeper\n",
      "2      Midfield\n",
      "Name: Section, dtype: object\n",
      "Attack\n",
      "0     Forward\n",
      "1    Midfield\n",
      "Name: Section, dtype: object\n",
      "Support\n",
      "0    Midfield\n",
      "Name: Section, dtype: object\n"
     ]
    }
   ],
   "source": [
    "for i in range(0,len(x)):\n",
    "    roles = x.iloc[i]['Role']\n",
    "    print(role)\n",
    "    y = club_section('Manchester City',role)\n",
    "    section=(y['Section'])\n",
    "    print(section)"
   ]
  }
 ],
 "metadata": {
  "kernelspec": {
   "display_name": "Python 3",
   "language": "python",
   "name": "python3"
  },
  "language_info": {
   "codemirror_mode": {
    "name": "ipython",
    "version": 3
   },
   "file_extension": ".py",
   "mimetype": "text/x-python",
   "name": "python",
   "nbconvert_exporter": "python",
   "pygments_lexer": "ipython3",
   "version": "3.7.4"
  }
 },
 "nbformat": 4,
 "nbformat_minor": 2
}
