{
 "cells": [
  {
   "cell_type": "code",
   "execution_count": null,
   "metadata": {},
   "outputs": [],
   "source": [
    "import numpy as np\n",
    "import pandas as pd\n",
    "import re\n",
    "import unicodedata"
   ]
  },
  {
   "cell_type": "code",
   "execution_count": null,
   "metadata": {},
   "outputs": [],
   "source": [
    "la_liga_valuations_df = pd.read_csv('..\\\\Consolidated Data\\\\La Liga Club Valuations.csv',usecols=['Club','Total Market Value','League'])\n",
    "la_liga_valuations_df = la_liga_valuations_df.rename(columns={'Club':'Team'})"
   ]
  },
  {
   "cell_type": "code",
   "execution_count": null,
   "metadata": {},
   "outputs": [],
   "source": [
    "la_liga_postions_df = pd.read_csv('..\\\\Consolidated Data\\\\La Liga Average Positions.csv')"
   ]
  },
  {
   "cell_type": "code",
   "execution_count": null,
   "metadata": {},
   "outputs": [],
   "source": [
    "la_liga_combined_df = la_liga_postions_df.merge(la_liga_valuations_df,how='outer',on='Team')"
   ]
  },
  {
   "cell_type": "code",
   "execution_count": null,
   "metadata": {},
   "outputs": [],
   "source": [
    "la_liga_temp_df = la_liga_combined_df.dropna()"
   ]
  },
  {
   "cell_type": "code",
   "execution_count": null,
   "metadata": {},
   "outputs": [],
   "source": [
    "la_liga_next_df = pd.concat([la_liga_combined_df,la_liga_temp_df]).drop_duplicates(keep=False)"
   ]
  },
  {
   "cell_type": "code",
   "execution_count": null,
   "metadata": {},
   "outputs": [],
   "source": [
    "la_liga_next_df = la_liga_next_df.reset_index(drop=True)"
   ]
  },
  {
   "cell_type": "code",
   "execution_count": null,
   "metadata": {},
   "outputs": [],
   "source": [
    "la_liga_next_df"
   ]
  },
  {
   "cell_type": "code",
   "execution_count": null,
   "metadata": {},
   "outputs": [],
   "source": [
    "for i in range(la_liga_next_df[la_liga_next_df['Total Market Value'].isnull()].head(1).index[0],la_liga_next_df[la_liga_next_df['Total Market Value'].isnull()].tail(1).index[0]):\n",
    "#     print('Value Empty: '+i)\n",
    "#     print('Value Empty: '+la_liga_next_df.loc[i]['Team'])\n",
    "    for j in range(la_liga_next_df[la_liga_next_df['Avg_Pos'].isnull()].head(1).index[0],la_liga_next_df[la_liga_next_df['Avg_Pos'].isnull()].tail(1).index[0]):\n",
    "#         print(j)\n",
    "        search = re.search(la_liga_next_df.loc[i]['Team'],la_liga_next_df.loc[j]['Team'],re.UNICODE)\n",
    "        if search is not None:\n",
    "            print('Pos Empty: '+la_liga_next_df.loc[j]['Team'])\n",
    "            clean = search.group()\n",
    "            print('After matching: '+clean)\n",
    "            la_liga_next_df.loc[i] = la_liga_next_df.loc[i].combine_first(la_liga_next_df.loc[j])\n",
    "            break\n",
    "#         break\n",
    "#         print(la_liga_next_df.loc[j]['Team'])\n",
    "#         if(la_liga_next_df.loc[i]['Team'])\n",
    "        "
   ]
  },
  {
   "cell_type": "code",
   "execution_count": null,
   "metadata": {},
   "outputs": [],
   "source": [
    "la_liga_next_df.loc[1] = la_liga_next_df.loc[1].combine_first(la_liga_next_df.loc[17])\n",
    "la_liga_next_df.loc[3] = la_liga_next_df.loc[3].combine_first(la_liga_next_df.loc[31])\n",
    "la_liga_next_df.loc[7] = la_liga_next_df.loc[7].combine_first(la_liga_next_df.loc[27])\n",
    "la_liga_next_df.loc[10] = la_liga_next_df.loc[10].combine_first(la_liga_next_df.loc[29])\n",
    "la_liga_next_df.loc[15] = la_liga_next_df.loc[15].combine_first(la_liga_next_df.loc[25])"
   ]
  },
  {
   "cell_type": "code",
   "execution_count": null,
   "metadata": {},
   "outputs": [],
   "source": [
    "la_liga_combined_df = pd.concat([la_liga_combined_df.dropna(), la_liga_next_df.dropna()])"
   ]
  },
  {
   "cell_type": "code",
   "execution_count": null,
   "metadata": {},
   "outputs": [],
   "source": [
    "la_liga_combined_df=la_liga_combined_df.reset_index(drop=True)"
   ]
  },
  {
   "cell_type": "code",
   "execution_count": null,
   "metadata": {},
   "outputs": [],
   "source": [
    "champ_league_data_df = pd.read_csv('..\\\\Consolidated Data\\\\Champions_League_CLub_Level.csv')\n",
    "\n",
    "champ_league_data_df.iloc[10, champ_league_data_df.columns.get_loc('Team')] = 'Atletico Madrid'\n",
    "\n",
    "la_liga_combined_df=la_liga_combined_df.merge(champ_league_data_df,how='left',on='Team')\n",
    "\n",
    "la_liga_combined_df = la_liga_combined_df.fillna(0)"
   ]
  },
  {
   "cell_type": "code",
   "execution_count": null,
   "metadata": {},
   "outputs": [],
   "source": [
    "la_liga_combined_df.head(2)"
   ]
  },
  {
   "cell_type": "code",
   "execution_count": null,
   "metadata": {},
   "outputs": [],
   "source": [
    "europa_league_data_df = pd.read_csv('..\\\\Consolidated Data\\\\Europa_League_CLub_Level.csv')\n",
    "\n",
    "europa_league_data_df.iloc[4, champ_league_data_df.columns.get_loc('Team')] = 'Atletico Madrid'\n",
    "\n",
    "la_liga_combined_df=la_liga_combined_df.merge(europa_league_data_df,how='left',on='Team')\n",
    "\n",
    "la_liga_combined_df = la_liga_combined_df.fillna(0)"
   ]
  },
  {
   "cell_type": "code",
   "execution_count": null,
   "metadata": {},
   "outputs": [],
   "source": [
    "la_liga_combined_df"
   ]
  },
  {
   "cell_type": "code",
   "execution_count": null,
   "metadata": {},
   "outputs": [],
   "source": [
    "la_liga_combined_df.columns = ['Team', 'Avg_Pos', 'Total Market Value', 'League', 'Range1_Win_CL',\n",
    "       'Range2_Win_CL', 'Range3_Win_CL', 'Range4_Win_CL', 'Range5_Win_CL',\n",
    "       'Range1_Run_CL', 'Range2_Run_CL', 'Range3_Run_CL', 'Range4_Run_CL',\n",
    "       'Range5_Run_CL', 'Range1_SF_CL', 'Range2_SF_CL', 'Range3_SF_CL',\n",
    "       'Range4_SF_CL', 'Range5_SF_CL', 'Range1_Win_EL', 'Range2_Win_EL',\n",
    "       'Range3_Win_EL', 'Range4_Win_EL', 'Range5_Win_EL', 'Range1_Run_EL',\n",
    "       'Range2_Run_EL', 'Range3_Run_EL', 'Range4_Run_EL', 'Range5_Run_EL',\n",
    "       'Range1_SF_EL', 'Range2_SF_EL', 'Range3_SF_EL', 'Range4_SF_EL',\n",
    "       'Range5_SF_EL']"
   ]
  },
  {
   "cell_type": "code",
   "execution_count": null,
   "metadata": {
    "scrolled": true
   },
   "outputs": [],
   "source": [
    "world_cup_data_df = pd.read_csv('..\\\\Consolidated Data\\\\World Cup Data at Club Level.csv')"
   ]
  },
  {
   "cell_type": "code",
   "execution_count": null,
   "metadata": {},
   "outputs": [],
   "source": [
    "world_cup_data_df.head()"
   ]
  },
  {
   "cell_type": "code",
   "execution_count": null,
   "metadata": {},
   "outputs": [],
   "source": [
    "# world_cup_data_df\n",
    "club_string = world_cup_data_df['Club']"
   ]
  },
  {
   "cell_type": "code",
   "execution_count": null,
   "metadata": {},
   "outputs": [],
   "source": [
    "for i in range(0,len(club_string)):\n",
    "    club_string[i]=unicodedata.normalize('NFKD', club_string[i]).encode('ASCII', 'ignore').decode('utf-8')"
   ]
  },
  {
   "cell_type": "code",
   "execution_count": null,
   "metadata": {},
   "outputs": [],
   "source": [
    "world_cup_data_df['Club'] = club_string"
   ]
  },
  {
   "cell_type": "code",
   "execution_count": null,
   "metadata": {},
   "outputs": [],
   "source": [
    "world_cup_data_df.columns = ['Team','League','WC_Player_Count']"
   ]
  },
  {
   "cell_type": "code",
   "execution_count": null,
   "metadata": {},
   "outputs": [],
   "source": [
    "world_cup_data_df.head(5)"
   ]
  },
  {
   "cell_type": "code",
   "execution_count": null,
   "metadata": {},
   "outputs": [],
   "source": [
    "world_cup_data_df[world_cup_data_df['League'] ==  'La Liga']"
   ]
  },
  {
   "cell_type": "code",
   "execution_count": null,
   "metadata": {},
   "outputs": [],
   "source": [
    "la_liga_temp_df=la_liga_combined_df.merge(world_cup_data_df,how='outer',on='Team')"
   ]
  },
  {
   "cell_type": "code",
   "execution_count": null,
   "metadata": {
    "scrolled": true
   },
   "outputs": [],
   "source": [
    "la_liga_temp_df"
   ]
  },
  {
   "cell_type": "code",
   "execution_count": null,
   "metadata": {},
   "outputs": [],
   "source": [
    "la_liga_temp_df[la_liga_temp_df['Total Market Value'].isnull()].tail(1).index[0]"
   ]
  },
  {
   "cell_type": "code",
   "execution_count": null,
   "metadata": {},
   "outputs": [],
   "source": [
    "'''for i in range(la_liga_temp_df[la_liga_temp_df['Total Market Value'].isnull()].head(1).index[0],la_liga_temp_df[la_liga_temp_df['Total Market Value'].isnull()].tail(1).index[0]):\n",
    "#     print('Value Empty: '+i)\n",
    "#     print('Value Empty: '+la_liga_next_df.loc[i]['Team'])\n",
    "    for j in range(la_liga_temp_df[la_liga_temp_df['WC_Player_Count_x'].isnull()].head(1).index[0],la_liga_temp_df[la_liga_temp_df['WC_Player_Count_x'].isnull()].tail(1).index[0]):\n",
    "#         print(j)\n",
    "        search = re.search(la_liga_temp_df.loc[i]['Team'],la_liga_temp_df.loc[j]['Team'])\n",
    "        if search is not None:\n",
    "#             print('Pos Empty: '+la_liga_next_df.loc[j]['Team'])\n",
    "            clean = search.group()\n",
    "#             print('After matching: '+clean)\n",
    "            la_liga_temp_df.loc[i] = la_liga_temp_df.loc[i].combine_first(la_liga_temp_df.loc[j])\n",
    "            break\n",
    "#         break\n",
    "#         print(la_liga_next_df.loc[j]['Team'])\n",
    "#         if(la_liga_next_df.loc[i]['Team'])'''"
   ]
  },
  {
   "cell_type": "code",
   "execution_count": null,
   "metadata": {},
   "outputs": [],
   "source": [
    "# la_liga_temp_df.head(32)[['Team','WC_Player_Count_x']]"
   ]
  },
  {
   "cell_type": "code",
   "execution_count": null,
   "metadata": {
    "scrolled": true
   },
   "outputs": [],
   "source": [
    "for i in range(la_liga_temp_df[la_liga_temp_df['Total Market Value'].isnull()].head(1).index[0],la_liga_temp_df[la_liga_temp_df['Total Market Value'].isnull()].tail(1).index[0]):\n",
    "#     print('Value Empty: '+i)\n",
    "    print('Value Empty: '+la_liga_temp_df.loc[i]['Team'])\n",
    "    for j in range(la_liga_temp_df[la_liga_temp_df['WC_Player_Count'].isnull()].head(1).index[0],la_liga_temp_df[la_liga_temp_df['WC_Player_Count'].isnull()].tail(1).index[0]):\n",
    "#         print(j)\n",
    "        search = re.search(la_liga_temp_df.loc[j]['Team'],la_liga_temp_df.loc[i]['Team'])\n",
    "        if search is not None:\n",
    "            print('Pos Empty: '+la_liga_temp_df.loc[j]['Team'])\n",
    "            clean = search.group()\n",
    "#             print('After matching: '+clean)\n",
    "            la_liga_temp_df.loc[i] = la_liga_temp_df.loc[i].combine_first(la_liga_temp_df.loc[j])\n",
    "            break\n",
    "#         break\n",
    "#         print(la_liga_next_df.loc[j]['Team'])\n",
    "#         if(la_liga_next_df.loc[i]['Team'])\n",
    "        "
   ]
  },
  {
   "cell_type": "code",
   "execution_count": null,
   "metadata": {
    "scrolled": true
   },
   "outputs": [],
   "source": [
    "# la_liga_temp_df.head(32)[['Team','WC_Player_Count_x']]"
   ]
  },
  {
   "cell_type": "code",
   "execution_count": null,
   "metadata": {},
   "outputs": [],
   "source": [
    "la_liga_temp_df"
   ]
  },
  {
   "cell_type": "code",
   "execution_count": null,
   "metadata": {},
   "outputs": [],
   "source": [
    "la_liga_temp_df.iloc[0, la_liga_temp_df.columns.get_loc('WC_Player_Count')] = 15\n",
    "la_liga_temp_df.iloc[2, la_liga_temp_df.columns.get_loc('WC_Player_Count')] = 3\n",
    "la_liga_temp_df.iloc[3, la_liga_temp_df.columns.get_loc('WC_Player_Count')] = 3\n",
    "la_liga_temp_df.iloc[8, la_liga_temp_df.columns.get_loc('WC_Player_Count')] = 2\n",
    "la_liga_temp_df.iloc[17, la_liga_temp_df.columns.get_loc('WC_Player_Count')] = 2\n",
    "la_liga_temp_df.iloc[18, la_liga_temp_df.columns.get_loc('WC_Player_Count')] = 2\n",
    "la_liga_temp_df.iloc[19, la_liga_temp_df.columns.get_loc('WC_Player_Count')] = 2"
   ]
  },
  {
   "cell_type": "code",
   "execution_count": null,
   "metadata": {},
   "outputs": [],
   "source": [
    "la_liga_temp_df=la_liga_temp_df.drop(['League_y'],axis=1)"
   ]
  },
  {
   "cell_type": "code",
   "execution_count": null,
   "metadata": {},
   "outputs": [],
   "source": [
    "la_liga_temp_df['WC_Player_Count']=la_liga_temp_df['WC_Player_Count'].fillna(0)"
   ]
  },
  {
   "cell_type": "code",
   "execution_count": null,
   "metadata": {},
   "outputs": [],
   "source": [
    "la_liga_temp_df"
   ]
  },
  {
   "cell_type": "code",
   "execution_count": null,
   "metadata": {},
   "outputs": [],
   "source": [
    "la_liga_temp_df=la_liga_temp_df.dropna()"
   ]
  },
  {
   "cell_type": "code",
   "execution_count": null,
   "metadata": {},
   "outputs": [],
   "source": [
    "la_liga_temp_df.head(1)"
   ]
  },
  {
   "cell_type": "code",
   "execution_count": null,
   "metadata": {},
   "outputs": [],
   "source": [
    "la_liga_combined_df = la_liga_temp_df"
   ]
  },
  {
   "cell_type": "code",
   "execution_count": null,
   "metadata": {},
   "outputs": [],
   "source": [
    "top_50_data_df = pd.read_csv('..\\\\Consolidated Data\\\\Top 50 Players Club Level.csv')"
   ]
  },
  {
   "cell_type": "code",
   "execution_count": null,
   "metadata": {},
   "outputs": [],
   "source": [
    "top_50_data_df['Value in GBP'] = top_50_data_df['Value in GBP'].map(lambda x: x.lstrip('£').rstrip('m'))"
   ]
  },
  {
   "cell_type": "code",
   "execution_count": null,
   "metadata": {},
   "outputs": [],
   "source": [
    "x=top_50_data_df.groupby('Team').agg({'Player':'count'})"
   ]
  },
  {
   "cell_type": "code",
   "execution_count": null,
   "metadata": {},
   "outputs": [],
   "source": [
    "x=x.reset_index()"
   ]
  },
  {
   "cell_type": "code",
   "execution_count": null,
   "metadata": {},
   "outputs": [],
   "source": [
    "x"
   ]
  },
  {
   "cell_type": "code",
   "execution_count": null,
   "metadata": {},
   "outputs": [],
   "source": [
    "la_liga_temp_df=la_liga_temp_df.merge(x,how='left',on='Team')"
   ]
  },
  {
   "cell_type": "code",
   "execution_count": null,
   "metadata": {},
   "outputs": [],
   "source": [
    "la_liga_temp_df"
   ]
  },
  {
   "cell_type": "code",
   "execution_count": null,
   "metadata": {},
   "outputs": [],
   "source": [
    "la_liga_combined_df = la_liga_temp_df.fillna(0)"
   ]
  },
  {
   "cell_type": "code",
   "execution_count": null,
   "metadata": {},
   "outputs": [],
   "source": [
    "la_liga_combined_df"
   ]
  },
  {
   "cell_type": "code",
   "execution_count": null,
   "metadata": {},
   "outputs": [],
   "source": [
    "copa_del_df = pd.read_csv('..\\\\Consolidated Data\\\\Copa Del Rey Records.csv')"
   ]
  },
  {
   "cell_type": "code",
   "execution_count": null,
   "metadata": {},
   "outputs": [],
   "source": [
    "copa_del_df"
   ]
  },
  {
   "cell_type": "code",
   "execution_count": null,
   "metadata": {},
   "outputs": [],
   "source": [
    "copa_winner = copa_del_df[['Season','Winner']].groupby('Winner').count()"
   ]
  },
  {
   "cell_type": "code",
   "execution_count": null,
   "metadata": {},
   "outputs": [],
   "source": [
    "copa_winner = copa_winner.reset_index()"
   ]
  },
  {
   "cell_type": "code",
   "execution_count": null,
   "metadata": {},
   "outputs": [],
   "source": [
    "copa_winner.columns = ['Team','Copa_Wins']"
   ]
  },
  {
   "cell_type": "code",
   "execution_count": null,
   "metadata": {},
   "outputs": [],
   "source": [
    "la_liga_temp_df=la_liga_combined_df"
   ]
  },
  {
   "cell_type": "code",
   "execution_count": null,
   "metadata": {},
   "outputs": [],
   "source": [
    "la_liga_temp_df= pd.merge(la_liga_temp_df,copa_winner,how='left',on='Team')"
   ]
  },
  {
   "cell_type": "code",
   "execution_count": null,
   "metadata": {},
   "outputs": [],
   "source": [
    "la_liga_temp_df=la_liga_temp_df.fillna(0)"
   ]
  },
  {
   "cell_type": "code",
   "execution_count": null,
   "metadata": {},
   "outputs": [],
   "source": [
    "copa_runner = copa_del_df[['Season','Runner']].groupby('Runner').count()\n",
    "copa_runner = copa_runner.reset_index()\n",
    "copa_runner.columns = ['Team','Copa_Runners']\n",
    "la_liga_temp_df= pd.merge(la_liga_temp_df,copa_runner,how='left',on='Team')"
   ]
  },
  {
   "cell_type": "code",
   "execution_count": null,
   "metadata": {},
   "outputs": [],
   "source": [
    "la_liga_temp_df=la_liga_temp_df.fillna(0)"
   ]
  },
  {
   "cell_type": "code",
   "execution_count": 156,
   "metadata": {},
   "outputs": [],
   "source": [
    "la_liga_combined_df=la_liga_temp_df"
   ]
  },
  {
   "cell_type": "code",
   "execution_count": 158,
   "metadata": {},
   "outputs": [],
   "source": [
    "player_value_df = pd.read_csv('..\\\\Consolidated Data\\\\La Liga Data Consildation.csv')"
   ]
  },
  {
   "cell_type": "code",
   "execution_count": 161,
   "metadata": {},
   "outputs": [],
   "source": [
    "player_value_df = player_value_df[['Club','Value']]"
   ]
  },
  {
   "cell_type": "code",
   "execution_count": 164,
   "metadata": {},
   "outputs": [
    {
     "name": "stderr",
     "output_type": "stream",
     "text": [
      "c:\\users\\akhil_s_bhat\\appdata\\local\\programs\\python\\python36\\lib\\site-packages\\ipykernel_launcher.py:1: SettingWithCopyWarning: \n",
      "A value is trying to be set on a copy of a slice from a DataFrame.\n",
      "Try using .loc[row_indexer,col_indexer] = value instead\n",
      "\n",
      "See the caveats in the documentation: http://pandas.pydata.org/pandas-docs/stable/indexing.html#indexing-view-versus-copy\n",
      "  \"\"\"Entry point for launching an IPython kernel.\n"
     ]
    }
   ],
   "source": [
    "player_value_df['Value'] = player_value_df['Value'].map(lambda x: x.lstrip('£').rstrip('m'))"
   ]
  },
  {
   "cell_type": "code",
   "execution_count": 181,
   "metadata": {},
   "outputs": [
    {
     "name": "stdout",
     "output_type": "stream",
     "text": [
      "<class 'str'>\n",
      "0.9\n"
     ]
    }
   ],
   "source": [
    "ser = '900k'\n",
    "print(type(ser))\n",
    "if(type(ser) is str):\n",
    "    print(int(ser[:-1])/1000)"
   ]
  },
  {
   "cell_type": "code",
   "execution_count": 184,
   "metadata": {},
   "outputs": [],
   "source": [
    "for i in range(0,len(player_value_df)):\n",
    "    if(type(player_value_df.loc[i]['Value']) is str):\n",
    "        player_value_df.loc[i]['Value']=float(player_value_df.loc[i]['Value'][:-1])/1000"
   ]
  },
  {
   "cell_type": "code",
   "execution_count": 187,
   "metadata": {},
   "outputs": [
    {
     "data": {
      "text/plain": [
       "Club     Granada CF\n",
       "Value          0.63\n",
       "Name: 477, dtype: object"
      ]
     },
     "execution_count": 187,
     "metadata": {},
     "output_type": "execute_result"
    }
   ],
   "source": [
    "player_value_df.loc[477]"
   ]
  },
  {
   "cell_type": "code",
   "execution_count": 190,
   "metadata": {},
   "outputs": [
    {
     "data": {
      "text/html": [
       "<div>\n",
       "<style scoped>\n",
       "    .dataframe tbody tr th:only-of-type {\n",
       "        vertical-align: middle;\n",
       "    }\n",
       "\n",
       "    .dataframe tbody tr th {\n",
       "        vertical-align: top;\n",
       "    }\n",
       "\n",
       "    .dataframe thead th {\n",
       "        text-align: right;\n",
       "    }\n",
       "</style>\n",
       "<table border=\"1\" class=\"dataframe\">\n",
       "  <thead>\n",
       "    <tr style=\"text-align: right;\">\n",
       "      <th></th>\n",
       "      <th>Value</th>\n",
       "    </tr>\n",
       "    <tr>\n",
       "      <th>Club</th>\n",
       "      <th></th>\n",
       "    </tr>\n",
       "  </thead>\n",
       "  <tbody>\n",
       "    <tr>\n",
       "      <th>Athletic Bilbao</th>\n",
       "      <td>2.8987</td>\n",
       "    </tr>\n",
       "    <tr>\n",
       "      <th>Atlético Madrid</th>\n",
       "      <td>785.2500</td>\n",
       "    </tr>\n",
       "    <tr>\n",
       "      <th>CA Osasuna</th>\n",
       "      <td>5.2535</td>\n",
       "    </tr>\n",
       "    <tr>\n",
       "      <th>CD Leganés</th>\n",
       "      <td>1.7140</td>\n",
       "    </tr>\n",
       "    <tr>\n",
       "      <th>Celta de Vigo</th>\n",
       "      <td>1.8219</td>\n",
       "    </tr>\n",
       "    <tr>\n",
       "      <th>Deportivo Alavés</th>\n",
       "      <td>3.4075</td>\n",
       "    </tr>\n",
       "    <tr>\n",
       "      <th>FC Barcelona</th>\n",
       "      <td>1060.6500</td>\n",
       "    </tr>\n",
       "    <tr>\n",
       "      <th>Getafe CF</th>\n",
       "      <td>3.0130</td>\n",
       "    </tr>\n",
       "    <tr>\n",
       "      <th>Granada CF</th>\n",
       "      <td>6.8630</td>\n",
       "    </tr>\n",
       "    <tr>\n",
       "      <th>Levante UD</th>\n",
       "      <td>2.2497</td>\n",
       "    </tr>\n",
       "    <tr>\n",
       "      <th>RCD Espanyol Barcelona</th>\n",
       "      <td>3.5517</td>\n",
       "    </tr>\n",
       "    <tr>\n",
       "      <th>RCD Mallorca</th>\n",
       "      <td>6.0315</td>\n",
       "    </tr>\n",
       "    <tr>\n",
       "      <th>Real Betis Balompié</th>\n",
       "      <td>0.2632</td>\n",
       "    </tr>\n",
       "    <tr>\n",
       "      <th>Real Madrid</th>\n",
       "      <td>1070.5500</td>\n",
       "    </tr>\n",
       "    <tr>\n",
       "      <th>Real Sociedad</th>\n",
       "      <td>3.2456</td>\n",
       "    </tr>\n",
       "    <tr>\n",
       "      <th>Real Valladolid CF</th>\n",
       "      <td>3.4999</td>\n",
       "    </tr>\n",
       "    <tr>\n",
       "      <th>SD Eibar</th>\n",
       "      <td>2.5798</td>\n",
       "    </tr>\n",
       "    <tr>\n",
       "      <th>Sevilla FC</th>\n",
       "      <td>0.4345</td>\n",
       "    </tr>\n",
       "    <tr>\n",
       "      <th>Valencia CF</th>\n",
       "      <td>445.9500</td>\n",
       "    </tr>\n",
       "    <tr>\n",
       "      <th>Villarreal CF</th>\n",
       "      <td>2.1683</td>\n",
       "    </tr>\n",
       "  </tbody>\n",
       "</table>\n",
       "</div>"
      ],
      "text/plain": [
       "                            Value\n",
       "Club                             \n",
       "Athletic Bilbao            2.8987\n",
       "Atlético Madrid          785.2500\n",
       "CA Osasuna                 5.2535\n",
       "CD Leganés                 1.7140\n",
       "Celta de Vigo              1.8219\n",
       "Deportivo Alavés           3.4075\n",
       "FC Barcelona            1060.6500\n",
       "Getafe CF                  3.0130\n",
       "Granada CF                 6.8630\n",
       "Levante UD                 2.2497\n",
       "RCD Espanyol Barcelona     3.5517\n",
       "RCD Mallorca               6.0315\n",
       "Real Betis Balompié        0.2632\n",
       "Real Madrid             1070.5500\n",
       "Real Sociedad              3.2456\n",
       "Real Valladolid CF         3.4999\n",
       "SD Eibar                   2.5798\n",
       "Sevilla FC                 0.4345\n",
       "Valencia CF              445.9500\n",
       "Villarreal CF              2.1683"
      ]
     },
     "execution_count": 190,
     "metadata": {},
     "output_type": "execute_result"
    }
   ],
   "source": [
    "player_value_df.groupby('Club').sum()"
   ]
  }
 ],
 "metadata": {
  "kernelspec": {
   "display_name": "Python 3",
   "language": "python",
   "name": "python3"
  },
  "language_info": {
   "codemirror_mode": {
    "name": "ipython",
    "version": 3
   },
   "file_extension": ".py",
   "mimetype": "text/x-python",
   "name": "python",
   "nbconvert_exporter": "python",
   "pygments_lexer": "ipython3",
   "version": "3.6.4"
  }
 },
 "nbformat": 4,
 "nbformat_minor": 2
}
