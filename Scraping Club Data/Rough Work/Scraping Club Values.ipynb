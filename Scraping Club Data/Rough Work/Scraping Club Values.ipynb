{
 "cells": [
  {
   "cell_type": "code",
   "execution_count": 1,
   "metadata": {},
   "outputs": [],
   "source": [
    "import numpy as np\n",
    "import pandas as pd\n",
    "from bs4 import BeautifulSoup\n",
    "import requests"
   ]
  },
  {
   "cell_type": "code",
   "execution_count": 5,
   "metadata": {},
   "outputs": [],
   "source": [
    "#Use Beautiful Soup to pull all contents of the web-page\n",
    "page = requests.get('https://en.wikipedia.org/wiki/Deloitte_Football_Money_League')\n",
    "soup = BeautifulSoup(page.content,'html.parser')"
   ]
  },
  {
   "cell_type": "code",
   "execution_count": 6,
   "metadata": {},
   "outputs": [],
   "source": [
    "#Find all tables in the page\n",
    "tables = soup.findAll(\"table\")"
   ]
  },
  {
   "cell_type": "code",
   "execution_count": null,
   "metadata": {},
   "outputs": [],
   "source": [
    "tables[0]"
   ]
  },
  {
   "cell_type": "code",
   "execution_count": 9,
   "metadata": {},
   "outputs": [],
   "source": [
    "header_rows = tables[0].find_all('th')"
   ]
  },
  {
   "cell_type": "code",
   "execution_count": 15,
   "metadata": {},
   "outputs": [
    {
     "name": "stdout",
     "output_type": "stream",
     "text": [
      "[<th style=\"width:65px;\">Ranking\n",
      "</th>, <th style=\"width:65px;\">Country\n",
      "</th>, <th style=\"width:65px;\">Number of Teams\n",
      "</th>, <th style=\"width:75px;\">Total Revenue (€ million)\n",
      "</th>]\n",
      "[<th scope=\"col\" width=\"60\">2019 <br/> Rank\n",
      "</th>, <th scope=\"col\" width=\"170\">Club\n",
      "</th>, <th scope=\"col\" width=\"90\">Revenue <br/>(<a href=\"/wiki/Euro\" title=\"Euro\">€</a> million)\n",
      "</th>, <th scope=\"col\" width=\"130\">Country\n",
      "</th>, <th scope=\"col\" width=\"60\">2018 <br/> Rank\n",
      "</th>, <th scope=\"col\" width=\"50\">Change\n",
      "</th>]\n",
      "[<th style=\"width:65px;\">Ranking\n",
      "</th>, <th style=\"width:65px;\">Country\n",
      "</th>, <th style=\"width:65px;\">Number of Teams\n",
      "</th>, <th style=\"width:75px;\">Total Revenue (€ million)\n",
      "</th>]\n",
      "[<th scope=\"col\" width=\"60\">2018 <br/> Rank\n",
      "</th>, <th scope=\"col\" width=\"170\">Club\n",
      "</th>, <th scope=\"col\" width=\"90\">Revenue <br/>(<a href=\"/wiki/Euro\" title=\"Euro\">€</a> million)\n",
      "</th>, <th scope=\"col\" width=\"130\">Country\n",
      "</th>, <th scope=\"col\" width=\"60\">2017 <br/> Rank\n",
      "</th>, <th scope=\"col\" width=\"50\">Change\n",
      "</th>]\n"
     ]
    }
   ],
   "source": [
    "header_rows[0].contents[0].rstrip()"
   ]
  },
  {
   "cell_type": "code",
   "execution_count": 50,
   "metadata": {},
   "outputs": [],
   "source": [
    "header_names=[]\n",
    "for i in range(0,len(header_rows)):\n",
    "    header_names.append(header_rows[i].contents[0].rstrip())"
   ]
  },
  {
   "cell_type": "code",
   "execution_count": 29,
   "metadata": {},
   "outputs": [],
   "source": []
  },
  {
   "cell_type": "code",
   "execution_count": 51,
   "metadata": {},
   "outputs": [
    {
     "data": {
      "text/plain": [
       "['Ranking', 'Country', 'Number of Teams', 'Total Revenue (€ million)']"
      ]
     },
     "execution_count": 51,
     "metadata": {},
     "output_type": "execute_result"
    }
   ],
   "source": [
    "header_names"
   ]
  },
  {
   "cell_type": "code",
   "execution_count": 31,
   "metadata": {},
   "outputs": [],
   "source": [
    "team_list = pd.DataFrame(columns=header_names)"
   ]
  },
  {
   "cell_type": "code",
   "execution_count": null,
   "metadata": {},
   "outputs": [],
   "source": []
  },
  {
   "cell_type": "code",
   "execution_count": 32,
   "metadata": {},
   "outputs": [
    {
     "data": {
      "text/html": [
       "<div>\n",
       "<style scoped>\n",
       "    .dataframe tbody tr th:only-of-type {\n",
       "        vertical-align: middle;\n",
       "    }\n",
       "\n",
       "    .dataframe tbody tr th {\n",
       "        vertical-align: top;\n",
       "    }\n",
       "\n",
       "    .dataframe thead th {\n",
       "        text-align: right;\n",
       "    }\n",
       "</style>\n",
       "<table border=\"1\" class=\"dataframe\">\n",
       "  <thead>\n",
       "    <tr style=\"text-align: right;\">\n",
       "      <th></th>\n",
       "      <th>Ranking</th>\n",
       "      <th>Country</th>\n",
       "      <th>Number of Teams</th>\n",
       "      <th>Total Revenue</th>\n",
       "    </tr>\n",
       "  </thead>\n",
       "  <tbody>\n",
       "  </tbody>\n",
       "</table>\n",
       "</div>"
      ],
      "text/plain": [
       "Empty DataFrame\n",
       "Columns: [Ranking, Country, Number of Teams, Total Revenue]\n",
       "Index: []"
      ]
     },
     "execution_count": 32,
     "metadata": {},
     "output_type": "execute_result"
    }
   ],
   "source": [
    "team_list"
   ]
  },
  {
   "cell_type": "code",
   "execution_count": 67,
   "metadata": {},
   "outputs": [
    {
     "data": {
      "text/plain": [
       "'1'"
      ]
     },
     "execution_count": 67,
     "metadata": {},
     "output_type": "execute_result"
    }
   ],
   "source": [
    "tables[0].find_all('tr')[1].contents[1].contents[0].rstrip()"
   ]
  },
  {
   "cell_type": "code",
   "execution_count": 72,
   "metadata": {},
   "outputs": [
    {
     "data": {
      "text/plain": [
       "'England'"
      ]
     },
     "execution_count": 72,
     "metadata": {},
     "output_type": "execute_result"
    }
   ],
   "source": [
    "tables[0].find_all('tr')[1].contents[3].findAll('a')[0]['title']"
   ]
  },
  {
   "cell_type": "code",
   "execution_count": 74,
   "metadata": {},
   "outputs": [
    {
     "data": {
      "text/plain": [
       "'13'"
      ]
     },
     "execution_count": 74,
     "metadata": {},
     "output_type": "execute_result"
    }
   ],
   "source": [
    "tables[0].find_all('tr')[1].contents[5].contents[0].rstrip()"
   ]
  },
  {
   "cell_type": "code",
   "execution_count": 76,
   "metadata": {},
   "outputs": [
    {
     "data": {
      "text/plain": [
       "'4411.4'"
      ]
     },
     "execution_count": 76,
     "metadata": {},
     "output_type": "execute_result"
    }
   ],
   "source": [
    "tables[0].find_all('tr')[1].contents[7].contents[0].rstrip()"
   ]
  },
  {
   "cell_type": "code",
   "execution_count": 77,
   "metadata": {},
   "outputs": [
    {
     "data": {
      "text/plain": [
       "'1316.2'"
      ]
     },
     "execution_count": 77,
     "metadata": {},
     "output_type": "execute_result"
    }
   ],
   "source": [
    "tables[0].find_all('tr')[2].contents[7].contents[0].rstrip()"
   ]
  },
  {
   "cell_type": "code",
   "execution_count": 49,
   "metadata": {},
   "outputs": [
    {
     "data": {
      "text/plain": [
       "'13'"
      ]
     },
     "execution_count": 49,
     "metadata": {},
     "output_type": "execute_result"
    }
   ],
   "source": [
    "tables[0].find_all('td')[2].contents[0].rstrip()"
   ]
  },
  {
   "cell_type": "code",
   "execution_count": 54,
   "metadata": {},
   "outputs": [
    {
     "data": {
      "text/plain": [
       "'4411.4'"
      ]
     },
     "execution_count": 54,
     "metadata": {},
     "output_type": "execute_result"
    }
   ],
   "source": [
    "tables[0].find_all('td')[3].contents[0].rstrip()"
   ]
  },
  {
   "cell_type": "code",
   "execution_count": 55,
   "metadata": {},
   "outputs": [],
   "source": [
    "clubs_data = tables[0].find_all('td')"
   ]
  },
  {
   "cell_type": "code",
   "execution_count": 96,
   "metadata": {},
   "outputs": [
    {
     "data": {
      "text/plain": [
       "'Turkey'"
      ]
     },
     "execution_count": 96,
     "metadata": {},
     "output_type": "execute_result"
    }
   ],
   "source": [
    "tables[0].find_all('tr')[7].contents[1].findAll('a')[0]['title']"
   ]
  },
  {
   "cell_type": "code",
   "execution_count": 101,
   "metadata": {},
   "outputs": [],
   "source": [
    "team_list=[]\n",
    "for i in range(1,len(tables[0].find_all('tr'))):\n",
    "    if (i<=6):\n",
    "        rank = (tables[0].find_all('tr')[i].contents[1].contents[0].rstrip())\n",
    "        league = (tables[0].find_all('tr')[i].contents[3].findAll('a')[0]['title'])\n",
    "        number_of_teams = (tables[0].find_all('tr')[i].contents[5].contents[0].rstrip())\n",
    "        total_revenue = (tables[0].find_all('tr')[i].contents[7].contents[0].rstrip())\n",
    "        temp_list = [rank,league,number_of_teams,total_revenue]\n",
    "        team_list.append(temp_list)\n",
    "    else:\n",
    "        rank = 6\n",
    "        league = (tables[0].find_all('tr')[i].contents[1].findAll('a')[0]['title'])\n",
    "        number_of_teams = (tables[0].find_all('tr')[i].contents[3].contents[0].rstrip())\n",
    "        total_revenue = (tables[0].find_all('tr')[i].contents[5].contents[0].rstrip())\n",
    "        temp_list = [rank,league,number_of_teams,total_revenue]\n",
    "        team_list.append(temp_list)"
   ]
  },
  {
   "cell_type": "code",
   "execution_count": 102,
   "metadata": {},
   "outputs": [
    {
     "data": {
      "text/plain": [
       "[['1', 'England', '13', '4411.4'],\n",
       " ['2', 'Italy', '5', '1316.2'],\n",
       " ['3', 'Spain', '4', '1910.9'],\n",
       " ['4', 'Germany', '3', '1190.2'],\n",
       " ['5', 'France', '2', '705.9'],\n",
       " ['6', 'Russia', '1', '167.8'],\n",
       " [6, 'Turkey', '1', '165.7'],\n",
       " [6, 'Portugal', '1', '150.7']]"
      ]
     },
     "execution_count": 102,
     "metadata": {},
     "output_type": "execute_result"
    }
   ],
   "source": [
    "team_list"
   ]
  },
  {
   "cell_type": "code",
   "execution_count": 103,
   "metadata": {},
   "outputs": [],
   "source": [
    "team_df = pd.DataFrame.from_records(team_list,columns=header_names)"
   ]
  },
  {
   "cell_type": "code",
   "execution_count": 104,
   "metadata": {},
   "outputs": [
    {
     "data": {
      "text/html": [
       "<div>\n",
       "<style scoped>\n",
       "    .dataframe tbody tr th:only-of-type {\n",
       "        vertical-align: middle;\n",
       "    }\n",
       "\n",
       "    .dataframe tbody tr th {\n",
       "        vertical-align: top;\n",
       "    }\n",
       "\n",
       "    .dataframe thead th {\n",
       "        text-align: right;\n",
       "    }\n",
       "</style>\n",
       "<table border=\"1\" class=\"dataframe\">\n",
       "  <thead>\n",
       "    <tr style=\"text-align: right;\">\n",
       "      <th></th>\n",
       "      <th>Ranking</th>\n",
       "      <th>Country</th>\n",
       "      <th>Number of Teams</th>\n",
       "      <th>Total Revenue (€ million)</th>\n",
       "    </tr>\n",
       "  </thead>\n",
       "  <tbody>\n",
       "    <tr>\n",
       "      <th>0</th>\n",
       "      <td>1</td>\n",
       "      <td>England</td>\n",
       "      <td>13</td>\n",
       "      <td>4411.4</td>\n",
       "    </tr>\n",
       "    <tr>\n",
       "      <th>1</th>\n",
       "      <td>2</td>\n",
       "      <td>Italy</td>\n",
       "      <td>5</td>\n",
       "      <td>1316.2</td>\n",
       "    </tr>\n",
       "    <tr>\n",
       "      <th>2</th>\n",
       "      <td>3</td>\n",
       "      <td>Spain</td>\n",
       "      <td>4</td>\n",
       "      <td>1910.9</td>\n",
       "    </tr>\n",
       "    <tr>\n",
       "      <th>3</th>\n",
       "      <td>4</td>\n",
       "      <td>Germany</td>\n",
       "      <td>3</td>\n",
       "      <td>1190.2</td>\n",
       "    </tr>\n",
       "    <tr>\n",
       "      <th>4</th>\n",
       "      <td>5</td>\n",
       "      <td>France</td>\n",
       "      <td>2</td>\n",
       "      <td>705.9</td>\n",
       "    </tr>\n",
       "    <tr>\n",
       "      <th>5</th>\n",
       "      <td>6</td>\n",
       "      <td>Russia</td>\n",
       "      <td>1</td>\n",
       "      <td>167.8</td>\n",
       "    </tr>\n",
       "    <tr>\n",
       "      <th>6</th>\n",
       "      <td>6</td>\n",
       "      <td>Turkey</td>\n",
       "      <td>1</td>\n",
       "      <td>165.7</td>\n",
       "    </tr>\n",
       "    <tr>\n",
       "      <th>7</th>\n",
       "      <td>6</td>\n",
       "      <td>Portugal</td>\n",
       "      <td>1</td>\n",
       "      <td>150.7</td>\n",
       "    </tr>\n",
       "  </tbody>\n",
       "</table>\n",
       "</div>"
      ],
      "text/plain": [
       "  Ranking   Country Number of Teams Total Revenue (€ million)\n",
       "0       1   England              13                    4411.4\n",
       "1       2     Italy               5                    1316.2\n",
       "2       3     Spain               4                    1910.9\n",
       "3       4   Germany               3                    1190.2\n",
       "4       5    France               2                     705.9\n",
       "5       6    Russia               1                     167.8\n",
       "6       6    Turkey               1                     165.7\n",
       "7       6  Portugal               1                     150.7"
      ]
     },
     "execution_count": 104,
     "metadata": {},
     "output_type": "execute_result"
    }
   ],
   "source": [
    "team_df"
   ]
  }
 ],
 "metadata": {
  "kernelspec": {
   "display_name": "Python 3",
   "language": "python",
   "name": "python3"
  },
  "language_info": {
   "codemirror_mode": {
    "name": "ipython",
    "version": 3
   },
   "file_extension": ".py",
   "mimetype": "text/x-python",
   "name": "python",
   "nbconvert_exporter": "python",
   "pygments_lexer": "ipython3",
   "version": "3.7.4"
  }
 },
 "nbformat": 4,
 "nbformat_minor": 2
}
