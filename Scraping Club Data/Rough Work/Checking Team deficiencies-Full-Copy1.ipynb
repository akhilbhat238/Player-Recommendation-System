{
 "cells": [
  {
   "cell_type": "code",
   "execution_count": 2,
   "metadata": {},
   "outputs": [],
   "source": [
    "import pandas as pd\n",
    "import numpy as np\n",
    "import matplotlib.pyplot as plt"
   ]
  },
  {
   "cell_type": "code",
   "execution_count": 3,
   "metadata": {},
   "outputs": [],
   "source": [
    "player_data = pd.read_csv('..\\\\Consolidated Data\\\\Player_Attribute_Data.csv')\n",
    "team_rankings = pd.read_csv('..\\\\Consolidated Data\\\\Team Rankings_corrected.csv')"
   ]
  },
  {
   "cell_type": "code",
   "execution_count": 4,
   "metadata": {},
   "outputs": [],
   "source": [
    "team_rankings=team_rankings.drop(['Unnamed: 0'],axis=1)"
   ]
  },
  {
   "cell_type": "code",
   "execution_count": 5,
   "metadata": {},
   "outputs": [],
   "source": [
    "player_df = player_data[['sofifa_id','club', 'overall','position', 'section', 'role']]"
   ]
  },
  {
   "cell_type": "code",
   "execution_count": 6,
   "metadata": {},
   "outputs": [
    {
     "data": {
      "text/plain": [
       "array(['Attack', 'Defend', 'Support'], dtype=object)"
      ]
     },
     "execution_count": 6,
     "metadata": {},
     "output_type": "execute_result"
    }
   ],
   "source": [
    "player_df['role'].unique()"
   ]
  },
  {
   "cell_type": "code",
   "execution_count": 7,
   "metadata": {},
   "outputs": [],
   "source": [
    "combo_df = pd.merge(player_df,team_rankings,how='inner',left_on='club',right_on='Team')"
   ]
  },
  {
   "cell_type": "code",
   "execution_count": 8,
   "metadata": {},
   "outputs": [],
   "source": [
    "combo_df=combo_df.drop(['sofifa_id','club','Team'],axis=1)"
   ]
  },
  {
   "cell_type": "code",
   "execution_count": 9,
   "metadata": {},
   "outputs": [],
   "source": [
    "role_df = combo_df.groupby(['role','Tier']).mean()"
   ]
  },
  {
   "cell_type": "code",
   "execution_count": 10,
   "metadata": {},
   "outputs": [],
   "source": [
    "role_df.reset_index(inplace = True)"
   ]
  },
  {
   "cell_type": "code",
   "execution_count": 11,
   "metadata": {},
   "outputs": [],
   "source": [
    "def club_level(club):\n",
    "    club_tier = (team_rankings[team_rankings['Team'] == club]['Tier']).values[0]\n",
    "    club_df = player_data[player_data['club']==club][['overall','section','role']]\n",
    "    club_df = club_df.groupby(['role']).mean()\n",
    "    club_df = club_df.reset_index()\n",
    "    upper_tier_df = role_df[role_df['Tier']==(club_tier-1)]\n",
    "    upper_tier_df = upper_tier_df.reset_index()\n",
    "    upper_tier_df = upper_tier_df.drop(['index','Tier'],axis=1)\n",
    "    combo_df = pd.merge(upper_tier_df,club_df,how='inner',on='role')\n",
    "    combo_df.columns = ['Role','Upper_Tier_Rating','Club_Rating']\n",
    "    combo_df['Rating_Gap'] = combo_df['Upper_Tier_Rating'] - combo_df['Club_Rating']\n",
    "#     return combo_df\n",
    "    role_focus = combo_df[combo_df['Rating_Gap']==combo_df['Rating_Gap'].values.max()]['Role'].values[0]\n",
    "    return role_focus"
   ]
  },
  {
   "cell_type": "code",
   "execution_count": 12,
   "metadata": {},
   "outputs": [],
   "source": [
    "x= club_level('Liverpool')"
   ]
  },
  {
   "cell_type": "code",
   "execution_count": 13,
   "metadata": {},
   "outputs": [
    {
     "name": "stdout",
     "output_type": "stream",
     "text": [
      "Support\n"
     ]
    }
   ],
   "source": [
    "print(x)"
   ]
  },
  {
   "cell_type": "code",
   "execution_count": 14,
   "metadata": {},
   "outputs": [],
   "source": [
    "player_df = player_data[['sofifa_id','short_name','long_name','club', 'overall','position', 'section', 'role']]"
   ]
  },
  {
   "cell_type": "code",
   "execution_count": 15,
   "metadata": {},
   "outputs": [
    {
     "data": {
      "text/html": [
       "<div>\n",
       "<style scoped>\n",
       "    .dataframe tbody tr th:only-of-type {\n",
       "        vertical-align: middle;\n",
       "    }\n",
       "\n",
       "    .dataframe tbody tr th {\n",
       "        vertical-align: top;\n",
       "    }\n",
       "\n",
       "    .dataframe thead th {\n",
       "        text-align: right;\n",
       "    }\n",
       "</style>\n",
       "<table border=\"1\" class=\"dataframe\">\n",
       "  <thead>\n",
       "    <tr style=\"text-align: right;\">\n",
       "      <th></th>\n",
       "      <th>sofifa_id</th>\n",
       "      <th>short_name</th>\n",
       "      <th>long_name</th>\n",
       "      <th>club</th>\n",
       "      <th>overall</th>\n",
       "      <th>position</th>\n",
       "      <th>section</th>\n",
       "      <th>role</th>\n",
       "    </tr>\n",
       "  </thead>\n",
       "  <tbody>\n",
       "    <tr>\n",
       "      <th>8</th>\n",
       "      <td>177003</td>\n",
       "      <td>L. Modrić</td>\n",
       "      <td>Luka Modrić</td>\n",
       "      <td>Real Madrid</td>\n",
       "      <td>90</td>\n",
       "      <td>CM</td>\n",
       "      <td>Midfield</td>\n",
       "      <td>Support</td>\n",
       "    </tr>\n",
       "    <tr>\n",
       "      <th>24</th>\n",
       "      <td>195864</td>\n",
       "      <td>P. Pogba</td>\n",
       "      <td>Paul Pogba</td>\n",
       "      <td>Manchester United</td>\n",
       "      <td>88</td>\n",
       "      <td>CM</td>\n",
       "      <td>Midfield</td>\n",
       "      <td>Support</td>\n",
       "    </tr>\n",
       "    <tr>\n",
       "      <th>36</th>\n",
       "      <td>182521</td>\n",
       "      <td>T. Kroos</td>\n",
       "      <td>Toni Kroos</td>\n",
       "      <td>Real Madrid</td>\n",
       "      <td>88</td>\n",
       "      <td>CM</td>\n",
       "      <td>Midfield</td>\n",
       "      <td>Support</td>\n",
       "    </tr>\n",
       "    <tr>\n",
       "      <th>52</th>\n",
       "      <td>189509</td>\n",
       "      <td>Thiago</td>\n",
       "      <td>Thiago Alcântara do Nascimento</td>\n",
       "      <td>FC Bayern München</td>\n",
       "      <td>87</td>\n",
       "      <td>CM</td>\n",
       "      <td>Midfield</td>\n",
       "      <td>Support</td>\n",
       "    </tr>\n",
       "    <tr>\n",
       "      <th>58</th>\n",
       "      <td>199556</td>\n",
       "      <td>M. Verratti</td>\n",
       "      <td>Marco Verratti</td>\n",
       "      <td>Paris Saint-Germain</td>\n",
       "      <td>86</td>\n",
       "      <td>CM</td>\n",
       "      <td>Midfield</td>\n",
       "      <td>Support</td>\n",
       "    </tr>\n",
       "  </tbody>\n",
       "</table>\n",
       "</div>"
      ],
      "text/plain": [
       "    sofifa_id   short_name                       long_name  \\\n",
       "8      177003    L. Modrić                     Luka Modrić   \n",
       "24     195864     P. Pogba                      Paul Pogba   \n",
       "36     182521     T. Kroos                      Toni Kroos   \n",
       "52     189509       Thiago  Thiago Alcântara do Nascimento   \n",
       "58     199556  M. Verratti                  Marco Verratti   \n",
       "\n",
       "                   club  overall position   section     role  \n",
       "8           Real Madrid       90       CM  Midfield  Support  \n",
       "24    Manchester United       88       CM  Midfield  Support  \n",
       "36          Real Madrid       88       CM  Midfield  Support  \n",
       "52    FC Bayern München       87       CM  Midfield  Support  \n",
       "58  Paris Saint-Germain       86       CM  Midfield  Support  "
      ]
     },
     "execution_count": 15,
     "metadata": {},
     "output_type": "execute_result"
    }
   ],
   "source": [
    "player_df[player_df['role']=='Support'].head()"
   ]
  },
  {
   "cell_type": "code",
   "execution_count": null,
   "metadata": {},
   "outputs": [],
   "source": []
  }
 ],
 "metadata": {
  "kernelspec": {
   "display_name": "Python 3",
   "language": "python",
   "name": "python3"
  },
  "language_info": {
   "codemirror_mode": {
    "name": "ipython",
    "version": 3
   },
   "file_extension": ".py",
   "mimetype": "text/x-python",
   "name": "python",
   "nbconvert_exporter": "python",
   "pygments_lexer": "ipython3",
   "version": "3.7.4"
  }
 },
 "nbformat": 4,
 "nbformat_minor": 2
}
