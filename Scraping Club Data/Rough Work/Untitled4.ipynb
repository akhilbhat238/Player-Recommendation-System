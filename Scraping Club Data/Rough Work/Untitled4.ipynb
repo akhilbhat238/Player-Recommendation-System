{
 "cells": [
  {
   "cell_type": "code",
   "execution_count": 1,
   "metadata": {},
   "outputs": [],
   "source": [
    "import numpy as np\n",
    "import pandas as pd\n",
    "from bs4 import BeautifulSoup\n",
    "import requests"
   ]
  },
  {
   "cell_type": "code",
   "execution_count": null,
   "metadata": {},
   "outputs": [],
   "source": []
  },
  {
   "cell_type": "code",
   "execution_count": 2,
   "metadata": {},
   "outputs": [],
   "source": [
    "page = requests.get('https://en.wikipedia.org/wiki/European_Cup_and_UEFA_Champions_League_records_and_statistics')\n",
    "soup = BeautifulSoup(page.content,'html.parser')"
   ]
  },
  {
   "cell_type": "code",
   "execution_count": 3,
   "metadata": {},
   "outputs": [],
   "source": [
    "tables = soup.findAll(\"table\")"
   ]
  },
  {
   "cell_type": "code",
   "execution_count": 6,
   "metadata": {},
   "outputs": [
    {
     "data": {
      "text/plain": [
       "<th align=\"left\" scope=\"row\"><span class=\"flagicon\"><a href=\"/wiki/Spain\" title=\"Spain\"><img alt=\"Spain\" class=\"thumbborder\" data-file-height=\"500\" data-file-width=\"750\" decoding=\"async\" height=\"15\" src=\"//upload.wikimedia.org/wikipedia/en/thumb/9/9a/Flag_of_Spain.svg/23px-Flag_of_Spain.svg.png\" srcset=\"//upload.wikimedia.org/wikipedia/en/thumb/9/9a/Flag_of_Spain.svg/35px-Flag_of_Spain.svg.png 1.5x, //upload.wikimedia.org/wikipedia/en/thumb/9/9a/Flag_of_Spain.svg/45px-Flag_of_Spain.svg.png 2x\" width=\"23\"/></a></span> <a href=\"/wiki/Real_Madrid_CF\" title=\"Real Madrid CF\">Real Madrid</a>\n",
       "</th>"
      ]
     },
     "execution_count": 6,
     "metadata": {},
     "output_type": "execute_result"
    }
   ],
   "source": [
    "tables[0].find_all('th')[5]"
   ]
  },
  {
   "cell_type": "code",
   "execution_count": 14,
   "metadata": {},
   "outputs": [
    {
     "data": {
      "text/plain": [
       "'Real Madrid'"
      ]
     },
     "execution_count": 14,
     "metadata": {},
     "output_type": "execute_result"
    }
   ],
   "source": [
    "tables[0].find_all('th')[5].contents[2].contents[0]"
   ]
  },
  {
   "cell_type": "code",
   "execution_count": 10,
   "metadata": {},
   "outputs": [
    {
     "data": {
      "text/plain": [
       "'/wiki/Real_Madrid_CF'"
      ]
     },
     "execution_count": 10,
     "metadata": {},
     "output_type": "execute_result"
    }
   ],
   "source": [
    "tables[0].find_all('th')[5].find_all('a')[1].get('href')"
   ]
  },
  {
   "cell_type": "code",
   "execution_count": 51,
   "metadata": {},
   "outputs": [],
   "source": [
    "def get_league(temp_link):\n",
    "    print(temp_link)\n",
    "    club_link = 'https://en.wikipedia.org/' + temp_link\n",
    "    club_page = requests.get(club_link)\n",
    "    club_soup = BeautifulSoup(club_page.content,'html.parser')\n",
    "    info_table = club_soup.find('table',attrs={\"class\":\"infobox vcard\"})\n",
    "    info_table_rows = info_table.find_all('tr')\n",
    "    try:\n",
    "        for j in range(0,12):\n",
    "            if(info_table_rows[j].contents[0].contents[0]=='League'):\n",
    "                league_name=(info_table_rows[j].contents[1].contents[0].get('title'))\n",
    "                break\n",
    "    except IndexError:\n",
    "        league_name = 'Unavailable'\n",
    "    return(league_name)\n",
    "    "
   ]
  },
  {
   "cell_type": "code",
   "execution_count": 52,
   "metadata": {},
   "outputs": [
    {
     "name": "stdout",
     "output_type": "stream",
     "text": [
      "wiki/Real_Madrid_CF\n"
     ]
    },
    {
     "data": {
      "text/plain": [
       "'La Liga'"
      ]
     },
     "execution_count": 52,
     "metadata": {},
     "output_type": "execute_result"
    }
   ],
   "source": [
    "get_league('wiki/Real_Madrid_CF')"
   ]
  },
  {
   "cell_type": "code",
   "execution_count": 45,
   "metadata": {},
   "outputs": [
    {
     "name": "stdout",
     "output_type": "stream",
     "text": [
      "1\n",
      "Real Madrid\n",
      "https://en.wikipedia.org/wiki/Real_Madrid_CF\n",
      "La Liga\n",
      "2\n",
      "Milan\n",
      "https://en.wikipedia.org/wiki/A.C._Milan\n",
      "Serie A\n",
      "3\n",
      "Liverpool\n",
      "https://en.wikipedia.org/wiki/Liverpool_F.C.\n",
      "Premier League\n",
      "4\n",
      "Bayern Munich\n",
      "https://en.wikipedia.org/wiki/FC_Bayern_Munich\n",
      "Bundesliga\n",
      "5\n",
      "Barcelona\n",
      "https://en.wikipedia.org/wiki/FC_Barcelona\n",
      "La Liga\n",
      "6\n",
      "Ajax\n",
      "https://en.wikipedia.org/wiki/AFC_Ajax\n",
      "Eredivisie\n",
      "7\n",
      "Internazionale\n",
      "https://en.wikipedia.org/wiki/Inter_Milan\n",
      "Serie A\n",
      "8\n",
      "Manchester United\n",
      "https://en.wikipedia.org/wiki/Manchester_United_F.C.\n",
      "Premier League\n",
      "9\n",
      "Juventus\n",
      "https://en.wikipedia.org/wiki/Juventus_F.C.\n",
      "Serie A\n",
      "10\n",
      "Benfica\n",
      "https://en.wikipedia.org/wiki/S.L._Benfica\n",
      "Primeira Liga\n",
      "11\n",
      "Nottingham Forest\n",
      "https://en.wikipedia.org/wiki/Nottingham_Forest_F.C.\n",
      "EFL Championship\n",
      "12\n",
      "Porto\n",
      "https://en.wikipedia.org/wiki/FC_Porto\n",
      "Primeira Liga\n",
      "13\n",
      "Celtic\n",
      "https://en.wikipedia.org/wiki/Celtic_F.C.\n",
      "Scottish Premiership\n",
      "14\n",
      "Hamburger SV\n",
      "https://en.wikipedia.org/wiki/Hamburger_SV\n",
      "2. Bundesliga\n",
      "15\n",
      "Steaua București\n",
      "https://en.wikipedia.org/wiki/FCSB\n",
      "Liga I\n",
      "16\n",
      "Marseille\n",
      "https://en.wikipedia.org/wiki/Olympique_de_Marseille\n",
      "Ligue 1\n",
      "17\n",
      "Borussia Dortmund\n",
      "https://en.wikipedia.org/wiki/Borussia_Dortmund\n",
      "Bundesliga\n",
      "18\n",
      "Chelsea\n",
      "https://en.wikipedia.org/wiki/Chelsea_F.C.\n",
      "Premier League\n",
      "19\n",
      "Feyenoord\n",
      "https://en.wikipedia.org/wiki/Feyenoord\n",
      "Eredivisie\n",
      "20\n",
      "Aston Villa\n",
      "https://en.wikipedia.org/wiki/Aston_Villa_F.C.\n",
      "Premier League\n",
      "21\n",
      "PSV Eindhoven\n",
      "https://en.wikipedia.org/wiki/PSV_Eindhoven\n",
      "Eredivisie\n",
      "22\n",
      "Red Star Belgrade\n",
      "https://en.wikipedia.org/wiki/Red_Star_Belgrade\n",
      "Serbian SuperLiga\n",
      "23\n",
      "Atlético Madrid\n",
      "https://en.wikipedia.org/wiki/Atl%C3%A9tico_Madrid\n",
      "La Liga\n",
      "24\n",
      "Reims\n",
      "https://en.wikipedia.org/wiki/Stade_de_Reims\n",
      "Ligue 1\n",
      "25\n",
      "Valencia\n",
      "https://en.wikipedia.org/wiki/Valencia_CF\n",
      "La Liga\n",
      "26\n",
      "Fiorentina\n",
      "https://en.wikipedia.org/wiki/ACF_Fiorentina\n",
      "Serie A\n",
      "27\n",
      "Eintracht Frankfurt\n",
      "https://en.wikipedia.org/wiki/Eintracht_Frankfurt\n",
      "Bundesliga\n",
      "28\n",
      "Partizan\n",
      "https://en.wikipedia.org/wiki/FK_Partizan\n",
      "Serbian SuperLiga\n",
      "29\n",
      "Panathinaikos\n",
      "https://en.wikipedia.org/wiki/Panathinaikos_F.C.\n",
      "Super League Greece\n",
      "30\n",
      "Leeds United\n",
      "https://en.wikipedia.org/wiki/Leeds_United_F.C.\n",
      "EFL Championship\n",
      "31\n",
      "Saint-Étienne\n",
      "https://en.wikipedia.org/wiki/AS_Saint-%C3%89tienne\n",
      "Ligue 1\n",
      "32\n",
      "Borussia Mönchengladbach\n",
      "https://en.wikipedia.org/wiki/Borussia_M%C3%B6nchengladbach\n",
      "Bundesliga\n",
      "33\n",
      "Club Brugge\n",
      "https://en.wikipedia.org/wiki/Club_Brugge_K.V.\n",
      "Belgian First Division A\n",
      "34\n",
      "Malmö FF\n",
      "https://en.wikipedia.org/wiki/Malm%C3%B6_FF\n",
      "Allsvenskan\n",
      "35\n",
      "Roma\n",
      "https://en.wikipedia.org/wiki/A.S._Roma\n",
      "Serie A\n",
      "36\n",
      "Sampdoria\n",
      "https://en.wikipedia.org/wiki/U.C._Sampdoria\n",
      "Serie A\n",
      "37\n",
      "Bayer Leverkusen\n",
      "https://en.wikipedia.org/wiki/Bayer_04_Leverkusen\n",
      "Bundesliga\n",
      "38\n",
      "Monaco\n",
      "https://en.wikipedia.org/wiki/AS_Monaco_FC\n",
      "Ligue 1\n",
      "39\n",
      "Arsenal\n",
      "https://en.wikipedia.org/wiki/Arsenal_F.C.\n",
      "Premier League\n",
      "40\n",
      "Tottenham Hotspur\n",
      "https://en.wikipedia.org/wiki/Tottenham_Hotspur_F.C.\n",
      "Premier League\n"
     ]
    }
   ],
   "source": [
    "rows = tables[0].findAll(\"tr\")\n",
    "for club in range(1,len(rows)):\n",
    "    club_name = rows[club].contents[1].contents[2].contents[0]\n",
    "    temp_link = rows[club].contents[1].contents[2].get('href')\n",
    "    club_link = 'https://en.wikipedia.org' + temp_link\n",
    "    print(club)\n",
    "    print(club_name)\n",
    "    print(club_link)\n",
    "    club_page = requests.get(club_link)\n",
    "    club_soup = BeautifulSoup(club_page.content,'html.parser')\n",
    "    info_table = club_soup.find('table',attrs={\"class\":\"infobox vcard\"})\n",
    "    info_table_rows = info_table.find_all('tr')\n",
    "#     print(info_table_rows)\n",
    "    try:\n",
    "        for j in range(0,12):\n",
    "            if(info_table_rows[j].contents[0].contents[0]=='League'):\n",
    "                league_name=(info_table_rows[j].contents[1].contents[0].get('title'))\n",
    "                break\n",
    "    except IndexError:\n",
    "        league_name = 'Unavailable'\n",
    "        continue\n",
    "    print(league_name)"
   ]
  },
  {
   "cell_type": "code",
   "execution_count": 44,
   "metadata": {},
   "outputs": [
    {
     "name": "stdout",
     "output_type": "stream",
     "text": [
      "1\n",
      "Real Madrid\n",
      "https://en.wikipedia.org/wiki/Real_Madrid_CF\n",
      "x\n",
      "La Liga\n"
     ]
    }
   ],
   "source": [
    "club = 1\n",
    "club_name = rows[club].contents[1].contents[2].contents[0]\n",
    "temp_link = rows[club].contents[1].contents[2].get('href')\n",
    "club_link = 'https://en.wikipedia.org' + temp_link\n",
    "print(club)\n",
    "print(club_name)\n",
    "print(club_link)\n",
    "club_page = requests.get(club_link)\n",
    "club_soup = BeautifulSoup(club_page.content,'html.parser')\n",
    "info_table = club_soup.find('table',attrs={\"class\":\"infobox vcard\"})\n",
    "info_table_rows = info_table.find_all('tr')\n",
    "try:\n",
    "    for j in range(0,12):\n",
    "        if(info_table_rows[j].contents[0].contents[0]=='League'):\n",
    "            print('x')\n",
    "            league_name=(info_table_rows[j].contents[1].contents[0].get('title'))\n",
    "            break\n",
    "except IndexError:\n",
    "    print('y')\n",
    "    league_name = 'Unavailable'\n",
    "print(league_name)"
   ]
  },
  {
   "cell_type": "code",
   "execution_count": null,
   "metadata": {},
   "outputs": [],
   "source": [
    "try:\n",
    "    for j in range(0,12):\n",
    "        print(info_table_rows[j].contents[0].contents[0])\n",
    "        if(info_table_rows[j].contents[0].contents[0]=='League'):\n",
    "            print('x')\n",
    "            league_name=(info_table_rows[j].contents[1].contents[0].get('title'))\n",
    "except IndexError:\n",
    "    print('y')\n",
    "    league_name = 'Unavailable'\n",
    "print(league_name)"
   ]
  }
 ],
 "metadata": {
  "kernelspec": {
   "display_name": "Python 3",
   "language": "python",
   "name": "python3"
  },
  "language_info": {
   "codemirror_mode": {
    "name": "ipython",
    "version": 3
   },
   "file_extension": ".py",
   "mimetype": "text/x-python",
   "name": "python",
   "nbconvert_exporter": "python",
   "pygments_lexer": "ipython3",
   "version": "3.6.4"
  }
 },
 "nbformat": 4,
 "nbformat_minor": 2
}
