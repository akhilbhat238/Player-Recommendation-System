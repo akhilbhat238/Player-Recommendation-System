{
 "cells": [
  {
   "cell_type": "code",
   "execution_count": 11,
   "metadata": {},
   "outputs": [],
   "source": [
    "import numpy as np\n",
    "import pandas as pd\n",
    "from bs4 import BeautifulSoup\n",
    "import requests"
   ]
  },
  {
   "cell_type": "code",
   "execution_count": null,
   "metadata": {},
   "outputs": [],
   "source": [
    "league_key = {'English Premiership':'https://www.transfermarkt.com/premier-league/tabelle/wettbewerb/GB1/saison_id/',\n",
    "             'La Liga':'https://www.transfermarkt.com/primera-division/tabelle/wettbewerb/ES1/saison_id/',\n",
    "             'Bundesliga':'https://www.transfermarkt.com/1-bundesliga/tabelle/wettbewerb/L1?saison_id=',\n",
    "             'Serie A':'https://www.transfermarkt.com/serie-a/tabelle/wettbewerb/IT1/saison_id/',\n",
    "             'Ligue 1':'https://www.transfermarkt.com/ligue-1/tabelle/wettbewerb/FR1/saison_id/',\n",
    "             'Eredivise':'https://www.transfermarkt.com/eredivisie/tabelle/wettbewerb/NL1/saison_id/',\n",
    "             'Premiera Liga':'https://www.transfermarkt.com/premier-liga/tabelle/wettbewerb/UKR1/saison_id/',\n",
    "             'Super Lig':'https://www.transfermarkt.com/super-lig/tabelle/wettbewerb/TR1?saison_id=',\n",
    "             'Scottish Championship':'https://www.transfermarkt.com/championship/tabelle/wettbewerb/GB2/saison_id/',\n",
    "             'English Championship':'https://www.transfermarkt.com/championship/tabelle/wettbewerb/GB2/saison_id/'}"
   ]
  },
  {
   "cell_type": "code",
   "execution_count": 13,
   "metadata": {},
   "outputs": [
    {
     "name": "stdout",
     "output_type": "stream",
     "text": [
      "<Response [404]>\n",
      "<html>\n",
      "<head><title>404 Not Found</title></head>\n",
      "<body bgcolor=\"white\">\n",
      "<center><h1>404 Not Found</h1></center>\n",
      "<hr/><center>nginx</center>\n",
      "</body>\n",
      "</html>\n",
      "\n",
      "[]\n"
     ]
    }
   ],
   "source": [
    "page = requests.get('https://www.transfermarkt.com/championship/tabelle/wettbewerb/GB2?saison_id=2018')\n",
    "soup = BeautifulSoup(page.content,'html.parser')\n",
    "print(page)\n",
    "soup = BeautifulSoup(page.content,'html.parser')\n",
    "print(soup)\n",
    "#Find all tables in the page\n",
    "tables = soup.findAll(\"table\")\n",
    "\n",
    "#Selecting the correct table to pull data from\n",
    "print(tables)\n",
    "\n"
   ]
  },
  {
   "cell_type": "code",
   "execution_count": null,
   "metadata": {},
   "outputs": [],
   "source": [
    "table_to_use"
   ]
  },
  {
   "cell_type": "code",
   "execution_count": null,
   "metadata": {},
   "outputs": [],
   "source": [
    "#Extracting the header details\n",
    "table_header = table_to_use.find_all('th')\n",
    "header_list = []\n",
    "for i in table_header:\n",
    "    header_list.append(i.contents[0])\n",
    "\n",
    "#Extracting table contents and cleaning data\n",
    "table_data = table_to_use.find_all('td')\n",
    "\n",
    "#Cleaning the table by removing tags\n",
    "table_data_clean = []\n",
    "for i in table_data:\n",
    "    table_data_clean.append(i.contents[0])\n",
    "\n",
    "#Converting the larger list into a list of lists\n",
    "n = 10  \n",
    "x = list(divide_chunks(table_data_clean, n))\n",
    "\n",
    "#Converting the list of lists into a dataframe\n",
    "df = pd.DataFrame(x, columns =header_list)\n",
    "\n",
    "#Removing the tag values from the Team column\n",
    "df_team = df['Team']\n",
    "for i in range(0,len(df_team)):\n",
    "    df_team[i] = df_team[i].contents[0]\n",
    "df['Team'] = df_team\n",
    "return df"
   ]
  }
 ],
 "metadata": {
  "kernelspec": {
   "display_name": "Python 3",
   "language": "python",
   "name": "python3"
  },
  "language_info": {
   "codemirror_mode": {
    "name": "ipython",
    "version": 3
   },
   "file_extension": ".py",
   "mimetype": "text/x-python",
   "name": "python",
   "nbconvert_exporter": "python",
   "pygments_lexer": "ipython3",
   "version": "3.7.4"
  }
 },
 "nbformat": 4,
 "nbformat_minor": 2
}
